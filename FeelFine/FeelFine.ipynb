{
 "cells": [
  {
   "cell_type": "markdown",
   "metadata": {
    "slideshow": {
     "slide_type": "slide"
    }
   },
   "source": [
    "<div align=\"right\"><i>COM418 - Computers and Music</i></div>\n",
    "<div align=\"right\"><a href=\"https://people.epfl.ch/paolo.prandoni\">Paolo Prandoni</a>, <a href=\"https://www.epfl.ch/labs/lcav/\">LCAV, EPFL</a></div>\n",
    "\n",
    "<p style=\"font-size: 30pt; font-weight: bold; color: #B51F1F;\">I like DSP and I Feel Fine</p>"
   ]
  },
  {
   "cell_type": "code",
   "execution_count": null,
   "metadata": {
    "slideshow": {
     "slide_type": "skip"
    },
    "tags": []
   },
   "outputs": [],
   "source": [
    "%matplotlib inline\n",
    "import matplotlib\n",
    "import matplotlib.pyplot as plt\n",
    "import numpy as np\n",
    "from IPython.display import Audio\n",
    "from scipy import signal\n",
    "from scipy.io import wavfile\n",
    "import ipywidgets as widgets\n",
    "\n",
    "plt.rcParams['figure.figsize'] = 14, 4 \n",
    "matplotlib.rcParams.update({'font.size': 14})"
   ]
  },
  {
   "cell_type": "code",
   "execution_count": null,
   "metadata": {
    "scrolled": true,
    "slideshow": {
     "slide_type": "skip"
    }
   },
   "outputs": [],
   "source": [
    "DEFAULT_SF = 24000  \n",
    "\n",
    "def play(x, sf=DEFAULT_SF):\n",
    "    TAPER = 1000\n",
    "    y = np.copy(x)\n",
    "    y[:TAPER] *= np.linspace(0, 1, TAPER)\n",
    "    y[-TAPER:] *= np.linspace(1, 0, TAPER)\n",
    "    return Audio(y, rate=sf)\n",
    "\n",
    "import ipywidgets as widgets\n",
    "def multiplay(clips, rate=DEFAULT_SF, title=None):\n",
    "    outs = [widgets.Output() for c in clips]\n",
    "    for ix, item in enumerate(clips):\n",
    "        with outs[ix]:\n",
    "            display(play(item[0], sf=item[1]))\n",
    "    return widgets.HBox(outs)"
   ]
  },
  {
   "cell_type": "markdown",
   "metadata": {
    "slideshow": {
     "slide_type": "slide"
    }
   },
   "source": [
    "# \"I Feel Fine\" by the Beatles\n",
    "\n",
    "\n",
    "<img src=\"img/beatles.png\" alt=\"Drawing\" style=\"float: left; width: 200px; margin: 20px 30px;\"/>\n",
    " \n",
    "\n",
    " * recorded on October 18, 1964\n",
    " * one of the first (if not the first) example of distortion via feedback\n",
    " \n",
    " \n",
    "> _\"I defy anybody to find a record... unless it is some old blues record from 1922... that uses feedback that way. So I claim it for the Beatles. Before Hendrix, before The Who, before anybody. The first feedback on record.\"_ -- John Lennon\n",
    "\n",
    "<audio controls src=\"snd/iff_long.mp3\"></audio>"
   ]
  },
  {
   "cell_type": "markdown",
   "metadata": {
    "slideshow": {
     "slide_type": "slide"
    }
   },
   "source": [
    "## A \"forensic analysis\" on the opening sound\n",
    "\n",
    "We will try to synthesize digitally the distorted guitar sound using a variety of \"computers and music\" tools:\n",
    "\n",
    " * \"witness accounts\" from the recording session\n",
    " * spectral analysis\n",
    " * physical modeling\n",
    " * lots of trial and error"
   ]
  },
  {
   "cell_type": "markdown",
   "metadata": {
    "slideshow": {
     "slide_type": "slide"
    }
   },
   "source": [
    "## What the \"history books\" say\n",
    "\n",
    " * Lennon's electro-acoustic guitar was leaning against an amp\n",
    " * McCartney played an A on the bass\n",
    " * the guitar's open A string started to resonate\n",
    " * the sound from the amp reinforced the vibration of the open string (positive feedback)\n",
    " * the amplitude of the string's vibration increased\n",
    " * the string started to hit the fretboard causing _fret buzz_"
   ]
  },
  {
   "cell_type": "markdown",
   "metadata": {
    "slideshow": {
     "slide_type": "slide"
    }
   },
   "source": [
    "## The feedback loop, block diagram\n",
    "\n",
    "<img src=\"img/hendrix.jpg\" alt=\"Drawing\" style=\"float: right; width: 400px; margin: 20px 0px;\"/>\n",
    "\n",
    "\n",
    "<img src=\"img/bd.png\" alt=\"Drawing\" style=\"float: left; width: 800px; margin: 20px 30px;\"/>\n",
    "\n",
    "* guitar $G$, with nonlinear fret buzz model\n",
    "* amplifier $A$, with volume and tone controls\n",
    "* feedback channel $F$, depending on guitar-amp distance"
   ]
  },
  {
   "cell_type": "markdown",
   "metadata": {
    "slideshow": {
     "slide_type": "slide"
    }
   },
   "source": [
    "## Fact-finding exploration"
   ]
  },
  {
   "cell_type": "code",
   "execution_count": null,
   "metadata": {
    "slideshow": {
     "slide_type": "-"
    }
   },
   "outputs": [],
   "source": [
    "iff_sf, iff = wavfile.read(\"snd/iff.wav\")\n",
    "iff = (iff - np.mean(iff)) / 32767.0\n",
    "plt.plot(iff)\n",
    "Audio(iff, rate=iff_sf)"
   ]
  },
  {
   "cell_type": "markdown",
   "metadata": {
    "slideshow": {
     "slide_type": "slide"
    }
   },
   "source": [
    "### Clean vs distorted sound in the time domain"
   ]
  },
  {
   "cell_type": "code",
   "execution_count": null,
   "metadata": {},
   "outputs": [],
   "source": [
    "iff_beg, iff_end = iff[13000:40000], iff[120000:130000]\n",
    "plt.subplot(1, 2, 1)\n",
    "plt.plot(iff_beg[:2000]);   \n",
    "plt.subplot(1, 2, 2)\n",
    "plt.plot(iff_end[:2000]);   "
   ]
  },
  {
   "cell_type": "markdown",
   "metadata": {
    "slideshow": {
     "slide_type": "slide"
    }
   },
   "source": [
    "### ...and in the frequency domain"
   ]
  },
  {
   "cell_type": "code",
   "execution_count": null,
   "metadata": {
    "slideshow": {
     "slide_type": "-"
    }
   },
   "outputs": [],
   "source": [
    "def plot_spectrum(x, sf, fmax=None, dB=False, lw=2):\n",
    "    if fmax is None or fmax > sf / 2:\n",
    "        fmax = sf / 2\n",
    "    N = int(len(x) * fmax / sf)\n",
    "    X = np.abs(np.fft.fft(x)[0:N])\n",
    "    if dB:\n",
    "        X = 20 * np.log10(X)\n",
    "    plt.plot(np.linspace(0, fmax, N), X, linewidth=lw)"
   ]
  },
  {
   "cell_type": "markdown",
   "metadata": {
    "slideshow": {
     "slide_type": "slide"
    }
   },
   "source": [
    "Note the big difference in spectral content between the undistorted and the distorted sound: since we know that linear filters cannot add frequency components, the system is clearly non linear!"
   ]
  },
  {
   "cell_type": "code",
   "execution_count": null,
   "metadata": {
    "slideshow": {
     "slide_type": "-"
    }
   },
   "outputs": [],
   "source": [
    "plt.subplot(1, 2, 1)\n",
    "plot_spectrum(iff_beg, iff_sf, fmax=5000);   \n",
    "plt.subplot(1, 2, 2)\n",
    "plot_spectrum(iff_end, iff_sf, fmax=5000);   "
   ]
  },
  {
   "cell_type": "markdown",
   "metadata": {
    "slideshow": {
     "slide_type": "slide"
    }
   },
   "source": [
    "# Technical prelude: some DSP blocks"
   ]
  },
  {
   "cell_type": "markdown",
   "metadata": {
    "slideshow": {
     "slide_type": "slide"
    }
   },
   "source": [
    "## Magnitude response of digital filters"
   ]
  },
  {
   "cell_type": "markdown",
   "metadata": {
    "slideshow": {
     "slide_type": "-"
    }
   },
   "source": [
    "In the notebook we will use several digital filters whose transfer function can be expressed as \n",
    "\n",
    "$$\n",
    "    H(z) = \\frac{b_0 + b_1 z^{-1} + \\ldots + b_{N-1}z^{-M+1}}{a_0 + a_1 z^{-1} + \\ldots + a_{N-1}z^{-N+1}}\n",
    "$$\n",
    "\n",
    "where, typycally, $M \\le N$. The following function can be used to plot their magnitude response"
   ]
  },
  {
   "cell_type": "code",
   "execution_count": null,
   "metadata": {},
   "outputs": [],
   "source": [
    "def mag_resp(b, a, dB=False):\n",
    "    \"\"\"simple function to plot the magnitude response of a digital filter\"\"\"\n",
    "    L = 32767\n",
    "    X = np.fft.fftshift(np.abs(np.fft.fft(b, L) / np.fft.fft(a, L)))\n",
    "    if dB:\n",
    "        X = 20 * np.log10(X)\n",
    "    plt.plot(np.linspace(-np.pi, np.pi, L), X)\n",
    "    plt.xticks(np.pi * np.array([-1, -0.5, 0, 0.5, 1]), ['$-\\pi$', '$-\\pi/2$', 0, '$\\pi/2$', '$\\pi$'])\n",
    "    plt.grid()"
   ]
  },
  {
   "cell_type": "code",
   "execution_count": null,
   "metadata": {
    "slideshow": {
     "slide_type": "slide"
    }
   },
   "outputs": [],
   "source": [
    "mag_resp([0.01], [1, -0.99])"
   ]
  },
  {
   "cell_type": "markdown",
   "metadata": {
    "slideshow": {
     "slide_type": "slide"
    }
   },
   "source": [
    "## The biquad section\n",
    "\n",
    "One of the most useful building blocks for applied DSP applications is the _biquad_ section, describing a generic second-order IIR filter\n",
    "\n",
    "$$\n",
    "    H(z) = \\frac{b_0 + b_1 z^{-1} + b_{2}z^{-2}}{1 + a_1 z^{-1} + a_{2}z^{-2}}\n",
    "$$\n",
    "\n",
    "Useful on their own, but also to implement high-performance filters as a cascade of small, numerically stable sections."
   ]
  },
  {
   "cell_type": "markdown",
   "metadata": {
    "slideshow": {
     "slide_type": "slide"
    }
   },
   "source": [
    "<img src=\"img/biquad.png\" alt=\"Drawing\" style=\"float: right; width: 500px; margin: 30px 0px;\"/>\n",
    "\n",
    "We will implement the biquad section as a Python class:\n",
    "\n",
    " * Direct Form II implementation\n",
    " * stateful class (can be called iteratively)\n",
    " \n",
    "Implementation is not efficient but it is versatile"
   ]
  },
  {
   "cell_type": "code",
   "execution_count": null,
   "metadata": {
    "slideshow": {
     "slide_type": "slide"
    }
   },
   "outputs": [],
   "source": [
    "class BiQuad():\n",
    "    def __init__(self, b, a):\n",
    "        assert len(b) == len(a) == 3 and a[0] == 1\n",
    "        self.a, self.b = a, b\n",
    "        self.a[0] = 0\n",
    "        self.buf = np.zeros(3)\n",
    "    \n",
    "    def filter(self, x):\n",
    "        y = np.zeros(len(x))\n",
    "        for n, xn in enumerate(x):\n",
    "            self.buf[0] = xn - self.a @ self.buf\n",
    "            y[n] = self.b @ self.buf\n",
    "            self.buf = np.roll(self.buf, 1)\n",
    "        return y\n",
    "    \n",
    "    def reset(self):\n",
    "        self.buf *= 0"
   ]
  },
  {
   "cell_type": "markdown",
   "metadata": {
    "slideshow": {
     "slide_type": "slide"
    }
   },
   "source": [
    "## The PeakingEQ"
   ]
  },
  {
   "cell_type": "markdown",
   "metadata": {},
   "source": [
    "One common specialization of the biquad section is the \"peaking equalizer\", namely a filter that can provide an arbitrary boost or attenuation for a given frequency band centered around a peak freqency. The filter is defined by the following parameters:\n",
    "\n",
    " 1. the desired gain in dB (which can be negative)\n",
    " 1. the peak frequency $f_c$, where the desired gain is attained\n",
    " 1. the bandwidth of the filter, defined as the interval around $f_c$ where the gain is greater (or smaller, for attenuators) than half the desired gain in dB"
   ]
  },
  {
   "cell_type": "code",
   "execution_count": null,
   "metadata": {
    "slideshow": {
     "slide_type": "slide"
    }
   },
   "outputs": [],
   "source": [
    "def PEQ(fc, bw, gain, sf):\n",
    "    \"\"\"Biquad bandpass filter \"\"\"\n",
    "    w = 2 * np.pi * fc / sf\n",
    "    A = 10 ** (gain / 40)    \n",
    "    alpha = np.tan(np. pi * bw / sf)\n",
    "    c = np.cos(w)\n",
    "    b = np.array([1 + alpha * A, -2 * c, 1 - alpha * A])\n",
    "    a = np.array([1 + alpha / A, -2 * c, 1 - alpha / A])\n",
    "    return b / a[0], a / a[0]"
   ]
  },
  {
   "cell_type": "code",
   "execution_count": null,
   "metadata": {
    "slideshow": {
     "slide_type": "slide"
    }
   },
   "outputs": [],
   "source": [
    "mag_resp(*PEQ(1000, 500, 30, DEFAULT_SF), dB=True)"
   ]
  },
  {
   "cell_type": "markdown",
   "metadata": {
    "slideshow": {
     "slide_type": "slide"
    }
   },
   "source": [
    "# Simulating the guitar\n",
    "\n",
    "* string model\n",
    "* fret buzz\n",
    "\n",
    "We will not try to model the attack phase of the note, only the quasi-periodic sustained tone."
   ]
  },
  {
   "cell_type": "markdown",
   "metadata": {
    "slideshow": {
     "slide_type": "slide"
    }
   },
   "source": [
    "## The vibrating string\n",
    "\n",
    "We need to model the string as a input/output system:\n",
    "\n",
    " * input is the action on the string (picking and/or sound from the amp)\n",
    " * output is a signal compatible with the physical properties of a vibrating string."
   ]
  },
  {
   "cell_type": "markdown",
   "metadata": {
    "slideshow": {
     "slide_type": "slide"
    }
   },
   "source": [
    "### Standing waves\n",
    "\n",
    "<img width=\"450\" style=\"float: right; margin: 10px 20px;\" src=\"img/monochord.png\">\n",
    "\n",
    "The motion of A vibrating string can be decomposed into the sum of harmonic standing waves with frequencies\n",
    "\n",
    "$$ f_n = \\frac{n}{2L}\\sqrt{\\frac{T}{\\mu}} $$\n",
    "\n",
    " * $L$ length ($m$)\n",
    " * $T$ tension ($N = {kg}~ m/s^2$)\n",
    " * $\\mu$ linear density ($kg/m$)\n",
    " \n",
    " "
   ]
  },
  {
   "cell_type": "markdown",
   "metadata": {
    "slideshow": {
     "slide_type": "slide"
    }
   },
   "source": [
    "<img width=\"250\" style=\"float: left; margin: 10px 100px 0 0;\" src=\"img/string.gif\">\n",
    "\n",
    "A guitar string acts as a bank of resonators at multiples of the fundamental frequency.\n",
    "\n",
    "Of course, because of energy dissipation, the amplitude of the oscillations decays over time"
   ]
  },
  {
   "cell_type": "markdown",
   "metadata": {
    "slideshow": {
     "slide_type": "slide"
    }
   },
   "source": [
    "### Modeling a dampened vibration"
   ]
  },
  {
   "cell_type": "markdown",
   "metadata": {},
   "source": [
    "Remember the simple resontator, where $\\omega_0$ is the center frequency and $\\rho \\approx 1$ determines the rate of decay:\n",
    "\n",
    "$$\n",
    "\\begin{align*}\n",
    "  H(z) &= \\frac{1}{(1 - \\rho e^{j\\omega_0}z^{-1})(1 - \\rho e^{-j\\omega_0}z^{-1})}, \\quad \\rho \\approx 1 \\\\ \\\\\n",
    "       &= \\frac{1}{1 - 2\\rho \\cos\\omega_0 z^{-1} + \\rho^2 z^{-2}}\n",
    "\\end{align*}\n",
    "$$"
   ]
  },
  {
   "cell_type": "code",
   "execution_count": null,
   "metadata": {
    "slideshow": {
     "slide_type": "slide"
    }
   },
   "outputs": [],
   "source": [
    "rho, w0 = 0.99, np.pi / 2\n",
    "mag_resp([1], [1, -2 * rho * np.cos(w0), rho * rho])"
   ]
  },
  {
   "cell_type": "markdown",
   "metadata": {
    "slideshow": {
     "slide_type": "slide"
    }
   },
   "source": [
    "### Implementing a basic resonator"
   ]
  },
  {
   "cell_type": "code",
   "execution_count": null,
   "metadata": {},
   "outputs": [],
   "source": [
    "class Resonator(BiQuad):\n",
    "    def __init__(self, theta, rho=0.9999):\n",
    "        gain = (1 + rho) / 4\n",
    "        b = np.array([gain, 0, -gain])\n",
    "        a = np.array([1, -2 * rho * np.cos(theta), rho * rho])\n",
    "        super().__init__(b, a)       "
   ]
  },
  {
   "cell_type": "markdown",
   "metadata": {
    "slideshow": {
     "slide_type": "slide"
    }
   },
   "source": [
    "Let's test it:"
   ]
  },
  {
   "cell_type": "code",
   "execution_count": null,
   "metadata": {},
   "outputs": [],
   "source": [
    "y = Resonator(2 * np.pi * 300 / DEFAULT_SF).filter(np.r_[1, np.zeros(2 * DEFAULT_SF)])\n",
    "plt.plot(y);\n",
    "play(y)"
   ]
  },
  {
   "cell_type": "markdown",
   "metadata": {
    "slideshow": {
     "slide_type": "slide"
    }
   },
   "source": [
    "### Modeling the clean guitar tone"
   ]
  },
  {
   "cell_type": "code",
   "execution_count": null,
   "metadata": {},
   "outputs": [],
   "source": [
    "for n in range(1, 7):\n",
    "    plt.axvline(110 * n, color='C3', alpha=.4)\n",
    "plot_spectrum(iff_beg, iff_sf, fmax=3000, dB=True);  "
   ]
  },
  {
   "cell_type": "markdown",
   "metadata": {
    "slideshow": {
     "slide_type": "slide"
    }
   },
   "source": [
    "By looking at the specturm of the clear guitar tone we can see that:\n",
    "\n",
    " * there is a clear harmonic structure\n",
    " * the fundamental frequency is 110Hz, which corresponds to the pitch of a guitar's open A string\n",
    " * there are only a few significant overtones\n",
    "\n",
    "We will model the open string using a bank of harmonic resonators (additive synthesis)  "
   ]
  },
  {
   "cell_type": "code",
   "execution_count": null,
   "metadata": {
    "slideshow": {
     "slide_type": "slide"
    }
   },
   "outputs": [],
   "source": [
    "class String():\n",
    "    def __init__(self, pitch=110.0, rho=0.9999, overtones=[], sf=DEFAULT_SF):\n",
    "        theta = 2 * np.pi * pitch / sf # digital frequency\n",
    "        overtones = [1, ] + overtones  # add overtones to fundamental\n",
    "        self.harmonics = [{\n",
    "            'gain': gain, \n",
    "            'res' : Resonator((n+1) * theta, rho)\n",
    "        } for n, gain in enumerate(overtones)]\n",
    "        self.gain = 1.0 / np.sum([np.abs(p['gain']) for p in self.harmonics])\n",
    "        \n",
    "    def vibrate(self, x):\n",
    "        y = self.harmonics[0]['gain'] * self.harmonics[0]['res'].filter(x)\n",
    "        for p in self.harmonics[1:]:\n",
    "            y = y + p['gain'] * p['res'].filter(x)\n",
    "        return y * self.gain\n",
    "    \n",
    "    def reset(self):\n",
    "        for p in self.harmonics:\n",
    "            p['res'].reset()"
   ]
  },
  {
   "cell_type": "markdown",
   "metadata": {
    "slideshow": {
     "slide_type": "slide"
    }
   },
   "source": [
    "Let's test it out, using empirical relative amplitudes of the partials from the spectral plot of the clean tone"
   ]
  },
  {
   "cell_type": "code",
   "execution_count": null,
   "metadata": {},
   "outputs": [],
   "source": [
    "A_string = String(pitch=110.0, overtones=[-0.075, 0.035, -0.032, 0.0035, -0.0065])\n",
    "y = A_string.vibrate(np.r_[1, np.zeros(3 * DEFAULT_SF)])\n",
    "multiplay([(y, DEFAULT_SF), (iff_beg, iff_sf)])"
   ]
  },
  {
   "cell_type": "markdown",
   "metadata": {
    "slideshow": {
     "slide_type": "slide"
    }
   },
   "source": [
    "<img src=\"img/buzz.jpg\" alt=\"Drawing\" style=\"float: right; width: 300px; margin: 0px 30px;\"/>\n",
    "\n",
    "## The fret buzz\n",
    "\n",
    "When a string oscillates too widely, it will end up bumping against the fretboard. We can approximate this effect by introducing a limiting nonlinearity."
   ]
  },
  {
   "cell_type": "code",
   "execution_count": null,
   "metadata": {
    "slideshow": {
     "slide_type": "slide"
    },
    "tags": []
   },
   "outputs": [],
   "source": [
    "def fret_buzz(x, threshold):\n",
    "    out = np.where(x > threshold, threshold, x)\n",
    "    out = np.where(out < -threshold, -threshold, out)\n",
    "    return out"
   ]
  },
  {
   "cell_type": "code",
   "execution_count": null,
   "metadata": {},
   "outputs": [],
   "source": [
    "x = np.linspace(-1, 1, 301)\n",
    "for t in [1, 0.7, 0.5]:\n",
    "    plt.plot(x, fret_buzz(x, t))\n",
    "plt.grid()"
   ]
  },
  {
   "cell_type": "code",
   "execution_count": null,
   "metadata": {
    "slideshow": {
     "slide_type": "-"
    }
   },
   "outputs": [],
   "source": [
    "multiplay([(fret_buzz(y, 1), DEFAULT_SF), (fret_buzz(y, 0.3), DEFAULT_SF), (fret_buzz(y, 0.1), DEFAULT_SF)])"
   ]
  },
  {
   "cell_type": "markdown",
   "metadata": {
    "slideshow": {
     "slide_type": "slide"
    }
   },
   "source": [
    "Note how the nonlinearity introduces a lot of extra frequency content"
   ]
  },
  {
   "cell_type": "code",
   "execution_count": null,
   "metadata": {},
   "outputs": [],
   "source": [
    "plot_spectrum(y, DEFAULT_SF, fmax=3000, dB=True, lw=5);   \n",
    "plot_spectrum(fret_buzz(y, 0.1), DEFAULT_SF, fmax=3000, dB=True);   "
   ]
  },
  {
   "cell_type": "markdown",
   "metadata": {
    "slideshow": {
     "slide_type": "slide"
    }
   },
   "source": [
    "# The feedback\n",
    "\n",
    "In \"I Feel Fine\" the fret buzz appears when the sound from the amplifier drives the A string into wider and wider oscillations. To model this effect we need to simulate a feedback path."
   ]
  },
  {
   "cell_type": "markdown",
   "metadata": {
    "slideshow": {
     "slide_type": "slide"
    }
   },
   "source": [
    "## Sustained excitation\n",
    "\n",
    "So far we have triggered the string with an instantaneous \"pluck\", that is with a delta sequence. But we could use other inputs:"
   ]
  },
  {
   "cell_type": "code",
   "execution_count": null,
   "metadata": {},
   "outputs": [],
   "source": [
    "# exciting the resonators with white noise produces a flute-like sound\n",
    "play(String(300).vibrate(np.random.rand(2 * DEFAULT_SF)))"
   ]
  },
  {
   "cell_type": "code",
   "execution_count": null,
   "metadata": {},
   "outputs": [],
   "source": [
    "# exciting the resonators with a sawtooth produces a violin-like sound\n",
    "play(String(300).vibrate(signal.sawtooth(2 * np.pi * 150 / DEFAULT_SF * np.arange(0, 2 * DEFAULT_SF))))"
   ]
  },
  {
   "cell_type": "markdown",
   "metadata": {
    "slideshow": {
     "slide_type": "slide"
    }
   },
   "source": [
    "A sustained sound can keep the string vibrating (**sympathetic vibration**); this is the basic principle behind feedback-induced distortion."
   ]
  },
  {
   "cell_type": "code",
   "execution_count": null,
   "metadata": {},
   "outputs": [],
   "source": [
    "y = String(110).vibrate(String(110, rho=0.99999).vibrate(np.r_[1, np.zeros(2 * DEFAULT_SF)]))\n",
    "play(y)"
   ]
  },
  {
   "cell_type": "markdown",
   "metadata": {
    "slideshow": {
     "slide_type": "slide"
    }
   },
   "source": [
    "## Feedback examples"
   ]
  },
  {
   "cell_type": "code",
   "execution_count": null,
   "metadata": {},
   "outputs": [],
   "source": [
    "def simple_feedback(string, gain, delay):\n",
    "    N = 3 * DEFAULT_SF  # three-second examples\n",
    "    x, y = 1, np.zeros(N)     \n",
    "    string.reset()\n",
    "    for n in range(0, N):\n",
    "        y[n] = string.vibrate([x]) \n",
    "        x = 0 if n < DEFAULT_SF else gain * y[(n - delay) % N]\n",
    "    plt.plot(y);\n",
    "    return y"
   ]
  },
  {
   "cell_type": "code",
   "execution_count": null,
   "metadata": {
    "slideshow": {
     "slide_type": "slide"
    }
   },
   "outputs": [],
   "source": [
    "A_string = String(pitch=110)\n",
    "\n",
    "y = simple_feedback(A_string, 0.001, 46)\n",
    "play(y)"
   ]
  },
  {
   "cell_type": "code",
   "execution_count": null,
   "metadata": {
    "slideshow": {
     "slide_type": "slide"
    }
   },
   "outputs": [],
   "source": [
    "y = simple_feedback(A_string, 0.0013, 46)\n",
    "play(y)"
   ]
  },
  {
   "cell_type": "markdown",
   "metadata": {
    "slideshow": {
     "slide_type": "slide"
    }
   },
   "source": [
    "Of course, since we are in the presence of _positive_ feedback, the gain level is crucial for stability"
   ]
  },
  {
   "cell_type": "code",
   "execution_count": null,
   "metadata": {},
   "outputs": [],
   "source": [
    "y = simple_feedback(A_string, 0.01, 46)"
   ]
  },
  {
   "cell_type": "markdown",
   "metadata": {
    "slideshow": {
     "slide_type": "slide"
    }
   },
   "source": [
    "Depending on the feedback gain and delay, only certain modes of the string can be excited:"
   ]
  },
  {
   "cell_type": "code",
   "execution_count": null,
   "metadata": {},
   "outputs": [],
   "source": [
    "y = simple_feedback(A_string, 0.007, 59)\n",
    "play(y)"
   ]
  },
  {
   "cell_type": "markdown",
   "metadata": {
    "slideshow": {
     "slide_type": "slide"
    }
   },
   "source": [
    "<img src=\"img/amp.jpg\" alt=\"Drawing\" style=\"float: right; width: 400px; margin: 30px 0 0 30px;\"/>\n",
    "\n",
    "# The amp\n",
    "\n",
    "In the current setup, the amplifier is responsible for some slight _equalization_ of the guitar sound. We are going to cut a bit the bass end and boost the midrange using two peaking equalizers in series"
   ]
  },
  {
   "cell_type": "code",
   "execution_count": null,
   "metadata": {
    "slideshow": {
     "slide_type": "slide"
    }
   },
   "outputs": [],
   "source": [
    "class ToneControls():\n",
    "    def __init__(self, sf=DEFAULT_SF):\n",
    "        self.knobs = [\n",
    "            BiQuad(*PEQ(330, 100, -20, sf)),   # cut low end\n",
    "            BiQuad(*PEQ(1200, 400, 35, sf)),   # boost midrange\n",
    "        ]\n",
    "    \n",
    "    def filter(self, x):\n",
    "        y = np.copy(x)\n",
    "        for k in self.knobs:\n",
    "            y = k.filter(y)\n",
    "        return y\n",
    "    \n",
    "    def reset(self):\n",
    "        for k in self.knobs:\n",
    "            k.reset()"
   ]
  },
  {
   "cell_type": "markdown",
   "metadata": {
    "slideshow": {
     "slide_type": "slide"
    }
   },
   "source": [
    "The overall magnitude response of the equalizer is like so:"
   ]
  },
  {
   "cell_type": "code",
   "execution_count": null,
   "metadata": {},
   "outputs": [],
   "source": [
    "x = ToneControls().filter(np.r_[1, np.zeros(1000)])\n",
    "plot_spectrum(x, DEFAULT_SF, dB=True)"
   ]
  },
  {
   "cell_type": "markdown",
   "metadata": {
    "slideshow": {
     "slide_type": "slide"
    }
   },
   "source": [
    "# The acoustic channel"
   ]
  },
  {
   "cell_type": "markdown",
   "metadata": {},
   "source": [
    "The feedback loop is completed by taking into account the transfer of energy from the amp's loudspeaker to the A string. "
   ]
  },
  {
   "cell_type": "markdown",
   "metadata": {
    "slideshow": {
     "slide_type": "skip"
    }
   },
   "source": [
    "For feedback to kick in, two things must happen:\n",
    "\n",
    "* the energy transfer from the pressure wave to the vibrating string should be non-negligible\n",
    "* the phase of the vibrating string must be sufficiently aligned with the phase of the sound wave in order for the sound wave to \"feed\" the vibration.\n",
    "\n",
    "Sound travels in the air at about 340 meters per second and sound pressure (that is, signal amplitude) decays with the reciprocal of the traveled distance. We can build an elementary acoustic channel simulation by neglecting everything except delay and attenuation. The output of the acoustic channel for a guitar-amplifier distance of $d$ meters will be therefore\n",
    "\n",
    "$$\n",
    "\ty[n] = (\\alpha/d) x[n-M]\n",
    "$$\n",
    "\n",
    "where $\\alpha$ is the coupling coefficient between amp and string at a reference distance of 1m, $d$ is the distance between guitar and amplifier, and $M$ is the propagation delay in samples; with an internal clock of $F_s$ Hz we have $M = \\lfloor d/(c F_s) \\rfloor$ where $c$ is the speed of sound."
   ]
  },
  {
   "cell_type": "code",
   "execution_count": null,
   "metadata": {},
   "outputs": [],
   "source": [
    "def coupling_params(distance, sf=DEFAULT_SF):\n",
    "    SPEED_OF_SOUND = 343\n",
    "    REF_DIST, COUPLING_COEF = 1, 0.000025 # - 80dB\n",
    "    delay = int(distance / SPEED_OF_SOUND * sf)\n",
    "    att = COUPLING_COEF / distance * REF_DIST\n",
    "    return att, delay"
   ]
  },
  {
   "cell_type": "markdown",
   "metadata": {
    "slideshow": {
     "slide_type": "slide"
    }
   },
   "source": [
    "# Play it, Johnnie"
   ]
  },
  {
   "cell_type": "markdown",
   "metadata": {},
   "source": [
    "We simulate the recording studio events by plucking the string and moving the guitar very close to the amp after a few moments"
   ]
  },
  {
   "cell_type": "markdown",
   "metadata": {
    "slideshow": {
     "slide_type": "skip"
    }
   },
   "source": [
    "We will synthesize a few seconds of sound, one sample at a time, following these steps:\n",
    "\n",
    "* generate a guitar sample\n",
    "* apply the fret buzz nonlinearity (which will kick in only after the signal exceeds a certain level)\n",
    "* filter the sample with the equalizer\n",
    "* feed it back to the guitar via the acoustic channel using a time-varying distance\n",
    "\n",
    "During the simulation, we will change the distance used in the feedback channel model to account for the fact that the guitar is first played at a distance from the amplifier, and then it is placed very close to it. In the first phase, the sound will simply be a decaying note and then the feedback will start moving the string back in full swing and drive the amp into saturation. "
   ]
  },
  {
   "cell_type": "code",
   "execution_count": null,
   "metadata": {
    "slideshow": {
     "slide_type": "slide"
    }
   },
   "outputs": [],
   "source": [
    "A_string = String(pitch=110)\n",
    "amp = ToneControls()\n",
    "\n",
    "# create a trajectory for the guitar, from A to B (in meters)\n",
    "A, B = 1.5, 0.05\n",
    "position = np.r_[\n",
    "    np.linspace(A, B, int(1 * DEFAULT_SF)), # one second to get close to the amp\n",
    "    np.ones(int(3 * DEFAULT_SF)) * B        # remain there for 3 seconds\n",
    "]\n",
    "N = len(position)\n",
    "x, y = 1, np.zeros(N)           \n",
    "\n",
    "for n in range(0, N):\n",
    "    y[n] = amp.filter(fret_buzz(A_string.vibrate([x]), 1))\n",
    "    att, delay = coupling_params(position[n])\n",
    "    x = att * y[(n - delay) % N]"
   ]
  },
  {
   "cell_type": "code",
   "execution_count": null,
   "metadata": {
    "slideshow": {
     "slide_type": "slide"
    }
   },
   "outputs": [],
   "source": [
    "plt.plot(y);\n",
    "multiplay([(y, DEFAULT_SF), (iff, iff_sf)])"
   ]
  },
  {
   "cell_type": "markdown",
   "metadata": {
    "slideshow": {
     "slide_type": "slide"
    }
   },
   "source": [
    "# So much is still missing...\n",
    "\n",
    " * complicated nonlinear behavior for guitar strings amplifiers:\n",
    "   * vibrating string spectrum varies with oscillation max amplitude\n",
    "   * string spectrum not perfectly harmonic due string stiffness\n",
    "   * amp loudspeaker becomes nonlinear if driven too hard\n",
    "\n",
    "* we have neglected the frequency response of the guitar body\n",
    "* there is certainly a lot more equalization deployed in the various phases of the recording process"
   ]
  },
  {
   "cell_type": "markdown",
   "metadata": {
    "slideshow": {
     "slide_type": "slide"
    }
   },
   "source": [
    "Things you can play with: \n",
    "\n",
    " * try to change the characteristic of the fret buzz\n",
    " * change the gain, the coupling loss or the frequency of the guitar\n",
    " * change the guitar position and verify that feedback does not occur at all distances."
   ]
  }
 ],
 "metadata": {
  "celltoolbar": "Slideshow",
  "kernelspec": {
   "display_name": "Python 3",
   "language": "python",
   "name": "python3"
  },
  "language_info": {
   "codemirror_mode": {
    "name": "ipython",
    "version": 3
   },
   "file_extension": ".py",
   "mimetype": "text/x-python",
   "name": "python",
   "nbconvert_exporter": "python",
   "pygments_lexer": "ipython3",
   "version": "3.8.8"
  },
  "toc-autonumbering": true
 },
 "nbformat": 4,
 "nbformat_minor": 4
}
