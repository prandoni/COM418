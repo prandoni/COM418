{
 "cells": [
  {
   "cell_type": "markdown",
   "metadata": {
    "slideshow": {
     "slide_type": "slide"
    }
   },
   "source": [
    "<div align=\"right\"><i>COM418 - Computers and Music</i></div>\n",
    "<div align=\"right\"><a href=\"https://people.epfl.ch/paolo.prandoni\">Paolo Prandoni</a>, <a href=\"https://www.epfl.ch/labs/lcav/\">LCAV, EPFL</a></div>\n",
    "\n",
    "<p style=\"font-size: 30pt; font-weight: bold; color: #B51F1F;\">Non-Harmonic Distortion in a Quantized Sinusoid <br> (Tsividis' Paradox)</p>"
   ]
  },
  {
   "cell_type": "code",
   "execution_count": null,
   "metadata": {
    "slideshow": {
     "slide_type": "skip"
    }
   },
   "outputs": [],
   "source": [
    "%matplotlib inline\n",
    "import matplotlib.pyplot as plt\n",
    "import numpy as np\n",
    "import scipy.signal as sp\n",
    "import scipy.special as ss\n",
    "from scipy.io import wavfile\n",
    "import IPython\n",
    "import ipywidgets as widgets"
   ]
  },
  {
   "cell_type": "code",
   "execution_count": null,
   "metadata": {
    "slideshow": {
     "slide_type": "skip"
    }
   },
   "outputs": [],
   "source": [
    "plt.rcParams[\"figure.figsize\"] = (14,4)"
   ]
  },
  {
   "cell_type": "code",
   "execution_count": null,
   "metadata": {
    "slideshow": {
     "slide_type": "skip"
    }
   },
   "outputs": [],
   "source": [
    "# helper functions\n",
    "\n",
    "def play_sound(SF, s, volume=1):\n",
    "    # play a sound with a volume factor\n",
    "    #x = np.copy(s) * volume\n",
    "    return IPython.display.Audio(volume * s, rate=SF, normalize=False)  \n",
    "\n",
    "def multiplay(SF, clips, title=None, volume=1):\n",
    "    outs = [widgets.Output() for c in clips]\n",
    "    for ix, clip in enumerate(clips):\n",
    "        with outs[ix]:\n",
    "            print(title[ix] if title is not None else \"\")\n",
    "            display(IPython.display.Audio(volume * clip, rate=SF, normalize=False))\n",
    "    return widgets.HBox(outs)\n",
    "\n",
    "def stem(x, color='tab:blue'):\n",
    "    # stem with chosen color\n",
    "    markerline, stemlines, baseline = plt.stem(x, use_line_collection=True, basefmt='k');\n",
    "    markerline.set_color(color)\n",
    "    stemlines.set_color(color)"
   ]
  },
  {
   "cell_type": "markdown",
   "metadata": {
    "slideshow": {
     "slide_type": "slide"
    }
   },
   "source": [
    "# Quantization in A/D conversion"
   ]
  },
  {
   "cell_type": "markdown",
   "metadata": {
    "slideshow": {
     "slide_type": "slide"
    }
   },
   "source": [
    "## The classic A/D converter\n",
    "\n",
    " * $x(t)$ bandlimited to $F_s/2$\n",
    " * sample at $F_s$ Hz\n",
    " * uniform quantization with $M$ levels\n",
    "\n",
    "<center>\n",
    "<img src=\"img/sbq.png\" style=\"width: 1200px;\"/> \n",
    "</center>"
   ]
  },
  {
   "cell_type": "markdown",
   "metadata": {
    "slideshow": {
     "slide_type": "slide"
    }
   },
   "source": [
    "## Uniform scalar quantization\n",
    "\n",
    " * $M$-level uniform scalar quantizer: $q: \\mathbb{R} \\rightarrow \\{\\hat{x}_0, \\ldots, \\hat{x}_{M-1}\\}$\n",
    " \n",
    " * non-overload region: $[-1,1]$\n",
    " * quantization step: $\\Delta = 2/M$ "
   ]
  },
  {
   "cell_type": "code",
   "execution_count": null,
   "metadata": {},
   "outputs": [],
   "source": [
    "def quantize(x, M):\n",
    "    if M == 0:\n",
    "        return x\n",
    "    elif M % 2 == 0:\n",
    "        # using a mid-riser quantizer\n",
    "        M = M / 2\n",
    "        k = np.floor(x * M)\n",
    "        k = np.maximum(np.minimum(k, M-1), -M)\n",
    "        return (k + 0.5) / M\n",
    "    else:\n",
    "        # using a deadzone quantizer\n",
    "        k = np.round(np.abs(x) * M / 2)\n",
    "        k = np.minimum((M - 1) / 2, k)\n",
    "        return (np.sign(x) * k / M * 2 )"
   ]
  },
  {
   "cell_type": "code",
   "execution_count": null,
   "metadata": {
    "slideshow": {
     "slide_type": "slide"
    }
   },
   "outputs": [],
   "source": [
    "x = np.arange(-1, 1, .01)\n",
    "for ix, M in enumerate([2, 3, 8]):\n",
    "    plt.subplot(1, 3, ix+1)\n",
    "    plt.plot(x,x);    \n",
    "    plt.plot(x, quantize(x, M), '.');"
   ]
  },
  {
   "cell_type": "markdown",
   "metadata": {
    "slideshow": {
     "slide_type": "slide"
    }
   },
   "source": [
    "## High-resolution hypothesis\n",
    "\n",
    "<center>\n",
    "<img src=\"img/linearized.png\" style=\"width: 1200px;\"/> \n",
    "</center>\n",
    "\n",
    " * $e[n]$ white noise uncorrelated with $x[n]$\n",
    " * $\\sigma_e[n] = \\Delta^2/12$\n",
    " * $\\mathrm{SNR} = 6M~\\mathrm{dB}$\n",
    "    "
   ]
  },
  {
   "cell_type": "markdown",
   "metadata": {
    "slideshow": {
     "slide_type": "slide"
    }
   },
   "source": [
    "# Tsividis' paradox\n",
    "\n",
    "\n",
    "<center><img src=\"img/sbq.png\" style=\"width: 800px;\"/></center>\n",
    "\n",
    " * sampling and quantization are memoryless: they can be swapped\n"
   ]
  },
  {
   "cell_type": "markdown",
   "metadata": {
    "slideshow": {
     "slide_type": "slide"
    }
   },
   "source": [
    "\n",
    "\n",
    " * let's swap them:\n",
    "\n",
    "<center>\n",
    "<img src=\"img/sbq.png\" style=\"width: 800px;\"/> \n",
    "<img src=\"img/qbs.png\" style=\"width: 800px;\"/> \n",
    "</center>\n",
    "\n",
    "<center>\n",
    "but $\\mathcal{Q}$ discontinuous so $\\hat{x}(t)$ no longer bandlimited  $~~\\Longrightarrow~~$ aliasing!\n",
    "</center>"
   ]
  },
  {
   "cell_type": "markdown",
   "metadata": {
    "slideshow": {
     "slide_type": "slide"
    }
   },
   "source": [
    "# Harmonic vs non-harmonic distortion\n",
    "\n",
    " * $x(t)$ periodic with period $T = 1/f_0$\n",
    " * instantaneous distortion function $r(\\cdot)$\n",
    " \n",
    "The signal $r(x(t))$ will incur:\n",
    " * **harmonic distortion** if the spectral content at integer multiples of $f_0$ is modified <br />(typical of \"natural\" saturation/clipping)\n",
    " * **non-harmonic distortion** if spectral content appear elsewhere <br />(typical of aliasing)\n",
    " \n",
    "In practice:\n",
    " * harmonic distortion: bearable, if we really have to\n",
    " * non-harmonic distortion: unbearable because totally unnatural"
   ]
  },
  {
   "cell_type": "markdown",
   "metadata": {
    "slideshow": {
     "slide_type": "slide"
    }
   },
   "source": [
    "## Total Harmonic Distortion (THD)\n",
    "\n",
    "THD quantifies harmonic distortion for sinusoidal inputs: $x(t) = \\sin(2\\pi f_0 t)$\n",
    "\n",
    "Express $r(x(t))$ via its Fourier **series** since periodicity is preserved: $\\displaystyle  r\\left(x(t)\\right) = \\sum_{k=-\\infty}^{\\infty} c_k\\, e^{-j2\\pi f_0 k t}$\n",
    "\n",
    "$$\n",
    "    \\mathrm{THD} = \\sqrt{\\frac{\\sum_{k > 1} |c_k|^2}{|c_1|^2}}\n",
    "$$"
   ]
  },
  {
   "cell_type": "markdown",
   "metadata": {
    "slideshow": {
     "slide_type": "slide"
    }
   },
   "source": [
    "Example: \n",
    " * $r(x) = \\mathrm{sgn}(x)$, from sinusoid to square wave (two-level quantization)\n",
    " * $\\displaystyle \\mathrm{sgn}\\left(\\sin(2\\pi f_0 t)\\right) = \\frac{4}{\\pi}\\sum_{k = 1}^{\\infty}\\frac{1}{2k-1}\\sin(2\\pi(2k-1) f_0 t)$\n",
    "\n",
    "$$\n",
    "    \\mathrm{THD} = \\sqrt{\\sum_{k = 2}^{\\infty}\\left(\\frac{1}{2k-1}\\right)^2} = \\sqrt{\\frac{\\pi^2}{8}-1} \\approx 0.48.\n",
    "$$"
   ]
  },
  {
   "cell_type": "markdown",
   "metadata": {
    "slideshow": {
     "slide_type": "slide"
    }
   },
   "source": [
    "**Exercise:** prove the result"
   ]
  },
  {
   "cell_type": "markdown",
   "metadata": {
    "slideshow": {
     "slide_type": "slide"
    }
   },
   "source": [
    "## Non-harmonic distortion: aliasing\n",
    "\n",
    "Example as before, but in discrete time:\n",
    " * $F_s > 2f_0$ \n",
    " * $\\omega_0 = f_0/Fs < \\pi$\n",
    " * $\\displaystyle \\mathrm{sgn}\\left(\\sin(\\omega_0 n)\\right) = \\frac{4}{\\pi}\\sum_{k = 1}^{\\infty}\\frac{1}{2k-1}\\sin((2k-1) \\omega_0 n)$\n",
    " * frequencies for $k > (1 + \\pi/\\omega_0) / 2$ will be aliased! \n"
   ]
  },
  {
   "cell_type": "markdown",
   "metadata": {
    "slideshow": {
     "slide_type": "slide"
    }
   },
   "source": [
    "## Harmonic vs non-harmonic distortion: example\n",
    "\n",
    "compare soft clipping to quantization for increasing levels of both"
   ]
  },
  {
   "cell_type": "markdown",
   "metadata": {
    "slideshow": {
     "slide_type": "slide"
    }
   },
   "source": [
    "### Soft clipping\n",
    "\n",
    "Popular sigmoid-shaped limiter with reduced high-frequency artefacts:\n",
    "\n",
    "$$\n",
    "    r_\\alpha(x) = \\frac{ \\arctan ( \\alpha \\cdot x ) }{\\arctan ( \\alpha ) }\n",
    "$$"
   ]
  },
  {
   "cell_type": "code",
   "execution_count": null,
   "metadata": {},
   "outputs": [],
   "source": [
    "for alpha in [1, 2, 4, 8, 14, 30]:\n",
    "    plt.plot(np.linspace(-1, 1, 1000), np.arctan(alpha * np.linspace(-1, 1, 1000)) / np.arctan(alpha))"
   ]
  },
  {
   "cell_type": "code",
   "execution_count": null,
   "metadata": {
    "slideshow": {
     "slide_type": "slide"
    }
   },
   "outputs": [],
   "source": [
    "sf, f0 = 16000, 440\n",
    "alpha = [1, 2, 4, 8, 10, 14, 16]\n",
    "M = len (alpha)\n",
    "\n",
    "# one second per clipping level\n",
    "w = 2 * np.pi * f0 / sf * np.arange(0, M * sf)\n",
    "x_c, x_q = np.zeros(len(w)), np.zeros(len(w))\n",
    "\n",
    "for n, a in enumerate(alpha):\n",
    "    s = slice(n * sf, (n + 1) * sf)\n",
    "    # progessively harder clipping\n",
    "    x_c[s] = np.arctan(a * np.sin(w[s])) / np.arctan(a)\n",
    "    # progressively coarser quantization\n",
    "    x_q[s] = quantize(np.sin(w[s]), 2 ** (M-n))\n",
    "    \n",
    "multiplay(sf, (x_c, x_q), ('soft clipping', 'quantization'), volume=0.3)    "
   ]
  },
  {
   "cell_type": "markdown",
   "metadata": {
    "slideshow": {
     "slide_type": "skip"
    }
   },
   "source": [
    "## Aside: non-harmonic distortion due to intermodulation\n",
    "\n",
    "When more than a single sinusoid is considered, things get complicated quickly:\n",
    "\n",
    " * $r(x) = \\sum_{n=0}^{\\infty} a_n \\, x^n$ (Taylor series expansion)\n",
    " * $\\sin^n \\alpha = \\gamma_0 + \\sum_{k=1}^{n} \\gamma_k \\sin k\\alpha$ \n",
    " * $\\sin \\alpha \\sin \\beta = \\mu_0 \\sin(\\alpha + \\beta) + \\mu_1 \\sin(\\alpha - \\beta)$\n",
    " \n",
    "$$\n",
    "    r\\left(\\sin(2\\pi f_0 t)  + \\sin(2\\pi f_1 t)\\right) = \\ldots = \\sum_{k_0, k_1 = -\\infty}^{\\infty} b_{k_0, k_1} \\sin(2\\pi (k_0 f_0 + k_1 f_1) t)\n",
    "$$"
   ]
  },
  {
   "cell_type": "code",
   "execution_count": null,
   "metadata": {
    "slideshow": {
     "slide_type": "skip"
    }
   },
   "outputs": [],
   "source": [
    "for n, a in enumerate(alpha):\n",
    "    s = slice(n * sf, (n + 1) * sf)\n",
    "    x_c[s] = np.arctan(a * (np.sin(w[s]) + np.sin(5 / 4 * w[s])) / 2) / np.arctan(a)\n",
    "\n",
    "play_sound(sf, x_c, volume=0.3)    "
   ]
  },
  {
   "cell_type": "code",
   "execution_count": null,
   "metadata": {
    "slideshow": {
     "slide_type": "skip"
    }
   },
   "outputs": [],
   "source": [
    "plt.plot(np.abs(np.fft.fft(x_c)));"
   ]
  },
  {
   "cell_type": "code",
   "execution_count": null,
   "metadata": {
    "slideshow": {
     "slide_type": "skip"
    }
   },
   "outputs": [],
   "source": [
    "plt.specgram(x_c, NFFT=128, noverlap=8, mode='magnitude', Fs=sf);"
   ]
  },
  {
   "cell_type": "markdown",
   "metadata": {
    "slideshow": {
     "slide_type": "slide"
    }
   },
   "source": [
    "# Ravel's Bolero"
   ]
  },
  {
   "cell_type": "code",
   "execution_count": null,
   "metadata": {
    "slideshow": {
     "slide_type": "skip"
    }
   },
   "outputs": [],
   "source": [
    "clips = {}\n",
    "for name in ['boleroA', 'boleroM', 'boleroZ']:\n",
    "    sf, audio = wavfile.read('snd/' + name + '.wav')\n",
    "    clips['sf'], clips[name] = sf, audio / 32767.0"
   ]
  },
  {
   "cell_type": "markdown",
   "metadata": {
    "slideshow": {
     "slide_type": "slide"
    }
   },
   "source": [
    "## An impressive dynamic range\n",
    "\n",
    "<center>\n",
    "<img width=\"800\" src=\"img/bolero_diff.jpg\">\n",
    "</center>\n"
   ]
  },
  {
   "cell_type": "markdown",
   "metadata": {
    "slideshow": {
     "slide_type": "slide"
    }
   },
   "source": [
    "<center>\n",
    "<img width=\"1200\" src=\"img/bolero_wav.png\">\n",
    "</center>"
   ]
  },
  {
   "cell_type": "code",
   "execution_count": null,
   "metadata": {
    "slideshow": {
     "slide_type": "-"
    }
   },
   "outputs": [],
   "source": [
    "multiplay(clips['sf'], [clips['boleroA'], clips['boleroZ']], ['beginning, full res', 'ending, full res'])"
   ]
  },
  {
   "cell_type": "markdown",
   "metadata": {
    "slideshow": {
     "slide_type": "slide"
    }
   },
   "source": [
    "\n",
    " * live performances have an dynamic range of 100dBs or more\n",
    " * 16-bit audio covers about 96dBs\n",
    " * ... but vinyl is no better: about 70dB dynamic range"
   ]
  },
  {
   "cell_type": "markdown",
   "metadata": {
    "slideshow": {
     "slide_type": "slide"
    }
   },
   "source": [
    "## Aside: oreloB\n",
    "\n",
    "<img width=\"480\" style=\"float: right;\" src=\"img/orelob.jpg\">\n",
    "\n",
    "Bolero is much louder at the end but vinyls suffer from _end of side_ distortion:\n",
    " * rotational speed constant, but inner grooves shorter\n",
    " * reading speed gets slower\n",
    " * recorded wavelengths become shorter<br/> and comparable to stylus size\n",
    " * groove slope gets too steep for tracking\n",
    " \n",
    "Solution: oreloB, a vinyl that plays backwards"
   ]
  },
  {
   "cell_type": "markdown",
   "metadata": {
    "slideshow": {
     "slide_type": "slide"
    }
   },
   "source": [
    "## Quantizing the Bolero\n",
    "\n",
    "<img width=\"600\" style=\"float: right;\" src=\"img/bolero_wav.png\">\n",
    "\n",
    " * clearly the beginning spans a much smaller<br />number of quantization levels than the end\n",
    " * the high-resolution hypothesis may not hold"
   ]
  },
  {
   "cell_type": "code",
   "execution_count": null,
   "metadata": {
    "slideshow": {
     "slide_type": "slide"
    }
   },
   "outputs": [],
   "source": [
    "levels=[2 ** 16, 2 ** 8]\n",
    "multiplay(clips['sf'], [quantize(clips['boleroM'], m) for m in levels], [f'middle, {m}-level quantization' for m in levels])"
   ]
  },
  {
   "cell_type": "code",
   "execution_count": null,
   "metadata": {
    "slideshow": {
     "slide_type": "-"
    }
   },
   "outputs": [],
   "source": [
    "levels=[2 ** 16, 2 ** 8]\n",
    "multiplay(clips['sf'], [quantize(clips['boleroA'], m) for m in levels], [f'beginning, {m}-level quantization' for m in levels])"
   ]
  },
  {
   "cell_type": "markdown",
   "metadata": {
    "slideshow": {
     "slide_type": "slide"
    }
   },
   "source": [
    "# Numerical Experiments"
   ]
  },
  {
   "cell_type": "markdown",
   "metadata": {
    "slideshow": {
     "slide_type": "slide"
    }
   },
   "source": [
    "## Sampling a sine wave with rational normalized frequency\n",
    "\n",
    "(the opening flute in the Bolero is close to a pure sinusoid)\n",
    "\n",
    " * conventional setup: sampling followed by quantization\n",
    " * $x(t) = \\sin(2\\pi f_0 t)$, sampled at $F_s$ and $f_0 = \\frac{A}{B}F_s$ with $A$ and $B$ coprime <br/>\n",
    " \n",
    " * $x[n] = \\sin\\left(2\\pi\\frac{A}{B}n\\right)$\n",
    " \n",
    " \n",
    " * $x[n]$ will be periodic with period $B$ and it will span $A$ cycles over $B$ samples\n",
    " * natural Fourier representation: DFS $\\mathbf{X}\\in \\mathbb{C}^B$\n",
    " * single nonzero coefficient $X[A]$"
   ]
  },
  {
   "cell_type": "code",
   "execution_count": null,
   "metadata": {
    "slideshow": {
     "slide_type": "slide"
    }
   },
   "outputs": [],
   "source": [
    "def quantized_sinusoid(A, B, M=0, initial_phase=1):\n",
    "    # add an initial phase non commensurable with pi to eliminate quantization of zero values\n",
    "    x = np.sin(initial_phase + 2 * np.pi * ((A * np.arange(0, B)) % B) / B)\n",
    "    qx = quantize(x, M)\n",
    "    return {\n",
    "        'original' : x, \n",
    "        'quantized' : qx, \n",
    "        # square magnitude of the normalized DFS for positive frequencies\n",
    "        'DFS' : (np.abs(np.fft.fft(qx))[:int(np.ceil(B/2))] / B ) ** 2 \n",
    "    }\n",
    "\n",
    "stem(quantized_sinusoid(3, 17)['DFS'])"
   ]
  },
  {
   "cell_type": "markdown",
   "metadata": {
    "slideshow": {
     "slide_type": "slide"
    }
   },
   "source": [
    "## Introducing quantization\n",
    "\n",
    " * $\\mathbf{x} \\rightarrow \\hat{\\mathbf{x}}$\n",
    " * $\\hat{\\mathbf{x}}$ still periodic with a period of $B$ samples\n",
    " \n",
    " \n",
    "Distortion:\n",
    " * harmonic distortion will affects the DFS coefficient whose index is a multiple of $A$\n",
    " * non-harmonic distortion will affect the other coefficients\n",
    " \n",
    " \n",
    "First note in the Bolero is a $C_5$, i.e. 523.25Hz. \n",
    "\n",
    "At $F_s=44.1$KHz we can pick $B=257$ and $A=3$. "
   ]
  },
  {
   "cell_type": "code",
   "execution_count": null,
   "metadata": {
    "slideshow": {
     "slide_type": "skip"
    }
   },
   "outputs": [],
   "source": [
    "def find_nhd(A, dfs, full=False):\n",
    "    # zero out harmonic components to highlight non-harmonic content\n",
    "    N = int(np.ceil(len(dfs) / 2)) if full else len(dfs)\n",
    "    nhd = np.copy(dfs[:N])\n",
    "    nhd[::A] = 0\n",
    "    return max(nhd), nhd"
   ]
  },
  {
   "cell_type": "code",
   "execution_count": null,
   "metadata": {
    "slideshow": {
     "slide_type": "skip"
    }
   },
   "outputs": [],
   "source": [
    "def show_nhd(A=3, B=257, M=2):\n",
    "    s = quantized_sinusoid(A, B, int(M))\n",
    "    peak, nhd = find_nhd(A, s['DFS'])\n",
    "    \n",
    "    plt.subplot(1, 2, 1)    \n",
    "    plt.plot(s['original']);\n",
    "    plt.plot(s['quantized']);\n",
    "    plt.title('signal')\n",
    "    \n",
    "    plt.subplot(1, 2, 2)    \n",
    "    stem(s['DFS'])\n",
    "    plt.title('DFS')\n",
    "    \n",
    "    plt.figure()\n",
    "    stem(nhd)\n",
    "    plt.ylim(0, 0.0002)\n",
    "    plt.title('non-harmonic components, max=' + str(peak))"
   ]
  },
  {
   "cell_type": "code",
   "execution_count": null,
   "metadata": {
    "slideshow": {
     "slide_type": "slide"
    }
   },
   "outputs": [],
   "source": [
    "display(widgets.interactive(show_nhd, M=widgets.Dropdown(options=['2', '3', '4', '128' ]), A=(1, 11), B=widgets.fixed(257)))"
   ]
  },
  {
   "cell_type": "markdown",
   "metadata": {
    "slideshow": {
     "slide_type": "slide"
    }
   },
   "source": [
    "## Searching for the worst case\n",
    "\n",
    " * try to get a sense for how bad non-harmonic distortion can get\n",
    " * let's iterate over all non-reducible $A/B$ ratios between $0$ and $1/2$ \n",
    " \n",
    " \n",
    "**Farey sequence** of order $N$ is the sequence of _non-reducible_ fractions in the unit interval with denominator smaller or equal than $N$"
   ]
  },
  {
   "cell_type": "code",
   "execution_count": null,
   "metadata": {
    "slideshow": {
     "slide_type": "slide"
    }
   },
   "outputs": [],
   "source": [
    "def farey_sequence(n):\n",
    "    \"\"\"Build the order-N Farey sequence up to 1/2.\"\"\"\n",
    "    farey = []\n",
    "    (a, b, c, d) = (0, 1, 1, n)\n",
    "    while (c <= n):\n",
    "        k = (n + b) // d\n",
    "        (a, b, c, d) = (c, d, k * c - a, k * d - b)\n",
    "        farey.append((a, b))\n",
    "        if a/b >= 0.5:\n",
    "            break\n",
    "    return farey\n",
    "\n",
    "\n",
    "for (a, b) in farey_sequence(50):\n",
    "    plt.plot(b, a, 'o', color=plt.cm.tab20b(a % 20))"
   ]
  },
  {
   "cell_type": "code",
   "execution_count": null,
   "metadata": {
    "slideshow": {
     "slide_type": "skip"
    }
   },
   "outputs": [],
   "source": [
    "def find_max_nhd(N, M=2, parametric=False):\n",
    "    max_value = (0, 0, 0)\n",
    "    for (A, B) in farey_sequence(N):\n",
    "        peak, _ = find_nhd(A, quantized_sinusoid(A, B, M)['DFS'])\n",
    "        plt.plot(B if parametric else (A / B), peak, 'o', color=plt.cm.tab20b(A % 20))\n",
    "        if peak > max_value[0]:\n",
    "            max_value = (peak, A, B)\n",
    "    plt.title(f'max value is {max_value[0]}, frequency {max_value[1]}/{max_value[2]}')"
   ]
  },
  {
   "cell_type": "markdown",
   "metadata": {
    "slideshow": {
     "slide_type": "slide"
    }
   },
   "source": [
    "## Non-harmonic distortion for Farey ratios\n",
    "\n",
    "Maximum square magnitude of non-harmonic DFS coefficient as a function of $B$ and parametrized in $A$ for 1-bit quantization: largest NHD values occur for $B$ small\n",
    "\n",
    "![title](img/nhd.png)"
   ]
  },
  {
   "cell_type": "code",
   "execution_count": null,
   "metadata": {
    "slideshow": {
     "slide_type": "slide"
    }
   },
   "outputs": [],
   "source": [
    "find_max_nhd(100, 2, parametric=True)"
   ]
  },
  {
   "cell_type": "code",
   "execution_count": null,
   "metadata": {
    "slideshow": {
     "slide_type": "slide"
    }
   },
   "outputs": [],
   "source": [
    "find_max_nhd(100, 3, parametric=True)"
   ]
  },
  {
   "cell_type": "code",
   "execution_count": null,
   "metadata": {
    "slideshow": {
     "slide_type": "slide"
    }
   },
   "outputs": [],
   "source": [
    "find_max_nhd(100, 32768, parametric=True)"
   ]
  },
  {
   "cell_type": "markdown",
   "metadata": {
    "slideshow": {
     "slide_type": "slide"
    }
   },
   "source": [
    "Let's also look at the non-parametrized plots. \n",
    "\n",
    "The reason for the step-ladder patterns will be hopefully clear by the end."
   ]
  },
  {
   "cell_type": "code",
   "execution_count": null,
   "metadata": {
    "slideshow": {
     "slide_type": "slide"
    }
   },
   "outputs": [],
   "source": [
    "find_max_nhd(150, 2)"
   ]
  },
  {
   "cell_type": "code",
   "execution_count": null,
   "metadata": {
    "slideshow": {
     "slide_type": "slide"
    }
   },
   "outputs": [],
   "source": [
    "find_max_nhd(150, 3)"
   ]
  },
  {
   "cell_type": "markdown",
   "metadata": {
    "slideshow": {
     "slide_type": "slide"
    }
   },
   "source": [
    "# Theoretical Analysis"
   ]
  },
  {
   "cell_type": "markdown",
   "metadata": {
    "slideshow": {
     "slide_type": "slide"
    }
   },
   "source": [
    "## Some DSP archeology \n",
    "\n",
    "Here is a really interesting paper from 1947\n",
    "\n",
    "<center>\n",
    "<img width=\"1200\" src=\"img/cpg_title.jpg\">\n",
    "</center>"
   ]
  },
  {
   "cell_type": "markdown",
   "metadata": {
    "slideshow": {
     "slide_type": "slide"
    }
   },
   "source": [
    "For context, in 1947 this was happening\n",
    "\n",
    "<br /><br />\n",
    "\n",
    "<center>\n",
    "<img width=\"800\" src=\"img/transistor.jpg\">    \n",
    "</center>"
   ]
  },
  {
   "cell_type": "markdown",
   "metadata": {
    "slideshow": {
     "slide_type": "slide"
    }
   },
   "source": [
    "My second favorite quote of the paper:\n",
    "\n",
    "<center>\n",
    "<img width=\"600\" src=\"img/cpg_quote2.jpg\">\n",
    "</center>"
   ]
  },
  {
   "cell_type": "markdown",
   "metadata": {
    "slideshow": {
     "slide_type": "slide"
    }
   },
   "source": [
    "My favorite quote of all time:\n",
    "<br /><br /><br />\n",
    "\n",
    "<center>\n",
    "<img width=\"600\" src=\"img/cpg_quote.jpg\">\n",
    "</center>"
   ]
  },
  {
   "cell_type": "markdown",
   "metadata": {
    "slideshow": {
     "slide_type": "slide"
    }
   },
   "source": [
    "### Quantization before sampling    \n",
    "\n",
    "\n",
    "<center>\n",
    "<img src=\"img/qbs.png\" style=\"width: 800px;\"/> \n",
    "</center>\n"
   ]
  },
  {
   "cell_type": "code",
   "execution_count": null,
   "metadata": {},
   "outputs": [],
   "source": [
    "t = np.arange(0, 2 * np.pi, 0.001)\n",
    "plt.plot(t, quantize(np.sin(t), 15));"
   ]
  },
  {
   "cell_type": "markdown",
   "metadata": {
    "slideshow": {
     "slide_type": "slide"
    }
   },
   "source": [
    "<img width=\"300\" style=\"float: right; margin: 10px;\" src=\"img/clavier.jpg\">\n",
    "\n",
    "Fundamental idea: \n",
    "\n",
    "\n",
    " * decompose this piecewise-constant periodic  <br /> waveform as the sum of $N$ pairs of rectangular steps  <br /> of appropriate width\n",
    " * express $\\hat{x}(t)$ using a Fourier series expansion:\n",
    "\n",
    "<br /><br />\n",
    "$$\n",
    "  \\hat{x}(t) = \\sum_{h=1}^{N} \\sum_{k=0}^{\\infty} \\frac{4}{\\pi N (2k+1)} \\cos\\left[(2k+1)\\arcsin\\left(\\frac{2h-1}{2N}\\right) \\right]\\sin((2k+1)t)\n",
    "$$"
   ]
  },
  {
   "cell_type": "code",
   "execution_count": null,
   "metadata": {
    "slideshow": {
     "slide_type": "skip"
    }
   },
   "outputs": [],
   "source": [
    "def quantized_sinusoid_fs(N, terms=1000):\n",
    "    t = np.arange(0, 2 * np.pi, 0.001)\n",
    "    x = np.zeros(len(t))\n",
    "    for h in range(1, N):\n",
    "        for k in range(0, terms):\n",
    "            x = x + np.cos((2 * k + 1) * np.arcsin((2 * h - 1) / N / 2)) * np.sin((2 * k + 1) * t) / (2 * k + 1)\n",
    "    x = x * 4 / np.pi / N\n",
    "    return t, x\n",
    "\n",
    "\n",
    "plt.plot(*quantized_sinusoid_fs(8));"
   ]
  },
  {
   "cell_type": "markdown",
   "metadata": {
    "slideshow": {
     "slide_type": "slide"
    }
   },
   "source": [
    "### Fundamental intuition:\n",
    "\n",
    " * $q(\\sin(t))$ **contains harmonics at all odd multiples of the fundamental frequency** \n",
    " * quantization of a continuous-time sine wave produces only harmonic distortion\n",
    " \n",
    " \n",
    " \n",
    " * NHD is given by spectral lines beyond the Nyquist frequency aliased by the sampler"
   ]
  },
  {
   "cell_type": "markdown",
   "metadata": {
    "slideshow": {
     "slide_type": "slide"
    }
   },
   "source": [
    "## More recent times\n",
    "\n",
    "Moving on to Robert Gray's 1990 paper [\"Quantization Noise Spectra\"](https://ieeexplore.ieee.org/document/59924)."
   ]
  },
  {
   "cell_type": "markdown",
   "metadata": {
    "slideshow": {
     "slide_type": "slide"
    }
   },
   "source": [
    "### The normalized quantization error\n",
    "\n",
    " * consider the expression for the _normalized quantization error_\n",
    "$$\n",
    "    \\eta(x) = \\frac{q(x) - x}{\\Delta} =  \\frac{q(x) - x}{2/M} \\quad \\in [-0.5, 0.5].\n",
    "$$\n",
    " * $\\eta(x)$ is a **periodic** function with period $M/2$"
   ]
  },
  {
   "cell_type": "code",
   "execution_count": null,
   "metadata": {
    "slideshow": {
     "slide_type": "slide"
    }
   },
   "outputs": [],
   "source": [
    "x = np.arange(-1, 1, .001)\n",
    "for ix, M in enumerate([2, 3, 8]):\n",
    "    plt.subplot(1, 3, ix+1)\n",
    "    e = (quantize(x, M) - x) / (2 / M)\n",
    "    plt.plot(x, e);    \n",
    "    plt.plot(x, e, '.');"
   ]
  },
  {
   "cell_type": "markdown",
   "metadata": {
    "slideshow": {
     "slide_type": "slide"
    }
   },
   "source": [
    " * $\\eta(x)$ can be expressed as a Fourier Series\n",
    "$$\n",
    "    \\eta(x) = \\sum_{k=1}^{\\infty} \\frac{(-1)^{kM}}{\\pi k}\\sin\\left(\\pi k M x\\right)\n",
    "$$\n",
    " * $(-1)^{kM}$ is identically one for mid-riser quantizers and alternates in sign for deadzone quantizers."
   ]
  },
  {
   "cell_type": "code",
   "execution_count": null,
   "metadata": {
    "slideshow": {
     "slide_type": "skip"
    }
   },
   "outputs": [],
   "source": [
    "def nqe_fs(x, M, terms=1000):\n",
    "    e = np.zeros(len(x))\n",
    "    s = [1, -1 if M % 2 == 1 else 1]\n",
    "    for k in range(1, terms):\n",
    "        e = e + s[k % 2] * np.sin(np.pi * k * x * M) / (np.pi * k)\n",
    "    return x, e"
   ]
  },
  {
   "cell_type": "code",
   "execution_count": null,
   "metadata": {
    "slideshow": {
     "slide_type": "skip"
    }
   },
   "outputs": [],
   "source": [
    "for ix, M in enumerate([2, 3, 8]):\n",
    "    plt.subplot(1, 3, ix+1)\n",
    "    plt.plot(*nqe_fs(np.arange(-1, 1, .01), M))"
   ]
  },
  {
   "cell_type": "markdown",
   "metadata": {
    "slideshow": {
     "slide_type": "slide"
    }
   },
   "source": [
    "### Quantization noise for a sinusoidal input\n",
    "\n",
    " * back to sampling followed by quantization\n",
    " * $x[n] = \\sin(\\omega_0 n + \\theta)$ with $0 \\le \\omega_0 < 2\\pi$.  \n",
    " * $\\eta[n] = \\eta(\\sin(\\omega_0 n + \\theta))$ and we are interested in computing its spectrum. \n",
    "\n",
    "\n",
    " * using complex exponentials for the Fourier series:\n",
    "$$\n",
    "    \\eta(x) = \\sum_{k \\neq 0} \\frac{(-1)^{kM}}{j2\\pi k}e^{j\\pi k M x}.\n",
    "$$\n",
    "\n",
    "Now we need to replace $x$ by $\\sin(\\omega_0 n + \\theta)$ and we end up with terms of the form $e^{j \\alpha \\sin \\beta}$; these can be expanded in terms of Bessel functions using the so-called Jacobi-Anger formula:\n",
    "\n",
    "$$\n",
    "    e^{j \\alpha \\sin \\omega} = \\sum_{m=-\\infty}^{\\infty} J_m(\\alpha)e^{j\\omega m}.\n",
    "$$"
   ]
  },
  {
   "cell_type": "markdown",
   "metadata": {
    "slideshow": {
     "slide_type": "slide"
    }
   },
   "source": [
    "Bessel functions are even or odd according to whether their order is even or odd, so:\n",
    "\n",
    "$$\n",
    "\\begin{align*}\n",
    "    \\eta[n] = \\eta(\\sin(\\omega_0 n + \\theta)) &= \\sum_{k \\neq 0} \\frac{(-1)^{kM}}{j2\\pi k}e^{j\\pi k M \\sin(\\omega_0 n + \\theta)} \\\\\n",
    "      &= \\sum_{k \\neq 0} \\frac{(-1)^{kM}}{j2\\pi k} \\sum_{m=-\\infty}^{\\infty} J_m(\\pi k M)e^{j (2m+1)\\theta} e^{j (2m+1)\\omega_0 n} \\\\\n",
    "      &= \\sum_{m=-\\infty}^{\\infty} \\left[ e^{j (2m+1)\\theta} \\sum_{k = 1}^{\\infty} \\frac{(-1)^{kM}}{j\\pi k}J_{2m+1}(\\pi k M) \\right] e^{j (2m+1)\\omega_0 n} \\\\ \\\\\n",
    "      &= \\sum_{\\varphi \\in \\Omega(\\omega_0)} b(\\varphi) e^{j \\varphi n}\n",
    "\\end{align*} \n",
    "$$"
   ]
  },
  {
   "cell_type": "markdown",
   "metadata": {
    "slideshow": {
     "slide_type": "slide"
    }
   },
   "source": [
    "$$\n",
    "    \\eta[n] = \\sum_{\\varphi \\in \\Omega(\\omega_0)} b(\\varphi) e^{j \\varphi n}\n",
    "$$\n",
    "\n",
    " * $\\Omega(\\omega_0) = \\{(2m+1)\\omega_0 \\mod 2\\pi\\}_{m \\in \\mathbb{Z}}$, i.e., all the odd multiples of the fundamental frequency aliased over the $[0, 2\\pi]$ interval;\n",
    " \n",
    " \n",
    " * for each frequency $\\varphi \\in \\Omega(\\omega_0)$:\n",
    "   * $I(\\varphi) = \\{m \\in \\mathbb{Z} | (2m+1)\\omega_0 \\equiv \\varphi \\mod 2\\pi\\}$\n",
    "   \n",
    "   * $\\displaystyle b(\\varphi) = \\sum_{m \\in I(\\varphi)} \\left[ e^{j (2m+1)\\theta} \\sum_{k = 1}^{\\infty} \\frac{(-1)^{kM}}{j\\pi k}J_{2m+1}(\\pi k M) \\right]$"
   ]
  },
  {
   "cell_type": "markdown",
   "metadata": {
    "slideshow": {
     "slide_type": "slide"
    }
   },
   "source": [
    "### PSD of the error\n",
    "\n",
    "$$\n",
    "    P_{\\omega_0}(e^{j\\omega}) = \\sum_{\\varphi \\in \\Omega(\\omega_0)} |b(\\varphi)|^2 \\delta(\\omega - \\varphi).\n",
    "$$"
   ]
  },
  {
   "cell_type": "markdown",
   "metadata": {
    "slideshow": {
     "slide_type": "slide"
    }
   },
   "source": [
    "### Case 1: rational normalized frequency\n",
    "\n",
    "Assume $\\omega_0 = 2\\pi(A/B)$, with $A$ and $B$ coprime, as in the numerical experiments\n",
    "\n",
    " * the set $\\Omega(\\omega_0)$ is finite: <br /> $\\displaystyle\\Omega\\left(2\\pi\\frac{A}{B}\\right) = \\left\\{\\frac{2i\\pi}{B}\\right\\}_i, \\quad \\begin{cases}\n",
    "    i = 0, 1, 2, \\ldots, B-1 & \\mbox{if $A$ or $B$ even} \\\\\n",
    "    i = 1, 3, 5, \\ldots, B-1 & \\mbox{if $A$ and $B$ odd} \n",
    "    \\end{cases}$\n",
    "    \n",
    "\n",
    " * $\\displaystyle I\\left(\\frac{2i\\pi}{B}\\right) = \\{i[A]^{-1}_{B} + pB\\}_{p \\in \\mathbb{Z}}$"
   ]
  },
  {
   "cell_type": "markdown",
   "metadata": {
    "slideshow": {
     "slide_type": "slide"
    }
   },
   "source": [
    "The quantization error's PSD:\n",
    "\n",
    " * contains a finite number of spectral lines at multiples of $2\\pi/B$ \n",
    " * the power associated to each line $|b(2i\\pi/B)|^2$ should correspond to the square magnitude of the $i$-th coefficient of the $B$-point DFS of the error signal.\n",
    "\n",
    "\n",
    "\n",
    "The following function computes an approximation of the coefficients $|b(2i\\pi/B)|^2$ for $\\omega_0 = 2\\pi(A/B)$, scaled to represent the non-normalized quantization error:"
   ]
  },
  {
   "cell_type": "code",
   "execution_count": null,
   "metadata": {
    "slideshow": {
     "slide_type": "slide"
    }
   },
   "outputs": [],
   "source": [
    "def nqe_sin_psd(A, B, M, phase=1):\n",
    "    s = [1, -1 if M % 2 == 1 else 1]\n",
    "    b = np.zeros(B, dtype=complex)\n",
    "    m_lim, k_lim = max(1500, 2 * B), 600\n",
    "    for m in range(-m_lim, m_lim):\n",
    "        c = 0\n",
    "        for k in range(1, k_lim):\n",
    "            c += s[k % 2] * ss.jv(2 * m + 1, np.pi * k * M) / k\n",
    "        c /= 1j * np.pi\n",
    "        b[((2 * m + 1) * A) % B] += c * np.exp(1j * phase * (2 * m + 1))\n",
    "    # undo error normalization to obtain the real error PSD\n",
    "    b = np.abs(b  * (2 / M)) ** 2\n",
    "    print('Max NHD (theory): ', find_nhd(A, b, full=True)[0])\n",
    "    return b"
   ]
  },
  {
   "cell_type": "code",
   "execution_count": null,
   "metadata": {
    "slideshow": {
     "slide_type": "slide"
    }
   },
   "outputs": [],
   "source": [
    "def nqe_sin_dfs(A, B, M, phase=1):\n",
    "    s = quantized_sinusoid(A, B, M, phase)\n",
    "    ne = (s['quantized'] - s['original']) \n",
    "    b = np.abs(np.fft.fft(ne / B)) ** 2\n",
    "    print('Max NHD (FFT):    ', find_nhd(A, b, full=True)[0])\n",
    "    return b"
   ]
  },
  {
   "cell_type": "code",
   "execution_count": null,
   "metadata": {
    "slideshow": {
     "slide_type": "slide"
    }
   },
   "outputs": [],
   "source": [
    "P = (3, 8, 2)\n",
    "stem(nqe_sin_psd(*P), 'tab:green')\n",
    "stem(nqe_sin_dfs(*P), 'tab:red')"
   ]
  },
  {
   "cell_type": "code",
   "execution_count": null,
   "metadata": {
    "slideshow": {
     "slide_type": "slide"
    }
   },
   "outputs": [],
   "source": [
    "P = (5, 14, 3)\n",
    "stem(nqe_sin_psd(*P), 'tab:green')\n",
    "stem(nqe_sin_dfs(*P), 'tab:red')"
   ]
  },
  {
   "cell_type": "markdown",
   "metadata": {
    "slideshow": {
     "slide_type": "slide"
    }
   },
   "source": [
    "### Case 2: irrational normalized frequency\n",
    "\n",
    "Assume $\\omega_0$ not a rational multiple of $2\\pi$ \n",
    "\n",
    " * the normalized frequency $\\nu = \\omega_0/(2\\pi)$ will be an irrational number in $[0, 1)$\n",
    " \n",
    " * the set of _normalized_ frequencies $\\Omega'(\\nu) = \\{(2m+1)\\nu \\mod 1\\}_{m \\in \\mathbb{Z}} = \\{ \\langle (2m+1)\\nu \\rangle\\}_{m \\in \\mathbb{Z}}$\n",
    "\n",
    "\n",
    "Weil's Equidistribution theorem shows that $\\Omega'(\\nu)$ cover the entire $[0, 1]$ interval _uniformly_. "
   ]
  },
  {
   "cell_type": "code",
   "execution_count": null,
   "metadata": {
    "slideshow": {
     "slide_type": "slide"
    }
   },
   "outputs": [],
   "source": [
    "P = (150, 1021, 2)\n",
    "stem(nqe_sin_psd(*P), 'tab:green')\n",
    "stem(nqe_sin_dfs(*P), 'tab:red')"
   ]
  },
  {
   "cell_type": "markdown",
   "metadata": {
    "slideshow": {
     "slide_type": "slide"
    }
   },
   "source": [
    "# Back to the non-harmonic distortion patterns\n",
    "\n",
    "Recall the plot of the maximum non-harmonic distortion as a function of normalized frequency and its curious \"stepladder\" pattern:"
   ]
  },
  {
   "cell_type": "code",
   "execution_count": null,
   "metadata": {},
   "outputs": [],
   "source": [
    "find_max_nhd(150, 2)"
   ]
  },
  {
   "cell_type": "markdown",
   "metadata": {
    "slideshow": {
     "slide_type": "slide"
    }
   },
   "source": [
    "Consider the non-normalized quantization error for a sinusoid of frequency $\\omega_0 = 2\\pi\\nu$, with $0 < \\nu < 1/2$:\n",
    "\n",
    "$$\n",
    "\\begin{align*}\n",
    "    \\frac{2}{M}\\, \\eta(\\sin(2\\pi\\nu n))&= \\sum_{m=-\\infty}^{\\infty} \\left[ \\frac{2}{M}\\sum_{k = 1}^{\\infty} \\frac{(-1)^{kM}}{j\\pi k}J_{2m+1}(\\pi k M) \\right] e^{j 2\\pi(2m+1)\\nu n} \\\\ \n",
    "      &= \\sum_{m=-\\infty}^{\\infty} c_M(m)\\, e^{j 2\\pi(2m+1)\\nu n};\n",
    "\\end{align*} \n",
    "$$\n",
    "\n",
    " * for $(2m+1)\\nu < 1/2$ the PSD lines are harmonically related to the fundamental\n",
    " * for $(2m+1)\\nu > 1/2$ we have aliasing and potentially non-harmonic distortion\n",
    " "
   ]
  },
  {
   "cell_type": "markdown",
   "metadata": {
    "slideshow": {
     "slide_type": "slide"
    }
   },
   "source": [
    "$$\n",
    "    \\frac{2}{M}\\, \\eta(\\sin(2\\pi\\nu n)) = \\sum_{m=-\\infty}^{\\infty} c_M(m)\\, e^{j 2\\pi(2m+1)\\nu n}\n",
    "$$\n",
    "\n",
    "\n",
    " * the coefficients $c_M(m)$ depend only on the number of quantization levels $M$\n",
    " * $|c_M(m)|^2$ decreases rather quickly with $m$:"
   ]
  },
  {
   "cell_type": "code",
   "execution_count": null,
   "metadata": {
    "slideshow": {
     "slide_type": "skip"
    }
   },
   "outputs": [],
   "source": [
    "def c_m(N, M=2):\n",
    "    k_lim = 600000\n",
    "    s = [1, -1 if M % 2 == 1 else 1]\n",
    "    c = np.zeros(N, dtype=complex)\n",
    "    for m in range(0, N):\n",
    "        for k in range(1, k_lim):\n",
    "            c[m] += s[k % 2] * ss.jv(2 * m + 1, np.pi * k * M) / k\n",
    "        c[m] /= 1j * np.pi\n",
    "    return np.abs(c * (2 / M)) ** 2"
   ]
  },
  {
   "cell_type": "code",
   "execution_count": null,
   "metadata": {},
   "outputs": [],
   "source": [
    "c2 = c_m(20, 2)\n",
    "stem(c2)"
   ]
  },
  {
   "cell_type": "markdown",
   "metadata": {
    "slideshow": {
     "slide_type": "slide"
    }
   },
   "source": [
    " * the max NHD is dominated by the first aliased component:<br />max NHD is $|c_M(m_0)|^2$ where $m_0$ is the minimum integer for which $(2m_0+1)\\nu > 1/2$. \n",
    "\n",
    "\n",
    "\n",
    " * for $\\nu > 1/6$, NHD $\\approx |c_M(1)|^2$\n",
    " * for $1/10 < \\nu < 1/6$, NHD $\\approx |c_M(2)|^2$\n",
    " * ..."
   ]
  },
  {
   "cell_type": "code",
   "execution_count": null,
   "metadata": {
    "slideshow": {
     "slide_type": "slide"
    }
   },
   "outputs": [],
   "source": [
    "find_max_nhd(150, 2)\n",
    "for m in range(1, 5):\n",
    "    plt.plot([0.5/(2*m+1), 0.5/(2*m+1)], [0, 0.015], color=plt.cm.tab10(m))\n",
    "    plt.plot([0, 0.5], [c2[m], c2[m]], color=plt.cm.tab10(m))"
   ]
  },
  {
   "cell_type": "markdown",
   "metadata": {
    "slideshow": {
     "slide_type": "slide"
    }
   },
   "source": [
    "What about $M=3$ ? \n",
    "\n",
    " * $c_3(2) \\approx 0$\n",
    " * $c_3(m)$ non-monotonic\n",
    " * NHD approx the same for $1/18 < \\nu < 1/6$."
   ]
  },
  {
   "cell_type": "code",
   "execution_count": null,
   "metadata": {
    "slideshow": {
     "slide_type": "-"
    }
   },
   "outputs": [],
   "source": [
    "c3 = c_m(20, 3)\n",
    "stem(c3)"
   ]
  },
  {
   "cell_type": "code",
   "execution_count": null,
   "metadata": {
    "slideshow": {
     "slide_type": "slide"
    }
   },
   "outputs": [],
   "source": [
    "find_max_nhd(150, 3)\n",
    "for m in range(1, 5):\n",
    "    plt.plot([0.5/(2*m+1), 0.5/(2*m+1)], [0, 0.015], color=plt.cm.tab10(m))\n",
    "    plt.plot([0, 0.5], [c3[m], c3[m]], color=plt.cm.tab10(m))"
   ]
  },
  {
   "cell_type": "markdown",
   "metadata": {
    "slideshow": {
     "slide_type": "slide"
    }
   },
   "source": [
    "# Conclusion: does all of this really matter?\n",
    "\n",
    "Yes and no:\n",
    " * it's important to understand the consequences of quantization\n",
    " * **dithering** techniques solve most of the problems we've seen here"
   ]
  }
 ],
 "metadata": {
  "celltoolbar": "Slideshow",
  "kernelspec": {
   "display_name": "Python 3",
   "language": "python",
   "name": "python3"
  },
  "language_info": {
   "codemirror_mode": {
    "name": "ipython",
    "version": 3
   },
   "file_extension": ".py",
   "mimetype": "text/x-python",
   "name": "python",
   "nbconvert_exporter": "python",
   "pygments_lexer": "ipython3",
   "version": "3.8.8"
  },
  "rise": {
   "enable_chalkboard": true
  },
  "toc-autonumbering": true
 },
 "nbformat": 4,
 "nbformat_minor": 4
}
