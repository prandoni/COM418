{
 "cells": [
  {
   "cell_type": "markdown",
   "metadata": {
    "slideshow": {
     "slide_type": "slide"
    }
   },
   "source": [
    "<div align=\"right\"><i>COM418 - Computers and Music</i></div>\n",
    "<div align=\"right\"><a href=\"https://people.epfl.ch/paolo.prandoni\">Paolo Prandoni</a>, <a href=\"https://www.epfl.ch/labs/lcav/\">LCAV, EPFL</a></div>\n",
    "\n",
    "<p style=\"font-size: 30pt; font-weight: bold; color: #B51F1F;\">From vintage videogames to one-bit audio and sigma-delta</p>"
   ]
  },
  {
   "cell_type": "code",
   "execution_count": null,
   "metadata": {
    "slideshow": {
     "slide_type": "skip"
    }
   },
   "outputs": [],
   "source": [
    "%matplotlib inline\n",
    "import matplotlib\n",
    "import matplotlib.pyplot as plt\n",
    "import numpy as np\n",
    "import scipy.signal as sp\n",
    "from scipy.io import wavfile\n",
    "import IPython"
   ]
  },
  {
   "cell_type": "code",
   "execution_count": null,
   "metadata": {
    "slideshow": {
     "slide_type": "skip"
    }
   },
   "outputs": [],
   "source": [
    "plt.rcParams[\"figure.figsize\"] = (14,4)"
   ]
  },
  {
   "cell_type": "code",
   "execution_count": null,
   "metadata": {
    "slideshow": {
     "slide_type": "skip"
    }
   },
   "outputs": [],
   "source": [
    "def stem(x, color='tab:blue', **kwargs):\n",
    "    # stem with chosen color\n",
    "    markerline, stemlines, baseline = plt.stem(x, use_line_collection=True, basefmt=color, **kwargs);\n",
    "    markerline.set_color(color)\n",
    "    stemlines.set_color(color)\n",
    "    \n",
    "import ipywidgets as widgets\n",
    "\n",
    "def play(clip, rate):\n",
    "    display(IPython.display.Audio(clip, rate=rate))\n",
    "    \n",
    "def multiplay(clips, rate, title=None):\n",
    "    outs = [widgets.Output() for c in clips]\n",
    "    rate = [rate] * len(clips) if isinstance(rate, (int, float)) else rate\n",
    "    for ix, clip in enumerate(clips):\n",
    "        with outs[ix]:\n",
    "            print(title[ix] if title is not None else \"\")\n",
    "            display(IPython.display.Audio(clip, rate=rate[ix])  )\n",
    "    return widgets.HBox(outs)    "
   ]
  },
  {
   "cell_type": "code",
   "execution_count": null,
   "metadata": {
    "slideshow": {
     "slide_type": "skip"
    }
   },
   "outputs": [],
   "source": [
    "def quantize(x, M):\n",
    "    if M == 0:\n",
    "        return x\n",
    "    elif M % 2 == 0:\n",
    "        # using a mid-riser quantizer\n",
    "        M = M / 2\n",
    "        k = np.floor(x * M)\n",
    "        k = np.maximum(np.minimum(k, M-1), -M)\n",
    "        return (k + 0.5) / M\n",
    "    else:\n",
    "        # using a deadzone quantizer\n",
    "        k = np.round(np.abs(x) * M / 2)\n",
    "        k = np.minimum((M - 1) / 2, k)\n",
    "        return (np.sign(x) * k / M * 2 )"
   ]
  },
  {
   "cell_type": "markdown",
   "metadata": {
    "slideshow": {
     "slide_type": "slide"
    }
   },
   "source": [
    "# One-Bit Audio\n",
    "\n",
    "Why encode audio at one bit per sample?\n",
    " * ADC cheaper since quantizer only has 1 threshold \n",
    " * DAC much cheaper, since it's just a simple lowpass filter (many DAC's in smartphones, tablets and PCs use conversion to 1-bit)\n",
    " * easy to transmit since no framing required\n",
    " \n",
    "but also...\n",
    " * sometimes two-level audio is all you have!"
   ]
  },
  {
   "cell_type": "markdown",
   "metadata": {
    "slideshow": {
     "slide_type": "slide"
    }
   },
   "source": [
    "# Early video games\n",
    "\n",
    "<img src=\"img/pong.jpg\" alt=\"pong\" style=\"float: right; width: 200px; margin: 00px 30px;\"/>\n",
    "\n",
    " * early arcade video games had no sound \n",
    " * Pong, in 1972, added some simple beeps when the ball hit the walls\n",
    " * the first game with continous sound was Space Invaders (1978)\n",
    "\n",
    "In the early days, all developers had was square waves"
   ]
  },
  {
   "cell_type": "markdown",
   "metadata": {
    "slideshow": {
     "slide_type": "slide"
    }
   },
   "source": [
    "## Square Waves\n",
    "\n",
    "The cheapest way to create sound is drive a louspeaker directly \n",
    "with an I/O data line of the CPU, i.e., playing square waves.\n",
    "\n",
    "\n",
    "This was still the case in some popular home computers in the 1980s\n",
    "\n",
    "![spectrum](img/spectrum.png)"
   ]
  },
  {
   "cell_type": "markdown",
   "metadata": {
    "slideshow": {
     "slide_type": "slide"
    }
   },
   "source": [
    "### Pitched square waves\n",
    "\n",
    "First approach: threshold a sine wave\n",
    "\n",
    "$$\n",
    "    x[n] = \\begin{cases} \n",
    "        +1 & \\mbox{if $\\sin(\\omega_0 n) \\ge 0$} \\\\ \n",
    "        -1 & \\mbox{if $\\sin(\\omega_0 n) \\lt 0$} \n",
    "        \\end{cases} \n",
    "$$ "
   ]
  },
  {
   "cell_type": "code",
   "execution_count": null,
   "metadata": {},
   "outputs": [],
   "source": [
    "def square_wave_naive(w, N):\n",
    "    return np.where(np.sin(np.arange(0, N) * w) >= 0, 1, -1)"
   ]
  },
  {
   "cell_type": "code",
   "execution_count": null,
   "metadata": {
    "slideshow": {
     "slide_type": "slide"
    }
   },
   "outputs": [],
   "source": [
    "w, N = .13 * np.pi, 100\n",
    "plt.plot(np.sin(np.arange(0, N) * w), 'g', linewidth=3, label=\"sine\")\n",
    "stem(square_wave_naive(w, 100), label=\"thresholded sine\")\n",
    "plt.legend(loc=\"lower left\")\n",
    "plt.ylim(-1.2, 1.2);"
   ]
  },
  {
   "cell_type": "markdown",
   "metadata": {},
   "source": [
    "Apparent problem: a variable _duty cycle_ over time, leading to audio artefacts. Worse at low sampling frequencies.\n",
    "\n",
    "This is exactly the problem highlighted by Tsividis' paradox!"
   ]
  },
  {
   "cell_type": "markdown",
   "metadata": {
    "slideshow": {
     "slide_type": "slide"
    }
   },
   "source": [
    "Here's a \"cheap\" way, that avoids trigonometric functions:\n",
    " * period $p = 2\\pi / \\omega_0 \\in \\mathbb{R}$\n",
    " * approximate period $P = \\mathrm{round}(p) \\in \\mathbb{N}$\n",
    "\n",
    "$$ \n",
    "    x[n] = \\begin{cases} \n",
    "        +1 & \\mbox{if $(n \\mod P) \\le (P/2)$} \\\\ \n",
    "        -1 & \\mbox{otherwise} \n",
    "        \\end{cases} \n",
    "$$ \n",
    "\n",
    "This approximate method causes _detuning_ , worse as the frequency increases"
   ]
  },
  {
   "cell_type": "code",
   "execution_count": null,
   "metadata": {},
   "outputs": [],
   "source": [
    "def square_wave_cheap(w, N):\n",
    "    p = np.round(2 * np.pi / w)\n",
    "    return np.where((np.arange(0, N) % p) >= (p/2), -1, 1)"
   ]
  },
  {
   "cell_type": "code",
   "execution_count": null,
   "metadata": {
    "slideshow": {
     "slide_type": "slide"
    }
   },
   "outputs": [],
   "source": [
    "# we plot the correct square wave in red to show the detuning of the \"cheap\" version\n",
    "plt.plot(np.sin(np.arange(0, N) * w), 'g', linewidth=3, label=\"sine\")\n",
    "plt.plot(square_wave_naive(w, 100), 'red', label=\"thresholded sine\")\n",
    "stem(square_wave_cheap(w, 100), label=\"approximate square wave\")\n",
    "plt.legend(loc=\"lower left\")\n",
    "plt.ylim(-1.2, 1.2);"
   ]
  },
  {
   "cell_type": "markdown",
   "metadata": {
    "slideshow": {
     "slide_type": "slide"
    }
   },
   "source": [
    "## A blast from the past\n",
    "\n",
    "Here's a simple synthesizer"
   ]
  },
  {
   "cell_type": "code",
   "execution_count": null,
   "metadata": {},
   "outputs": [],
   "source": [
    "def note_to_freq(note):\n",
    "    # note name and octave to frequency\n",
    "    C4 = 261.63\n",
    "    SEMITONES = {'C': 0, 'C#': 1, 'Db': 1, 'D': 2, 'D#': 3, 'Eb': 3, 'E': 4, 'F': 5, 'F#': 6, 'Gb': 6, \n",
    "                 'G': 7, 'G#': 8, 'Ab': 8, 'A': 9, 'A#': 10, 'Bb': 10, 'B': 11}  \n",
    "    try:\n",
    "        s = SEMITONES[note[:-1]]\n",
    "        octave = int(note[-1]) - 4        \n",
    "        return C4 * (2 ** octave) * (2.0 ** (s / 12.0))\n",
    "    except KeyError:\n",
    "        return 0"
   ]
  },
  {
   "cell_type": "code",
   "execution_count": null,
   "metadata": {},
   "outputs": [],
   "source": [
    "def play_notes(melody, time_scale=1, rate=32000, wave_engine=square_wave_cheap):\n",
    "    # melody is a tuple of pairs, each pair containing the pitch and the duration\n",
    "    #  of each note; time_scale gives the base length of a note of unit duration \n",
    "    s = []\n",
    "    for note in melody:\n",
    "        f = 2 * np.pi * note_to_freq(note[0]) / float(rate)\n",
    "        N = int(note[1] * rate * time_scale)\n",
    "        s = np.concatenate((s, wave_engine(f, N) if f > 0 else np.ones(N)))\n",
    "    return s"
   ]
  },
  {
   "cell_type": "markdown",
   "metadata": {
    "slideshow": {
     "slide_type": "slide"
    }
   },
   "source": [
    "And a simple tune, using the \"cheap\" square wave"
   ]
  },
  {
   "cell_type": "code",
   "execution_count": null,
   "metadata": {
    "slideshow": {
     "slide_type": "-"
    }
   },
   "outputs": [],
   "source": [
    "tune = (('B4', 2), ('B5', 2), ('F#5', 2), ('D#5', 2), ('B5', 1), ('F#5', 3), ('D#5', 4), \n",
    "        ('C5', 2), ('C6', 2), ('G5', 2),  ('E5', 2),  ('C6', 1), ('G5', 3),  ('E5', 4),\n",
    "        ('B4', 2), ('B5', 2), ('F#5', 2), ('D#5', 2), ('B5', 1), ('F#5', 3), ('D#5', 4), \n",
    "        ('D#5', 1), ('E5', 1), ('F5', 2), ('F5', 1), ('F#5', 1), ('G5', 2), ('G5', 1), \n",
    "        ('G#5', 1), ('A5', 2), ('B5', 4))\n",
    "\n",
    "SF = 24000\n",
    "jingle = play_notes(tune, time_scale=0.06, rate=SF)\n",
    "play(jingle, rate=SF)"
   ]
  },
  {
   "cell_type": "markdown",
   "metadata": {},
   "source": [
    "![pacman](img/pacman.gif)"
   ]
  },
  {
   "cell_type": "markdown",
   "metadata": {
    "slideshow": {
     "slide_type": "slide"
    }
   },
   "source": [
    "If we lower the sampling rate we can hear the detuning effect more prominently (this should sound familiar to those who played with early video games):"
   ]
  },
  {
   "cell_type": "code",
   "execution_count": null,
   "metadata": {},
   "outputs": [],
   "source": [
    "SF=8000\n",
    "play(play_notes(tune, time_scale=0.06, rate=SF), rate=SF)"
   ]
  },
  {
   "cell_type": "markdown",
   "metadata": {
    "slideshow": {
     "slide_type": "slide"
    }
   },
   "source": [
    "What about the \"expensive\" square wave? "
   ]
  },
  {
   "cell_type": "code",
   "execution_count": null,
   "metadata": {},
   "outputs": [],
   "source": [
    "SF=8000\n",
    "play(play_notes(tune, time_scale=0.06, wave_engine=square_wave_naive, rate=SF), rate=SF)"
   ]
  },
  {
   "cell_type": "markdown",
   "metadata": {
    "slideshow": {
     "slide_type": "-"
    }
   },
   "source": [
    "pitches are now correct but we hear artefacts due to the varying duty cycles"
   ]
  },
  {
   "cell_type": "markdown",
   "metadata": {
    "slideshow": {
     "slide_type": "slide"
    }
   },
   "source": [
    "We can improve the sound if we increase the sampling rate"
   ]
  },
  {
   "cell_type": "code",
   "execution_count": null,
   "metadata": {},
   "outputs": [],
   "source": [
    "SF=48000\n",
    "play(play_notes(tune, time_scale=0.06, wave_engine=square_wave_naive, rate=SF), rate=SF)"
   ]
  },
  {
   "cell_type": "markdown",
   "metadata": {
    "slideshow": {
     "slide_type": "slide"
    }
   },
   "source": [
    "**Exercise**: write a routine that generates the \"best\" discrete-time square wave for any freqency in $[-\\pi, \\pi]$"
   ]
  },
  {
   "cell_type": "markdown",
   "metadata": {
    "slideshow": {
     "slide_type": "slide"
    }
   },
   "source": [
    "## Polyphony\n",
    "\n",
    "Let's recover the actual full PacMan experience:"
   ]
  },
  {
   "cell_type": "code",
   "execution_count": null,
   "metadata": {},
   "outputs": [],
   "source": [
    "tune_bass = (('B2', 6), ('B3', 2), ('B2', 6), ('B3', 2), ('C3', 6), ('C4', 2), ('C3', 6), ('C4', 2), \n",
    "             ('B2', 6), ('B3', 2), ('B2', 6), ('B3', 2), \n",
    "             ('F#3', 4), ('G#3', 4), ('A#3', 4), ('B3', 4))\n",
    "\n",
    "SF = 24000\n",
    "pacman = jingle + play_notes(tune_bass, time_scale=0.06, rate=SF)\n",
    "play(pacman, rate=SF)"
   ]
  },
  {
   "cell_type": "markdown",
   "metadata": {
    "slideshow": {
     "slide_type": "slide"
    }
   },
   "source": [
    "### Adding two-level signals produces more than 2 levels..."
   ]
  },
  {
   "cell_type": "code",
   "execution_count": null,
   "metadata": {},
   "outputs": [],
   "source": [
    "plt.plot(pacman[480:900])\n",
    "plt.ylim(-2.2, 2.2);"
   ]
  },
  {
   "cell_type": "code",
   "execution_count": null,
   "metadata": {
    "slideshow": {
     "slide_type": "slide"
    }
   },
   "outputs": [],
   "source": [
    "def distinct_values(x):\n",
    "    v = set()\n",
    "    for k in x:\n",
    "        v.add(k)\n",
    "    return sorted(list(v))\n",
    "\n",
    "\n",
    "def is_two_level(x):\n",
    "    v = distinct_values(x)\n",
    "    print('the signal is', '' if len(v) == 2 else 'NOT', 'two-level; values: ', end='') \n",
    "    print(v)"
   ]
  },
  {
   "cell_type": "code",
   "execution_count": null,
   "metadata": {},
   "outputs": [],
   "source": [
    "# the monophonic tune is two-valued...\n",
    "is_two_level(jingle)\n",
    "# but the polyphonic tune is not!\n",
    "is_two_level(pacman)"
   ]
  },
  {
   "cell_type": "markdown",
   "metadata": {
    "slideshow": {
     "slide_type": "slide"
    }
   },
   "source": [
    "### Can we just re-quantize to one bit?"
   ]
  },
  {
   "cell_type": "code",
   "execution_count": null,
   "metadata": {},
   "outputs": [],
   "source": [
    "sq = np.where(pacman >= 0, 1, -1)\n",
    "print(distinct_values(sq))\n",
    "play(sq , rate=SF)"
   ]
  },
  {
   "cell_type": "markdown",
   "metadata": {},
   "source": [
    "Another vintage sound! But not something we want to hear all the time..."
   ]
  },
  {
   "cell_type": "markdown",
   "metadata": {},
   "source": [
    "(For the record: the PacMan console actually used a custom chip by Namco providing three independent wavetable synthesis channels - it did not use one-bit waveforms)"
   ]
  },
  {
   "cell_type": "markdown",
   "metadata": {
    "slideshow": {
     "slide_type": "slide"
    }
   },
   "source": [
    "# Pulse modulation\n",
    "\n",
    "To truly achieve polyphony via a two-level signal we need to take a page out of dithering."
   ]
  },
  {
   "cell_type": "markdown",
   "metadata": {
    "slideshow": {
     "slide_type": "slide"
    }
   },
   "source": [
    "## Duty cycle of a square wave\n",
    "\n",
    "Periodic two-level signal:\n",
    " * period $P$ samples:\n",
    " * $C$ samples equal to $+1$ ($P-C$ equal to $-1$)\n",
    " * duty cycle\n",
    "   $$\n",
    "       D = \\frac{C}{P}, \\qquad 0 \\leq D \\leq 1\n",
    "   $$"
   ]
  },
  {
   "cell_type": "code",
   "execution_count": null,
   "metadata": {
    "slideshow": {
     "slide_type": "-"
    }
   },
   "outputs": [],
   "source": [
    "def square_wave_pwm(P, C, N=1):\n",
    "    # build a variable duty cycle square wave for pulse width modulation\n",
    "    period = -np.ones(P)\n",
    "    period[:C] = 1\n",
    "    sw = np.tile(period, N)\n",
    "    return sw"
   ]
  },
  {
   "cell_type": "code",
   "execution_count": null,
   "metadata": {
    "slideshow": {
     "slide_type": "slide"
    }
   },
   "outputs": [],
   "source": [
    "def show_sqw(P, C, N=6, sw=square_wave_pwm):\n",
    "    stem(sw(P, C, N))\n",
    "    plt.ylim(-1.2, 1.2);\n",
    "    plt.xlim(-2, P * N)\n",
    "    plt.title(f'duty cycle: {C}/{P}')"
   ]
  },
  {
   "cell_type": "code",
   "execution_count": null,
   "metadata": {},
   "outputs": [],
   "source": [
    "for n, p in enumerate(((4, 2), (4, 3), (5, 3))):\n",
    "    plt.subplot(1, 3, n+1)    \n",
    "    show_sqw(*p)"
   ]
  },
  {
   "cell_type": "markdown",
   "metadata": {
    "slideshow": {
     "slide_type": "slide"
    }
   },
   "source": [
    "Key fact: if $x[n]$ is a $P$-periodic square wave with duty cycle $D$\n",
    "\n",
    "$$\n",
    "    \\bar{x} = \\frac{1}{P}\\sum_{n=k}^{k+P-1} x[n] = 2D -1\n",
    "$$\n",
    "\n",
    " * for a balanced square wave, $D=1/2$, so the period average is zero\n",
    " * in general, $0 \\leq D \\leq 1 \\Rightarrow -1 \\leq \\bar{x} \\leq +1$"
   ]
  },
  {
   "cell_type": "markdown",
   "metadata": {
    "slideshow": {
     "slide_type": "slide"
    }
   },
   "source": [
    "## Lowpass-filtering square waves\n",
    "\n",
    "Let's try to filter square waves with different duty cycles with a simple lowpass filter"
   ]
  },
  {
   "cell_type": "code",
   "execution_count": null,
   "metadata": {},
   "outputs": [],
   "source": [
    "for n, p in enumerate(((4, 2), (4, 3), (5, 3))):\n",
    "    N, alpha = 200, 0.98\n",
    "    x = square_wave_pwm(*p, 50)\n",
    "    y = sp.lfilter([1 - alpha], [1, -alpha], x)\n",
    "    # average value\n",
    "    x_bar = 2.0 * p[1] / p[0] - 1\n",
    "    plt.subplot(1, 3, n+1)    \n",
    "    plt.plot(x, 'green', y, 'red', [0, N], [x_bar, x_bar], 'blue')\n",
    "    plt.ylim(-1.2, 1.2);\n",
    "    plt.title(f'duty cycle: {p[1]}/{p[0]}, avg = {x_bar:.2f}')"
   ]
  },
  {
   "cell_type": "markdown",
   "metadata": {
    "slideshow": {
     "slide_type": "slide"
    }
   },
   "source": [
    "We can thus \"approximate\" any value between -1 and 1 provided:\n",
    " * we produce a **fast** square wave with the right duty cycle\n",
    " * we lowpass the result\n",
    " \n",
    "A square wave with period $P$ be used to approximate $P+1$ different values."
   ]
  },
  {
   "cell_type": "markdown",
   "metadata": {
    "slideshow": {
     "slide_type": "slide"
    }
   },
   "source": [
    "### Who does the filtering?\n",
    "\n",
    "Three choices\n",
    " * use an explicit lowpass\n",
    " * exploit the fact that loudspeakers have a natural lowpass response\n",
    " * exploit the fact that we can't hear above 20 kHz"
   ]
  },
  {
   "cell_type": "markdown",
   "metadata": {
    "slideshow": {
     "slide_type": "slide"
    }
   },
   "source": [
    "### How \"fast\" should the square wave be\n",
    "\n",
    "The fast square wave introduces high-frequency content and we don't want to hear that.\n",
    "\n",
    "For a sampling frequency $F_s$:\n",
    " * a square wave of period $P$ will have its first spectral line at  $f_1 = F_s/P$, regardless of duty cycle\n",
    " * $f_1$ should be in the stopband of the lowpass or outside of hearing range\n",
    " * this limits the maximum period (and thus the range of values we can approximate)"
   ]
  },
  {
   "cell_type": "markdown",
   "metadata": {
    "slideshow": {
     "slide_type": "slide"
    }
   },
   "source": [
    "### Implicit oversampling\n",
    "\n",
    "Replacing a sample value by $N$ periods of $P$ samples corresponds to an oversampling factor $K = NP$."
   ]
  },
  {
   "cell_type": "markdown",
   "metadata": {
    "slideshow": {
     "slide_type": "slide"
    }
   },
   "source": [
    "### Pulse width vs pulse density modulation\n",
    "\n",
    "Since we are using lowpass filtering to obtain an average value, the order of positive and negative values in a period is irrelevant.\n",
    " * when all the values with the same sign are grouped together: pulse **width** modulation\n",
    " * when they alternate as much as possible: pulse **density** modulation\n",
    " \n",
    "In audio we use pulse density because it spreads out more the spurious high-frequency content that needs to be filtered.\n"
   ]
  },
  {
   "cell_type": "code",
   "execution_count": null,
   "metadata": {
    "slideshow": {
     "slide_type": "slide"
    }
   },
   "outputs": [],
   "source": [
    "def square_wave_pdm(P, C, N=1):\n",
    "    # build a variable duty cycle square wave for pulse density modulation\n",
    "    period = -np.ones(P)\n",
    "    ix = 0\n",
    "    for n in range(0, C):\n",
    "        period[int(ix)] = 1\n",
    "        ix += P / float(C)\n",
    "    sw = np.tile(period, N)\n",
    "    return sw"
   ]
  },
  {
   "cell_type": "code",
   "execution_count": null,
   "metadata": {},
   "outputs": [],
   "source": [
    "plt.subplot(1, 2, 1)    \n",
    "show_sqw(7, 3, sw=square_wave_pwm)\n",
    "plt.subplot(1, 2, 2)    \n",
    "show_sqw(7, 3, sw=square_wave_pdm)"
   ]
  },
  {
   "cell_type": "markdown",
   "metadata": {
    "slideshow": {
     "slide_type": "slide"
    }
   },
   "source": [
    "## PacMan, again\n",
    "\n",
    "Goal: encode the two-voice PacMan tune, without an explicit lowpass.\n",
    " * we need to encode three values, so $P \\ge 2$\n",
    " * maximum sampling frequency on soundcard is $F_\\max=96~\\mathrm{kHz}$\n",
    " * if $P=2$, $f_1 = F_\\max/2 = 48~\\mathrm{kHz}$, outside of hearing range\n",
    " * original sampling frequency $F_s =24~\\mathrm{kHz}$ \n",
    " * we pick $N=2$: oversampling $K = NP = 4$\n",
    " * $(NP)F_s = 96 = F_\\max$: perfect!"
   ]
  },
  {
   "cell_type": "markdown",
   "metadata": {
    "slideshow": {
     "slide_type": "slide"
    }
   },
   "source": [
    "With $P=2$, three duty cycles possible:\n",
    " * $[+1, +1] \\rightarrow +1$\n",
    " * $[+1, -1] \\rightarrow 0$\n",
    " * $[-1, -1] \\rightarrow -1$\n",
    " "
   ]
  },
  {
   "cell_type": "code",
   "execution_count": null,
   "metadata": {},
   "outputs": [],
   "source": [
    "v = 1\n",
    "pacman1bit = np.ones(len(pacman) * 4)\n",
    "for k in range(0, len(pacman)):\n",
    "    if abs(pacman[k]) < 0.5: # floating tolerance\n",
    "        pacman1bit[k*4:(k+1)*4] = [1, -1, 1, -1]\n",
    "    else:\n",
    "        pacman1bit[k*4:(k+1)*4] = np.sign(pacman[k]) * np.ones(4)\n",
    "        \n",
    "is_two_level(pacman1bit)"
   ]
  },
  {
   "cell_type": "code",
   "execution_count": null,
   "metadata": {
    "slideshow": {
     "slide_type": "slide"
    },
    "tags": []
   },
   "outputs": [],
   "source": [
    "a = 600\n",
    "b = 700\n",
    "plt.plot(np.arange(a,b), pacman[a:b], 'blue', \n",
    "         np.arange(a*4,b*4)/4, pacman1bit[a*4:b*4], 'red')\n",
    "plt.ylim(-2.2, 2.2);"
   ]
  },
  {
   "cell_type": "code",
   "execution_count": null,
   "metadata": {
    "slideshow": {
     "slide_type": "slide"
    }
   },
   "outputs": [],
   "source": [
    "play(pacman1bit, rate=96000)"
   ]
  },
  {
   "cell_type": "code",
   "execution_count": null,
   "metadata": {},
   "outputs": [],
   "source": [
    "multiplay([pacman1bit, pacman], rate=[96000, 24000], title=['1 bit @ 96 kHz', '2 bits @ 24 kHz'])"
   ]
  },
  {
   "cell_type": "markdown",
   "metadata": {
    "slideshow": {
     "slide_type": "slide"
    }
   },
   "source": [
    "## The inaudibility of the modulation artefacts\n",
    "\n",
    "most of the frequency content due to PWM is above hearing range"
   ]
  },
  {
   "cell_type": "code",
   "execution_count": null,
   "metadata": {},
   "outputs": [],
   "source": [
    "L = len(pacman1bit)\n",
    "plt.plot(np.linspace(0, 48000, L//2), np.abs(np.fft.fft(pacman1bit / 2)[:L//2]))\n",
    "M = len(pacman)\n",
    "plt.plot(np.linspace(0, 12000, M//2), np.abs(np.fft.fft(pacman)[:M//2]));"
   ]
  },
  {
   "cell_type": "markdown",
   "metadata": {
    "slideshow": {
     "slide_type": "slide"
    }
   },
   "source": [
    "## Four-Part Harmony\n",
    "\n",
    "Generalization to $M$ voices:\n",
    " * the sum of $M$ two-level signals spans $M+1$ amplitude levels\n",
    " * the level values are $0, \\pm 2, \\pm 4, \\ldots, \\pm (M-2), \\pm M$\n",
    " * minimum period for the fast square wave $P \\ge M$\n",
    " * minimum oversampling factor is $M$"
   ]
  },
  {
   "cell_type": "markdown",
   "metadata": {
    "slideshow": {
     "slide_type": "slide"
    }
   },
   "source": [
    "Let's try with this piece, synthesized at 24 kHz and converted to one-bit at 96 kHz\n",
    "\n",
    "![Bist Du bei Mir](img/bdbm.png)"
   ]
  },
  {
   "cell_type": "code",
   "execution_count": null,
   "metadata": {
    "slideshow": {
     "slide_type": "skip"
    }
   },
   "outputs": [],
   "source": [
    "bdbm_1 = (('Bb4', 4), ('Eb5', 6), ('F5', 2), ('D5', 8), (' ', 4),  \n",
    "          ('Eb5', 4), ('Ab4', 4), ('Ab4', 4), ('Ab4', 8), ('G4', 4), \n",
    "          (' ', 2), ('Bb4', 2), ('D5', 2), ('Bb4', 2), ('A4', 2), ('Bb4', 2), \n",
    "          ('F4', 2), ('Bb4', 2), ('D5', 2), ('Bb4', 2), ('A4', 2), ('Bb4', 2), \n",
    "          ('Eb4', 4), ('C5', 6), ('D5', 1), ('Eb5', 1),\n",
    "          ('D5', 3), ('C5', 1), ('Bb4', 3), ('C5', 1), ('F4', 3), ('A4', 1), \n",
    "          ('Bb4', 12), )\n",
    "\n",
    "bdbm_2 = (('G4', 4), ('G4', 4), ('A4', 4), ('Bb4', 8), (' ', 4), ('Bb4', 4), \n",
    "          ('F4', 4), ('F4', 4), ('F4', 8), (' ', 4), ('G4', 12), ('F4', 12), \n",
    "          (' ', 12), (' ', 8), ('Eb4', 4), (' ', 12),)  \n",
    "\n",
    "bdbm_3 = ((' ', 12), ('F4', 8), (' ', 4), ('Eb4', 4), ('F4', 4), ('C3', 4), \n",
    "          ('Bb3', 4), ('D4', 4), ('Eb4', 4), (' ', 12), ('D4', 12), ('Bb3', 4), \n",
    "          ('F4', 4), ('A4', 4), ('Bb4', 4), ('G4', 4), ('Eb4', 4), ('D4', 12),  )\n",
    "\n",
    "bdbm_4 = (('Eb3', 4), ('C3', 4), ('F3', 4), ('Bb2', 4), ('Bb3', 4), ('Ab3', 4), \n",
    "          ('G3', 4), ('F3', 4), ('Eb3', 4), ('D3', 4), ('Bb2', 4), ('Eb2', 4), \n",
    "          ('E2', 4), ('E2', 4), ('E2', 4), ('F2', 4), ('F2', 4), ('F2', 4), \n",
    "          ('G2', 4), ('A2', 4), ('F2', 4), ('Bb2', 4), ('Eb2', 4), ('F2', 4), ('Bb2', 12), )"
   ]
  },
  {
   "cell_type": "code",
   "execution_count": null,
   "metadata": {
    "slideshow": {
     "slide_type": "slide"
    }
   },
   "outputs": [],
   "source": [
    "SF=24000\n",
    "s  = play_notes(bdbm_1, time_scale=0.2, rate=SF)\n",
    "s += play_notes(bdbm_2, time_scale=0.2, rate=SF)\n",
    "s += play_notes(bdbm_3, time_scale=0.2, rate=SF)\n",
    "s += play_notes(bdbm_4, time_scale=0.2, rate=SF)"
   ]
  },
  {
   "cell_type": "code",
   "execution_count": null,
   "metadata": {
    "tags": []
   },
   "outputs": [],
   "source": [
    "print(distinct_values(s))\n",
    "play(s, rate=SF)"
   ]
  },
  {
   "cell_type": "markdown",
   "metadata": {},
   "source": [
    "There's a bit of detuning due to the approximate pitch of the square waves but let's live with that."
   ]
  },
  {
   "cell_type": "code",
   "execution_count": null,
   "metadata": {
    "slideshow": {
     "slide_type": "slide"
    }
   },
   "outputs": [],
   "source": [
    "def pdm(waveform, rate):\n",
    "    MAX_RATE = 96000\n",
    "    values = distinct_values(waveform)\n",
    "    voices = P = len(values) - 1\n",
    "    assert rate * voices <= MAX_RATE, 'conversion to PWM requires too large a sampling rate'\n",
    "    assert len([v for v in values if v % 2 == 1 or abs(v) > voices]) == 0, \\\n",
    "        f'set of sample values not compatible with the sum of {voices} two-level signals'\n",
    "    s = np.zeros(len(waveform) * voices)\n",
    "    # now replace each sample with one period of a square wave with appropriate duty cycle\n",
    "    # target duty cycle is D = x[n]/M => C = (x[n] + P)/2\n",
    "    for n in range(0, len(waveform)):\n",
    "        s[n*P:(n+1)*P] = square_wave_pdm(P, int((waveform[n] + P) / 2))\n",
    "    return s, rate * voices "
   ]
  },
  {
   "cell_type": "code",
   "execution_count": null,
   "metadata": {
    "slideshow": {
     "slide_type": "slide"
    }
   },
   "outputs": [],
   "source": [
    "sd, drate = pdm(s, SF)\n",
    "\n",
    "is_two_level(sd)\n",
    "\n",
    "play(sd, rate=drate)    "
   ]
  },
  {
   "cell_type": "code",
   "execution_count": null,
   "metadata": {
    "slideshow": {
     "slide_type": "slide"
    }
   },
   "outputs": [],
   "source": [
    "a = 150200\n",
    "b = 150300\n",
    "plt.plot(np.arange(a,b), s[a:b], 'blue', np.arange(a*4,b*4)/4, sd[a*4:b*4], 'red')\n",
    "plt.ylim(-4.2, 4.2);"
   ]
  },
  {
   "cell_type": "markdown",
   "metadata": {
    "slideshow": {
     "slide_type": "slide"
    }
   },
   "source": [
    "As the number of voices grows:\n",
    " * $P$ grows as the number of voices\n",
    " * $NP \\le F_\\max/F_s$\n",
    " * in the limit, $N=1$\n",
    " * too few samples for the lowpass filtering to be effective\n",
    " \n",
    "We can add an explicit lowpass to improve sound (but lose high end)"
   ]
  },
  {
   "cell_type": "code",
   "execution_count": null,
   "metadata": {},
   "outputs": [],
   "source": [
    "b, a = sp.butter(8, 0.15)\n",
    "IPython.display.Audio(sp.lfilter(b, a, sd), rate=drate)    "
   ]
  },
  {
   "cell_type": "markdown",
   "metadata": {
    "slideshow": {
     "slide_type": "slide"
    }
   },
   "source": [
    "# The road to sigma-delta\n",
    "\n",
    "Can we use pulse-width modulation to encode an arbitrary audio signal at one bit per sample?\n",
    "\n",
    "Yes, but we need an extra ingredient called **feedback** . Let's see why"
   ]
  },
  {
   "cell_type": "markdown",
   "metadata": {
    "slideshow": {
     "slide_type": "slide"
    }
   },
   "source": [
    "## Our test signal\n",
    "\n",
    "<img width=\"200\" style=\"float: right;\" src=\"img/sob.jpg\">\n",
    "\n",
    "\n",
    "Let's use an excerpt from Bach's first Brandenburd concerto, as performed by [Wendy Carlos](https://en.wikipedia.org/wiki/Switched-On_Brandenburgs).\n",
    "\n",
    "Audio has been converted to 16-bit PCM mono at 8 kHz, so that we can use a large oversampling factor later."
   ]
  },
  {
   "cell_type": "code",
   "execution_count": null,
   "metadata": {},
   "outputs": [],
   "source": [
    "from scipy.io import wavfile\n",
    "\n",
    "bc_sf, bc = wavfile.read('snd/brand1.wav')\n",
    "# let's make it zero mean and full scale\n",
    "bc = np.array(bc, dtype=float)\n",
    "bc = bc - np.mean(bc)\n",
    "bc = bc / np.max(np.abs(bc))\n",
    "play(bc, rate=bc_sf)"
   ]
  },
  {
   "cell_type": "markdown",
   "metadata": {
    "slideshow": {
     "slide_type": "slide"
    },
    "tags": []
   },
   "source": [
    "As a reference point, let's hear what happens if we just downsample the original signal to one bit per sample: it's just awful, as a signal at 6 dB SNR should."
   ]
  },
  {
   "cell_type": "code",
   "execution_count": null,
   "metadata": {},
   "outputs": [],
   "source": [
    "bc_1b = quantize(bc, 2)\n",
    "play(bc_1b, rate=bc_sf)"
   ]
  },
  {
   "cell_type": "markdown",
   "metadata": {
    "slideshow": {
     "slide_type": "slide"
    }
   },
   "source": [
    "## Simple things that don't really work\n",
    " \n",
    " * oversampled AD\n",
    " * naive PDM\n",
    "\n",
    "But both methods point us in the right direction!"
   ]
  },
  {
   "cell_type": "markdown",
   "metadata": {
    "slideshow": {
     "slide_type": "slide"
    }
   },
   "source": [
    "### Oversampled AD\n",
    "<img width=\"600\" style=\"float: right;\" src=\"img/oversampled.png\">\n",
    "\n",
    "In standard oversampled AD:\n",
    " * oversample by $K$: signal spectral support shrinks by $K$\n",
    " * quantization noise assumed white, PSD independent of $K$\n",
    " * filter out-of-band noise\n",
    " * downsample by $K$\n",
    " \n",
    "Ideal gain:\n",
    " * $\\mathrm{SNR}_\\mathrm{OS} = \\mathrm{SNR} + 3\\log_2 K ~~\\mathrm{dB}$\n",
    " * equivalent bitrate $R + \\log_4 K$ bits \n",
    "\n",
    "To go down to 1 bit from 16, $K \\ge 4^{15} > 10^{9}$: way too much!"
   ]
  },
  {
   "cell_type": "markdown",
   "metadata": {
    "slideshow": {
     "slide_type": "slide"
    }
   },
   "source": [
    "We can verify that oversampling does help, but not enough:"
   ]
  },
  {
   "cell_type": "code",
   "execution_count": null,
   "metadata": {},
   "outputs": [],
   "source": [
    "def interpolate(x, K):\n",
    "    return K * sp.lfilter(*sp.butter(10, 1/K), np.kron(x, np.r_[1, np.zeros(K-1)]))\n",
    "\n",
    "def decimate(x, K):\n",
    "    return sp.lfilter(*sp.butter(10, 1/K), x)[::K]"
   ]
  },
  {
   "cell_type": "code",
   "execution_count": null,
   "metadata": {
    "slideshow": {
     "slide_type": "slide"
    }
   },
   "outputs": [],
   "source": [
    "K = 12\n",
    "test = decimate(quantize(interpolate(bc, K), 2), K)\n",
    "multiplay((bc_1b, test, quantize(bc, 2 ** 2)), rate=bc_sf, \n",
    "          title=('1bps resampling', f'1bps via {K}-times oversampling', '2bps resampling'))"
   ]
  },
  {
   "cell_type": "markdown",
   "metadata": {
    "slideshow": {
     "slide_type": "slide"
    }
   },
   "source": [
    "Although the total data rate of the file is equivalent to a 12bps PCM signal, the audio quality is approximately equivalent to a 2bps signal as predicted by the theory.\n",
    "\n",
    "Nevertheless, the idea of filtering out-of-band quantization noise remains valid!"
   ]
  },
  {
   "cell_type": "markdown",
   "metadata": {
    "slideshow": {
     "slide_type": "slide"
    }
   },
   "source": [
    "### Direct PDM encoding\n",
    "\n",
    "Naive approach: replace each sample in the original signal with $P$ alternating samples with the appropriate duty cycle.\n",
    "\n",
    " * $R$ bits per sample $\\Rightarrow$ $2^R$ possible values\n",
    " * minimum period $P \\ge 2^R$\n",
    " * oversampling factor at least $2^R$: way too much!\n",
    " \n",
    "Nevertheless, the idea behind PDM remains valid!"
   ]
  },
  {
   "cell_type": "markdown",
   "metadata": {
    "slideshow": {
     "slide_type": "slide"
    }
   },
   "source": [
    "## Introducing feedback: delta modulation\n",
    "<img src=\"img/deltamod.png\" width=\"500\" style=\"float: right; margin: 0px 0px;\" >\n",
    "\n",
    "PDM worked well when there were only a few values to encode. Idea: encode the difference (aka the **delta**) between successive samples.\n",
    "\n",
    " * keep running sum of encoder's output via an integrator $H(z)$\n",
    " * compute difference with current value\n",
    " * output positive or negative value $\\pm\\tau$ to drive sum in the right direction (**feedback**)\n",
    " * if deltas are small, the system will be able to _track_ the input"
   ]
  },
  {
   "cell_type": "markdown",
   "metadata": {
    "slideshow": {
     "slide_type": "slide"
    }
   },
   "source": [
    "### The discrete-time integrator\n",
    "\n",
    "The upcoming idealized quantizers feed back to the input a running sum of all past outputs:\n",
    "\n",
    " * feedback signal at time $n$ is $r[n] = \\sum_{m=-\\infty}^{n-1} y[m]$\n",
    " * ideal integrator with delay (delay needed for realizability)\n",
    " * transfer function: $\\displaystyle H(z) = \\frac{z^{-1}}{1-z^{-1}}$"
   ]
  },
  {
   "cell_type": "markdown",
   "metadata": {
    "slideshow": {
     "slide_type": "slide"
    },
    "tags": []
   },
   "source": [
    "### Implementation and testing"
   ]
  },
  {
   "cell_type": "code",
   "execution_count": null,
   "metadata": {},
   "outputs": [],
   "source": [
    "def delta_mod(x, step):\n",
    "    ret, acc = np.zeros(len(x)), 0\n",
    "    for n in range(0, len(x)):\n",
    "        ret[n] = step if x[n] - acc >= 0 else -step\n",
    "        acc += ret[n]\n",
    "    return ret\n",
    "\n",
    "def delta_demod(y):\n",
    "    return np.cumsum(y)"
   ]
  },
  {
   "cell_type": "code",
   "execution_count": null,
   "metadata": {
    "slideshow": {
     "slide_type": "skip"
    }
   },
   "outputs": [],
   "source": [
    "def show_delta_mod(x, step, K=1):\n",
    "    y = delta_mod(x, step)\n",
    "    x_hat = delta_demod(y)\n",
    "    x_f = sp.lfilter(*sp.butter(8, 0.5 / K), x_hat)\n",
    "    plt.plot(x, 'C0', label='input')\n",
    "    plt.plot(y, 'C3', label='1-bit output')\n",
    "    plt.plot(x_hat, 'C1', label='integrated output');        \n",
    "    plt.plot(x_f, 'C2', label='filtered output')\n",
    "    plt.plot(x, 'C0', linewidth=3)\n",
    "    plt.legend();    "
   ]
  },
  {
   "cell_type": "code",
   "execution_count": null,
   "metadata": {
    "slideshow": {
     "slide_type": "-"
    }
   },
   "outputs": [],
   "source": [
    "A = 0.95\n",
    "x_slow = A * np.sin(2 * np.pi * 0.005 * np.arange(0, 250))\n",
    "show_delta_mod(x_slow, step=0.1)"
   ]
  },
  {
   "cell_type": "markdown",
   "metadata": {
    "slideshow": {
     "slide_type": "slide"
    }
   },
   "source": [
    "### The bandwidth problem\n",
    "\n",
    "Unfortunately, performance is frequency-dependent. As the input signal grows faster, the difference between successive samples is too large and tracking fails."
   ]
  },
  {
   "cell_type": "code",
   "execution_count": null,
   "metadata": {},
   "outputs": [],
   "source": [
    "x_fast = A * np.sin(2 * np.pi * 0.05 * np.arange(0, 100))\n",
    "show_delta_mod(x_fast, step=0.1)"
   ]
  },
  {
   "cell_type": "markdown",
   "metadata": {
    "slideshow": {
     "slide_type": "slide"
    }
   },
   "source": [
    "### Smoothing things out\n",
    "\n",
    "How do we make the intersample differences small? Oversampling!\n",
    " * everything is a straight line if you look close enough\n",
    " * the higher the oversampling, the smaller the deltas\n",
    " * just remember to filter afterwards"
   ]
  },
  {
   "cell_type": "code",
   "execution_count": null,
   "metadata": {},
   "outputs": [],
   "source": [
    "K = 10\n",
    "x_fast_oversampled = interpolate(x_fast, K)\n",
    "show_delta_mod(x_fast_oversampled, step=0.1, K=K)"
   ]
  },
  {
   "cell_type": "markdown",
   "metadata": {
    "slideshow": {
     "slide_type": "slide"
    }
   },
   "source": [
    "### The step size problem\n",
    "\n",
    "Delta modulators are sensitive to signal amplitude and performance degrades when amplitude is comparable to step size"
   ]
  },
  {
   "cell_type": "code",
   "execution_count": null,
   "metadata": {},
   "outputs": [],
   "source": [
    "show_delta_mod(0.12 * x_fast_oversampled[:500], step=0.1, K=10)"
   ]
  },
  {
   "cell_type": "markdown",
   "metadata": {
    "slideshow": {
     "slide_type": "slide"
    }
   },
   "source": [
    "We can fix _this_ case by reducing the step size"
   ]
  },
  {
   "cell_type": "code",
   "execution_count": null,
   "metadata": {},
   "outputs": [],
   "source": [
    "show_delta_mod(0.12 * x_fast_oversampled, step=0.01, K=10)"
   ]
  },
  {
   "cell_type": "markdown",
   "metadata": {
    "slideshow": {
     "slide_type": "slide"
    }
   },
   "source": [
    "but in so doing we're back square one when signals are full-range: the small step size is too small to track fast signals effectively"
   ]
  },
  {
   "cell_type": "code",
   "execution_count": null,
   "metadata": {},
   "outputs": [],
   "source": [
    "show_delta_mod(x_fast_oversampled, step=0.01, K=10)"
   ]
  },
  {
   "cell_type": "markdown",
   "metadata": {
    "slideshow": {
     "slide_type": "slide"
    }
   },
   "source": [
    "### The fundamental problem with delta modulation\n",
    "\n",
    " * delta operation is equivalent to _differentiation_\n",
    " * feedback loop is tracking input's _slope_ , not its amplitude\n",
    " * error on DC values same magnitude as step size"
   ]
  },
  {
   "cell_type": "markdown",
   "metadata": {
    "slideshow": {
     "slide_type": "slide"
    }
   },
   "source": [
    "### The solution: add another integrator\n",
    "<img src=\"img/sddi.png\" width=\"500\" style=\"float: right; margin: 0px 0px;\" >\n",
    "\n",
    " * loop tracks the _derivative of the integral_ $\\Rightarrow$ loop tracks amplitude\n",
    " * step size equal to max input amplitude\n",
    " * local _average_ of output tracks local average of input: recover input by lowpass filtering "
   ]
  },
  {
   "cell_type": "markdown",
   "metadata": {
    "slideshow": {
     "slide_type": "slide"
    }
   },
   "source": [
    "<img src=\"img/sddi.png\" width=\"500\" style=\"float: right; margin: 0px 0px;\" >\n",
    "\n",
    "Intuition in time domain:\n",
    " * oversampling (mandatory!) $\\Rightarrow$ input locally \"flat\"  \n",
    " * integrator output $\\approx Nx[n/N]$ (with $|x[n/N]| \\le 1$)\n",
    " * encoder tries to adjust output's \"local\" duty cycle so that $\\bar{x} = 2D-1 = x[n/N]$ \n",
    " * lowpass filtering (and decimation) recovers $x[n]$"
   ]
  },
  {
   "cell_type": "markdown",
   "metadata": {
    "slideshow": {
     "slide_type": "slide"
    }
   },
   "source": [
    "# Sigma-Delta encoding\n",
    "<img src=\"img/sigmadelta.png\" width=\"500\" style=\"float: right; margin: 0px 0px;\" >\n",
    "\n",
    "\n",
    "Setup: \n",
    " * analog input $F_s$-bandlimited \n",
    " * oversample at $KF_s$\n",
    "\n",
    "At each step:\n",
    " * compute running sum of encoder's output \n",
    " * compute the difference (the **delta**) with the running sum of the input (the **sigma**)\n",
    " * output a _full scale_ value with the sign of the difference\n",
    " \n",
    "Since the difference of the averages is the average of the difference, the encoder uses a single integrator."
   ]
  },
  {
   "cell_type": "markdown",
   "metadata": {
    "slideshow": {
     "slide_type": "slide"
    }
   },
   "source": [
    "## Implementation\n",
    "\n",
    "Super easy:"
   ]
  },
  {
   "cell_type": "code",
   "execution_count": null,
   "metadata": {},
   "outputs": [],
   "source": [
    "def sigma_delta(x):\n",
    "    ret, acc = np.zeros(len(x)), 0\n",
    "    for n in range(0, len(x)):\n",
    "        ret[n] = 1 if acc >= 0 else -1\n",
    "        acc += x[n] - ret[n]\n",
    "    return ret"
   ]
  },
  {
   "cell_type": "markdown",
   "metadata": {
    "slideshow": {
     "slide_type": "slide"
    }
   },
   "source": [
    "We can verify that the sigma-delta encoder handles without difficulty the signals that were problematic to the delta modulator: "
   ]
  },
  {
   "cell_type": "code",
   "execution_count": null,
   "metadata": {
    "slideshow": {
     "slide_type": "skip"
    }
   },
   "outputs": [],
   "source": [
    "def show_sigmadelta_mod(x, K=1):\n",
    "    y = sigma_delta(x)\n",
    "    x_f = sp.lfilter(*sp.butter(8, 0.5 / K), y)\n",
    "    plt.plot(x, 'C0', label='input')\n",
    "    plt.plot(y, 'C3', alpha=0.4, label='1-bit output')\n",
    "    plt.plot(x_f, 'C2', label='filtered output')\n",
    "    plt.plot(x, 'C0', linewidth=3)\n",
    "    plt.legend();        "
   ]
  },
  {
   "cell_type": "code",
   "execution_count": null,
   "metadata": {},
   "outputs": [],
   "source": [
    "K = 10\n",
    "show_sigmadelta_mod(interpolate(x_slow, K), K=K)"
   ]
  },
  {
   "cell_type": "code",
   "execution_count": null,
   "metadata": {
    "slideshow": {
     "slide_type": "slide"
    }
   },
   "outputs": [],
   "source": [
    "show_sigmadelta_mod(interpolate(x_fast, K), K=K)"
   ]
  },
  {
   "cell_type": "code",
   "execution_count": null,
   "metadata": {
    "slideshow": {
     "slide_type": "slide"
    }
   },
   "outputs": [],
   "source": [
    "show_sigmadelta_mod(0.12 * interpolate(x_fast, K), K=K)"
   ]
  },
  {
   "cell_type": "markdown",
   "metadata": {
    "slideshow": {
     "slide_type": "slide"
    }
   },
   "source": [
    "## Let's hear some music\n",
    "\n",
    "Let's use $K=12$ and lowpass the one-bit sequence above 4 kHz prior to playing"
   ]
  },
  {
   "cell_type": "code",
   "execution_count": null,
   "metadata": {},
   "outputs": [],
   "source": [
    "K = 12\n",
    "bc_sd1 = sigma_delta(interpolate(bc, K))\n",
    "is_two_level(bc_sd1)"
   ]
  },
  {
   "cell_type": "code",
   "execution_count": null,
   "metadata": {},
   "outputs": [],
   "source": [
    "multiplay((sp.lfilter(*sp.butter(8, 8000/96000), bc_sd1), quantize(bc, 2 ** 4)), rate=(K * bc_sf, bc_sf), title=('sigma-delta', '4-bit requantization'))    "
   ]
  },
  {
   "cell_type": "markdown",
   "metadata": {
    "slideshow": {
     "slide_type": "slide"
    }
   },
   "source": [
    "## Noise shaping\n",
    "\n",
    "To quantify the performace of sigma-delta let's look at it in the frequency domain"
   ]
  },
  {
   "cell_type": "markdown",
   "metadata": {
    "slideshow": {
     "slide_type": "slide"
    }
   },
   "source": [
    "### Linearized model\n",
    "\n",
    "Exact analysis is too complicated so we use a linearized model:\n",
    " * replace nonlinear element by $e[n]$ additive, independent white noise source\n",
    " * output quantization noise $\\eta[n] = \\hat{x}_\\mathrm{1B}[n] - x[n]$ \n",
    " \n",
    "<br/>\n",
    "<img src=\"img/sigmadelta.png\" width=\"500\" style=\"float: right; margin: 0px 0px;\" >\n",
    "<br/>\n",
    "<img width=\"500\" style=\"float: right;\" src=\"img/sigmadeltalinearized.png\">\n"
   ]
  },
  {
   "cell_type": "markdown",
   "metadata": {
    "slideshow": {
     "slide_type": "slide"
    }
   },
   "source": [
    "### Overall SNR\n",
    "\n",
    " * assume $x[n] \\sim \\mathcal{U}[-1, 1]$;  $\\sigma_x^2 = 1/3$\n",
    " * $e[n] = \\mathrm{sign}(x[n] - \\hat{x}[n])$ so $|e[n]| \\le 1$\n",
    " * assuming $e[n]$ white, $\\sigma_e^2 = 1/3$\n",
    " \n",
    "$$\n",
    "    \\mathrm{SNR} = 0~\\mathrm{dB}\n",
    "$$\n",
    " \n",
    "But:\n",
    " * we are interested in the SNR only over $[-F_s/2, F_s/2]$\n",
    " * if the _output_ noise $\\eta[n]$ is not white, we can hope that most of it is outside the audio band\n",
    " \n",
    "\n",
    "<br/>\n",
    "<img src=\"img/sigmadelta.png\" width=\"500\" style=\"float: right; margin: 0px 0px;\" >\n",
    "<br/>\n",
    "<img width=\"500\" style=\"float: right;\" src=\"img/sigmadeltalinearized.png\">\n",
    "\n",
    " "
   ]
  },
  {
   "cell_type": "markdown",
   "metadata": {
    "slideshow": {
     "slide_type": "slide"
    }
   },
   "source": [
    "Transfer functions\n",
    "<img width=\"400\" style=\"float: right;\" src=\"img/sigmadeltalinearized.png\">\n",
    "\n",
    "\\begin{align*}\n",
    "    \\hat{X}_\\mathrm{1B}(z) &= \\frac{H(z)}{1+H(z)}X_K(z) + \\frac{1}{1+H(z)}E(z) \\\\ \\\\\n",
    "         &= F(z)X_K(z) + G(z)E(z) \n",
    "\\end{align*}\n",
    "\n",
    "Using $H(z) = z^{-1}/(1-z^{-1})$:\n",
    " * signal transfer function: $\\displaystyle F(z) = z^{-1}$\n",
    " * noise transfer function:  $\\displaystyle G(z) = 1 - z^{-1}$"
   ]
  },
  {
   "cell_type": "markdown",
   "metadata": {
    "slideshow": {
     "slide_type": "slide"
    }
   },
   "source": [
    "Noise shaping magnitude response: $ |G(e^{j\\omega})| = 2|\\sin(\\omega/2)| $\n",
    "\n",
    "Power spectral density of quantization noise $P_\\eta(e^{j\\omega}) = 4\\sigma_e^2\\, |\\sin(\\omega/2)|^2$"
   ]
  },
  {
   "cell_type": "code",
   "execution_count": null,
   "metadata": {},
   "outputs": [],
   "source": [
    "plt.axvspan(0, 1 / K, color='C2', alpha=0.5)\n",
    "w = np.linspace(0, 1, 200)\n",
    "plt.plot(w, 2 * np.sin(np.pi * w / 2))\n",
    "plt.xticks([0, 1 / K, 1], ['0', '$\\pi/K$', '$\\pi$']);"
   ]
  },
  {
   "cell_type": "markdown",
   "metadata": {
    "slideshow": {
     "slide_type": "slide"
    }
   },
   "source": [
    "Noise power in audio band\n",
    "$$\n",
    "    \\sigma_{a}^2 = \\sigma_e^2 \\frac{\\int_{-\\pi/K}^{\\pi/K} |G(e^{j\\omega})|^2 d\\omega}{\\int_{-\\pi}^{\\pi} |G(e^{j\\omega})|^2 d\\omega} = \\sigma_e^2 \\left(\\frac{2}{K} - \\frac{2}{\\pi}\\sin(\\pi/K)\\right) \\approx  \\sigma_e^2 \\frac{\\pi^2}{3K^3}\n",
    "$$"
   ]
  },
  {
   "cell_type": "markdown",
   "metadata": {},
   "source": [
    "$$\n",
    "    \\mathrm{SNR}_\\mathrm{SD1} = 10\\log_{10}\\frac{\\sigma_x^2}{\\sigma_a^2} \\approx -5.17 + 9\\log_2 K ~~\\mathrm{dB}\n",
    "$$\n",
    "\n",
    " * 1.5 bits for every doubling of the oversampling factor\n",
    " * for $K=12$, $\\mathrm{SNR}_\\mathrm{SD1} \\approx 27.2~\\mathrm{dB}$, equivalent to 4.5bps"
   ]
  },
  {
   "cell_type": "markdown",
   "metadata": {
    "slideshow": {
     "slide_type": "slide"
    }
   },
   "source": [
    "## Higher-order sigma-delta\n",
    "<img src=\"img/sigmadeltasecond.png\" width=\"600\" style=\"float: right; margin: 0px 0px;\" >\n",
    "\n",
    " * use $L$ integrators in the loop\n",
    " * signal transfer function unchanged: $\\displaystyle F(z) = z^{-1}$\n",
    " * noise transfer function:  $\\displaystyle G(z) = (1 - z^{-1})^L$"
   ]
  },
  {
   "cell_type": "markdown",
   "metadata": {
    "slideshow": {
     "slide_type": "slide"
    }
   },
   "source": [
    "### Higher-order noise shaping"
   ]
  },
  {
   "cell_type": "code",
   "execution_count": null,
   "metadata": {},
   "outputs": [],
   "source": [
    "plt.axvspan(0, 1 / K, color='C2', alpha=0.5)\n",
    "w = np.linspace(0, 1, 200)\n",
    "for n, order in enumerate(['first', 'second', 'third']):\n",
    "    plt.plot(w, (2 * np.sin(np.pi * w / 2)) ** (n+1), label=f'{order} order sigma-delta')\n",
    "plt.xticks([0, 1 / K, 1], ['0', '$\\pi/K$', '$\\pi$']);\n",
    "plt.legend();"
   ]
  },
  {
   "cell_type": "markdown",
   "metadata": {
    "slideshow": {
     "slide_type": "slide"
    }
   },
   "source": [
    "### Second-order example\n",
    "\n",
    " * $\\mathrm{SNR}_\\mathrm{SD2} \\approx -12.86 + 15\\log_2 K ~~\\mathrm{dB}$\n",
    " * for $K=12$, $\\mathrm{SNR}_\\mathrm{SD2} \\approx 41~\\mathrm{dB}$, equivalent to 6.8bps"
   ]
  },
  {
   "cell_type": "code",
   "execution_count": null,
   "metadata": {},
   "outputs": [],
   "source": [
    "def sigma_delta2(x):\n",
    "    ret, acc = np.zeros(len(x)), np.zeros(2)\n",
    "    for n in range(0, len(x)):\n",
    "        ret[n] = 1 if acc[1] >= 0 else -1\n",
    "        acc[0] += (x[n] - ret[n])        \n",
    "        acc[1] += (acc[0] - ret[n])        \n",
    "    return ret"
   ]
  },
  {
   "cell_type": "code",
   "execution_count": null,
   "metadata": {
    "slideshow": {
     "slide_type": "slide"
    }
   },
   "outputs": [],
   "source": [
    "K = 12\n",
    "bc_sd2 = sigma_delta2(interpolate(bc, K))"
   ]
  },
  {
   "cell_type": "code",
   "execution_count": null,
   "metadata": {},
   "outputs": [],
   "source": [
    "multiplay((sp.lfilter(*sp.butter(8, 8000/96000), bc_sd2), quantize(bc, 2 ** 6)), rate=(K * bc_sf, bc_sf), title=('sigma-delta', '6-bit requantization'))    "
   ]
  },
  {
   "cell_type": "code",
   "execution_count": null,
   "metadata": {},
   "outputs": [],
   "source": [
    "play(decimate(bc_sd2, K), rate=bc_sf)"
   ]
  },
  {
   "cell_type": "markdown",
   "metadata": {
    "slideshow": {
     "slide_type": "slide"
    }
   },
   "source": [
    "## Super Audio CD\n",
    "\n",
    "[Super Audio CD](https://en.wikipedia.org/wiki/Super_Audio_CD) format:\n",
    " * 64-times oversampling, $F_s = 2822.4~\\mathrm{kHz}$\n",
    " * fifth-order sigma-delta\n",
    " * 5.6 Mb/s data rate (stereo) \n",
    " * SNR = 120 dB\n",
    " * 20 Hz to 50 kHz effective bandwidth\n"
   ]
  },
  {
   "cell_type": "markdown",
   "metadata": {
    "slideshow": {
     "slide_type": "slide"
    }
   },
   "source": [
    "# ADC and DAC\n",
    "\n",
    "Sigma-delta is the de-facto technology in consumer-grade AD and DA converters. Here is why"
   ]
  },
  {
   "cell_type": "markdown",
   "metadata": {
    "slideshow": {
     "slide_type": "slide"
    }
   },
   "source": [
    "## ADC \n",
    "<img src=\"img/adc.png\" width=\"600\" style=\"float: right; margin: 0px 0px;\" >\n",
    "\n",
    "Acquire signal via sigma delta and then convert to multi-bit. Advantages\n",
    " * anti-alias analog filter need not be sharp\n",
    " * sigma delta quantizer easy and cheap\n",
    " * downsampling cheap in discrete time\n"
   ]
  },
  {
   "cell_type": "markdown",
   "metadata": {
    "slideshow": {
     "slide_type": "slide"
    }
   },
   "source": [
    "## DAC\n",
    "<img src=\"img/dac.png\" width=\"600\" style=\"float: right; margin: 0px 0px;\" >\n",
    "\n",
    "Convert digital multi-bit signal to oversampled one-bit prior to interpolation. Advantages:\n",
    " * upsampling easy in discrete time\n",
    " * digital sigma delta modulator easy \n",
    " * extremely cheap analog converter (two-level zero-order hold)\n",
    " \n",
    "However, despite upsampling, analog lowpass needs to be sharp because of noise modulation. Common solution is to use multi-bit sigma-delta"
   ]
  },
  {
   "cell_type": "markdown",
   "metadata": {
    "slideshow": {
     "slide_type": "slide"
    }
   },
   "source": [
    "# Things we left out\n",
    "\n",
    " * what about dithering in sigma delta?\n",
    " * limit cycles and parasitic tones\n",
    " * slew rate effects (as in the delta modulator)\n",
    " * stability of higher-order loops"
   ]
  }
 ],
 "metadata": {
  "celltoolbar": "Slideshow",
  "kernelspec": {
   "display_name": "Python 3",
   "language": "python",
   "name": "python3"
  },
  "language_info": {
   "codemirror_mode": {
    "name": "ipython",
    "version": 3
   },
   "file_extension": ".py",
   "mimetype": "text/x-python",
   "name": "python",
   "nbconvert_exporter": "python",
   "pygments_lexer": "ipython3",
   "version": "3.8.8"
  },
  "toc-autonumbering": true
 },
 "nbformat": 4,
 "nbformat_minor": 4
}
