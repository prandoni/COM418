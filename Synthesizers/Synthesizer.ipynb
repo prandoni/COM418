{
 "cells": [
  {
   "cell_type": "markdown",
   "metadata": {
    "slideshow": {
     "slide_type": "slide"
    }
   },
   "source": [
    "<div align=\"right\"><i>COM418 - Computers and Music</i></div>\n",
    "<div align=\"right\"><a href=\"https://people.epfl.ch/paolo.prandoni\">Lucie Perrotta</a>, <a href=\"https://www.epfl.ch/labs/lcav/\">LCAV, EPFL</a></div>\n",
    "\n",
    "<p style=\"font-size: 30pt; font-weight: bold; color: #B51F1F;\">Synthesizers and Oscillators</p>"
   ]
  },
  {
   "cell_type": "code",
   "execution_count": null,
   "metadata": {
    "slideshow": {
     "slide_type": "skip"
    }
   },
   "outputs": [],
   "source": [
    "%matplotlib inline\n",
    "import ipywidgets as widgets\n",
    "import numpy as np\n",
    "from scipy.interpolate import RectBivariateSpline\n",
    "import matplotlib.pyplot as plt\n",
    "from mpl_toolkits.mplot3d import Axes3D\n",
    "from matplotlib import cm\n",
    "from IPython.display import Audio\n",
    "\n",
    "import matplotlib\n",
    "figsize=(10,5)\n",
    "linewidth=2.5\n",
    "matplotlib.rcParams.update({'font.size': 16})"
   ]
  },
  {
   "cell_type": "code",
   "execution_count": null,
   "metadata": {
    "slideshow": {
     "slide_type": "skip"
    }
   },
   "outputs": [],
   "source": [
    "# Constants\n",
    "fs = 44100\n",
    "time = np.linspace(0, 2, 2*fs)\n",
    "samples = np.arange(2*fs)\n",
    "fourier = np.linspace(0, .2*np.pi, 2*fs)"
   ]
  },
  {
   "cell_type": "markdown",
   "metadata": {
    "slideshow": {
     "slide_type": "slide"
    }
   },
   "source": [
    "A synthesizer is an electronic musical instrument that allows to generate audio signals. It generally presents as a piano keyboard, along with many knobs for tuning parameters, grouped in sections that correspond to the different stages of shaping the sound of the synthesizer. The first stage is to generate a sound wave, and is called an **oscillator**. This can be done in several ways, like by adding sines, or modulating them together. The wave is then sent to the next stages which are filters changing its shape, for instance low frequency oscillators (**LFOs**), equalizers (EQs), etc.\n",
    "\n",
    "<img src=\"https://images-na.ssl-images-amazon.com/images/I/71KdQUycyQL._AC_SL1500_.jpg\" alt=\"Drawing\" style=\"width: 35%;\"/>\n",
    "\n",
    "In this notebook, we will implement 4 types of oscillators: the digital, the additive, the FM, and the wavetable oscillators. We will also implement a LFO."
   ]
  },
  {
   "cell_type": "markdown",
   "metadata": {
    "slideshow": {
     "slide_type": "slide"
    }
   },
   "source": [
    "## 1. Additive and digital synthesis"
   ]
  },
  {
   "cell_type": "markdown",
   "metadata": {
    "slideshow": {
     "slide_type": "subslide"
    }
   },
   "source": [
    "According to Fourier theory, summing up sines allows to create any waveform. An additive oscialltor hence generates waveforms by adding sines with different amplitudes, phases, and angular frequencies together. The created waveform is periodic and can also be defined by an amplitude $A$, an angular frequency $\\omega_c$ and a phase $\\phi$. \n",
    "\n",
    "\\begin{align*}\n",
    "    wave[A, \\omega_c, \\phi; n]\n",
    "\\end{align*}\n",
    "\n",
    "An oscillator containing an additive oscillator is also called an additive synthesizer, and typically features 4 basic wavesforms:\n",
    "- The sine wave\n",
    "- The square wave\n",
    "- The sawtooth wave\n",
    "- The triangle wave\n",
    "\n",
    "that can each be fully described by the above cited parameters.\n",
    "\n",
    "With the coming of digital technology, summing sines was no longer needed to generate waveforms as the synthesizer could simply use mathematical functions to draw the shape of the wave."
   ]
  },
  {
   "cell_type": "markdown",
   "metadata": {
    "slideshow": {
     "slide_type": "subslide"
    }
   },
   "source": [
    "Here we write down 4 functions for generating each of the 4 basic waveforms. Each function is given in 2 versions, the digital version which simply generates the waveform using any mathematical function at disposal, and the additive version which uses a sum of sines to approximate the waveform. Note that additive implementation of each funtion features an additional parameter \"order\" controlling the number of sines to use in the sum."
   ]
  },
  {
   "cell_type": "markdown",
   "metadata": {
    "slideshow": {
     "slide_type": "slide"
    }
   },
   "source": [
    "### 1.1. Sine wave"
   ]
  },
  {
   "cell_type": "markdown",
   "metadata": {
    "slideshow": {
     "slide_type": "fragment"
    }
   },
   "source": [
    "The sine wave is the most fundamental waveform that an oscillator can generate. In an analog oscillator, all waveforms are generated as a (large but) finite sum of sines. It is composed of only one frequency and hence has a rather quiet sound. Its shape being smooth and lacking edges, the sine waveform has a rather natural, colorless sound.\n",
    "\n",
    "\\begin{align*}\n",
    "    sine[A, \\omega_c, \\phi; n] = A \\sin (\\omega_c n - \\phi)\n",
    "\\end{align*}"
   ]
  },
  {
   "cell_type": "code",
   "execution_count": null,
   "metadata": {
    "slideshow": {
     "slide_type": "fragment"
    }
   },
   "outputs": [],
   "source": [
    "def sine(A, w, phi, n):\n",
    "    return A * np.sin(w*n - phi)"
   ]
  },
  {
   "cell_type": "code",
   "execution_count": null,
   "metadata": {
    "slideshow": {
     "slide_type": "subslide"
    }
   },
   "outputs": [],
   "source": [
    "plt.figure(figsize=figsize)\n",
    "plt.plot(time, sine(1, 5, 0, time), linewidth=linewidth,color=\"slateblue\",  label=\"Sine\")\n",
    "plt.xlabel(\"Time\")\n",
    "plt.ylabel(\"Amplitude\")\n",
    "plt.legend(loc='upper right')\n",
    "#plt.savefig(\"sine.pdf\" ,bbox_inches='tight')\n",
    "plt.show()"
   ]
  },
  {
   "cell_type": "markdown",
   "metadata": {
    "slideshow": {
     "slide_type": "subslide"
    }
   },
   "source": [
    "We can subsequently plot the FFT of the sine. Notice the spectral leakage in the plot."
   ]
  },
  {
   "cell_type": "code",
   "execution_count": null,
   "metadata": {
    "slideshow": {
     "slide_type": "fragment"
    }
   },
   "outputs": [],
   "source": [
    "plt.figure(figsize=figsize)\n",
    "plt.magnitude_spectrum(sine(1, 500, 0, time), Fs=fs, scale=\"dB\", linewidth=linewidth,color=\"slateblue\",  label=\"Sine\")\n",
    "plt.xlim(0, 500)\n",
    "plt.ylim(-200, 0)\n",
    "plt.legend(loc='upper right')\n",
    "#plt.savefig(\"sine_fft.pdf\",bbox_inches='tight')\n",
    "plt.show()"
   ]
  },
  {
   "cell_type": "code",
   "execution_count": null,
   "metadata": {
    "slideshow": {
     "slide_type": "fragment"
    }
   },
   "outputs": [],
   "source": [
    "Audio(sine(1, 0.05, 0, samples), rate=fs)"
   ]
  },
  {
   "cell_type": "markdown",
   "metadata": {
    "slideshow": {
     "slide_type": "slide"
    }
   },
   "source": [
    "### 1.2. Square wave"
   ]
  },
  {
   "cell_type": "markdown",
   "metadata": {
    "slideshow": {
     "slide_type": "fragment"
    }
   },
   "source": [
    "The square wave is simply as signal alternating between $-A$ and $+A$. Its equation can be simply written as\n",
    "\n",
    "\\begin{align*}\n",
    "    square[A, \\omega_c, \\phi;n] = A \\cdot sgn \\left( \\sin (\\omega_c n -\\phi \\right) ).\n",
    "\\end{align*}\n",
    "\n",
    "This implementation is very simple and can be efficiently coded for digital synthesizers. "
   ]
  },
  {
   "cell_type": "code",
   "execution_count": null,
   "metadata": {
    "slideshow": {
     "slide_type": "fragment"
    }
   },
   "outputs": [],
   "source": [
    "def square(A, w, phi, n):\n",
    "    return A*np.sign( np.sin( w*n - phi))"
   ]
  },
  {
   "cell_type": "markdown",
   "metadata": {
    "slideshow": {
     "slide_type": "subslide"
    }
   },
   "source": [
    "The corresponding additive oscialltor equation reads\n",
    "\\begin{align*}\n",
    "    square[A, \\omega_c, \\phi;n] = \\frac{4A}{\\pi} \\sum_{k=1}^{\\infty} \\frac{ \\sin ((2k-1)\\omega_c n - \\phi)}{2k - 1} ,\n",
    "\\end{align*}\n",
    "where the infinite sum is in practice approximated with a high order."
   ]
  },
  {
   "cell_type": "code",
   "execution_count": null,
   "metadata": {
    "slideshow": {
     "slide_type": "fragment"
    }
   },
   "outputs": [],
   "source": [
    "def square_sin(A, w, phi, n, order=20):\n",
    "    out = 0\n",
    "    for k in range(1, order+1):\n",
    "        out += np.sin((2*k-1)*w*n - phi)/(2*k-1)\n",
    "        \n",
    "    return 4*A/np.pi * out"
   ]
  },
  {
   "cell_type": "markdown",
   "metadata": {
    "slideshow": {
     "slide_type": "fragment"
    }
   },
   "source": [
    "The square wave has a lot of harmonics that decrease slowly in amplitude. This give the square wave a sharper, brighter sound than the sine wave. The square wave was used a lot in early videogames consoles, such as the Commodore 64, and is now often associated with retro games music, or *chiptune*. In the figure are compared a digital square wave, generated directly using the exact equation described above, as well as its additive synthesis approximation. One can observe in the FFT plot that only the $k$ first harmonics of the square wave are generated."
   ]
  },
  {
   "cell_type": "code",
   "execution_count": null,
   "metadata": {
    "slideshow": {
     "slide_type": "skip"
    }
   },
   "outputs": [],
   "source": [
    "def update(order=10):\n",
    "\n",
    "    fig, ax = plt.subplots(figsize=figsize)\n",
    "    ax.plot(time, square_sin(1, 5, 0, time, order), linewidth=linewidth, color=\"orange\", label=\"Additive square\")\n",
    "    ax.plot(time, square(1, 5, 0, time), linewidth=linewidth, color=\"slateblue\", label=\"Digital square\")\n",
    "    plt.xlabel(\"Time\")\n",
    "    plt.ylabel(\"Amplitude\")\n",
    "    plt.legend(loc='upper right')\n",
    "    #plt.savefig(\"square.pdf\",bbox_inches='tight')\n",
    "    plt.show()\n",
    "    \n",
    "    fig, ax = plt.subplots(figsize=figsize)\n",
    "    ax.magnitude_spectrum(square(1, 50, 0, time), Fs=fs, scale=\"dB\", linewidth=linewidth,color=\"slateblue\",  label=\"Digital square\")\n",
    "    ax.magnitude_spectrum(square_sin(1, 50, 0, time, order), Fs=fs, scale=\"dB\", linewidth=linewidth, color=\"orange\", label=\"Additive square\")\n",
    "    plt.legend(loc='upper right')\n",
    "    plt.ylim(-120, 0)\n",
    "    plt.xlim(0, 300)\n",
    "    #plt.savefig(\"square_fft.pdf\",bbox_inches='tight')\n",
    "    plt.show()"
   ]
  },
  {
   "cell_type": "code",
   "execution_count": null,
   "metadata": {
    "slideshow": {
     "slide_type": "subslide"
    }
   },
   "outputs": [],
   "source": [
    "widgets.interact(update, order=(1, 20, 1));"
   ]
  },
  {
   "cell_type": "markdown",
   "metadata": {
    "slideshow": {
     "slide_type": "subslide"
    }
   },
   "source": [
    "An issue that is met when generating a square wave using additive synthesis is the **Gibbs phenomenon**. This phenomenon corresponds to the apparition of small vertical spikes at the corners of the square wave. An interactive animation from Dr. Prandoni's introductory DSP class highlights the Gibbs phenomenon for classical waveforms: https://www.sp4comm.org/gibbs/gibbs.html. The phenomenon highlights the fact that Fourier series can describe perfectly any smooth function, but meet limitations with non smooth functions, such as the square wave. Indeed, the additive synthesis square wave does not converge to the digital square wave, even for $k \\rightarrow \\infty$, and A spike measuring approximately $18\\%$ of the amplitude $A$ is always observed for arbitrary great values of $k$. This however does not generate problems from an audio point of view, as the sound of a square wave with spikes is generally considered similar to the sound of a digital square wave. Most additive synthesis synthesizer hence simply use this formula for generating square waves."
   ]
  },
  {
   "cell_type": "code",
   "execution_count": null,
   "metadata": {
    "slideshow": {
     "slide_type": "fragment"
    }
   },
   "outputs": [],
   "source": [
    "Audio(square(1, 0.05, 0, samples), rate=fs)"
   ]
  },
  {
   "cell_type": "markdown",
   "metadata": {
    "slideshow": {
     "slide_type": "slide"
    }
   },
   "source": [
    "### 1.3. Sawtooth wave"
   ]
  },
  {
   "cell_type": "markdown",
   "metadata": {
    "slideshow": {
     "slide_type": "fragment"
    }
   },
   "source": [
    "The sawtooth wave first increases linearly from $-A$ to $+A$ and then instantly jumps back to $-A$. This is digitally written as\n",
    "\n",
    "\\begin{align*}\n",
    "    saw[A, \\omega_c, \\phi;n] = \\frac{2A}{\\pi} \\arctan ( \\tan (\\omega_c n/2 - \\phi) ) .\n",
    "\\end{align*}"
   ]
  },
  {
   "cell_type": "code",
   "execution_count": null,
   "metadata": {
    "slideshow": {
     "slide_type": "fragment"
    }
   },
   "outputs": [],
   "source": [
    "def saw(A, w, phi, n):\n",
    "    return 2*A/np.pi * np.arctan( np.tan( w*n/2 - phi))"
   ]
  },
  {
   "cell_type": "markdown",
   "metadata": {
    "slideshow": {
     "slide_type": "subslide"
    }
   },
   "source": [
    "Similarly as for the square wave, analog synthesizer approximate this wave using additive synthesis as\n",
    "\n",
    "\\begin{align*}\n",
    "    saw[A, \\omega_c, \\phi;n] = -\\frac{2A}{\\pi} \\sum_{k=1}^{\\infty} \\frac{(-1)^k}{k}\\sin (k \\omega_c n - \\phi) .\n",
    "\\end{align*}"
   ]
  },
  {
   "cell_type": "code",
   "execution_count": null,
   "metadata": {
    "slideshow": {
     "slide_type": "fragment"
    }
   },
   "outputs": [],
   "source": [
    "def saw_sin(A, w, phi, n, order=20):\n",
    "    out = 0\n",
    "    for k in range(1, order+1):\n",
    "        out += (-1)**k/k * np.sin( k*w*n - phi )\n",
    "        \n",
    "    return - 2*A/np.pi * out"
   ]
  },
  {
   "cell_type": "markdown",
   "metadata": {
    "slideshow": {
     "slide_type": "subslide"
    }
   },
   "source": [
    "One can remark that the Gibbs phenomenon is present as for the square wave, since the sawtooth contains a vertical discontinuity.  The sawtooth wave has a very crispy, aggressive sound and is for that reason quite popular in Trance and House electronic music."
   ]
  },
  {
   "cell_type": "code",
   "execution_count": null,
   "metadata": {
    "slideshow": {
     "slide_type": "skip"
    }
   },
   "outputs": [],
   "source": [
    "\n",
    "def update(order=10):\n",
    "\n",
    "    fig, ax = plt.subplots(figsize=figsize)\n",
    "    ax.plot(time, saw_sin(1, 5, 0, time, order), linewidth=linewidth, color=\"orange\", label=\"Additive saw\")\n",
    "    ax.plot(time, saw(1, 5, 0, time), linewidth=linewidth, color=\"slateblue\", label=\"Digital saw\")\n",
    "    plt.xlabel(\"Time\")\n",
    "    plt.ylabel(\"Amplitude\")\n",
    "    plt.legend(loc='upper right')\n",
    "    #plt.savefig(\"saw.pdf\",bbox_inches='tight')\n",
    "    plt.show()\n",
    "    \n",
    "    fig, ax = plt.subplots(figsize=figsize)\n",
    "    ax.magnitude_spectrum(saw(1, 50, 0, time), Fs=fs, scale=\"dB\", linewidth=linewidth,color=\"slateblue\",  label=\"Digital saw\")\n",
    "    ax.magnitude_spectrum(saw_sin(1, 50, 0, time, order), Fs=fs, scale=\"dB\", linewidth=linewidth, color=\"orange\", label=\"Additive saw\")\n",
    "    plt.legend(loc='upper right')\n",
    "    plt.xlim(0, 300)\n",
    "    plt.ylim(-120, 0)\n",
    "    #plt.savefig(\"saw_fft.pdf\",bbox_inches='tight')\n",
    "    plt.show()"
   ]
  },
  {
   "cell_type": "code",
   "execution_count": null,
   "metadata": {
    "slideshow": {
     "slide_type": "subslide"
    }
   },
   "outputs": [],
   "source": [
    "widgets.interact(update, order=(1, 20, 1));"
   ]
  },
  {
   "cell_type": "code",
   "execution_count": null,
   "metadata": {
    "slideshow": {
     "slide_type": "subslide"
    }
   },
   "outputs": [],
   "source": [
    "Audio(saw(1, 0.05, 0, samples), rate=fs)"
   ]
  },
  {
   "cell_type": "markdown",
   "metadata": {
    "slideshow": {
     "slide_type": "slide"
    }
   },
   "source": [
    "### 1.4. Triangle wave"
   ]
  },
  {
   "cell_type": "markdown",
   "metadata": {
    "slideshow": {
     "slide_type": "fragment"
    }
   },
   "source": [
    "The triangle wave is an alternatively increasing then decreasing linear signal between $-A$ and $+A$. It is digitally written as\n",
    "\n",
    "\\begin{align*}\n",
    "    tri[A, \\omega_c, \\phi ;n] = \\frac{2A}{\\pi} \\arcsin ( \\sin (\\omega_c n - \\phi) ).\n",
    "\\end{align*}"
   ]
  },
  {
   "cell_type": "code",
   "execution_count": null,
   "metadata": {
    "slideshow": {
     "slide_type": "fragment"
    }
   },
   "outputs": [],
   "source": [
    "def triangle(A, w, phi, n):\n",
    "    return 2*A/np.pi * np.arcsin( np.sin( w*n - phi))"
   ]
  },
  {
   "cell_type": "markdown",
   "metadata": {
    "slideshow": {
     "slide_type": "subslide"
    }
   },
   "source": [
    "The corresponding additive synthesis implementation reads\n",
    "\n",
    "\\begin{align*}\n",
    "    tri[A, \\omega_c, \\phi;n] = \\frac{8A}{\\pi^2} \\sum_{k=0}^\\infty \\frac{ (-1)^k }{ (2k + 1)^2} \\sin ((2k + 1) \\omega_c n - \\phi).\n",
    "\\end{align*}"
   ]
  },
  {
   "cell_type": "code",
   "execution_count": null,
   "metadata": {
    "slideshow": {
     "slide_type": "fragment"
    }
   },
   "outputs": [],
   "source": [
    "def triangle_sin(A, w, phi, n, order=20):\n",
    "    out = 0\n",
    "    for k in range(order):\n",
    "        out += (-1)**k/(2*k+1)**2 * np.sin( (2*k+1)* w*n - phi )\n",
    "        \n",
    "    return 8*A/np.pi**2 * out"
   ]
  },
  {
   "cell_type": "markdown",
   "metadata": {
    "slideshow": {
     "slide_type": "fragment"
    }
   },
   "source": [
    "The triangle wave having no vertical jump, the Gibbs phenomenon is not significant. The additive approximation converges faster than the sawtooth and the square wave towards the digital implementation. One can notice that with $k=2$, the approximation is already quite close to the digital wave. The triangle wave has a sound in between the smoothness of sine and the brightness of a sawtooth. "
   ]
  },
  {
   "cell_type": "code",
   "execution_count": null,
   "metadata": {
    "slideshow": {
     "slide_type": "skip"
    }
   },
   "outputs": [],
   "source": [
    "\n",
    "def update(order=2):\n",
    "\n",
    "    fig, ax = plt.subplots(figsize=figsize)\n",
    "    ax.plot(time, triangle_sin(1, 5, 0, time, order), linewidth=linewidth, color=\"orange\", label=\"Additive triangle\")\n",
    "    ax.plot(time, triangle(1, 5, 0, time), linewidth=linewidth, color=\"slateblue\", label=\"Digital triangle\")\n",
    "    plt.xlabel(\"Time\")\n",
    "    plt.ylabel(\"Amplitude\")\n",
    "    plt.legend(loc='upper right')\n",
    "    #plt.savefig(\"triangle.pdf\",bbox_inches='tight')\n",
    "    plt.show()\n",
    "    \n",
    "    fig, ax = plt.subplots(figsize=figsize)\n",
    "    ax.magnitude_spectrum(triangle(1, 50, 0, time), Fs=fs, scale=\"dB\", linewidth=linewidth,color=\"slateblue\",  label=\"Digital triangle\")\n",
    "    ax.magnitude_spectrum(triangle_sin(1, 50, 0, time, order), Fs=fs, scale=\"dB\", linewidth=linewidth, color=\"orange\", label=\"Additive triangle\")\n",
    "    plt.xlim(0, 300)\n",
    "    plt.ylim(-150, 0)\n",
    "    plt.legend(loc='upper right')\n",
    "    #plt.savefig(\"triangle_fft.pdf\",bbox_inches='tight')\n",
    "    plt.show()"
   ]
  },
  {
   "cell_type": "code",
   "execution_count": null,
   "metadata": {
    "slideshow": {
     "slide_type": "subslide"
    }
   },
   "outputs": [],
   "source": [
    "widgets.interact(update, order=(1, 20, 1));"
   ]
  },
  {
   "cell_type": "code",
   "execution_count": null,
   "metadata": {
    "slideshow": {
     "slide_type": "subslide"
    }
   },
   "outputs": [],
   "source": [
    "Audio(triangle(1, 0.05, 0, samples), rate=fs)"
   ]
  },
  {
   "cell_type": "markdown",
   "metadata": {
    "slideshow": {
     "slide_type": "slide"
    }
   },
   "source": [
    "## 2. FM synthesis"
   ]
  },
  {
   "cell_type": "markdown",
   "metadata": {
    "slideshow": {
     "slide_type": "fragment"
    }
   },
   "source": [
    "Alternatively to the additive synthesis, another sound creation scheme is FM synthesis. FM synthesis relies on Frequency Modulation (FM) as used in radio broadcast. An oscillator produces a waveform, called **the carrier**, that is then modulated with another waveform, called **the modulator**. The carrier is generally a sine wave, while the modulator can have any shape. In FM broadcasting, the carrier has a much higher frequency than the modulator. In FM synthesis, both the carrier and modulator signals have similar, audible frequencies. The carrier wave determines the pitch of the produced note, and the modulator determines its timbre. The equation of modulating a sine carrier with amplitude $A_C$, angular frequency $\\omega_C$ and zero phase with an arbitrary modulator wave $x[n]$ reads\n",
    "\n",
    "\\begin{align*}\n",
    "    y[n] = A_C \\cdot \\sin \\left( \\omega_C n + 2 \\pi K_f \\cdot x[n] \\right)\n",
    "\\end{align*}\n",
    "\n",
    "where $K_f$ is the modulation index, the sensitivity of the frequency modulator."
   ]
  },
  {
   "cell_type": "markdown",
   "metadata": {
    "slideshow": {
     "slide_type": "subslide"
    }
   },
   "source": [
    "The output of the modulation can be used as the input of a subsequent modulation (or itself!), and different dispositions of modulator networks can generate different sounds. Modulations can be done in series and parallel and each output can be connected to any input. The behaviour of a modulation network is quite hard to predict, and generally the user experiments with different networks and parameters until they find a satisfying sound."
   ]
  },
  {
   "cell_type": "code",
   "execution_count": null,
   "metadata": {
    "slideshow": {
     "slide_type": "fragment"
    }
   },
   "outputs": [],
   "source": [
    "def modulator(cw, cA, mod_signal, mod_index=1):\n",
    "    \"\"\"\n",
    "    Block modulating a sine carrier with a modulator.\n",
    "    cw: the angular frequency of the sine carrier\n",
    "    cA: the amplitude of the sine carrier\n",
    "    mod_signal: the arbitrary modulator signal\n",
    "    mod_index: the modulation index Kf\n",
    "    \"\"\"\n",
    "    return np.array([cA * np.sin(cw*i + mod_index*2.*np.pi*mod_signal[i]) for i in range(mod_signal.size)])"
   ]
  },
  {
   "cell_type": "markdown",
   "metadata": {
    "slideshow": {
     "slide_type": "subslide"
    }
   },
   "source": [
    "We can now try to modulate several sine signals together and observe how complex the waveform becomes after only a couple iterations!"
   ]
  },
  {
   "cell_type": "code",
   "execution_count": null,
   "metadata": {
    "slideshow": {
     "slide_type": "fragment"
    }
   },
   "outputs": [],
   "source": [
    "sine1 = sine(A=1, w=0.06, phi=-1, n=np.arange(2*fs))"
   ]
  },
  {
   "cell_type": "code",
   "execution_count": null,
   "metadata": {
    "slideshow": {
     "slide_type": "fragment"
    }
   },
   "outputs": [],
   "source": [
    "plt.figure(figsize=figsize)\n",
    "plt.plot(sine1[:600])\n",
    "plt.xlabel(\"Time [samples]\")\n",
    "plt.ylabel(\"Amplitude\")\n",
    "plt.show()\n",
    "\n",
    "plt.figure(figsize=figsize)\n",
    "plt.magnitude_spectrum(sine1, Fs=fs, scale=\"dB\")\n",
    "plt.ylim(-200,0)\n",
    "plt.xlim(0, 5000)\n",
    "plt.show()"
   ]
  },
  {
   "cell_type": "code",
   "execution_count": null,
   "metadata": {
    "slideshow": {
     "slide_type": "fragment"
    }
   },
   "outputs": [],
   "source": [
    "\n",
    "Audio(sine1, rate=fs)"
   ]
  },
  {
   "cell_type": "code",
   "execution_count": null,
   "metadata": {
    "slideshow": {
     "slide_type": "skip"
    }
   },
   "outputs": [],
   "source": [
    "\n",
    "def update(frequency=.059, modulation=.19):\n",
    "\n",
    "    sine2 = modulator(cw=frequency, cA=1, mod_signal=sine1, mod_index=modulation)\n",
    "\n",
    "    plt.figure(figsize=figsize)\n",
    "    plt.plot(sine2[:600])\n",
    "    plt.xlabel(\"Time [samples]\")\n",
    "    plt.ylabel(\"Amplitude\")\n",
    "    plt.show()\n",
    "\n",
    "    plt.figure(figsize=figsize)\n",
    "    plt.magnitude_spectrum(sine2, Fs=fs, scale=\"dB\")\n",
    "    plt.ylim(-200,0)\n",
    "    plt.xlim(0, 5000)\n",
    "    plt.show()"
   ]
  },
  {
   "cell_type": "code",
   "execution_count": null,
   "metadata": {
    "slideshow": {
     "slide_type": "fragment"
    }
   },
   "outputs": [],
   "source": []
  },
  {
   "cell_type": "code",
   "execution_count": null,
   "metadata": {
    "slideshow": {
     "slide_type": "subslide"
    }
   },
   "outputs": [],
   "source": [
    "widgets.interact(update, order=(1, 20, 1));"
   ]
  },
  {
   "cell_type": "code",
   "execution_count": null,
   "metadata": {
    "slideshow": {
     "slide_type": "subslide"
    }
   },
   "outputs": [],
   "source": [
    "sine2 = modulator(cw=0.0599, cA=1, mod_signal=sine1, mod_index=0.29)\n",
    "Audio(sine2, rate=fs)"
   ]
  },
  {
   "cell_type": "code",
   "execution_count": null,
   "metadata": {
    "slideshow": {
     "slide_type": "subslide"
    }
   },
   "outputs": [],
   "source": [
    "@widgets.interact(frequency=(.00019, .01, .001), modulation=(0, 2, .05))\n",
    "def update(frequency=.001, modulation=.19):\n",
    "\n",
    "    sine3 = modulator(cw=frequency, cA=1, mod_signal=sine1, mod_index=modulation)\n",
    "\n",
    "    plt.figure(figsize=figsize)\n",
    "    plt.plot(sine3[:600])\n",
    "    plt.xlabel(\"Time [samples]\")\n",
    "    plt.ylabel(\"Amplitude\")\n",
    "    plt.show()\n",
    "\n",
    "    plt.figure(figsize=figsize)\n",
    "    plt.magnitude_spectrum(sine3, Fs=fs, scale=\"dB\")\n",
    "    plt.ylim(-200,0)\n",
    "    plt.xlim(0, 5000)\n",
    "    plt.show()"
   ]
  },
  {
   "cell_type": "code",
   "execution_count": null,
   "metadata": {
    "slideshow": {
     "slide_type": "subslide"
    }
   },
   "outputs": [],
   "source": [
    "sine3 = modulator(.00071, 1, sine2, mod_index=.81)\n",
    "Audio(sine3, rate=fs)"
   ]
  },
  {
   "cell_type": "markdown",
   "metadata": {
    "slideshow": {
     "slide_type": "slide"
    }
   },
   "source": [
    "## 3. Working with LFOs"
   ]
  },
  {
   "cell_type": "markdown",
   "metadata": {
    "slideshow": {
     "slide_type": "fragment"
    }
   },
   "source": [
    "A Low Frequency Oscillator (LFO) is, as the name suggests, an oscillator which operates at a low frequency, generally within $(0, 20]$Hz. LFOs are generally generated using one of the waveforms presented in the above section, and that for all types of synthesizers. For instance, although FM synthesizers do not use waveform oscillators for generating the source sound, they generally still use waveforms for the LFO. Oppositely to a standard oscillator, a LFO does not generate a sound, but is used to automatically control a parameter inside of the synthesizer and to make it change over time. Virtually, any parameter of the amplifier can be controlled by a LFO (even the LFO parameters themselves). For instance, a LFO can be used to automatically control the synthesizer's master volume, to create a tremolo, or to control the phaseof the main oscillator to create a vibrato."
   ]
  },
  {
   "cell_type": "markdown",
   "metadata": {
    "slideshow": {
     "slide_type": "slide"
    }
   },
   "source": [
    "### 3.1. Tremolo"
   ]
  },
  {
   "cell_type": "markdown",
   "metadata": {
    "slideshow": {
     "slide_type": "fragment"
    }
   },
   "source": [
    "Let's first use a LFO to control the tremolo over a sine wave. We simply use the output of the LFO as the input of the amplitude of the oscillator."
   ]
  },
  {
   "cell_type": "code",
   "execution_count": null,
   "metadata": {
    "slideshow": {
     "slide_type": "fragment"
    }
   },
   "outputs": [],
   "source": [
    "@widgets.interact(lfo_speed=(.0001, .005, .0001))\n",
    "def update(lfo_speed=.0015):\n",
    "\n",
    "    lfo = sine(1, lfo_speed, 0, samples) # Low freqency oscillator\n",
    "    lfo_tremolo = square(lfo, .06, 0, samples) # LFO'ed sine wave\n",
    "\n",
    "    fig, ax = plt.subplots(2, figsize=figsize)\n",
    "    ax[1].plot(lfo[:5000], linestyle=\"--\", alpha=.6)\n",
    "    ax[0].plot(lfo_tremolo[:5000])\n",
    "    plt.xlabel(\"Time [samples]\")\n",
    "    ax[1].set(ylabel='LFO')\n",
    "    ax[0].set(ylabel='Oscillator')\n",
    "    ax[0].set(title=\"LFO tremolo\")\n",
    "    plt.show()"
   ]
  },
  {
   "cell_type": "code",
   "execution_count": null,
   "metadata": {
    "slideshow": {
     "slide_type": "subslide"
    }
   },
   "outputs": [],
   "source": [
    "lfo = sine(1, .0003, 0, samples) # Low freqency oscillator\n",
    "lfo_tremolo = square(lfo, .06, 0, samples) # LFO'ed sine wave\n",
    "Audio(lfo_tremolo, rate=fs)"
   ]
  },
  {
   "cell_type": "markdown",
   "metadata": {
    "slideshow": {
     "slide_type": "slide"
    }
   },
   "source": [
    "### 3.2. Vibrato"
   ]
  },
  {
   "cell_type": "markdown",
   "metadata": {
    "slideshow": {
     "slide_type": "fragment"
    }
   },
   "source": [
    "One can also program the phase of an oscialltor with a LFO to create a vibrato."
   ]
  },
  {
   "cell_type": "code",
   "execution_count": null,
   "metadata": {
    "slideshow": {
     "slide_type": "fragment"
    }
   },
   "outputs": [],
   "source": [
    "@widgets.interact(lfo_amp=(0, 10, 1), lfo_speed=(0.00001, .01, 0.0005))\n",
    "def update(lfo_amp=5, lfo_speed=0.007):\n",
    "\n",
    "    lfo = sine(lfo_amp, lfo_speed, 0, samples) # Low freqency oscillator\n",
    "    lfo_vibrato = square(1, 0.06, lfo, samples) # LFO'ed sine wave\n",
    "\n",
    "    fig, ax = plt.subplots(2, figsize=figsize)\n",
    "    ax[1].plot(lfo[:5000], linestyle=\"--\", alpha=.6)\n",
    "    ax[0].plot(lfo_vibrato[:5000])\n",
    "    ax[1].set(ylim=(-11,11), ylabel='LFO')\n",
    "    ax[0].set(ylabel='Oscillator')\n",
    "    plt.xlabel(\"Time [samples]\")\n",
    "    ax[0].set(title=\"LFO vibrato\")\n",
    "    plt.show()"
   ]
  },
  {
   "cell_type": "code",
   "execution_count": null,
   "metadata": {
    "scrolled": true,
    "slideshow": {
     "slide_type": "subslide"
    }
   },
   "outputs": [],
   "source": [
    "lfo = sine(5, .0005, 0, samples) # Low freqency oscillator\n",
    "lfo_vibrato = square(1, 0.06, lfo, samples) # LFO'ed sine wave\n",
    "Audio(lfo_vibrato, rate=fs)"
   ]
  },
  {
   "cell_type": "markdown",
   "metadata": {
    "slideshow": {
     "slide_type": "slide"
    }
   },
   "source": [
    "## 4. Wawetable synthesis"
   ]
  },
  {
   "cell_type": "markdown",
   "metadata": {
    "slideshow": {
     "slide_type": "slide"
    }
   },
   "source": [
    "### 4.1. Alternating wavetable"
   ]
  },
  {
   "cell_type": "markdown",
   "metadata": {
    "slideshow": {
     "slide_type": "fragment"
    }
   },
   "source": [
    "Let's now review a last type of synthesis, **Wavetable synthesis**. Wavetable synthesis was introduced in the late 1970s by Palm Products GmbH but has mostly gained popularity recently due to its easiness of implementation and use on a computer as a VST plugin. The principle is very simple: the synthesizer keeps in memory a table whose entries contain each a single cycle of a different waveform (preferably all of the same length so that they have the same frequency when played back). The user can then select (or even import) a waveform and play it periodically at different speeds, resulting in different frequencies. A key feature of wavetables is the ability to quickly and automatically switch from a waveform to another, while playing."
   ]
  },
  {
   "cell_type": "code",
   "execution_count": null,
   "metadata": {
    "slideshow": {
     "slide_type": "subslide"
    }
   },
   "outputs": [],
   "source": [
    "def wavetable_alternate(frequency, waveform1, waveform2):\n",
    "    \"\"\"\n",
    "    Simple wavetable generator without interpolation\n",
    "    frequency: the frequency or the output wave\n",
    "    waveform1: the function of the first waveform\n",
    "    waveform2: the function of the second waveform\n",
    "    return: a 2 seconds long wave alternating between 2 waveforms (1 cycle each, in turn)\n",
    "    \"\"\"\n",
    "    # Indices for one cycle at double the frequency, so that the 2 cycles together become the frequency\n",
    "    one_cycle = np.linspace(0, 1/frequency, int(fs/2/frequency)) \n",
    "\n",
    "    # Generate 1 cycle of each waveform at double the frequency\n",
    "    wave1 = waveform1(1, frequency*2*np.pi, 0, one_cycle)\n",
    "    wave2 = waveform2(1, frequency*2*np.pi, 0, one_cycle)\n",
    "\n",
    "    # Concatenate them to reach 2 seconds\n",
    "    return np.tile(np.concatenate((wave1, wave2)), frequency)"
   ]
  },
  {
   "cell_type": "markdown",
   "metadata": {
    "slideshow": {
     "slide_type": "subslide"
    }
   },
   "source": [
    "Let's plot it and observe the rhape of the generated wave."
   ]
  },
  {
   "cell_type": "code",
   "execution_count": null,
   "metadata": {
    "slideshow": {
     "slide_type": "fragment"
    }
   },
   "outputs": [],
   "source": [
    "@widgets.interact(frequency=(100, 441, 1))\n",
    "def update(frequency=200):\n",
    "    \n",
    "    wavetable = wavetable_alternate(frequency, sine, triangle)\n",
    "\n",
    "    plt.figure(figsize=figsize)\n",
    "    \n",
    "    for i in range(20):\n",
    "        plt.axvline(x=i*fs/2/frequency, color=\"orange\", linestyle=\"--\")\n",
    "        plt.axvline(x=i*fs/frequency, color=\"red\", linestyle=\"-\")\n",
    "\n",
    "    plt.plot(wavetable)\n",
    "    plt.xlabel(\"Time [samples]\")\n",
    "    plt.ylabel(\"Amplitude\")\n",
    "    plt.xlim(0, 1000)\n",
    "    plt.title(\"Wavetable alternating between a sine and a triangle wave\")\n",
    "    plt.show()\n",
    "\n",
    "    plt.figure(figsize=figsize)\n",
    "    plt.magnitude_spectrum(wavetable, Fs=fs, scale=\"dB\", linewidth=2, alpha=.7, label=\"Wavetable\")\n",
    "    plt.magnitude_spectrum(triangle(1, frequency*2*np.pi, 0, time[:fs]), Fs=fs, scale=\"dB\", linewidth=2, alpha=.7, label=\"Triangle\")\n",
    "    plt.magnitude_spectrum(sine(1, frequency*2*np.pi, 0, time[:fs]), Fs=fs, scale=\"dB\", linewidth=2, alpha=.7, label=\"Sine\")\n",
    "\n",
    "    plt.xlim(0, 1000)\n",
    "    plt.ylim(-250, 0)\n",
    "    plt.legend(loc=\"upper right\")\n",
    "    plt.show()"
   ]
  },
  {
   "cell_type": "markdown",
   "metadata": {
    "slideshow": {
     "slide_type": "subslide"
    }
   },
   "source": [
    "Let's listen to it!"
   ]
  },
  {
   "cell_type": "code",
   "execution_count": null,
   "metadata": {
    "slideshow": {
     "slide_type": "fragment"
    }
   },
   "outputs": [],
   "source": [
    "Audio(wavetable_alternate(200, sine, triangle), rate=fs)"
   ]
  },
  {
   "cell_type": "markdown",
   "metadata": {
    "slideshow": {
     "slide_type": "fragment"
    }
   },
   "source": [
    "Similarly, an EG can be set to switch from a harsh sounding to a more mellow waveform as during the decay time. Hence, multiple similar waveforms often are grouped together in order to be switched from and to. "
   ]
  },
  {
   "cell_type": "markdown",
   "metadata": {
    "slideshow": {
     "slide_type": "slide"
    }
   },
   "source": [
    "### 4.2. Morphing"
   ]
  },
  {
   "cell_type": "markdown",
   "metadata": {
    "slideshow": {
     "slide_type": "fragment"
    }
   },
   "source": [
    "Generally, wavetable synths implement a simple linear interpolation between waveforms, so that the switch from a waveform to another sounds smooth. This is called **morphing**. The below animation shows a simple example of morphing between 2 basic waveforms, square and sine. The user can tune the \"morphing amount\" to shift the generated waveform closer to the sine or the square wave. "
   ]
  },
  {
   "cell_type": "code",
   "execution_count": null,
   "metadata": {
    "slideshow": {
     "slide_type": "fragment"
    }
   },
   "outputs": [],
   "source": [
    "# Constants\n",
    "table_resolution = 101 # Number of samples per wave cycle\n",
    "table_time = np.linspace(0, 1, table_resolution)"
   ]
  },
  {
   "cell_type": "code",
   "execution_count": null,
   "metadata": {
    "slideshow": {
     "slide_type": "subslide"
    }
   },
   "outputs": [],
   "source": [
    "@widgets.interact(morph=(0, 1, .05), \n",
    "                  phase_square=(0, 2*np.pi, .1), \n",
    "                  phase_sine=(0, 2*np.pi, .1))\n",
    "def update(morph=0.5, phase_square=0, phase_sine=0):\n",
    "    \n",
    "    wave1 = square(1, 2*np.pi, phase_square, table_time)\n",
    "    wave2 = sine(1, 2*np.pi, phase_sine, table_time)\n",
    "\n",
    "    wavetable = np.vstack((wave1, wave2)).T\n",
    "    morphed_wave = RectBivariateSpline(x=table_time, y=np.arange(wavetable[1].size), z=wavetable, ky=1)\n",
    "\n",
    "    fig = plt.figure(figsize=(8,8))\n",
    "    ax = Axes3D(fig) #, auto_add_to_figure=False) # this generates an error in recent versions of matplotlib\n",
    "    #fig.add_axes(ax) # and this generates a warning \n",
    "\n",
    "    x=table_time\n",
    "    y=table_time\n",
    "    z=morphed_wave(x, y)\n",
    "\n",
    "    ax.plot(x, morphed_wave(x, 0), zs=0, zdir='y', linewidth=6, alpha=.7, label='Square wave', zorder=9)\n",
    "    ax.plot(x, morphed_wave(x, 1), zs=1, zdir='y', linewidth=6, alpha=.3, label='Sine wave', zorder=7)\n",
    "    ax.plot(x, morphed_wave(x, morph), zs=morph, zdir='y', linewidth=6, alpha=.5, label='Morphed output', zorder=8)\n",
    "\n",
    "    x, y = np.meshgrid(x, y)\n",
    "    #dem3d=ax.plot_surface(x.T, y.T, z, cmap=cm.twilight_shifted, linewidth=0, alpha=.7)\n",
    "    dem3d=ax.plot_wireframe(x.T, y.T, z, cmap=cm.twilight_shifted, alpha=.5, rstride=0, cstride=4, color=\"grey\")\n",
    "    \n",
    "    # Turn off tick labels\n",
    "    ax.set_yticklabels([])\n",
    "    ax.set_xticklabels([])\n",
    "    ax.set_zticklabels([])\n",
    "    plt.axis('off')\n",
    "\n",
    "    plt.legend(loc=\"lower left\")\n",
    "    plt.title(\"Wavetable morphing between a square and a sine wave\")\n",
    "    #plt.savefig(\"morph.pdf\",bbox_inches='tight')\n",
    "    plt.show()"
   ]
  },
  {
   "cell_type": "markdown",
   "metadata": {
    "slideshow": {
     "slide_type": "subslide"
    }
   },
   "source": [
    "The following animation shows the shape of one cycle of the morphed output when the wavetable contains a sine, a triangle, a sawtooth, and a square wave. In orange, we plot the value of the underlying basic waveforms that compose the morphet output!"
   ]
  },
  {
   "cell_type": "code",
   "execution_count": null,
   "metadata": {
    "slideshow": {
     "slide_type": "subslide"
    }
   },
   "outputs": [],
   "source": [
    "@widgets.interact(morph=(0, 4, .1), \n",
    "                  phase1=(0, 2*np.pi, .1), \n",
    "                  phase2=(0, 2*np.pi, .1), \n",
    "                  phase3=(0, 2*np.pi, .1), \n",
    "                  phase4=(0, 2*np.pi, .1) )\n",
    "def update(morph=0, phase1=0, phase2=0, phase3=0, phase4=0):\n",
    "    \n",
    "    wave1 = sine(1, 2*np.pi, phase1, table_time)\n",
    "    wave2 = triangle(1, 2*np.pi, phase2, table_time)\n",
    "    wave3 = saw(1, 2*np.pi, phase3, table_time)\n",
    "    wave4 = square(1, 2*np.pi, phase4, table_time)\n",
    "\n",
    "    wavetable = np.vstack((wave1, wave2, wave3, wave4, wave1)).T\n",
    "    morphed_wave = RectBivariateSpline(x=table_time, y=np.arange(wavetable[1].size), z=wavetable, ky=1)\n",
    "\n",
    "    plt.figure(figsize=figsize)\n",
    "    \n",
    "    plt.plot(table_time, wave1, linewidth=5, alpha=.7*np.clip(1-np.abs(0-morph),0,1), color=\"orange\")\n",
    "    plt.plot(table_time, wave2, linewidth=5, alpha=.7*np.clip(1-np.abs(1-morph),0,1), color=\"orange\")\n",
    "    plt.plot(table_time, wave3, linewidth=5, alpha=.7*np.clip(1-np.abs(2-morph),0,1), color=\"orange\")\n",
    "    plt.plot(table_time, wave4, linewidth=5, alpha=.7*np.clip(1-np.abs(3-morph),0,1), color=\"orange\")\n",
    "    plt.plot(table_time, wave1, linewidth=5, alpha=.7*np.clip(1-np.abs(4-morph),0,1), color=\"orange\")\n",
    "    \n",
    "    plt.plot(table_time, morphed_wave(table_time, morph), linewidth=5)\n",
    "    \n",
    "    plt.axis('off')\n",
    "    plt.title(\"Wavetable morphing between sine-tri-saw-square waves\")\n",
    "    plt.show()"
   ]
  },
  {
   "cell_type": "markdown",
   "metadata": {
    "slideshow": {
     "slide_type": "subslide"
    }
   },
   "source": [
    "Using a LFO, we can automatically change the morphing level over time!"
   ]
  },
  {
   "cell_type": "code",
   "execution_count": null,
   "metadata": {
    "slideshow": {
     "slide_type": "fragment"
    }
   },
   "outputs": [],
   "source": [
    "frequency = 100\n",
    "\n",
    "wave1 = sine(1, frequency*2*np.pi, 0, time)\n",
    "wave2 = triangle(1, frequency*2*np.pi, 0, time)\n",
    "wave3 = saw(1, frequency*2*np.pi, 0, time)\n",
    "wave4 = square(1, frequency*2*np.pi, 0, time)\n",
    "\n",
    "wavetable = np.vstack((wave1, wave2, wave3, wave4, wave1)).T\n",
    "morphed_wave = RectBivariateSpline(x=time, y=np.arange(wavetable[1].size), z=wavetable, ky=1)\n",
    "\n",
    "morph_LFO = 2 + 2*triangle(1, 2*2*np.pi, 0, time)\n",
    "\n",
    "wavetable_morph = np.empty(2*fs)\n",
    "\n",
    "for i in range(2*fs):\n",
    "    wavetable_morph[i] = morphed_wave(time[i], morph_LFO[i])\n",
    "    \n",
    "fig, ax = plt.subplots(2, figsize=(15,4))\n",
    "ax[1].plot(morph_LFO[:20000], linestyle=\"--\", alpha=.6)\n",
    "ax[0].plot(wavetable_morph[:20000])\n",
    "ax[0].set(ylabel='Morphed output')\n",
    "ax[1].set(ylabel='LFO')\n",
    "ax[0].set_xticklabels([])\n",
    "ax[0].set_title(\"LFO controlled wavetable morphing between sine-tri-saw-square waves\")\n",
    "plt.xlabel(\"Time [samples]\")\n",
    "plt.show()\n",
    "\n",
    "Audio(wavetable_morph, rate=fs)"
   ]
  }
 ],
 "metadata": {
  "celltoolbar": "Slideshow",
  "kernelspec": {
   "display_name": "Python 3",
   "language": "python",
   "name": "python3"
  },
  "language_info": {
   "codemirror_mode": {
    "name": "ipython",
    "version": 3
   },
   "file_extension": ".py",
   "mimetype": "text/x-python",
   "name": "python",
   "nbconvert_exporter": "python",
   "pygments_lexer": "ipython3",
   "version": "3.6.10"
  }
 },
 "nbformat": 4,
 "nbformat_minor": 4
}
