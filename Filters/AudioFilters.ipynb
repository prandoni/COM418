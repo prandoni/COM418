{
 "cells": [
  {
   "cell_type": "markdown",
   "metadata": {},
   "source": [
    "<div align=\"right\"><i>COM418 - Computers and Music</i></div>\n",
    "<div align=\"right\"><a href=\"https://people.epfl.ch/paolo.prandoni\">Paolo Prandoni</a>, <a href=\"https://www.epfl.ch/labs/lcav/\">LCAV, EPFL</a></div>\n",
    "\n",
    "<p style=\"font-size: 30pt; font-weight: bold; color: #B51F1F;\">Practical filters for Audio Processing</p>"
   ]
  },
  {
   "cell_type": "code",
   "execution_count": null,
   "metadata": {},
   "outputs": [],
   "source": [
    "%matplotlib inline\n",
    "import matplotlib\n",
    "import matplotlib.pyplot as plt\n",
    "import numpy as np\n",
    "from IPython.display import Audio\n",
    "from scipy import signal\n",
    "\n",
    "import import_ipynb\n",
    "from FilterUtils import *"
   ]
  },
  {
   "cell_type": "code",
   "execution_count": null,
   "metadata": {},
   "outputs": [],
   "source": [
    "plt.rcParams['figure.figsize'] = 14, 4 \n",
    "matplotlib.rcParams.update({'font.size': 14})"
   ]
  },
  {
   "cell_type": "code",
   "execution_count": null,
   "metadata": {},
   "outputs": [],
   "source": [
    "DEFAULT_SF = 16000"
   ]
  },
  {
   "cell_type": "markdown",
   "metadata": {},
   "source": [
    "# Introduction\n",
    "\n",
    "In this notebook we will explore a complete set of \"recipes\" to design second-order digital IIR filters. The transfer function of a generic second-order section (also known as a **biquad**) has the canonical form\n",
    "$$\n",
    "    H(z) = \\frac{b_0 + b_1 z^{-1} + b_{2}z^{-2}}{1 + a_1 z^{-1} + a_{2}z^{-2}}\n",
    "$$\n",
    "\n",
    "The routines defined in the rest of this notebook will allow you to compute the values of the five biquad parameters in order to implement a variety of different filter prototypes according to the desired specifications. We will also explore how to cascade second-order sections to implement higher-order filters with improved characteristics. "
   ]
  },
  {
   "cell_type": "markdown",
   "metadata": {},
   "source": [
    "## Common practices\n",
    "\n",
    "Although ultimately we will design digital filters, in audio applications it is important to become familiar with the main ideas behind _analog_ filter design and analysis; indeed, audio recording and production techniques have been developed and fine-tuned well before the advent of DSP and, even in today's world of DAWs, the language and many of the practices in current use still reflect the analog conventions of yore.\n",
    "\n",
    "In particular:\n",
    " * filter specifications are almost always expressed in terms of real-world frequencies in Hz rather than as normalized frequencies over $[-\\pi, \\pi]$; this of course implies that the underlying sampling frequency is known\n",
    " * plots of the magnitude response will usually be shown on a log-log graph, generally using a decibel scale for the amplitde and a decade scale for frequencies; this mirrors the way in which  human audio perception is approximately logarithmic both in frequency and in scale.\n",
    " \n",
    "The companion notebook ``FilterUtils.ipynb`` implements a set of plotting routines that take these conventions into account. For example, this is how the magnitude response of the same leaky integrator looks like in the typical representations used in communication systems vs. audio equalization:"
   ]
  },
  {
   "cell_type": "code",
   "execution_count": null,
   "metadata": {},
   "outputs": [],
   "source": [
    "lam = 0.9\n",
    "filter_props([1 - lam], [1, -lam])"
   ]
  },
  {
   "cell_type": "code",
   "execution_count": null,
   "metadata": {},
   "outputs": [],
   "source": [
    "analog_response([1 - lam], [1, -lam], DEFAULT_SF, dB=-50)"
   ]
  },
  {
   "cell_type": "markdown",
   "metadata": {},
   "source": [
    "# The biquad design strategy\n",
    "\n",
    "The next section provides a set of functions to compute the five biquad filter coefficients for a desired response (lowpass, bandpass, etc) and an associated set of specifications (cutoff, attenuation, etc). Rather than tackling the search for the coefficients as an abstract optimization problem, each recipe starts from a well-known _analog_ second-order filter with the desired characteristic, and then converts it to a discrete-time filter using a mapping called the _bilinear transform_ .\n",
    "\n",
    "The reason for this approach is that the classic analog filter prototypes (Butterworth, Chebyshev, etc.) (and the topologies used for their implementation) are extremely well understood and have proven extremely reliable over more than a century of research and practical experimentation. "
   ]
  },
  {
   "cell_type": "markdown",
   "metadata": {},
   "source": [
    "## The analog prototypes\n",
    "\n",
    "<img src=\"img/rlc.png\" alt=\"rlc\" style=\"float: right; width: 200px; margin: 0 10px 10px 30px;\"/>\n",
    "\n",
    "Historically, the development of electronic filters began with the design of **passive** analog filters, that is, filters using only resistors, capacitors and inductors; indeed, an RLC circuit, that is, a network containing a resistor, a capacitor and an inductor, can implement the prototypical analog second-order section. Since these filters have no active elements that can provide signal amplification, the power of their output is at most equal to (but, in practice, smaller than) the power of the input. This implicitly guarantees the stability of these systems although, at least in theory, strong resonances can appear in the frequency response.\n",
    "\n",
    "Analog filters work by exploiting the frequency-dependent reactance of capacitors and inductors. The input-output characteristic for linear circuits using these electronic components is described by linear differential equations, which implies the existence of some form of _feedback_ in the circuits themselves. As a consequence, when we convert the analog prototypes to digital realizations, we invariably end up with IIR filters. \n",
    "\n",
    "Passive filters operating in the frequency range of audio applications require the use of bulky inductors and therefore **active** filters are usually preferred in the analog domain. In the digital domain, on the other hand, we are in fact free to use arbitrary gain factors (it's just multiplications!) and so the resulting transfer functions can approximate either type of design. "
   ]
  },
  {
   "cell_type": "markdown",
   "metadata": {},
   "source": [
    "## The bilinear transform\n",
    "\n",
    "The cookbook recipes below are obtained by mapping second-order analog filters prototypes to equivalent digital realization via the _bilinear transform_ . We will not go into full details but, as a quick reference, here are the main ideas behind the method. \n",
    "\n",
    "An analog filter is described by a transfer function $H(s)$, with $s\\in \\mathbb{C}$, which is the Laplace transform of the filter's continuous-time impulse response. The key facts about $H(s)$ are:\n",
    " * filter stability requires that all the poles of $H(s)$ lie in the left half of the complex plane (i.e. their real part must be negative)\n",
    " * the filter's frequency response is given by $H(j\\Omega)$, that is, by the values of $H(s)$ along the imaginary axis\n",
    "\n",
    "<img src=\"img/bilinear.png\" alt=\"rlc\" style=\"float: right; width: 300px; margin: 10px 0;\"/>\n",
    "\n",
    "The bilinear transform maps the complex $z$-plane (discrete time) to the complex $s$-plane (continuous time) as\n",
    "\n",
    "$$\n",
    "    s \\leftarrow c \\frac{1 - z^{-1}}{1 + z^{-1}} = \\Phi_{c}(z)\n",
    "$$\n",
    "\n",
    "where $c$ is a real-valued constant. Given a stable analog filter $H(s)$, the transfer function of its discrete-time version is $H_d(z) = H(\\Phi_{c}(z))$ and it is relatively easy to verify that\n",
    " * the inside of the unit circle on the $z$-plane is mapped to the left half of the $s$-plane, which preserves stability\n",
    " * the unit circle on the $z$-plane is mapped to the imaginary axis of the $s$-plane\n",
    " \n",
    "The last property allows us to determine the frequency response of the digital filter as $H_d(e^{j\\omega}) = H(\\Phi_{c}(e^{j\\omega})) = H(j\\,c\\tan(\\omega/2))$, or: \n",
    "\n",
    "$$\n",
    "    \\Omega \\leftarrow c\\tan(\\omega/2) %\\omega \\leftarrow 2\\arctan(\\Omega/c)\n",
    "$$\n",
    "\n",
    "we can see that $\\omega=0$ is mapped to $\\Omega=0$, $\\omega=\\pi/2$ is mapped to $\\Omega=c$, and $\\omega=\\pi$ is mapped to $\\Omega=\\infty$, which reveals the high nonlinearity of the frequency mapping. We usually need to precisely control a least one notable point $H_d(e^{j\\omega_0})$ in the frequency response of the discrete-time filter; for example, in a resonator, we need to place the magnitude peak at a specific frequency $\\omega_0$. To achieve this, we design the analog filter so that $H(1j) = H_d(e^{j\\omega_0})$ and then we set $c = 1/\\tan(\\omega_0/2)$ in the bilinear operator; this adjustment, called **pre-warping** , is used in the recipes below. "
   ]
  },
  {
   "cell_type": "markdown",
   "metadata": {
    "tags": []
   },
   "source": [
    "To illustrate the principle, here is a simple transfer function $H(s)$ that provide a triangular response centered at $\\Omega=1$; the default width is $1/2$ and the width can be optionally scaled.\n",
    "\n",
    "along the imaginary axis; we can parametrize the width of the bell and its center position is at  by default:"
   ]
  },
  {
   "cell_type": "code",
   "execution_count": null,
   "metadata": {},
   "outputs": [],
   "source": [
    "if __name__ == '__main__':\n",
    "    def H(f, scale=1):\n",
    "        return np.maximum(1 - 4 * np.abs(np.imag(f) - 1) / scale, 0)\n",
    "\n",
    "    f = np.linspace(0, 3, 1000)\n",
    "    plt.plot(f, H(1j * f));"
   ]
  },
  {
   "cell_type": "markdown",
   "metadata": {},
   "source": [
    "Using the bilinear transform with pre-warping, we can move the equivalent discrete-time frequency response over the $[0, \\pi]$ interval."
   ]
  },
  {
   "cell_type": "code",
   "execution_count": null,
   "metadata": {},
   "outputs": [],
   "source": [
    "if __name__ == '__main__':\n",
    "    def BL(z, c=1):\n",
    "        return c * (1 - 1/z) / (1 + 1/z)"
   ]
  },
  {
   "cell_type": "code",
   "execution_count": null,
   "metadata": {},
   "outputs": [],
   "source": [
    "if __name__ == '__main__':\n",
    "    w = np.linspace(0, np.pi, 1000)\n",
    "    center_freqs = np.pi * np.arange(0.1, 0.9, 0.15)\n",
    "\n",
    "    for w0 in center_freqs:\n",
    "        c = 1 / np.tan(w0 / 2)\n",
    "        plt.plot(w, H(BL(np.exp(1j * w), c=c)))"
   ]
  },
  {
   "cell_type": "markdown",
   "metadata": {},
   "source": [
    "Note that the nonlinear mapping between frequency axes has two consequences on the the discrete-time frequency response:\n",
    " * at low and high digital frequencies the response becomes more narrow; this can be compensated for by scaling the analog prototype\n",
    " * as we move to higher frequencies, the response is less and less symmetric; this is much harder to compensate for because it would require a different analog design and it is therefore an accepted tradeoff.\n",
    " \n",
    "The following example tries to keep the width of the response uniform"
   ]
  },
  {
   "cell_type": "code",
   "execution_count": null,
   "metadata": {},
   "outputs": [],
   "source": [
    "if __name__ == '__main__':\n",
    "    for w0 in center_freqs:\n",
    "        c = 1 / np.tan(w0 / 2)\n",
    "        scaling_factor = (c * c + 1) / (2 * c)\n",
    "        plt.plot(w, H(BL(np.exp(1j * w), c=c), scale=scaling_factor))"
   ]
  },
  {
   "cell_type": "markdown",
   "metadata": {},
   "source": [
    "**Exercise**: how was the scaling factor derived? Can you improve on it?"
   ]
  },
  {
   "cell_type": "markdown",
   "metadata": {},
   "source": [
    "Using the bilinear transform with pre-warping, we can move the equivalent discrete-time frequency response over the $[0, \\pi]$ interval"
   ]
  },
  {
   "cell_type": "markdown",
   "metadata": {},
   "source": [
    "# What about FIRs?\n",
    "\n",
    "FIR filters are a great tool in digital signal processing; as opposed to IIR (which can be seen as a digital adaptation of electronic filters) FIRs offer:\n",
    " * unconditional stability \n",
    " * the possibility of a linear phase response\n",
    " * a great design algorithm (Parks-McClellan) even for arbitrary responses\n",
    " \n",
    "The price for stability and linear phase is a much higher computational cost: for the same specifications, an FIR filter will require up to a hundred times more operations per sample with respect to an IIR implementation. Linear phase, however, is not terribly relevant in audio applications because of the limited phase sensitivity in the human auditory system. On the other hand, especially in real-time applications, the primary goal in audio processing is to minimize the overall processing delay; since linear phase FIRs have a symmetric impulse response, and since a well-performing filter will have a very long impulse response, the associated delay often makes FIRs difficult to use. Even if we give up linear phase and implement an asymmetric, minimum-phase FIR, the computational cost may be too high.\n",
    "\n",
    "\n",
    "There are countless audiophile blogs debating the merits and demerits of FIRs in audio applications. Some of the purported negatives that are often quoted include\n",
    " * FIRs sound \"cold\"\n",
    " * linear phase FIRs cause pre-echos (because of their symmetric impulse response) \n",
    " * minimum-phase FIRs exhibit excessive ringing in the impulse response\n",
    "\n",
    "It must be said that these artefacts, if they can be noticed at all, are anyway extremely subtle and unlikely to compromise overall sound quality in a significant way. The major obstacle to the use of FIRs remains their inherent processing delay."
   ]
  },
  {
   "cell_type": "markdown",
   "metadata": {},
   "source": [
    "# The cookbook\n",
    "\n",
    "In the following, we define a set of functions that return the five biquad coefficients for the most common types of audio filtering applications. Many of the formulas have been adapted from Robert Bristow-Johnson's famous [cookbook](https://webaudio.github.io/Audio-EQ-Cookbook/audio-eq-cookbook.html). \n",
    "\n",
    "Each function returns ``b`` and ``a``, two arrays of three floats each containing the coefficients of the transfer function\n",
    "\n",
    "$$\n",
    "    H(z) = \\frac{b_0 + b_1 z^{-1} + b_{2}z^{-2}}{1 + a_1 z^{-1} + a_{2}z^{-2}} \\qquad (a_0 = 1)\n",
    "$$"
   ]
  },
  {
   "cell_type": "markdown",
   "metadata": {},
   "source": [
    "## Lowpass\n",
    "\n",
    "A second-order lowpass filter section will have a passband with approximately unit gain (0 dB) and a monotonically decreasing stopband. It is defined by two parameters:\n",
    "\n",
    " 1. the \"quality factor\" $Q$, which determines the shape of the magnitude response; by default $Q = \\sqrt{1/2}$, which yields a Butterworth characteristic (i.e. a monotonically decreasing response). \n",
    " 1. the  _corner frequency_ $f_c$ (also called the _cutoff_ frequency); the magnitude response will be equal to the quality factor $Q$ at $f_c$ and will decrease monotonically afterwards. For $Q = \\sqrt{1/2}$, the attenuation at $f_c$ is equal to $20\\log_{10}(\\sqrt{1/2}) \\approx -3$ dB, which yields a Butterworth (maximally flat) characteristic.\n"
   ]
  },
  {
   "cell_type": "code",
   "execution_count": null,
   "metadata": {},
   "outputs": [],
   "source": [
    "def LPF(fc, sf, Q=(1/np.sqrt(2))):\n",
    "    \"\"\"Biquad lowpass filter\"\"\"\n",
    "    w = 2 * np.pi * fc / sf\n",
    "    alpha = np.sin(w) / (2 * Q)\n",
    "    c = np.cos(w)\n",
    "    a = np.array([1 + alpha, -2 * c, 1 - alpha])\n",
    "    b = np.array([(1 - c) / 2, 1 - c, (1 - c) / 2])\n",
    "    return b / a[0], a / a[0]"
   ]
  },
  {
   "cell_type": "code",
   "execution_count": null,
   "metadata": {},
   "outputs": [],
   "source": [
    "if __name__ == '__main__':\n",
    "    CUTOFF = 1000\n",
    "    b, a = LPF(CUTOFF, DEFAULT_SF)\n",
    "    analog_response(b, a, DEFAULT_SF, dB=-50)\n",
    "    plt.axhline(y=-3, linewidth=0.5, color='r')    \n",
    "    plt.axvline(x=CUTOFF, linewidth=0.5, color='r')"
   ]
  },
  {
   "cell_type": "code",
   "execution_count": null,
   "metadata": {},
   "outputs": [],
   "source": [
    "if __name__ == '__main__':\n",
    "    filter_props(b, a)\n",
    "    plt.gcf().get_axes()[0].axhline(y=np.sqrt(0.5), linewidth=0.5, color='r')    \n",
    "    plt.gcf().get_axes()[0].axvline(x=(2 * np.pi * CUTOFF / DEFAULT_SF), linewidth=0.5, color='r')"
   ]
  },
  {
   "cell_type": "markdown",
   "metadata": {},
   "source": [
    "When $Q = 1/\\sqrt{2}$, as we said, the lowpass section corresponds to a Butterworth filter, that is, a filter with a maximally flat passband and a monotonically decreasing stopband. For higher $Q$ values the magnitude response exhibits a peak around $f_c$ which, in the time domain, corresponds to a damped oscillatory impulse response as shown in the following examples; for lower $Q$ values, the roll-off of the magnitude response will be less steep.\n",
    "\n",
    "While these $Q$ values are clearly not a good choice for a single-stage lowpass, values other than $1/\\sqrt{2}$ become useful when cascading multiple sections, as we will see later."
   ]
  },
  {
   "cell_type": "code",
   "execution_count": null,
   "metadata": {},
   "outputs": [],
   "source": [
    "if __name__ == '__main__':\n",
    "    _, (fr, ir) = plt.subplots(2, figsize=(16,9))\n",
    "    CUTOFF = 100\n",
    "    Q = [0.1, 0.5, 1/np.sqrt(2), 5, 20]\n",
    "    for n, q in enumerate(Q):\n",
    "        b, a = LPF(CUTOFF, DEFAULT_SF, Q=q)\n",
    "        analog_response(b, a, DEFAULT_SF, dB=-50, axis=fr, color=f'C{n}')\n",
    "        ir.plot(signal.lfilter(b, a, np.r_[1, np.zeros(2000)]))"
   ]
  },
  {
   "cell_type": "markdown",
   "metadata": {},
   "source": [
    "## Highpass\n",
    "\n",
    "A highpass filter is simply the complementary filter to a lowpass, with the same roles for $f_c$ and $Q$."
   ]
  },
  {
   "cell_type": "code",
   "execution_count": null,
   "metadata": {},
   "outputs": [],
   "source": [
    "def HPF(fc, sf, Q=(1/np.sqrt(2))):\n",
    "    \"\"\"Biquad highpass filter\"\"\"\n",
    "    w = 2 * np.pi * fc / sf\n",
    "    alpha = np.sin(w) / (2 * Q)\n",
    "    c = np.cos(w)\n",
    "    a = np.array([1 + alpha, -2 * c, 1 - alpha])\n",
    "    b = np.array([(1 + c) / 2, -1 - c, (1 + c) / 2])\n",
    "    return b / a[0], a / a[0]"
   ]
  },
  {
   "cell_type": "code",
   "execution_count": null,
   "metadata": {},
   "outputs": [],
   "source": [
    "if __name__ == '__main__':\n",
    "    CUTOFF = 2500\n",
    "    b, a = HPF(CUTOFF, DEFAULT_SF)\n",
    "    analog_response(b, a, DEFAULT_SF, dB=-50)\n",
    "    plt.axhline(y=-3, linewidth=0.5, color='r')    \n",
    "    plt.axvline(x=CUTOFF, linewidth=0.5, color='r')"
   ]
  },
  {
   "cell_type": "code",
   "execution_count": null,
   "metadata": {},
   "outputs": [],
   "source": [
    "if __name__ == '__main__':\n",
    "    filter_props(b, a)\n",
    "    plt.gcf().get_axes()[0].axhline(y=np.sqrt(0.5), linewidth=0.5, color='r')    \n",
    "    plt.gcf().get_axes()[0].axvline(x=(2 * np.pi * CUTOFF / DEFAULT_SF), linewidth=0.5, color='r')"
   ]
  },
  {
   "cell_type": "markdown",
   "metadata": {},
   "source": [
    "## Bandpass\n",
    "\n",
    "A second-order bandpass filter section will have approximately unit gain (0 dB) in the passband and will decrease monotonically to zero in the stopband. It is defined by two parameters:\n",
    "\n",
    " 1. the center frequency $f_c$, where the gain is unitary\n",
    " 1. the bandwidth $b = (f_+ - f_-)$, where $f_- < f_c < f_+$ are the first frequencies, left and right of $f_c$ where the attenuation reaches $-3$ dB. For the reasons explained above, note that the passband is almost but not exactly symmetric around $f_c$, with the asymmetry more pronounced towards the high end of the spectrum."
   ]
  },
  {
   "cell_type": "code",
   "execution_count": null,
   "metadata": {},
   "outputs": [],
   "source": [
    "def BPF(fc, bw, sf):\n",
    "    \"\"\"Biquad bandpass filter\"\"\"\n",
    "    w = 2 * np.pi * fc / sf\n",
    "    alpha = np.tan(np. pi * bw / sf)\n",
    "    c = np.cos(w)\n",
    "    b = np.array([alpha, 0, -alpha])\n",
    "    a = np.array([1 + alpha, -2 * c, 1 - alpha])\n",
    "    return b / a[0], a / a[0]"
   ]
  },
  {
   "cell_type": "code",
   "execution_count": null,
   "metadata": {
    "tags": []
   },
   "outputs": [],
   "source": [
    "if __name__ == '__main__':\n",
    "    CENTER, BANDWIDTH = 1000, 400\n",
    "    b, a = BPF(CENTER, BANDWIDTH, DEFAULT_SF)\n",
    "    analog_response(b, a, DEFAULT_SF, dB=-40)\n",
    "    plt.axhline(y=-3, linewidth=0.5, color='r')    \n",
    "    plt.axvline(x=CENTER, linewidth=0.5, color='r')\n",
    "    plt.axvline(x=CENTER - BANDWIDTH / 2, linewidth=0.5, color='r')\n",
    "    plt.axvline(x=CENTER + BANDWIDTH / 2, linewidth=0.5, color='r')"
   ]
  },
  {
   "cell_type": "code",
   "execution_count": null,
   "metadata": {},
   "outputs": [],
   "source": [
    "if __name__ == '__main__':\n",
    "    filter_props(b, a)\n",
    "    plt.gcf().get_axes()[0].axhline(y=np.sqrt(0.5), linewidth=0.5, color='r')    \n",
    "    plt.gcf().get_axes()[0].axvline(x=(2 * np.pi * CENTER / DEFAULT_SF), linewidth=0.5, color='r')"
   ]
  },
  {
   "cell_type": "markdown",
   "metadata": {},
   "source": [
    "## Resonator\n",
    "\n",
    "When the bandwith is very small, the second order bandpass becomes a constant-gain resonator:"
   ]
  },
  {
   "cell_type": "code",
   "execution_count": null,
   "metadata": {},
   "outputs": [],
   "source": [
    "if __name__ == '__main__':\n",
    "    _, ax = plt.subplots()\n",
    "    BANDWIDTH = 10\n",
    "    FC = [100, 1000, 2000, 4000, 6000]\n",
    "    for n, fc in enumerate(FC):\n",
    "        b, a = BPF(fc, BANDWIDTH, DEFAULT_SF)\n",
    "        frequency_response(b, a, dB=-50, half=True, axis=ax)"
   ]
  },
  {
   "cell_type": "markdown",
   "metadata": {},
   "source": [
    "## Notch\n",
    "\n",
    "A notch filter is the complementary filter to a resonator; its attenuation reaches $-\\infty$ at $f_c$ and its bandwidth is usually kept very small in order to selectively remove only a given frequency; this is achieved by placing a pair of complex-conjugate zeros _on_ the unit circle and by placing two poles very close to the zeros."
   ]
  },
  {
   "cell_type": "code",
   "execution_count": null,
   "metadata": {},
   "outputs": [],
   "source": [
    "def notch(fc, bw, sf):\n",
    "    \"\"\"Biquad notch filter\"\"\"\n",
    "    w = 2 * np.pi * fc / sf\n",
    "    alpha = np.tan(np. pi * bw / sf)\n",
    "    c = np.cos(w)\n",
    "    b = np.array([1, -2 * c, 1])\n",
    "    a = np.array([1 + alpha, -2 * c, 1 - alpha])\n",
    "    return b / a[0], a / a[0]"
   ]
  },
  {
   "cell_type": "code",
   "execution_count": null,
   "metadata": {},
   "outputs": [],
   "source": [
    "if __name__ == '__main__':\n",
    "    CENTER, BANDWIDTH = 2000, 100\n",
    "    b, a = notch(CENTER, BANDWIDTH, DEFAULT_SF)\n",
    "    analog_response(b, a, DEFAULT_SF, dB=-40)\n",
    "    plt.axhline(y=-6, linewidth=0.5, color='r')    \n",
    "    plt.axvline(x=CENTER, linewidth=0.5, color='r')"
   ]
  },
  {
   "cell_type": "code",
   "execution_count": null,
   "metadata": {},
   "outputs": [],
   "source": [
    "if __name__ == '__main__':\n",
    "    filter_props(b, a)\n",
    "    plt.gcf().get_axes()[0].axhline(y=np.sqrt(0.5), linewidth=0.5, color='r')    \n",
    "    plt.gcf().get_axes()[0].axvline(x=(2 * np.pi * CENTER / DEFAULT_SF), linewidth=0.5, color='r')"
   ]
  },
  {
   "cell_type": "markdown",
   "metadata": {},
   "source": [
    "## Shelves\n",
    "\n",
    "Shelving filters are used to amplify either the low or the high end of a signal's spectrum. A high shelf, for instanance, provides an arbitrary gain for high frequencies and has approximately unit gain in the low end of the spectrum. Shelving filters, high or low, are defined by the following parameters:\n",
    "\n",
    " 1. the desired _shelf gain_ in dB\n",
    " 1. the midpoint frequency $f_c$, which corresponds to the frequency in the transition band where the gain reaches half its value.\n",
    " 1. the \"quality factor\" $Q$, which determines the steepnes off the transition band; as for lowpass filters, the default value $Q = 1/\\sqrt{2}$ yields the steepest transition band while avoiding resonances.\n",
    " \n",
    "A common use case for shelving filters is in consumer audio appliances, where the standard \"Bass\" and \"Treble\" tone knobs control the gain of two complementary shelves with fixed midpoint frequency. "
   ]
  },
  {
   "cell_type": "code",
   "execution_count": null,
   "metadata": {},
   "outputs": [],
   "source": [
    "def LSH(fc, gain, sf,  Q=(1/np.sqrt(2))):\n",
    "    \"\"\"Biquad low shelf\"\"\"\n",
    "    w = 2 * np.pi * fc / sf\n",
    "    A = 10 ** (gain / 40)    \n",
    "    alpha = np.sin(w) / (2 * Q)\n",
    "    c = np.cos(w)\n",
    "    b = np.array([A * ((A + 1) - (A - 1) * c + 2 * np.sqrt(A) * alpha),\n",
    "                  2 * A * ((A - 1) - (A + 1) * c),\n",
    "                  A * ((A + 1) - (A - 1) * c - 2 * np.sqrt(A) * alpha)])\n",
    "    a = np.array([(A + 1) + (A - 1) * c + 2 * np.sqrt(A) * alpha,\n",
    "                 -2 * ((A - 1) + (A + 1) * c),\n",
    "                 (A + 1) + (A - 1) * c - 2 * np.sqrt(A) * alpha])\n",
    "    return b / a[0], a / a[0]"
   ]
  },
  {
   "cell_type": "code",
   "execution_count": null,
   "metadata": {},
   "outputs": [],
   "source": [
    "if __name__ == '__main__':\n",
    "    MIDPOINT, GAIN_DB = 200, 40\n",
    "    b, a = LSH(MIDPOINT, GAIN_DB, DEFAULT_SF)\n",
    "    analog_response(b, a, DEFAULT_SF, dB=-40)\n",
    "    plt.axhline(y=GAIN_DB / 2, linewidth=0.5, color='r')    \n",
    "    plt.axvline(x=MIDPOINT, linewidth=0.5, color='r')"
   ]
  },
  {
   "cell_type": "code",
   "execution_count": null,
   "metadata": {},
   "outputs": [],
   "source": [
    "if __name__ == '__main__':\n",
    "    filter_props(b, a)"
   ]
  },
  {
   "cell_type": "code",
   "execution_count": null,
   "metadata": {},
   "outputs": [],
   "source": [
    "def HSH(fc, gain, sf,  Q=(1/np.sqrt(2))):\n",
    "    \"\"\"Biquad high shelf\"\"\"\n",
    "    w = 2 * np.pi * fc / sf\n",
    "    A = 10 ** (gain / 40)    \n",
    "    alpha = np.sin(w) / (2 * Q)\n",
    "    c = np.cos(w)\n",
    "    b = np.array([A * ((A + 1) + (A - 1) * c + 2 * np.sqrt(A) * alpha),\n",
    "                  -2 * A * ((A - 1) + (A + 1) * c),\n",
    "                  A * ((A + 1) + (A - 1) * c - 2 * np.sqrt(A) * alpha)])\n",
    "    a = np.array([(A + 1) - (A - 1) * c + 2 * np.sqrt(A) * alpha,\n",
    "                 2 * ((A - 1) - (A + 1) * c),\n",
    "                 (A + 1) - (A - 1) * c - 2 * np.sqrt(A) * alpha])\n",
    "    return b / a[0], a / a[0]"
   ]
  },
  {
   "cell_type": "code",
   "execution_count": null,
   "metadata": {},
   "outputs": [],
   "source": [
    "if __name__ == '__main__':\n",
    "    MIDPOINT, GAIN_DB = 2000, 40\n",
    "    b, a = HSH(MIDPOINT, GAIN_DB, DEFAULT_SF)\n",
    "    analog_response(b, a, DEFAULT_SF, dB=-40)\n",
    "    plt.axhline(y=GAIN_DB / 2, linewidth=0.5, color='r')    \n",
    "    plt.axvline(x=MIDPOINT, linewidth=0.5, color='r')"
   ]
  },
  {
   "cell_type": "code",
   "execution_count": null,
   "metadata": {},
   "outputs": [],
   "source": [
    "if __name__ == '__main__':\n",
    "    filter_props(b, a)"
   ]
  },
  {
   "cell_type": "markdown",
   "metadata": {},
   "source": [
    "## Peaking EQ\n",
    "\n",
    "A peaking equalizer filter is the fundamental ingrediend in multiband parametric equalization. Each filter provides an arbitrary boost or attenuation for a given frequency band centered around a peak freqency and flattens to unit gain elsewhere. The filter is defined by the following parameters:\n",
    "\n",
    " 1. the desired gain in dB (which can be negative)\n",
    " 1. the peak frequency $f_c$, where the desired gain is attained\n",
    " 1. the bandwidth of the filter, defined as the interval around $f_c$ where the gain is greater (or smaller, for attenuators) than half the desired gain in dB; for instance, if the desired gain is 40dB, all frequencies within the filter's bandwidth will be boosted by at least 20dB. Note that the bandwdidth is not exactly symmetrical around $f_c$ "
   ]
  },
  {
   "cell_type": "code",
   "execution_count": null,
   "metadata": {},
   "outputs": [],
   "source": [
    "def PEQ(fc, bw, gain, sf):\n",
    "    \"\"\"Biquad bandpass filter \"\"\"\n",
    "    w = 2 * np.pi * fc / sf\n",
    "    A = 10 ** (gain / 40)    \n",
    "    alpha = np.tan(np. pi * bw / sf)\n",
    "    c = np.cos(w)\n",
    "    b = np.array([1 + alpha * A, -2 * c, 1 - alpha * A])\n",
    "    a = np.array([1 + alpha / A, -2 * c, 1 - alpha / A])\n",
    "    return b / a[0], a / a[0]"
   ]
  },
  {
   "cell_type": "code",
   "execution_count": null,
   "metadata": {},
   "outputs": [],
   "source": [
    "if __name__ == '__main__':\n",
    "    CENTER, BW, GAIN_DB = 800, 400, 40\n",
    "    b, a = PEQ(CENTER, BW, GAIN_DB, DEFAULT_SF)\n",
    "    analog_response(b, a, DEFAULT_SF, dB=-40)\n",
    "    plt.axhline(y=GAIN_DB / 2, linewidth=0.5, color='r')    \n",
    "    plt.axvline(x=CENTER, linewidth=0.5, color='r')"
   ]
  },
  {
   "cell_type": "code",
   "execution_count": null,
   "metadata": {},
   "outputs": [],
   "source": [
    "if __name__ == '__main__':\n",
    "    filter_props(b, a)"
   ]
  },
  {
   "cell_type": "markdown",
   "metadata": {},
   "source": [
    "Note that peaking EQ filters with opposite gains are perfectly complementary: "
   ]
  },
  {
   "cell_type": "code",
   "execution_count": null,
   "metadata": {},
   "outputs": [],
   "source": [
    "if __name__ == '__main__':\n",
    "    CENTER, BW, GAIN_DB = 800, 400, 40\n",
    "    b, a = PEQ(CENTER, BW, GAIN_DB, DEFAULT_SF)\n",
    "    y = signal.lfilter(b, a, np.r_[1, np.zeros(200)])\n",
    "    plt.plot(y)\n",
    "    b, a = PEQ(CENTER, BW, -GAIN_DB, DEFAULT_SF)\n",
    "    y = signal.lfilter(b, a, y)\n",
    "    plt.plot(y)"
   ]
  },
  {
   "cell_type": "markdown",
   "metadata": {},
   "source": [
    "# Cascades of biquads\n",
    "\n",
    "The performance of a single biquad filter may not be adequate for a given application: a second-order lowpass filter, for instance, may not provide a sufficent amount of rejection in the stopband because of its rather slow roll-off characteristic; or we may want to design an equalizer with multiple peaks and dips. In all cases, we usually want to implement the final design as a cascade of biquad sections, because of their inherent numerical robustness."
   ]
  },
  {
   "cell_type": "markdown",
   "metadata": {},
   "source": [
    "## Factorization of higher-order filters\n",
    "\n",
    "The first solution if a filter does not meet the requires specifications is to design a higher-order filter, possibly using different filter \"recipes\"; in the case of bandpass filters, for instance, we could try a Chebyshev or elliptic design. The resulting high-order transfer function can be then factored into a cascade of second-order sections (or, in the case of an odd-order filter, a cascade of second order-sections followed by a first-order filter):\n",
    "\n",
    "$$\n",
    "    H(z) = \\frac{b_0 + b_1 z^{-1} + \\ldots + b_{N-1}z^{-N+1}}{a_0 + a_1 z^{-1} + \\ldots + a_{N-1}z^{-N+1}} = \\prod_{k=0}^{N/2} \\frac{b_{k,0} + b_{k,1} z^{-1} + b_{k,2}z^{-2}}{1 + a_{k,1} z^{-1} + a_{k,2}z^{-2}}\n",
    "$$\n",
    "\n",
    "The biquad elements returned by the factorization are not related to the \"cookbook\" prototypes of the previous section and therefore this method is simply an implementation strategy that focuses on second-order structures; the design algorithm, in other words, will be dependent on the particular type of filter. Nevertheless, both the design and the factorization are usually available in numerical packages such as Scipy, for instance and, in the following example, we illustrate the difference between a 6th-order elliptic lowpass and a single second-order butterworth. First we will use the full high-order realization and then we will show how a cascade of three second-order sections implements the same characteristic.\n",
    "\n",
    "Note that, when cascading transfer functions, the equivalent higher-order filter coefficients can be obtained simply by polynomial multiplication."
   ]
  },
  {
   "cell_type": "code",
   "execution_count": null,
   "metadata": {},
   "outputs": [],
   "source": [
    "if __name__ == '__main__':\n",
    "    _, ax = plt.subplots()\n",
    "    CUTOFF = 1000\n",
    "    b, a = LPF(CUTOFF, DEFAULT_SF)\n",
    "    analog_response(b, a, DEFAULT_SF, dB=-60, axis=ax, color=f'C0')\n",
    "    eb, ea = signal.ellip(6, 1, 40, CUTOFF, fs=DEFAULT_SF)\n",
    "    analog_response(eb, ea, DEFAULT_SF, dB=-60, axis=ax, color=f'C3')\n",
    "    plt.axvline(x=CUTOFF, linewidth=0.5, color='r')    \n",
    "    plt.axhline(y=-3, linewidth=0.5, color='r')     "
   ]
  },
  {
   "cell_type": "code",
   "execution_count": null,
   "metadata": {},
   "outputs": [],
   "source": [
    "if __name__ == '__main__':\n",
    "    _, ax = plt.subplots()\n",
    "    CUTOFF = 1000\n",
    "    b, a = LPF(CUTOFF, DEFAULT_SF)\n",
    "    # this returns an array of second-order filter coefficients. Each row corresponds to a section, \n",
    "    #  with the first three columns providing the numerator coefficients and the last three providing the denominator\n",
    "    soe = signal.ellip(6, 1, 40, CUTOFF, fs=DEFAULT_SF, output='sos')\n",
    "    cb, ca = [1], [1]\n",
    "    for n in range(0, 3):\n",
    "        b, a = soe[n][0:3], soe[n][3:6]\n",
    "        analog_response(b, a, DEFAULT_SF, dB=-60, axis=ax, color=f'C{n}:')\n",
    "        cb = np.polymul(b, cb)\n",
    "        ca = np.polymul(a, ca)\n",
    "    analog_response(cb, ca, DEFAULT_SF, dB=-60, axis=ax, color='C3')"
   ]
  },
  {
   "cell_type": "markdown",
   "metadata": {},
   "source": [
    "## Cascading lowpass and highpass biquads\n",
    "\n",
    "A cascade of $N$ identical sections with transfer function $H(z)$ will yield the overall transfer function $H_c(z) = H^N(z)$ and thus the stopband attenuation in decibels will increase $N$-fold. For instance, the following example shows the cumulative magnitude responses obtained by cascading up to five identical second-order Butterworth lowpass sections:"
   ]
  },
  {
   "cell_type": "code",
   "execution_count": null,
   "metadata": {},
   "outputs": [],
   "source": [
    "if __name__ == '__main__':\n",
    "    _, ax = plt.subplots()\n",
    "    CUTOFF = 1000\n",
    "    b, a = LPF(CUTOFF, DEFAULT_SF)\n",
    "    cb, ca = b, a\n",
    "    for n in range(0, 5):\n",
    "        analog_response(cb, ca, DEFAULT_SF, dB=-60, axis=ax, color=f'C{n}')\n",
    "        ca = np.polymul(a, ca)\n",
    "        cb = np.polymul(b, cb)\n",
    "    plt.axvline(x=CUTOFF, linewidth=0.5, color='r')    \n",
    "    plt.axhline(y=-3, linewidth=0.5, color='r')    \n",
    "    plt.axhline(y=-15, linewidth=0.5, color='r')    "
   ]
  },
  {
   "cell_type": "markdown",
   "metadata": {},
   "source": [
    "As shown by the previous plot, a cascade of identical maximally flat lowpass sections yields a steeper roll-off and preserves the monotonicity of the response. However, since the passband of each filter is not perfectly flat, the $-3~\\mathrm{dB}$ cutoff frequency of the cascade becomes smaller with each added section and the effective bandwidth of the filter is reduced. In the previous example, the original $-3~\\mathrm{dB}$ cutoff frequency was $f_c = 1000~\\mathrm{Hz}$ but the magnitude response of the cascade at $f_c$ is $-15~\\mathrm{dB}$ whereas the actual $-3~\\mathrm{dB}$ point has shifted close to $600~\\mathrm{Hz}$.\n",
    "\n",
    "If our goal is to obtain a cascade with a maximally flat (Butterworth) response with a given $f_c$, an obvious approach is simply to factorize the transfer function of a high-order Butterworth as explained in the previous section. There is however a clever and simpler design strategy that is based on the geometric arrangement of the poles of an analog Butterworth filter of order $N$:\n",
    " * the $N$ complex-conjugate poles are equally spaced along a circular contour centered on the origin of the $s$-plane\n",
    " * the angle between poles is equal to $\\pi/N$\n",
    " \n",
    "With this, the pole angles in the upper $s$-plane are given by \n",
    "\n",
    "$$\n",
    "    \\theta_n = \\frac{\\pi}{2N} + n\\frac{\\pi}{N} = \\frac{(2n+1)\\pi}{2N}, \\qquad n = 0, \\ldots, N/2\n",
    "$$"
   ]
  },
  {
   "cell_type": "code",
   "execution_count": null,
   "metadata": {},
   "outputs": [],
   "source": [
    "if __name__ == '__main__':\n",
    "    fig, sp = plt.subplots(1, 4, gridspec_kw={'wspace': 1})\n",
    "    for n in range(0, 4):\n",
    "        sp[n].plot(np.cos(np.linspace(0, 2 * np.pi, 100)), np.sin(np.linspace(0, 2 * np.pi, 100)), 'k:')\n",
    "        p = np.roots(signal.butter(2 * (n + 1), 1, analog=True)[1])\n",
    "        sp[n].plot(p.real, p.imag, 'C3x', ms=10, markeredgewidth=3.0)\n",
    "        sp[n].axis('square')\n",
    "        sp[n].set_xlim(-1.2, 1.2)        \n",
    "        sp[n].set_ylim(-1.2, 1.2)"
   ]
  },
  {
   "cell_type": "markdown",
   "metadata": {},
   "source": [
    "Now, a generic second-order analog filter will have a single pair of complex-conjugate poles at $p_{1,2} = \\rho e^{\\pm \\theta}$ on the $s$-plane and, by cascading identical sections, we will only manage to increase the poles' multiplicity but we will not be able to change their position. In order to achieve a Butterworth pole configuration we will thus need to adjust the pole angle for each section; this is a simple task because it turns out that a second-order filter's quality factor $Q$ is related to the pole angle as \n",
    "$$\n",
    "    1/Q = 2\\cos \\theta\n",
    "$$ \n",
    "which means that we can choose the suitable pole angle for each section simply by setting $Q_n = 1/(2\\cos \\theta_n)$. We can now design $N/2$ discrete-time biquads with the same $Q_n$ values to obtain the desired result.\n",
    "\n",
    "Below is the example for a cascade of five lowpass sections (i.e. a  10th-order filter) compared to a single biquad, both with cutoff $f_c = 1000~\\mathrm{Hz}$; notice how the $-3~\\mathrm{dB}$ point has not moved in spite of the much steeper rolloff."
   ]
  },
  {
   "cell_type": "code",
   "execution_count": null,
   "metadata": {},
   "outputs": [],
   "source": [
    "if __name__ == '__main__':\n",
    "    _, ax = plt.subplots()\n",
    "    CUTOFF = 1000\n",
    "    b, a = LPF(CUTOFF, DEFAULT_SF)\n",
    "    analog_response(b, a, DEFAULT_SF, dB=-60, axis=ax, color='C0')\n",
    "    cb, ca, sections = [1], [1], 5\n",
    "    for n in range(0, sections):\n",
    "        iq = 2 * np.cos((2 * n + 1) * np.pi / (4 * sections))\n",
    "        b, a = LPF(CUTOFF, DEFAULT_SF, Q=1/iq)\n",
    "        ca = np.polymul(a, ca)\n",
    "        cb = np.polymul(b, cb)\n",
    "    analog_response(cb, ca, DEFAULT_SF, dB=-60, axis=ax, color='C1')\n",
    "    plt.axvline(x=CUTOFF, linewidth=0.5, color='r')    \n",
    "    plt.axhline(y=-3, linewidth=0.5, color='r')    "
   ]
  },
  {
   "cell_type": "markdown",
   "metadata": {},
   "source": [
    "The resulting digital filter has its poles arranged on a circular contour centered in $z=1$ if the cutoff frequency is less than $\\pi/2$ and centered on $z=-1$ otherwise. "
   ]
  },
  {
   "cell_type": "code",
   "execution_count": null,
   "metadata": {},
   "outputs": [],
   "source": [
    "if __name__ == '__main__':\n",
    "    filter_props(cb, ca, DEFAULT_SF, dB=-60)"
   ]
  },
  {
   "cell_type": "markdown",
   "metadata": {},
   "source": [
    "Finally, the following plot shows the individual magnitude responses of the five sections. You can observe that the required $Q_n$ values lead to some biquad sections with a clear peak at the cutoff frequency, although the overall response is monotonic:"
   ]
  },
  {
   "cell_type": "code",
   "execution_count": null,
   "metadata": {},
   "outputs": [],
   "source": [
    "if __name__ == '__main__':\n",
    "    _, ax = plt.subplots()\n",
    "    CUTOFF = 1000\n",
    "    cb, ca, sections = [1], [1], 5\n",
    "    for n in range(0, sections):\n",
    "        iq = 2 * np.cos((2 * n + 1) * np.pi / (4 * sections))\n",
    "        b, a = LPF(CUTOFF, DEFAULT_SF, Q=1/iq)\n",
    "        analog_response(b, a, DEFAULT_SF, dB=-0, axis=ax, color=f'C{n+2}:')\n",
    "        ca = np.polymul(a, ca)\n",
    "        cb = np.polymul(b, cb)\n",
    "    analog_response(cb, ca, DEFAULT_SF, dB=-60, axis=ax, color='C1')\n",
    "    plt.axvline(x=CUTOFF, linewidth=0.5, color='r')    \n",
    "    plt.axhline(y=-3, linewidth=0.5, color='r')    "
   ]
  },
  {
   "cell_type": "markdown",
   "metadata": {},
   "source": [
    "## Combining shelving filters\n",
    "\n",
    "Shelving filters may be combined to create filters to boost a particular frequency range"
   ]
  },
  {
   "cell_type": "code",
   "execution_count": null,
   "metadata": {},
   "outputs": [],
   "source": [
    "if __name__ == '__main__':\n",
    "    cb, ca = LSH(1000, 20, DEFAULT_SF)    \n",
    "    b, a = HSH(10, 20, DEFAULT_SF)\n",
    "    cb = np.polymul(b, cb) \n",
    "    ca = np.polymul(a, ca)\n",
    "    # normalize \n",
    "    analog_response(cb / 10, ca, DEFAULT_SF, dB=-50, points=10001)"
   ]
  },
  {
   "cell_type": "markdown",
   "metadata": {},
   "source": [
    "## Parametric equalization\n",
    "\n",
    "Peaking equalizers with distinct bandwidths can be cascaded to obtain an arbitrary equalization curve for the entire range of input frequencies; indeed, this is the technique behind so-called _parametric equalizers_ where a bank of logarithmically spaced peaking eq's with independent gain controls allow the user to easily define a global equalization response."
   ]
  },
  {
   "cell_type": "code",
   "execution_count": null,
   "metadata": {},
   "outputs": [],
   "source": [
    "if __name__ == '__main__':\n",
    "    cb, ca = np.ones(1), np.ones(1)\n",
    "    for n, g in enumerate([20, -10, 40]):\n",
    "        b, a = PEQ(10 ** (n+1), 10 ** (n + 1), g, DEFAULT_SF)\n",
    "        cb = np.polymul(b, cb)\n",
    "        ca = np.polymul(a, ca)\n",
    "    analog_response(cb, ca, DEFAULT_SF, dB=-50, points=10001)"
   ]
  },
  {
   "cell_type": "markdown",
   "metadata": {},
   "source": [
    "# Examples"
   ]
  },
  {
   "cell_type": "code",
   "execution_count": null,
   "metadata": {},
   "outputs": [],
   "source": []
  },
  {
   "cell_type": "markdown",
   "metadata": {},
   "source": [
    "# References\n",
    "\n",
    "https://webaudio.github.io/Audio-EQ-Cookbook/audio-eq-cookbook.html"
   ]
  }
 ],
 "metadata": {
  "kernelspec": {
   "display_name": "Python 3",
   "language": "python",
   "name": "python3"
  },
  "language_info": {
   "codemirror_mode": {
    "name": "ipython",
    "version": 3
   },
   "file_extension": ".py",
   "mimetype": "text/x-python",
   "name": "python",
   "nbconvert_exporter": "python",
   "pygments_lexer": "ipython3",
   "version": "3.8.8"
  }
 },
 "nbformat": 4,
 "nbformat_minor": 4
}
