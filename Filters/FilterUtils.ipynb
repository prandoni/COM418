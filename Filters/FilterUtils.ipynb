{
 "cells": [
  {
   "cell_type": "markdown",
   "metadata": {},
   "source": [
    "<div align=\"right\"><i>COM418 - Computers and Music</i></div>\n",
    "<div align=\"right\"><a href=\"https://people.epfl.ch/paolo.prandoni\">Paolo Prandoni</a>, <a href=\"https://www.epfl.ch/labs/lcav/\">LCAV, EPFL</a></div>\n",
    "\n",
    "<p style=\"font-size: 30pt; font-weight: bold; color: #B51F1F;\">Tools for digital filters</p>"
   ]
  },
  {
   "cell_type": "code",
   "execution_count": null,
   "metadata": {},
   "outputs": [],
   "source": [
    "import numpy as np\n",
    "import matplotlib.pyplot as plt\n",
    "import matplotlib\n",
    "import ipywidgets\n",
    "\n",
    "plt.rcParams['figure.figsize'] = 14, 4 \n",
    "matplotlib.rcParams.update({'font.size': 14})"
   ]
  },
  {
   "cell_type": "markdown",
   "metadata": {},
   "source": [
    "Sample filter to test the utility functions:"
   ]
  },
  {
   "cell_type": "code",
   "execution_count": null,
   "metadata": {},
   "outputs": [],
   "source": [
    "if __name__ == '__main__':\n",
    "    from scipy.signal import butter\n",
    "    b, a = butter(4, np.array([0.2, 0.4]), btype='band')"
   ]
  },
  {
   "cell_type": "markdown",
   "metadata": {},
   "source": [
    "# Plotting utilities"
   ]
  },
  {
   "cell_type": "markdown",
   "metadata": {},
   "source": [
    "## Frequency response\n",
    "\n",
    "The following function can be used to plot the magnitude and phase response of a filter implemented by the transfer function\n",
    "\n",
    "$$\n",
    "    H(z) = \\frac{b_0 + b_1 z^{-1} + \\ldots + b_{N-1}z^{-N+1}}{a_0 + a_1 z^{-1} + \\ldots + a_{N-1}z^{-N+1}}\n",
    "$$"
   ]
  },
  {
   "cell_type": "code",
   "execution_count": null,
   "metadata": {},
   "outputs": [],
   "source": [
    "def frequency_response(b, a, half=False, dB=False, points=2001, axis=None):\n",
    "    \"\"\"plot the frequency response (magnitude and phase) of a digital filter\"\"\"\n",
    "    EPS = 1e-20\n",
    "    w = np.linspace(-np.pi, np.pi, points)\n",
    "    A, B = np.zeros(points, dtype='complex'), np.zeros(points, dtype='complex')\n",
    "    for n, bn in enumerate(b):\n",
    "        B += bn * np.exp(-1j * n * w)\n",
    "    for n, an in enumerate(a):\n",
    "        A += an * np.exp(-1j * n * w)\n",
    "    H = B / np.where(A == 0, EPS, A)\n",
    "    M = 20 * np.log10(np.abs(np.where(H == 0, EPS, H))) if dB else np.abs(H)\n",
    "    \n",
    "    if axis is None:\n",
    "        _, axis = plt.subplots()\n",
    "    axis.plot(w, M, 'C0', lw=2)\n",
    "    axis.set_ylabel('dB' if dB else 'magnitude', color='C0')\n",
    "    axis.grid(b=True)    \n",
    "    ax2 = axis.twinx()\n",
    "    ax2.plot(w, np.angle(H + 1e-10), 'C2', alpha=.5)\n",
    "    ax2.set_ylabel('phase', color='C2')\n",
    "    ax2.set_yticks(np.pi * np.array([-1, -0.5, 0, 0.5, 1]))\n",
    "    ax2.set_yticklabels(['$-\\pi$', '$-\\pi/2$', 0, '$\\pi/2$', '$\\pi$'], color='C2')\n",
    "    axis.axis('tight')\n",
    "    plt.xticks(np.pi * np.array([-1, -0.5, 0, 0.5, 1]), ['$-\\pi$', '$-\\pi/2$', 0, '$\\pi/2$', '$\\pi$'])\n",
    "    if dB:\n",
    "        fs = float(dB)\n",
    "        fs = fs if fs < 0 else -100\n",
    "        axis.set_ylim([max(fs, min(M)), None])    \n",
    "    if half:\n",
    "        plt.xlim(0, np.pi)"
   ]
  },
  {
   "cell_type": "code",
   "execution_count": null,
   "metadata": {
    "tags": []
   },
   "outputs": [],
   "source": [
    "if __name__ == '__main__':\n",
    "    frequency_response(b, a, dB=-50, half=False)"
   ]
  },
  {
   "cell_type": "markdown",
   "metadata": {},
   "source": [
    "## Pole-zero plot"
   ]
  },
  {
   "cell_type": "code",
   "execution_count": null,
   "metadata": {},
   "outputs": [],
   "source": [
    "def zplane(b, a, axis=None):\n",
    "    \"\"\"plot the poles and zeros of a digital filter\"\"\"\n",
    "    p = np.roots(a)\n",
    "    z = np.roots(b)\n",
    "\n",
    "    if axis is None:\n",
    "        _, axis = plt.subplots()\n",
    "    axis.plot(z.real, z.imag, 'C0o', ms=10)\n",
    "    axis.plot(p.real, p.imag, 'C3x', ms=10, markeredgewidth=3.0)\n",
    "    axis.plot(np.cos(np.linspace(0, 2 * np.pi, 100)), np.sin(np.linspace(0, 2 * np.pi, 100)), 'k:')\n",
    "    axis.spines['left'].set_position((\"data\", 0))\n",
    "    axis.spines['bottom'].set_position((\"data\", 0))\n",
    "    axis.spines['top'].set_visible(False)\n",
    "    axis.spines['right'].set_visible(False)\n",
    "    axis.axis('square')"
   ]
  },
  {
   "cell_type": "code",
   "execution_count": null,
   "metadata": {},
   "outputs": [],
   "source": [
    "if __name__ == '__main__':\n",
    "    zplane(b, a)"
   ]
  },
  {
   "cell_type": "markdown",
   "metadata": {},
   "source": [
    "## ... and both at the same time"
   ]
  },
  {
   "cell_type": "code",
   "execution_count": null,
   "metadata": {},
   "outputs": [],
   "source": [
    "def filter_props(b, a, half=False, dB=False, points=2001):\n",
    "    fig, (af, ap) = plt.subplots(1, 2, gridspec_kw={'width_ratios': [3, 1], 'wspace': 0.3})\n",
    "    frequency_response(b, a, half=half, dB=dB, points=points, axis=af)\n",
    "    zplane(b, a, axis=ap)"
   ]
  },
  {
   "cell_type": "code",
   "execution_count": null,
   "metadata": {},
   "outputs": [],
   "source": [
    "if __name__ == '__main__':\n",
    "    filter_props(b, a)"
   ]
  },
  {
   "cell_type": "markdown",
   "metadata": {},
   "source": [
    "## Analog magnitude response\n",
    "\n",
    "In audio applications it is customary to plot the magnitude response on a logarithmic frequency scale in Hz"
   ]
  },
  {
   "cell_type": "code",
   "execution_count": null,
   "metadata": {},
   "outputs": [],
   "source": [
    "def analog_response(b, a, sf, dB=-100, half=True, points=2001, axis=None, color='C0', label=None):\n",
    "    \"\"\"plot the magnitude response of a digital filter on a log-log scale\"\"\"\n",
    "    EPS = 1e-20\n",
    "    w = np.linspace(0, np.pi, points)\n",
    "    A, B = np.zeros(points, dtype='complex'), np.zeros(points, dtype='complex')\n",
    "    for n, bn in enumerate(b):\n",
    "        B += bn * np.exp(-1j * n * w)\n",
    "    for n, an in enumerate(a):\n",
    "        A += an * np.exp(-1j * n * w)\n",
    "    M = 20 * np.log10(np.abs(np.where(B == 0, EPS, B) / (np.where(A == 0, EPS, A))))\n",
    "    \n",
    "    if axis is None:\n",
    "        _, axis = plt.subplots()\n",
    "    axis.plot(np.linspace(0, sf / 2, points), M, color, lw=2, label=label)\n",
    "    axis.set_xscale('log')\n",
    "    axis.set_ylabel('dB', color='C0')\n",
    "    axis.grid(b=True, which='both')    \n",
    "    axis.axis('tight')\n",
    "    axis.set_ylim([max(dB, min(M)), None])    "
   ]
  },
  {
   "cell_type": "code",
   "execution_count": null,
   "metadata": {},
   "outputs": [],
   "source": [
    "if __name__ == '__main__':\n",
    "    analog_response(b, a, 8000, dB=-40)"
   ]
  },
  {
   "cell_type": "markdown",
   "metadata": {},
   "source": [
    "# Filtering utilities"
   ]
  },
  {
   "cell_type": "markdown",
   "metadata": {},
   "source": [
    "Normal filtering of a data sequence can be achieved with scipy's `lfilter`"
   ]
  },
  {
   "cell_type": "code",
   "execution_count": null,
   "metadata": {},
   "outputs": [],
   "source": [
    "if __name__ == '__main__':\n",
    "    from scipy import signal\n",
    "    y = signal.lfilter(b, a, np.r_[1, np.zeros(100)])\n",
    "    plt.plot(y)"
   ]
  },
  {
   "cell_type": "markdown",
   "metadata": {},
   "source": [
    "## Stateful filtering\n",
    "\n",
    "This is not very efficient but allows for successive calls with status preservation"
   ]
  },
  {
   "cell_type": "code",
   "execution_count": null,
   "metadata": {},
   "outputs": [],
   "source": [
    "class IIR:\n",
    "    def __init__(self, b, a):\n",
    "        assert a[0] == 1\n",
    "        L = max(len(a), len(b))\n",
    "        self.a, self.b = np.zeros(L), np.zeros(L)\n",
    "        self.a[:len(a)] = a\n",
    "        self.b[:len(b)] = b\n",
    "        self.buf = np.zeros((2, L))\n",
    "\n",
    "    def reset(self):\n",
    "        self.buf *= 0.0\n",
    "\n",
    "    def filter(self, x):\n",
    "        y = np.zeros(len(x))\n",
    "        for n, xn in enumerate(x):\n",
    "            self.buf[:,0] = [xn, 0]\n",
    "            y[n] = self.buf[1][0] = self.b @ self.buf[0] - self.a @ self.buf[1]\n",
    "            self.buf = np.roll(self.buf, 1, axis=1)\n",
    "        return y"
   ]
  },
  {
   "cell_type": "code",
   "execution_count": null,
   "metadata": {},
   "outputs": [],
   "source": [
    "if __name__ == '__main__':\n",
    "    bp = IIR(b, a)\n",
    "    \n",
    "    # one go:\n",
    "    x = np.r_[1, np.zeros(100)]\n",
    "    plt.plot(bp.filter(x))\n",
    "    \n",
    "    # sample by sample:\n",
    "    for n, v in enumerate(x):\n",
    "        x[n] = bp.filter([v])\n",
    "    plt.plot(x)"
   ]
  }
 ],
 "metadata": {
  "kernelspec": {
   "display_name": "Python 3",
   "language": "python",
   "name": "python3"
  },
  "language_info": {
   "codemirror_mode": {
    "name": "ipython",
    "version": 3
   },
   "file_extension": ".py",
   "mimetype": "text/x-python",
   "name": "python",
   "nbconvert_exporter": "python",
   "pygments_lexer": "ipython3",
   "version": "3.8.8"
  }
 },
 "nbformat": 4,
 "nbformat_minor": 4
}
