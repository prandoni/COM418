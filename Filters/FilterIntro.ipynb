{
 "cells": [
  {
   "cell_type": "markdown",
   "metadata": {
    "slideshow": {
     "slide_type": "slide"
    }
   },
   "source": [
    "<div align=\"right\"><i>COM418 - Computers and Music</i></div>\n",
    "<div align=\"right\"><a href=\"https://people.epfl.ch/paolo.prandoni\">Paolo Prandoni</a>, <a href=\"https://www.epfl.ch/labs/lcav/\">LCAV, EPFL</a></div>\n",
    "\n",
    "<p style=\"font-size: 30pt; font-weight: bold; color: #B51F1F;\">Everything you wanted to know about filters<br>but, wisely, never asked</p>"
   ]
  },
  {
   "cell_type": "code",
   "execution_count": null,
   "metadata": {
    "slideshow": {
     "slide_type": "skip"
    }
   },
   "outputs": [],
   "source": [
    "import numpy as np\n",
    "from scipy import signal\n",
    "import matplotlib.pyplot as plt\n",
    "import IPython"
   ]
  },
  {
   "cell_type": "code",
   "execution_count": null,
   "metadata": {
    "slideshow": {
     "slide_type": "skip"
    }
   },
   "outputs": [],
   "source": [
    "plt.rcParams['figure.figsize'] = 14, 4 \n",
    "DEFAULT_SF = 32000"
   ]
  },
  {
   "cell_type": "markdown",
   "metadata": {
    "slideshow": {
     "slide_type": "slide"
    },
    "tags": [],
    "toc-hr-collapsed": true
   },
   "source": [
    "# What is a filter?\n",
    "\n",
    "A filter is a device (or material) used to modify an input quantity by holding back some of its components.  "
   ]
  },
  {
   "cell_type": "markdown",
   "metadata": {
    "slideshow": {
     "slide_type": "slide"
    }
   },
   "source": [
    "## Etymologically...\n",
    "<img src=\"img/airfilter.jpg\" alt=\"Drawing\" style=\"float: right; width: 500px; margin: 0px 30px;\"/>\n",
    "\n",
    "The word \"filter\" comes from \"felt\", a type of thick, porous fabric used as a sieve for liquids.\n",
    "\n",
    "\n",
    "<img src=\"img/tips.jpg\" alt=\"Drawing\" style=\"float: lefti; width: 200px; margin: 30px 30px;\"/>\n",
    "\n"
   ]
  },
  {
   "cell_type": "markdown",
   "metadata": {
    "slideshow": {
     "slide_type": "slide"
    }
   },
   "source": [
    "## Acoustic filters\n",
    "<img src=\"img/earplugs1.jpg\" alt=\"Drawing\" style=\"float: left; width: 300px; margin: 100px 30px;\"/>\n",
    "<img src=\"img/earplugs2.jpg\" alt=\"Drawing\" style=\"float: right; width: 300px; margin: 100px 30px;\"/>\n"
   ]
  },
  {
   "cell_type": "markdown",
   "metadata": {
    "slideshow": {
     "slide_type": "slide"
    }
   },
   "source": [
    "## Mechanical filters\n",
    "\n",
    "<img src=\"img/shockabsorber.jpg\" alt=\"Drawing\" style=\"float: left; width: 500px; margin: 100px 30px;\"/>"
   ]
  },
  {
   "cell_type": "markdown",
   "metadata": {
    "slideshow": {
     "slide_type": "slide"
    }
   },
   "source": [
    "## Optical filters\n",
    "\n",
    "<img src=\"img/3dglasses.png\" alt=\"Drawing\" style=\"float: left; width: 500px; margin: 100px 30px;\"/>"
   ]
  },
  {
   "cell_type": "markdown",
   "metadata": {
    "slideshow": {
     "slide_type": "slide"
    }
   },
   "source": [
    "## Electronic filters\n",
    "\n",
    "<img src=\"img/crossover.jpg\" alt=\"Drawing\" style=\"float: left; width: 500px; margin: 100px 30px;\"/>"
   ]
  },
  {
   "cell_type": "markdown",
   "metadata": {
    "slideshow": {
     "slide_type": "slide"
    }
   },
   "source": [
    "## Digital filters\n",
    "\n",
    "<img src=\"img/biquad.png\" alt=\"Drawing\" style=\"float: left; width: 600px; margin: 100px 30px;\"/>"
   ]
  },
  {
   "cell_type": "markdown",
   "metadata": {
    "slideshow": {
     "slide_type": "slide"
    }
   },
   "source": [
    "# Passive electronic filters\n",
    "\n",
    "The theory of electronic filters developed at the beginning of the 20th century when engineers tried to overcome the difficulties of sending electrical signals over longer and longer wires. A long wire:\n",
    " * has an intrinsic resistence causing attenuation (understood at the time)\n",
    " * has a _distributed capacitance_ (not fully understood at the time)\n",
    "\n",
    "The net result is that a long wire is equivalent to a RC lowpass filter.\n",
    "\n",
    "<img src=\"img/rc.png\" alt=\"Drawing\" style=\"float: left; width: 500px; margin: 50px 300px;\"/>\n"
   ]
  },
  {
   "cell_type": "markdown",
   "metadata": {
    "slideshow": {
     "slide_type": "slide"
    }
   },
   "source": [
    "## The capacitor\n",
    "<img src=\"img/capacitor.jpg\" alt=\"Drawing\" style=\"float: right; width: 300px; margin: 0px 30px;\"/>\n",
    "\n",
    "A capacitor is a device that can **store** energy by accumulating charges and creating an electric field\n",
    "\n",
    " * discovered in 1746 (the Leyden jar)\n",
    " * basically used as a battery until the development of radio"
   ]
  },
  {
   "cell_type": "markdown",
   "metadata": {
    "slideshow": {
     "slide_type": "slide"
    }
   },
   "source": [
    "### Capacitance (Farads)\n",
    "\n",
    "$$\n",
    "    Q = CV\n",
    "$$\n",
    "\n",
    "<br>\n",
    "energy stored:\n",
    "$$\n",
    "    E_C = \\frac{1}{2}CV^2\n",
    "$$"
   ]
  },
  {
   "cell_type": "markdown",
   "metadata": {
    "slideshow": {
     "slide_type": "slide"
    }
   },
   "source": [
    "### Dynamic behavior\n",
    "\n",
    "$$\n",
    "    \\frac{\\partial Q}{\\partial t} = C\\frac{\\partial V}{\\partial t} \\quad \\Rightarrow \\quad i(t) = C v'(t)\n",
    "$$"
   ]
  },
  {
   "cell_type": "markdown",
   "metadata": {
    "slideshow": {
     "slide_type": "slide"
    }
   },
   "source": [
    "### Hydraulic analogy\n",
    "\n",
    "<img src=\"img/Capacitor-animation.gif\" alt=\"Drawing\" style=\"width: 800px; margin: 0px 30px;\"/>\n",
    "\n",
    "<i><small>Image by KDS4444 - Own work, CC BY-SA 4.0, https://commons.wikimedia.org/w/index.php?curid=64021013</small></i>"
   ]
  },
  {
   "cell_type": "markdown",
   "metadata": {
    "slideshow": {
     "slide_type": "slide"
    }
   },
   "source": [
    "### Ohm's law for a resistor\n",
    "\n",
    "<img src=\"img/resistance.jpg\" alt=\"Drawing\" style=\"float: right; width: 400px; margin: 0px 30px;\"/>\n",
    "\n",
    "\n",
    "Resistors are indifferent to frequency; Ohm's law:\n",
    "\n",
    "$$\n",
    "    \\frac{v(t)}{i(t)} = R\n",
    "$$\n",
    "\n"
   ]
  },
  {
   "cell_type": "markdown",
   "metadata": {
    "slideshow": {
     "slide_type": "slide"
    }
   },
   "source": [
    "### Capacitive reactance\n",
    "<img src=\"img/reactance.jpg\" alt=\"Drawing\" style=\"float: right; width: 400px; margin: 0px 30px;\"/>\n",
    "\n",
    " * voltage across the capacitor: $v(t) = \\cos(\\omega t)$\n",
    " * current: $i(t) = Cv'(t) = -\\omega C\\sin(\\omega t)$\n",
    " * _reactance_ : ratio of peak voltage to peak current for a sinusoidal input:\n",
    " $$\n",
    "    X_C = \\frac{1}{\\omega C}\n",
    " $$\n",
    "\n",
    "A capacitor acts as a frequency-dependent resistor:\n",
    " * at low frequencies a capacitor acts like a large resistor\n",
    " * at high frequencies a capacitor acts like a wire"
   ]
  },
  {
   "cell_type": "markdown",
   "metadata": {
    "slideshow": {
     "slide_type": "slide"
    }
   },
   "source": [
    "### The RC lowpass filter\n",
    "\n",
    "<img src=\"img/rc.png\" alt=\"Drawing\" style=\"float: right; width: 300px; margin: 0px 30px;\"/>\n",
    "\n",
    "differential equation:\n",
    "$$\n",
    "\\begin{align*}\n",
    "    v_\\mathrm{out}(t) &= v_\\mathrm{in}(t) - Ri(t) &\\qquad \\mbox{(voltage drop on resistor)}\\\\\n",
    "                      &= v_\\mathrm{in}(t) - RCv_\\mathrm{out}'(t)  &\\qquad \\mbox{(current is the same on R and C)}\\\\\n",
    "\\end{align*}\n",
    "$$\n",
    "\n",
    "<br>\n",
    "using the Laplace transform:\n",
    "\n",
    "$$\n",
    "    V_\\mathrm{out}(s) = \\frac{1}{RCs + 1}V_\\mathrm{in}(s)\\qquad \\mbox{(transfer funcion)}\\\\\n",
    "$$\n"
   ]
  },
  {
   "cell_type": "markdown",
   "metadata": {
    "slideshow": {
     "slide_type": "slide"
    }
   },
   "source": [
    "An RC filter has an attenuation of 20 dB/decade on a Bode plot. Example for $R=10~\\mathrm{k}\\Omega$ and $C=100~\\mathrm{nF}$:"
   ]
  },
  {
   "cell_type": "code",
   "execution_count": null,
   "metadata": {},
   "outputs": [],
   "source": [
    "rc_lp = [1/100, 1]\n",
    "plt.semilogx(*signal.bode(([1], rc_lp), w=np.logspace(0, 4, 1000))[:2]);\n",
    "plt.grid();"
   ]
  },
  {
   "cell_type": "markdown",
   "metadata": {
    "slideshow": {
     "slide_type": "slide"
    }
   },
   "source": [
    "### The RC lowpass (discretized)\n",
    "\n",
    "pick sampling period $T$:\n",
    "\n",
    "$$\n",
    "\\begin{align*}\n",
    "    v_\\mathrm{in}(nT) &= x[n]\\\\\n",
    "    v_\\mathrm{out}(nT) &= y[n]\\\\\n",
    "    v_\\mathrm{out}'(nT) &\\approx \\frac{y[n] - y[n-1]}{T}\n",
    "\\end{align*}\n",
    "$$\n",
    "\n",
    "\n",
    "and discretize $v_\\mathrm{out}(t) = v_\\mathrm{in}(t) - RCv_\\mathrm{out}'(t)$:\n",
    "$$\n",
    "\\begin{align*}\n",
    "    y[n] &= x[n] - (RC/T)(y[n] - y[n-1]) & \\qquad RC/T  \\rightarrow \\alpha \\\\\n",
    "    (1+\\alpha)y[n] &= x[n] + \\alpha y[n-1]\\\\\n",
    "    y[n] &= \\frac{1}{1+\\alpha} x[n] + \\frac{\\alpha}{1+\\alpha} y[n-1] & \\qquad \\alpha/(1+\\alpha) \\rightarrow \\lambda \\\\ \\\\\n",
    "    y[n] &= (1-\\lambda) x[n] + \\lambda y[n-1] \\qquad \\leftarrow \\mbox{we know this guy!}\n",
    "\\end{align*}\n",
    "$$"
   ]
  },
  {
   "cell_type": "code",
   "execution_count": null,
   "metadata": {
    "slideshow": {
     "slide_type": "slide"
    }
   },
   "outputs": [],
   "source": [
    "lam=0.9\n",
    "w, h = signal.freqz(1-lam, [1, -lam], worN=np.linspace(-np.pi, np.pi, 1001))\n",
    "plt.plot(w, np.abs(h))\n",
    "plt.grid()"
   ]
  },
  {
   "cell_type": "code",
   "execution_count": null,
   "metadata": {
    "slideshow": {
     "slide_type": "slide"
    }
   },
   "outputs": [],
   "source": [
    "plt.semilogx(w, 10 * np.log(np.abs(h)))\n",
    "plt.grid()"
   ]
  },
  {
   "cell_type": "markdown",
   "metadata": {},
   "source": [
    "RC circuits are passive and work by dissipating the energy of unwanted frequencies through the resistor: gain is always at most one. \n"
   ]
  },
  {
   "cell_type": "markdown",
   "metadata": {
    "slideshow": {
     "slide_type": "slide"
    }
   },
   "source": [
    "## The telegraph system\n",
    "<img src=\"img/telegraph.jpg\" alt=\"Drawing\" style=\"float: right; width: 400px; margin: 0px 0px;\"/>\n",
    "\n",
    "A basic telegraph system is just an ON/OFF circuit over a long wire. First demonstrated in 1844.\n",
    "\n",
    "Detection can be performed acoustically, visually (lamp, needle or trace on paper)\n",
    "\n",
    "Things are simple as long as the wire is not too long..."
   ]
  },
  {
   "cell_type": "markdown",
   "metadata": {
    "slideshow": {
     "slide_type": "slide"
    }
   },
   "source": [
    "### Let's build a Morse-code transmitter"
   ]
  },
  {
   "cell_type": "code",
   "execution_count": null,
   "metadata": {},
   "outputs": [],
   "source": [
    "def morse(msg, wpm=50, sf=DEFAULT_SF):\n",
    "    # using PARIS timing values:\n",
    "    DIT = int(sf * 60 / (50 * wpm)) # dot\n",
    "    DAH = 3 * DIT  # dash\n",
    "    ISS = 1 * DIT  # intra-symbol space\n",
    "    ICS = 3 * DIT  # inter-character space\n",
    "    IWS = 7 * DIT  # inter-word space\n",
    "    DICT = { \n",
    "        'A':'.-', 'B':'-...','C':'-.-.', 'D':'-..', 'E':'.', 'F':'..-.', 'G':'--.', 'H':'....', 'I':'..', 'J':'.---', \n",
    "        'K':'-.-', 'L':'.-..', 'M':'--', 'N':'-.', 'O':'---', 'P':'.--.', 'Q':'--.-', 'R':'.-.', 'S':'...', 'T':'-',\n",
    "        'U':'..-', 'V':'...-', 'W':'.--', 'X':'-..-', 'Y':'-.--', 'Z':'--..', '1':'.----', '2':'..---', '3':'...--', \n",
    "        '4':'....-', '5':'.....', '6':'-....', '7':'--...', '8':'---..', '9':'----.', '0':'-----', ', ':'--..--', \n",
    "        '.':'.-.-.-', '?':'..--..', '/':'-..-.', '-':'-....-', '(':'-.--.', ')':'-.--.-'}\n",
    "    \n",
    "    # crude upper bound on number of samples\n",
    "    x, ix = np.zeros(30 * DIT * len(msg), dtype=float), 0\n",
    "    for c in msg.upper():\n",
    "        if c == ' ':\n",
    "            ix += IWS\n",
    "        else:\n",
    "            for d in DICT[c]:\n",
    "                h = DIT if d == '.' else DAH\n",
    "                x[ix:ix+h] = 1\n",
    "                ix = ix + h + ISS\n",
    "            ix += ICS\n",
    "    return np.linspace(0, ix / sf, ix), x[:ix]"
   ]
  },
  {
   "cell_type": "code",
   "execution_count": null,
   "metadata": {
    "slideshow": {
     "slide_type": "slide"
    }
   },
   "outputs": [],
   "source": [
    "t = morse(\"computers and music\", wpm=25)\n",
    "plt.plot(*t);"
   ]
  },
  {
   "cell_type": "code",
   "execution_count": null,
   "metadata": {},
   "outputs": [],
   "source": [
    "IPython.display.Audio(t[1], rate=DEFAULT_SF)"
   ]
  },
  {
   "cell_type": "code",
   "execution_count": null,
   "metadata": {
    "slideshow": {
     "slide_type": "slide"
    }
   },
   "outputs": [],
   "source": [
    "from IPython.display import YouTubeVideo\n",
    "id='YPsgEdmlUf0?t=12'\n",
    "YouTubeVideo(id=id,width=600,height=300)"
   ]
  },
  {
   "cell_type": "markdown",
   "metadata": {
    "slideshow": {
     "slide_type": "slide"
    }
   },
   "source": [
    "### Sending telegrams from Europe to America\n",
    "\n",
    "In the 1860 the first telegraph cables were laid between Europe and the US (~3000 km)\n",
    "\n",
    "A long cable is like an RC lowpass filter:\n",
    " * $\\approx 100~\\Omega/\\mathrm{km}$ resistance\n",
    " * $\\approx 1~\\mathrm{nF}/\\mathrm{km}$ capacitance\n",
    " \n",
    "For a 3000 km cable, equivalent cutoff frequency $\\approx 0.2~\\mathrm{Hz}$"
   ]
  },
  {
   "cell_type": "markdown",
   "metadata": {
    "slideshow": {
     "slide_type": "slide"
    }
   },
   "source": [
    "### Simulating the RC lowpass with a leaky integrator\n",
    "\n",
    "Useful approximation for a leaky integrator with cutoff $f_c$ working at $F_s$ samples per second:\n",
    "\n",
    "$$\n",
    "    \\lambda \\approx e^{-2\\pi f_c/F_s}\n",
    "$$"
   ]
  },
  {
   "cell_type": "markdown",
   "metadata": {
    "slideshow": {
     "slide_type": "slide"
    }
   },
   "source": [
    "### See what happens at the other end"
   ]
  },
  {
   "cell_type": "code",
   "execution_count": null,
   "metadata": {},
   "outputs": [],
   "source": [
    "def test_wpm(wpm, fc=0.2, sf=DEFAULT_SF, msg=\"computers and music\"):\n",
    "    n, t = morse(msg, wpm=wpm)\n",
    "    lam = np.exp(-2 * np.pi * fc / DEFAULT_SF)\n",
    "    rt = signal.lfilter([1-lam], [1, -lam], t)\n",
    "    plt.plot(n, t, 'gray')\n",
    "    plt.plot(n, rt)\n",
    "    return rt"
   ]
  },
  {
   "cell_type": "code",
   "execution_count": null,
   "metadata": {
    "slideshow": {
     "slide_type": "slide"
    }
   },
   "outputs": [],
   "source": [
    "rt = test_wpm(25)"
   ]
  },
  {
   "cell_type": "code",
   "execution_count": null,
   "metadata": {},
   "outputs": [],
   "source": [
    "IPython.display.Audio(rt, rate=DEFAULT_SF)"
   ]
  },
  {
   "cell_type": "markdown",
   "metadata": {
    "slideshow": {
     "slide_type": "slide"
    }
   },
   "source": [
    "### How slow do we have to transmit?"
   ]
  },
  {
   "cell_type": "code",
   "execution_count": null,
   "metadata": {},
   "outputs": [],
   "source": [
    "test_wpm(10);"
   ]
  },
  {
   "cell_type": "code",
   "execution_count": null,
   "metadata": {
    "slideshow": {
     "slide_type": "slide"
    }
   },
   "outputs": [],
   "source": [
    "test_wpm(5);"
   ]
  },
  {
   "cell_type": "code",
   "execution_count": null,
   "metadata": {
    "slideshow": {
     "slide_type": "slide"
    }
   },
   "outputs": [],
   "source": [
    "test_wpm(1);"
   ]
  },
  {
   "cell_type": "markdown",
   "metadata": {
    "slideshow": {
     "slide_type": "slide"
    }
   },
   "source": [
    "### How do we fix this?\n",
    "\n",
    "To widen the bandwidth of the transmission line we need to \"pull up\" the transfer function. How can we do it?\n",
    "\n",
    " * the modern way: use amplifiers and build **active** filters with gains > 1\n",
    " * in the early days: use **inductors** and build passive RLC filters"
   ]
  },
  {
   "cell_type": "markdown",
   "metadata": {
    "slideshow": {
     "slide_type": "slide"
    }
   },
   "source": [
    "## The inductor\n",
    "\n",
    "<img src=\"img/inductor.jpg\" alt=\"Drawing\" style=\"float: right; width: 300px; margin: 0px 30px;\"/>\n",
    "\n",
    "An inductor is an electronic device that can **store** energy by creating a magnetic field.\n",
    "\n",
    "$$ E_L = \\frac{1}{2}LI^2 $$"
   ]
  },
  {
   "cell_type": "markdown",
   "metadata": {
    "slideshow": {
     "slide_type": "slide"
    }
   },
   "source": [
    "### Dynamic behavior\n",
    "\n",
    "An inductor tries to \"resist\" changes in current flow by generating an opposing voltage:\n",
    "\n",
    "$$\n",
    "    v(t) = -L i'(t)\n",
    "$$"
   ]
  },
  {
   "cell_type": "markdown",
   "metadata": {
    "slideshow": {
     "slide_type": "slide"
    }
   },
   "source": [
    "### Hydraulic analogy\n",
    "\n",
    "<img src=\"img/inductor.png\" alt=\"Drawing\" style=\"width: 400px; margin: 100px 0 0 300px;\"/>\n"
   ]
  },
  {
   "cell_type": "markdown",
   "metadata": {
    "slideshow": {
     "slide_type": "slide"
    }
   },
   "source": [
    "### Inductive reactance\n",
    "<img src=\"img/inductance.jpg\" alt=\"Drawing\" style=\"float: right; width: 400px; margin: 0px 30px;\"/>\n",
    "\n",
    " * voltage across inductor: $v(t) = \\cos(\\omega t)$\n",
    " * current: $i(t) = \\sin(\\omega t)/ (\\omega L)$\n",
    " * _reactance_ : ratio of peak voltage to peak current for a sinusoidal input:\n",
    "    $$\n",
    "        X_L = \\omega L\n",
    "    $$\n",
    "\n",
    "\n",
    "An inductor also acts as a frequency-dependent resistor:\n",
    " * at low frequencies an inductor acts like a wire\n",
    " * at high frequencies an inductor acts like a large resistor\n",
    " * miraculously, this is the inverse behavior of a capacitor (thank you Maxwell!)\n",
    " \n",
    "OK, but how does this help us \"lift up\" the frequency response?"
   ]
  },
  {
   "cell_type": "markdown",
   "metadata": {
    "slideshow": {
     "slide_type": "slide"
    }
   },
   "source": [
    "### Intuition #1: the kickback\n",
    "\n",
    "<img src=\"img/kickback.jpg\" alt=\"Drawing\" style=\"float: left; height: 200px; margin: 50px 60px;\"/>\n",
    "\n",
    " * close circuit: current starts to increase from zero with inital slope $V$\n",
    " * steady state: voltage across inductor is zero and current is $i_0$ (finite because of some resistance)\n",
    " * open circuit: current drops to zero instantaneously; voltage across inductor: $v(t) \\approx -L i_0/\\Delta t \\rightarrow -\\infty$\n",
    " \n",
    " \n",
    "(Of course we can increase the voltage but not the power, since inductors are passive.)"
   ]
  },
  {
   "cell_type": "markdown",
   "metadata": {
    "slideshow": {
     "slide_type": "slide"
    }
   },
   "source": [
    "### Intuition #2: resonance in an LC circuit (tank circuit)\n",
    "\n",
    "<img src=\"img/lctank.jpg\" alt=\"Drawing\" style=\"height: 400px;\"/>\n",
    "\n",
    "\n",
    "\n"
   ]
  },
  {
   "cell_type": "markdown",
   "metadata": {
    "slideshow": {
     "slide_type": "slide"
    }
   },
   "source": [
    " * natural frequency of the system $\\omega_0 = 1/\\sqrt{LC}$\n",
    " * amplitude of the oscillation: depending on the amount of initial charge\n",
    " * if a little charge is repetedly added _at the right times_ , amplitude increases indefinitely because no energy is lost\n",
    " * of course in reality there are losses"
   ]
  },
  {
   "cell_type": "markdown",
   "metadata": {
    "slideshow": {
     "slide_type": "slide"
    }
   },
   "source": [
    "### Hydraulic analogy for the LC tank circuit\n",
    "\n",
    "<img src=\"img/LChydraulic.png\" alt=\"Drawing\" style=\"width: 400px; margin: 0px 30px;\"/>\n"
   ]
  },
  {
   "cell_type": "markdown",
   "metadata": {
    "slideshow": {
     "slide_type": "slide"
    }
   },
   "source": [
    "### Digression: Resonance\n",
    "\n",
    "How can a physical system store energy? Static methods:\n",
    "  * as chemical bonds (batteries, food, fuel)\n",
    "  * as potential energy (dams)\n",
    "  * as thermal energy (liquid gas)\n",
    "  * ...\n",
    " \n",
    " \n",
    "A **resonant system** stores energy by alternately transferring it between different forms of storage:\n",
    "  * pendulum (kinetic vs. potential)\n",
    "  * vibrating string (kinetic vs. tensional)\n",
    "  * LC circuit (electric vs magnetic field)\n",
    "  * ..."
   ]
  },
  {
   "cell_type": "markdown",
   "metadata": {
    "slideshow": {
     "slide_type": "slide"
    }
   },
   "source": [
    "#### Resonance frequency\n",
    "\n",
    "The cadence of the internal energy transfer is called the natural frequency of a resonant system. \n",
    "\n",
    "Input energy at or near the resonant frequency will be absorbed by the system easily (and conversely). "
   ]
  },
  {
   "cell_type": "markdown",
   "metadata": {
    "slideshow": {
     "slide_type": "slide"
    }
   },
   "source": [
    "#### Resonance and complex poles\n",
    "\n",
    "The transfer function of a LTI resonant system necessarily has complex poles. Why?\n",
    "\n",
    "  * the impulse response of a LTI system is always a linear combination of decaying exponentials \n",
    "  * each exponential corresponds to a pole\n",
    "  * the resonant mechanism has an oscillatory component: the exponential must be complex"
   ]
  },
  {
   "cell_type": "markdown",
   "metadata": {
    "slideshow": {
     "slide_type": "slide"
    }
   },
   "source": [
    "### The RLC lowpass filter\n",
    "\n",
    "<img src=\"img/rlc.jpg\" alt=\"Drawing\" style=\"float: right; width: 400px; margin: 0px 30px;\"/>\n",
    "\n",
    "$$\n",
    "    V_\\mathrm{out}(s) = \\frac{1}{LCs^2 + RCs + 1}V_\\mathrm{in}(s)\n",
    "$$\n",
    "\n",
    " * second order filter\n",
    " * resonant frequency $\\omega_0 = 1/\\sqrt{LC}$\n",
    " * peak amplitude $Q = \\frac{1}{R}\\sqrt{\\frac{L}{C}}$\n",
    " * no peak for $Q \\le 1/\\sqrt{2}$"
   ]
  },
  {
   "cell_type": "markdown",
   "metadata": {
    "slideshow": {
     "slide_type": "slide"
    }
   },
   "source": [
    " * -40 dB/decade (twice the rolloff of an RC)\n",
    " * resonance peak if poles are complex-valued"
   ]
  },
  {
   "cell_type": "code",
   "execution_count": null,
   "metadata": {},
   "outputs": [],
   "source": [
    "plt.semilogx(*signal.bode(([1], [(1/100)**2, 1/40, 1]), w=np.logspace(0, 4, 1000))[:2]);\n",
    "plt.semilogx(*signal.bode(([1], [(1/100)**2, 1/70, 1]), w=np.logspace(0, 4, 1000))[:2]);\n",
    "plt.semilogx(*signal.bode(([1], [(1/100)**2, 1/200, 1]), w=np.logspace(0, 4, 1000))[:2]);\n",
    "plt.semilogx(*signal.bode(([1], [(1/100)**2, 1/1000, 1]), w=np.logspace(0, 4, 1000))[:2]);\n",
    "plt.grid();"
   ]
  },
  {
   "cell_type": "markdown",
   "metadata": {
    "slideshow": {
     "slide_type": "slide"
    }
   },
   "source": [
    "### \"Pulling up\" a transmission line\n",
    "\n",
    "How to use a RLC lowpass to double the bandwidth of a fixed RC-like transmission line:"
   ]
  },
  {
   "cell_type": "code",
   "execution_count": null,
   "metadata": {},
   "outputs": [],
   "source": [
    "rlc_lp = [1/30000, 1/300, 1]\n",
    "plt.semilogx(*signal.bode(([1], rc_lp), w=np.logspace(0, 4, 1000))[:2], label=\"RC lowpass\");\n",
    "plt.semilogx(*signal.bode(([1], rlc_lp), w=np.logspace(0, 4, 1000))[:2], label=\"RLC\");\n",
    "# cascading filters multiplies the transfer functions, which is equivalent to polynomial multiplication\n",
    "plt.semilogx(*signal.bode(([1], np.polymul(rc_lp, rlc_lp)), w=np.logspace(0, 4, 1000))[:2], label=\"cascade\");\n",
    "plt.grid();\n",
    "plt.legend();"
   ]
  },
  {
   "cell_type": "code",
   "execution_count": null,
   "metadata": {
    "slideshow": {
     "slide_type": "slide"
    }
   },
   "outputs": [],
   "source": [
    "plt.semilogx(*signal.bode(([1], rc_lp), w=np.logspace(0, 4, 1000))[:2]);\n",
    "plt.semilogx(*signal.bode(([1], np.polymul(rc_lp, rlc_lp)), w=np.logspace(0, 4, 1000))[:2], 'C2');\n",
    "plt.xlim(10, 500)\n",
    "plt.ylim(-10, 2)\n",
    "plt.grid();"
   ]
  },
  {
   "cell_type": "markdown",
   "metadata": {
    "slideshow": {
     "slide_type": "slide"
    }
   },
   "source": [
    "In practice, inductors called **loading coils** were spliced up every few km in telephone lines to flatten the bandwidth. As a side effect, traditional telephone lines have a cutoff at 4 kHz.\n",
    "\n",
    "<img src=\"img/loadingcoil.jpg\" alt=\"Drawing\" style=\"float: left; height: 200px; margin: 0px 0px;\"/>\n"
   ]
  },
  {
   "cell_type": "markdown",
   "metadata": {
    "slideshow": {
     "slide_type": "slide"
    }
   },
   "source": [
    "### The RLC second-order sections\n",
    "\n",
    "A RLC filter can be designed to be:\n",
    "  * lowpass\n",
    "  * highpass\n",
    "  * bandpass (in the limit: resonator)\n",
    "  * bandstop (int the limit: notch)\n",
    "  * allpass\n",
    "  \n",
    "Second order sections can be cascaded to implement higher-order filters. But passive analog sections are not decoupled, so it's a bit tricky."
   ]
  },
  {
   "cell_type": "markdown",
   "metadata": {
    "slideshow": {
     "slide_type": "slide"
    }
   },
   "source": [
    "## Active Electronic Filters\n",
    "\n",
    "Active filters use amplifying elements (tubes, transistors, op-amps, etc)\n",
    "\n",
    " * no need for inductors \n",
    " * gain larger than unity\n",
    " * decoupling between cascaded sections\n",
    " \n",
    "But\n",
    " * need power supply\n",
    " * limited to low-voltage applications (eg, still need passive filters in loudspeaker crossover filters)"
   ]
  },
  {
   "cell_type": "markdown",
   "metadata": {
    "slideshow": {
     "slide_type": "slide"
    }
   },
   "source": [
    "### The active second-order lowpass\n",
    "\n",
    "<img src=\"img/activelowpass.jpg\" alt=\"Drawing\" style=\"float: right; width: 400px; margin: 0px 30px;\"/>\n",
    "\n",
    "$$\n",
    "    V_\\mathrm{out}(s) = \\frac{1}{a_2 s^2 + a_1 s + 1}V_\\mathrm{in}(s)\n",
    "$$\n",
    "\n",
    " * second order filter\n",
    " * resonant frequency $\\omega_0 = 1/\\sqrt{R_1 R_2 C_1 C_2}$\n",
    " * peak amplitude $Q = \\sqrt{R_1 R_2 C_1 C_2}/(C_2(R_1 + R_2))$\n",
    " * no peak for $Q \\le 1/\\sqrt{2}$"
   ]
  },
  {
   "cell_type": "markdown",
   "metadata": {
    "slideshow": {
     "slide_type": "slide"
    }
   },
   "source": [
    "### The active second-order section\n",
    "\n",
    "<img src=\"img/towthomas.jpg\" alt=\"Drawing\" style=\"float: right; width: 400px; margin: 0px 30px;\"/>\n",
    "\n",
    "$$\n",
    "    V_\\mathrm{out}(s) = \\frac{b_2 s^2 + b_1 s + b_0}{a_2 s^2 + a_1 s + 1}V_\\mathrm{in}(s)\n",
    "$$\n",
    "\n",
    "Very complicated relation between transfer function coefficients and component ratings. "
   ]
  },
  {
   "cell_type": "markdown",
   "metadata": {
    "slideshow": {
     "slide_type": "slide"
    }
   },
   "source": [
    "<img src=\"img/biquad.png\" alt=\"Drawing\" style=\"float: right; width: 400px; margin: 20px 30px;\"/>\n",
    "\n",
    "# Luckily, we prefer DSP!\n",
    "\n",
    "Digital biquad sections provide:\n",
    " * the ability to replicate every analog designs \n",
    " * all the advantages of active filters \n",
    " * superior precision (no discrete components)\n",
    " * complete decoupling in cascade realizations\n",
    " * fully customizable second-order transfer functions"
   ]
  }
 ],
 "metadata": {
  "celltoolbar": "Slideshow",
  "kernelspec": {
   "display_name": "Python 3",
   "language": "python",
   "name": "python3"
  },
  "language_info": {
   "codemirror_mode": {
    "name": "ipython",
    "version": 3
   },
   "file_extension": ".py",
   "mimetype": "text/x-python",
   "name": "python",
   "nbconvert_exporter": "python",
   "pygments_lexer": "ipython3",
   "version": "3.8.8"
  },
  "toc-autonumbering": true
 },
 "nbformat": 4,
 "nbformat_minor": 4
}
