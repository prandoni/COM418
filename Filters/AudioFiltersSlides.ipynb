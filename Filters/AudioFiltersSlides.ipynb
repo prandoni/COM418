{
 "cells": [
  {
   "cell_type": "markdown",
   "metadata": {
    "slideshow": {
     "slide_type": "slide"
    }
   },
   "source": [
    "<div align=\"right\"><i>COM418 - Computers and Music</i></div>\n",
    "<div align=\"right\"><a href=\"https://people.epfl.ch/paolo.prandoni\">Paolo Prandoni</a>, <a href=\"https://www.epfl.ch/labs/lcav/\">LCAV, EPFL</a></div>\n",
    "\n",
    "<p style=\"font-size: 30pt; font-weight: bold; color: #B51F1F;\">Practical filters for Audio Processing</p>"
   ]
  },
  {
   "cell_type": "code",
   "execution_count": null,
   "metadata": {
    "slideshow": {
     "slide_type": "skip"
    }
   },
   "outputs": [],
   "source": [
    "%matplotlib inline\n",
    "import matplotlib\n",
    "import matplotlib.pyplot as plt\n",
    "import numpy as np\n",
    "from IPython.display import Audio\n",
    "from scipy import signal\n",
    "\n",
    "import import_ipynb\n",
    "from FilterUtils import *"
   ]
  },
  {
   "cell_type": "code",
   "execution_count": null,
   "metadata": {
    "slideshow": {
     "slide_type": "skip"
    }
   },
   "outputs": [],
   "source": [
    "plt.rcParams['figure.figsize'] = 14, 4 \n",
    "matplotlib.rcParams.update({'font.size': 14})"
   ]
  },
  {
   "cell_type": "code",
   "execution_count": null,
   "metadata": {
    "slideshow": {
     "slide_type": "skip"
    }
   },
   "outputs": [],
   "source": [
    "DEFAULT_SF = 16000"
   ]
  },
  {
   "cell_type": "markdown",
   "metadata": {
    "slideshow": {
     "slide_type": "slide"
    }
   },
   "source": [
    "# The versatile second-order section (aka, the biquad)\n",
    "\n",
    "<img src=\"img/biquad.png\" alt=\"Drawing\" style=\"float: right; width: 600px; margin: 50px 30px;\"/>\n",
    "\n",
    "<br>\n",
    "\n",
    "$$\n",
    "    H(z) = \\frac{b_0 + b_1 z^{-1} + b_{2}z^{-2}}{1 + a_1 z^{-1} + a_{2}z^{-2}}\n",
    "$$"
   ]
  },
  {
   "cell_type": "markdown",
   "metadata": {
    "slideshow": {
     "slide_type": "slide"
    }
   },
   "source": [
    "## The biquad as a building block\n",
    "\n",
    " * if $a_2 = b_2 = 0$ it becomes a first-order section\n",
    " * if $a_1 = a_2 = 0$ it becomes an FIR\n",
    " * we can factor any transfer function as a cascade of biquads:\n",
    " $$\n",
    "    \\frac{b_0 + b_1 z^{-1} + \\ldots + b_{N-1}z^{-N+1}}{a_0 + a_1 z^{-1} + \\ldots + a_{N-1}z^{-N+1}} = \\prod_{k=0}^{\\lceil N/2 \\rceil} \\frac{b_{k,0} + b_{k,1} z^{-1} + b_{k,2}z^{-2}}{1 + a_{k,1} z^{-1} + a_{k,2}z^{-2}}\n",
    " $$"
   ]
  },
  {
   "cell_type": "markdown",
   "metadata": {
    "slideshow": {
     "slide_type": "slide"
    }
   },
   "source": [
    "## The biquad's stability\n",
    "\n",
    " * position of poles is a complicated function of filter coefficients\n",
    " * coefficients are necessarily quantized\n",
    " * poles in higher-order filters difficult to control\n",
    " * optimized biquad implementations for different types of precision (fixed point, floating point, etc)"
   ]
  },
  {
   "cell_type": "markdown",
   "metadata": {
    "slideshow": {
     "slide_type": "slide"
    }
   },
   "source": [
    "## Biquads as standalone filters\n",
    "\n",
    "Biquads are quite good on their own! The _cookbook_ that follows provides recipes for\n",
    " * lowpass, highpass, bandpass\n",
    " * notches and resonators\n",
    " * shelves\n",
    " * equalizers"
   ]
  },
  {
   "cell_type": "markdown",
   "metadata": {
    "slideshow": {
     "slide_type": "slide"
    }
   },
   "source": [
    "# Audio signal processing: the world of log-log\n",
    "\n",
    "Remember from standard DSP our friend the leaky integrator?\n",
    "\n",
    "$$\n",
    "  y[n] = \\lambda y[n-1] + (1-\\lambda) x[n]\n",
    "$$"
   ]
  },
  {
   "cell_type": "code",
   "execution_count": null,
   "metadata": {},
   "outputs": [],
   "source": [
    "lam = 0.9\n",
    "filter_props([1 - lam], [1, -lam])"
   ]
  },
  {
   "cell_type": "markdown",
   "metadata": {
    "slideshow": {
     "slide_type": "slide"
    }
   },
   "source": [
    "This is how this guy looks like in an audio signal processing environment:"
   ]
  },
  {
   "cell_type": "code",
   "execution_count": null,
   "metadata": {},
   "outputs": [],
   "source": [
    "analog_response([1 - lam], [1, -lam], DEFAULT_SF, dB=-50)"
   ]
  },
  {
   "cell_type": "markdown",
   "metadata": {
    "slideshow": {
     "slide_type": "slide"
    }
   },
   "source": [
    "NB: these plotting functions are available in the companion notebook ``FilterUtils.ipynb``"
   ]
  },
  {
   "cell_type": "markdown",
   "metadata": {
    "slideshow": {
     "slide_type": "slide"
    }
   },
   "source": [
    "## The frequency axis\n",
    " \n",
    " * audio DSP works within a very specific frequency range: 16 Hz to 20 kHz\n",
    " * filter specifications use frequency values in Hz (instead of normalized values over $[-\\pi, \\pi]$)\n",
    " * the frequency axis is logarithmic, because musical intervals are determined by frequency _ratios_ , not differences\n",
    " * with $\\log_{10}$ the frequency axis is labeled in **decades**\n",
    " * with $\\log_2$ the frequency axis is labeled in **octaves**\n",
    " \n",
    "In order to use real-world frequencies in digital filter design we must know the sampling frequency used in the final application: **filter coefficients depend on the sampling frequency**"
   ]
  },
  {
   "cell_type": "markdown",
   "metadata": {
    "slideshow": {
     "slide_type": "slide"
    }
   },
   "source": [
    "## The magnitude\n",
    "\n",
    "\n",
    " * the human ear has an enormous dynamic range: 130 dB or $1:10^{13}$ \n",
    " * we perceive loudness on a log scale\n",
    " * magnitude of frequency response displayed in dB (log scale)\n",
    " \n",
    " \n",
    "<img src=\"img/spl.png\" alt=\"rlc\" style=\"float: right; width: 700px; margin: 40px;\"/>\n"
   ]
  },
  {
   "cell_type": "markdown",
   "metadata": {
    "slideshow": {
     "slide_type": "slide"
    }
   },
   "source": [
    "# From analog filters to digital biquads\n",
    "\n",
    "<img src=\"img/rlc.png\" alt=\"rlc\" style=\"float: right; width: 250px; margin: 0 10px 10px 30px;\"/>\n",
    "\n",
    " * RLC filters are well understood and we have \"ancient scrolls\" we can follow\n",
    " * same for active filters\n",
    " * canonical biquads are discretized version of analog prototypes"
   ]
  },
  {
   "cell_type": "markdown",
   "metadata": {
    "slideshow": {
     "slide_type": "slide"
    }
   },
   "source": [
    "## The analog prototypes\n",
    "\n",
    "Biquad design task: given a set of specs, find 5 filter coefficients. More difficult than you'd expect. \n",
    "\n",
    "On the other hand we do know things like: \n",
    " * second-order Butterworth lowpass: $H(s) = \\frac{1}{s^2 + \\sqrt{2} s + 1}$\n",
    " * second-order resonator: $H(s) = \\frac{2\\zeta s}{s^2 + 2\\zeta s + 1}$\n",
    " * etc.\n",
    "\n",
    "How do we convert these reliable analog designs to discrete time?"
   ]
  },
  {
   "cell_type": "markdown",
   "metadata": {
    "slideshow": {
     "slide_type": "slide"
    }
   },
   "source": [
    "## The bilinear transform\n",
    "\n",
    " * RLC circuit $\\rightarrow$ differential equation \n",
    " * Laplace transform: differential equation $\\rightarrow$ transfer function $H(s)$\n",
    " * bilinear transform: $H(s)$ $\\rightarrow$ $H_d(z)$"
   ]
  },
  {
   "cell_type": "markdown",
   "metadata": {
    "slideshow": {
     "slide_type": "slide"
    }
   },
   "source": [
    "### From $s$-plane to $z$-plane\n",
    "<img src=\"img/bilinear.png\" alt=\"rlc\" style=\"float: right; width: 300px; margin: 10px 0;\"/>\n",
    " \n",
    "$$\n",
    "    s \\leftarrow c \\frac{1 - z^{-1}}{1 + z^{-1}} = \\Phi_{c}(z)\n",
    "$$\n",
    "\n",
    " * the inside of the unit circle on the $z$-plane is mapped to the left half of the $s$-plane, which preserves stability\n",
    " * the unit circle on the $z$-plane is mapped to the imaginary axis of the $s$-plane"
   ]
  },
  {
   "cell_type": "markdown",
   "metadata": {
    "slideshow": {
     "slide_type": "slide"
    }
   },
   "source": [
    "### The frequency axis\n",
    "\n",
    "$$\n",
    "    H_d(e^{j\\omega}) = H(\\Phi_{c}(e^{j\\omega})) = H(j\\,c\\tan(\\omega/2))\n",
    "$$\n",
    "\n",
    " * $\\omega=0 \\rightarrow \\Omega=0$\n",
    " * $\\omega=\\pi/2 \\rightarrow \\Omega=c$\n",
    " * $\\omega=\\pi \\rightarrow \\Omega=\\infty$\n",
    " \n",
    "What about this constant $c$ ? "
   ]
  },
  {
   "cell_type": "markdown",
   "metadata": {
    "slideshow": {
     "slide_type": "slide"
    }
   },
   "source": [
    "### Pre-warping\n",
    "\n",
    "Frequency mapping is $\\Omega \\leftarrow c\\tan(\\omega/2)$\n",
    "\n",
    "Suppose something important needs to happen at $\\omega_0$ in the digital filter:\n",
    "\n",
    " * we want $H_d(e^{j\\omega_0}) = v_0$\n",
    " * we design analog prototype so that $H(j) = v_0$\n",
    " * we choose $c = 1/\\tan(\\omega_0/2)$ \n",
    " \n",
    "\n",
    "**Caution with bandpass** : we have $H_d(e^{j\\omega_0}) = H(j) = v_0$ but the shape of the response may be very distorted! "
   ]
  },
  {
   "cell_type": "markdown",
   "metadata": {
    "slideshow": {
     "slide_type": "slide"
    }
   },
   "source": [
    "Example: simple continuous-time frequency response with triangular shape"
   ]
  },
  {
   "cell_type": "code",
   "execution_count": null,
   "metadata": {},
   "outputs": [],
   "source": [
    "def H(f, scale=1):\n",
    "    return np.maximum(1 - 4 * np.abs(np.imag(f) - 1) / scale, 0)\n",
    "\n",
    "f = np.linspace(0, 3, 1000)\n",
    "plt.plot(f, H(1j * f));"
   ]
  },
  {
   "cell_type": "markdown",
   "metadata": {
    "slideshow": {
     "slide_type": "slide"
    }
   },
   "source": [
    "Using the bilinear transform with pre-warping, we can move the equivalent discrete-time frequency response over the $[0, \\pi]$ interval.\n",
    "\n",
    "Note narrow bandwidth at low end and asymmetry at high end"
   ]
  },
  {
   "cell_type": "code",
   "execution_count": null,
   "metadata": {},
   "outputs": [],
   "source": [
    "def BL(z, c=1):\n",
    "    return c * (1 - 1/z) / (1 + 1/z)"
   ]
  },
  {
   "cell_type": "code",
   "execution_count": null,
   "metadata": {},
   "outputs": [],
   "source": [
    "w = np.linspace(0, np.pi, 1000)\n",
    "center_freqs = np.pi * np.arange(0.1, 0.9, 0.15)\n",
    "\n",
    "for w0 in center_freqs:\n",
    "    c = 1 / np.tan(w0 / 2)\n",
    "    plt.plot(w, H(BL(np.exp(1j * w), c=c)))"
   ]
  },
  {
   "cell_type": "markdown",
   "metadata": {
    "slideshow": {
     "slide_type": "slide"
    }
   },
   "source": [
    "We can try to compensate a bit by changing the width of the analog prototype"
   ]
  },
  {
   "cell_type": "code",
   "execution_count": null,
   "metadata": {},
   "outputs": [],
   "source": [
    "for w0 in center_freqs:\n",
    "    c = 1 / np.tan(w0 / 2)\n",
    "    scaling_factor = (c * c + 1) / (2 * c)\n",
    "    plt.plot(w, H(BL(np.exp(1j * w), c=c), scale=scaling_factor))"
   ]
  },
  {
   "cell_type": "markdown",
   "metadata": {
    "slideshow": {
     "slide_type": "slide"
    }
   },
   "source": [
    "**Exercise**: try to formulate a full derivation for the scaling factor"
   ]
  },
  {
   "cell_type": "markdown",
   "metadata": {
    "slideshow": {
     "slide_type": "slide"
    }
   },
   "source": [
    "# What about FIRs ?\n",
    "\n",
    "FIRs are great:\n",
    " * you can have linear phase\n",
    " * always stable\n",
    " * great design algorithm (Parks-McClellan) even for arbitrary responses\n",
    " \n",
    "However:\n",
    " * we don't care so much for linear phase in audio\n",
    " * they are computationally much more expensive\n",
    " * the long impulse response causes significant processing delay: problem in real-time applications"
   ]
  },
  {
   "cell_type": "markdown",
   "metadata": {
    "slideshow": {
     "slide_type": "slide"
    }
   },
   "source": [
    "## Audiophiles' myths about FIRs\n",
    " \n",
    " * they sound \"cold\"\n",
    " * you can hear pre-echos for linear phase FIRs\n",
    " * excessive ringing in the impulse response for minimum-phase FIRs\n",
    " * ...\n",
    " \n",
    "Honestly, I don't know. Never heard anything disturbing. Major problem remains the delay."
   ]
  },
  {
   "cell_type": "markdown",
   "metadata": {
    "slideshow": {
     "slide_type": "slide"
    }
   },
   "source": [
    "# The cookbook (finally!)\n",
    "\n",
    "The recipes have been adapted from Robert Bristow-Johnson's famous [cookbook](https://webaudio.github.io/Audio-EQ-Cookbook/audio-eq-cookbook.html). \n",
    "\n",
    "Each function returns ``b`` and ``a``, two arrays of three floats each containing the coefficients of the transfer function\n",
    "\n",
    "$$\n",
    "    H(z) = \\frac{b_0 + b_1 z^{-1} + b_{2}z^{-2}}{1 + a_1 z^{-1} + a_{2}z^{-2}} \\qquad (a_0 = 1)\n",
    "$$"
   ]
  },
  {
   "cell_type": "markdown",
   "metadata": {
    "slideshow": {
     "slide_type": "slide"
    }
   },
   "source": [
    "## Lowpass\n",
    "\n",
    "Specs:\n",
    " 1. quality factor $Q$; default is $Q = \\sqrt{1/2}$ for a monotonic, maximally flat characteristic (Butterworth)\n",
    " 1. _corner frequency_ $f_c$ (aka _cutoff_ ); $|H(f_c)| = Q$ (for $Q = \\sqrt{1/2}$, attenuation at $f_c$ is $-3$ dB)"
   ]
  },
  {
   "cell_type": "code",
   "execution_count": null,
   "metadata": {},
   "outputs": [],
   "source": [
    "def LPF(fc, sf, Q=(1/np.sqrt(2))):\n",
    "    \"\"\"Biquad lowpass filter\"\"\"\n",
    "    w = 2 * np.pi * fc / sf\n",
    "    alpha = np.sin(w) / (2 * Q)\n",
    "    c = np.cos(w)\n",
    "    a = np.array([1 + alpha, -2 * c, 1 - alpha])\n",
    "    b = np.array([(1 - c) / 2, 1 - c, (1 - c) / 2])\n",
    "    return b / a[0], a / a[0]"
   ]
  },
  {
   "cell_type": "code",
   "execution_count": null,
   "metadata": {
    "slideshow": {
     "slide_type": "slide"
    }
   },
   "outputs": [],
   "source": [
    "CUTOFF = 1000\n",
    "b, a = LPF(CUTOFF, DEFAULT_SF)\n",
    "analog_response(b, a, DEFAULT_SF, dB=-50)\n",
    "plt.axhline(y=-3, linewidth=0.5, color='r')    \n",
    "plt.axvline(x=CUTOFF, linewidth=0.5, color='r');"
   ]
  },
  {
   "cell_type": "code",
   "execution_count": null,
   "metadata": {
    "slideshow": {
     "slide_type": "slide"
    }
   },
   "outputs": [],
   "source": [
    "filter_props(b, a)\n",
    "plt.gcf().get_axes()[0].axhline(y=np.sqrt(0.5), linewidth=0.5, color='r')    \n",
    "plt.gcf().get_axes()[0].axvline(x=(2 * np.pi * CUTOFF / DEFAULT_SF), linewidth=0.5, color='r');"
   ]
  },
  {
   "cell_type": "markdown",
   "metadata": {
    "slideshow": {
     "slide_type": "slide"
    }
   },
   "source": [
    "### Resonance peak\n",
    "\n",
    "If $Q > 1/\\sqrt{2}$, the magnitude response has a **peak** at $f_c$.\n",
    "\n",
    "In the time domain, this corresponds to a damped oscillatory impulse response.\n",
    "\n",
    "These $Q$ values become useful when cascading multiple sections, as we will see later."
   ]
  },
  {
   "cell_type": "code",
   "execution_count": null,
   "metadata": {
    "slideshow": {
     "slide_type": "slide"
    }
   },
   "outputs": [],
   "source": [
    "_, (fr, ir) = plt.subplots(2, figsize=(16,9))\n",
    "CUTOFF = 100\n",
    "Q = [0.1, 0.5, 1/np.sqrt(2), 5, 20]\n",
    "for n, q in enumerate(Q):\n",
    "    b, a = LPF(CUTOFF, DEFAULT_SF, Q=q)\n",
    "    analog_response(b, a, DEFAULT_SF, dB=-50, axis=fr, color=f'C{n}', label=f'Q={q:.2f}')\n",
    "    ir.plot(signal.lfilter(b, a, np.r_[1, np.zeros(2000)]))\n",
    "fr.legend();"
   ]
  },
  {
   "cell_type": "markdown",
   "metadata": {
    "slideshow": {
     "slide_type": "slide"
    }
   },
   "source": [
    "## Highpass\n",
    "\n",
    "A highpass filter is simply the complementary filter to a lowpass, with the same roles for $f_c$ and $Q$."
   ]
  },
  {
   "cell_type": "code",
   "execution_count": null,
   "metadata": {},
   "outputs": [],
   "source": [
    "def HPF(fc, sf, Q=(1/np.sqrt(2))):\n",
    "    \"\"\"Biquad highpass filter\"\"\"\n",
    "    w = 2 * np.pi * fc / sf\n",
    "    alpha = np.sin(w) / (2 * Q)\n",
    "    c = np.cos(w)\n",
    "    a = np.array([1 + alpha, -2 * c, 1 - alpha])\n",
    "    b = np.array([(1 + c) / 2, -1 - c, (1 + c) / 2])\n",
    "    return b / a[0], a / a[0]"
   ]
  },
  {
   "cell_type": "code",
   "execution_count": null,
   "metadata": {
    "slideshow": {
     "slide_type": "slide"
    }
   },
   "outputs": [],
   "source": [
    "CUTOFF = 2500\n",
    "b, a = HPF(CUTOFF, DEFAULT_SF)\n",
    "analog_response(b, a, DEFAULT_SF, dB=-50)\n",
    "plt.axhline(y=-3, linewidth=0.5, color='r')    \n",
    "plt.axvline(x=CUTOFF, linewidth=0.5, color='r');"
   ]
  },
  {
   "cell_type": "code",
   "execution_count": null,
   "metadata": {
    "slideshow": {
     "slide_type": "slide"
    }
   },
   "outputs": [],
   "source": [
    "filter_props(b, a)\n",
    "plt.gcf().get_axes()[0].axhline(y=np.sqrt(0.5), linewidth=0.5, color='r')    \n",
    "plt.gcf().get_axes()[0].axvline(x=(2 * np.pi * CUTOFF / DEFAULT_SF), linewidth=0.5, color='r');"
   ]
  },
  {
   "cell_type": "markdown",
   "metadata": {
    "slideshow": {
     "slide_type": "slide"
    }
   },
   "source": [
    "## Bandpass\n",
    "\n",
    "Approximately unit gain (0 dB) in the passband. Specs:\n",
    "\n",
    " 1. center frequency $f_c$\n",
    " 1. bandwidth $b = (f_+ - f_-)$, frequencies where attenuation reaches $-3$ dB. Passband is almost but not exactly symmetric around $f_c$ (because of bilinear transform)"
   ]
  },
  {
   "cell_type": "code",
   "execution_count": null,
   "metadata": {},
   "outputs": [],
   "source": [
    "def BPF(fc, bw, sf):\n",
    "    \"\"\"Biquad bandpass filter\"\"\"\n",
    "    w = 2 * np.pi * fc / sf\n",
    "    alpha = np.tan(np. pi * bw / sf)\n",
    "    c = np.cos(w)\n",
    "    b = np.array([alpha, 0, -alpha])\n",
    "    a = np.array([1 + alpha, -2 * c, 1 - alpha])\n",
    "    return b / a[0], a / a[0]"
   ]
  },
  {
   "cell_type": "code",
   "execution_count": null,
   "metadata": {
    "slideshow": {
     "slide_type": "slide"
    },
    "tags": []
   },
   "outputs": [],
   "source": [
    "CENTER, BANDWIDTH = 1000, 400\n",
    "b, a = BPF(CENTER, BANDWIDTH, DEFAULT_SF)\n",
    "analog_response(b, a, DEFAULT_SF, dB=-40)\n",
    "plt.axhline(y=-3, linewidth=0.5, color='r')    \n",
    "plt.axvline(x=CENTER, linewidth=0.5, color='r')\n",
    "plt.axvline(x=CENTER - BANDWIDTH / 2, linewidth=0.5, color='r')\n",
    "plt.axvline(x=CENTER + BANDWIDTH / 2, linewidth=0.5, color='r');"
   ]
  },
  {
   "cell_type": "code",
   "execution_count": null,
   "metadata": {
    "slideshow": {
     "slide_type": "slide"
    }
   },
   "outputs": [],
   "source": [
    "filter_props(b, a)\n",
    "plt.gcf().get_axes()[0].axhline(y=np.sqrt(0.5), linewidth=0.5, color='r')    \n",
    "plt.gcf().get_axes()[0].axvline(x=(2 * np.pi * CENTER / DEFAULT_SF), linewidth=0.5, color='r');"
   ]
  },
  {
   "cell_type": "markdown",
   "metadata": {
    "slideshow": {
     "slide_type": "slide"
    }
   },
   "source": [
    "## Resonator\n",
    "\n",
    "When the bandwith is very small, the second order bandpass becomes a constant-gain resonator:"
   ]
  },
  {
   "cell_type": "code",
   "execution_count": null,
   "metadata": {},
   "outputs": [],
   "source": [
    "_, ax = plt.subplots()\n",
    "BANDWIDTH = 10\n",
    "FC = [100, 1000, 2000, 4000, 6000]\n",
    "for n, fc in enumerate(FC):\n",
    "    b, a = BPF(fc, BANDWIDTH, DEFAULT_SF)\n",
    "    frequency_response(b, a, dB=-50, half=True, axis=ax);"
   ]
  },
  {
   "cell_type": "markdown",
   "metadata": {
    "slideshow": {
     "slide_type": "slide"
    }
   },
   "source": [
    "## Notch\n",
    "\n",
    "Complementary filter to a resonator:\n",
    " * infinite attenuation at $f_c$ (zeros on unit circle)\n",
    " * very small bandwidth (poles very close to zeros)"
   ]
  },
  {
   "cell_type": "code",
   "execution_count": null,
   "metadata": {},
   "outputs": [],
   "source": [
    "def notch(fc, bw, sf):\n",
    "    \"\"\"Biquad notch filter\"\"\"\n",
    "    w = 2 * np.pi * fc / sf\n",
    "    alpha = np.tan(np. pi * bw / sf)\n",
    "    c = np.cos(w)\n",
    "    b = np.array([1, -2 * c, 1])\n",
    "    a = np.array([1 + alpha, -2 * c, 1 - alpha])\n",
    "    return b / a[0], a / a[0]"
   ]
  },
  {
   "cell_type": "code",
   "execution_count": null,
   "metadata": {
    "slideshow": {
     "slide_type": "slide"
    }
   },
   "outputs": [],
   "source": [
    "CENTER, BANDWIDTH = 2000, 100\n",
    "b, a = notch(CENTER, BANDWIDTH, DEFAULT_SF)\n",
    "analog_response(b, a, DEFAULT_SF, dB=-40)\n",
    "plt.axhline(y=-6, linewidth=0.5, color='r')    \n",
    "plt.axvline(x=CENTER, linewidth=0.5, color='r');"
   ]
  },
  {
   "cell_type": "code",
   "execution_count": null,
   "metadata": {
    "slideshow": {
     "slide_type": "slide"
    }
   },
   "outputs": [],
   "source": [
    "filter_props(b, a)\n",
    "plt.gcf().get_axes()[0].axhline(y=np.sqrt(0.5), linewidth=0.5, color='r')    \n",
    "plt.gcf().get_axes()[0].axvline(x=(2 * np.pi * CENTER / DEFAULT_SF), linewidth=0.5, color='r');"
   ]
  },
  {
   "cell_type": "markdown",
   "metadata": {
    "slideshow": {
     "slide_type": "slide"
    }
   },
   "source": [
    "## Shelves\n",
    "\n",
    "Shelving filters are used to amplify either the low or the high end of a signal's spectrum; common in consumer audio appliances, behind the standard \"Bass\" and \"Treble\" tone knobs. Specs:\n",
    "\n",
    " 1.  _shelf gain_ in dB\n",
    " 1. the midpoint frequency $f_c$, where gain reaches half its value\n",
    " 1. \"quality factor\" $Q$, as in lowpass filters"
   ]
  },
  {
   "cell_type": "code",
   "execution_count": null,
   "metadata": {},
   "outputs": [],
   "source": [
    "def LSH(fc, gain, sf,  Q=(1/np.sqrt(2))):\n",
    "    \"\"\"Biquad low shelf\"\"\"\n",
    "    w = 2 * np.pi * fc / sf\n",
    "    A = 10 ** (gain / 40)    \n",
    "    alpha = np.sin(w) / (2 * Q)\n",
    "    c = np.cos(w)\n",
    "    b = np.array([A * ((A + 1) - (A - 1) * c + 2 * np.sqrt(A) * alpha),\n",
    "                  2 * A * ((A - 1) - (A + 1) * c),\n",
    "                  A * ((A + 1) - (A - 1) * c - 2 * np.sqrt(A) * alpha)])\n",
    "    a = np.array([(A + 1) + (A - 1) * c + 2 * np.sqrt(A) * alpha,\n",
    "                 -2 * ((A - 1) + (A + 1) * c),\n",
    "                 (A + 1) + (A - 1) * c - 2 * np.sqrt(A) * alpha])\n",
    "    return b / a[0], a / a[0]"
   ]
  },
  {
   "cell_type": "code",
   "execution_count": null,
   "metadata": {
    "slideshow": {
     "slide_type": "slide"
    }
   },
   "outputs": [],
   "source": [
    "MIDPOINT, GAIN_DB = 200, 40\n",
    "b, a = LSH(MIDPOINT, GAIN_DB, DEFAULT_SF)\n",
    "analog_response(b, a, DEFAULT_SF, dB=-40)\n",
    "plt.axhline(y=GAIN_DB / 2, linewidth=0.5, color='r')    \n",
    "plt.axvline(x=MIDPOINT, linewidth=0.5, color='r');"
   ]
  },
  {
   "cell_type": "code",
   "execution_count": null,
   "metadata": {
    "slideshow": {
     "slide_type": "slide"
    }
   },
   "outputs": [],
   "source": [
    "filter_props(b, a);"
   ]
  },
  {
   "cell_type": "code",
   "execution_count": null,
   "metadata": {
    "slideshow": {
     "slide_type": "slide"
    }
   },
   "outputs": [],
   "source": [
    "def HSH(fc, gain, sf,  Q=(1/np.sqrt(2))):\n",
    "    \"\"\"Biquad high shelf\"\"\"\n",
    "    w = 2 * np.pi * fc / sf\n",
    "    A = 10 ** (gain / 40)    \n",
    "    alpha = np.sin(w) / (2 * Q)\n",
    "    c = np.cos(w)\n",
    "    b = np.array([A * ((A + 1) + (A - 1) * c + 2 * np.sqrt(A) * alpha),\n",
    "                  -2 * A * ((A - 1) + (A + 1) * c),\n",
    "                  A * ((A + 1) + (A - 1) * c - 2 * np.sqrt(A) * alpha)])\n",
    "    a = np.array([(A + 1) - (A - 1) * c + 2 * np.sqrt(A) * alpha,\n",
    "                 2 * ((A - 1) - (A + 1) * c),\n",
    "                 (A + 1) - (A - 1) * c - 2 * np.sqrt(A) * alpha])\n",
    "    return b / a[0], a / a[0]"
   ]
  },
  {
   "cell_type": "code",
   "execution_count": null,
   "metadata": {
    "slideshow": {
     "slide_type": "slide"
    }
   },
   "outputs": [],
   "source": [
    "MIDPOINT, GAIN_DB = 2000, 40\n",
    "b, a = HSH(MIDPOINT, GAIN_DB, DEFAULT_SF)\n",
    "analog_response(b, a, DEFAULT_SF, dB=-40)\n",
    "plt.axhline(y=GAIN_DB / 2, linewidth=0.5, color='r')    \n",
    "plt.axvline(x=MIDPOINT, linewidth=0.5, color='r');"
   ]
  },
  {
   "cell_type": "code",
   "execution_count": null,
   "metadata": {
    "slideshow": {
     "slide_type": "slide"
    }
   },
   "outputs": [],
   "source": [
    "filter_props(b, a);"
   ]
  },
  {
   "cell_type": "markdown",
   "metadata": {
    "slideshow": {
     "slide_type": "slide"
    }
   },
   "source": [
    "## Peaking EQ\n",
    "\n",
    "Fundamental ingrediend in multiband equalization. Provides an arbitrary boost or attenuation for a given frequency band centered around a peak freqency and flattens to unit gain elsewhere. Specs:\n",
    "\n",
    " 1. desired gain in dB (can be negative)\n",
    " 1. peak frequency $f_c$, where gain is attained\n",
    " 1. bandwidth: interval around $f_c$ where gain is more than half of final gain (in dB); again, bandwdidth is not perfectly symmetrical around $f_c$ "
   ]
  },
  {
   "cell_type": "code",
   "execution_count": null,
   "metadata": {
    "slideshow": {
     "slide_type": "slide"
    }
   },
   "outputs": [],
   "source": [
    "def PEQ(fc, bw, gain, sf):\n",
    "    \"\"\"Biquad bandpass filter \"\"\"\n",
    "    w = 2 * np.pi * fc / sf\n",
    "    A = 10 ** (gain / 40)    \n",
    "    alpha = np.tan(np. pi * bw / sf)\n",
    "    c = np.cos(w)\n",
    "    b = np.array([1 + alpha * A, -2 * c, 1 - alpha * A])\n",
    "    a = np.array([1 + alpha / A, -2 * c, 1 - alpha / A])\n",
    "    return b / a[0], a / a[0]"
   ]
  },
  {
   "cell_type": "code",
   "execution_count": null,
   "metadata": {
    "slideshow": {
     "slide_type": "slide"
    }
   },
   "outputs": [],
   "source": [
    "CENTER, BW, GAIN_DB = 800, 400, 40\n",
    "b, a = PEQ(CENTER, BW, GAIN_DB, DEFAULT_SF)\n",
    "analog_response(b, a, DEFAULT_SF, dB=-40)\n",
    "plt.axhline(y=GAIN_DB / 2, linewidth=0.5, color='r')    \n",
    "plt.axvline(x=CENTER, linewidth=0.5, color='r');"
   ]
  },
  {
   "cell_type": "code",
   "execution_count": null,
   "metadata": {
    "slideshow": {
     "slide_type": "slide"
    }
   },
   "outputs": [],
   "source": [
    "filter_props(b, a);"
   ]
  },
  {
   "cell_type": "markdown",
   "metadata": {
    "slideshow": {
     "slide_type": "slide"
    }
   },
   "source": [
    "Note that peaking EQ filters with opposite gains are perfectly complementary: "
   ]
  },
  {
   "cell_type": "code",
   "execution_count": null,
   "metadata": {},
   "outputs": [],
   "source": [
    "CENTER, BW, GAIN_DB = 800, 400, 40\n",
    "b, a = PEQ(CENTER, BW, GAIN_DB, DEFAULT_SF)\n",
    "y = signal.lfilter(b, a, np.r_[1, np.zeros(200)])\n",
    "plt.plot(y)\n",
    "b, a = PEQ(CENTER, BW, -GAIN_DB, DEFAULT_SF)\n",
    "y = signal.lfilter(b, a, y)\n",
    "plt.plot(y);"
   ]
  },
  {
   "cell_type": "markdown",
   "metadata": {
    "slideshow": {
     "slide_type": "slide"
    }
   },
   "source": [
    "# Cascades of biquads\n",
    "\n",
    "Often the performance of a second-order filter is not enough.\n",
    "\n",
    " * higher-order filters can be decomposed into second-order stages\n",
    " * \"canonical\" biquads can be repeated to improve or change overall performance\n",
    "\n",
    "Applications:\n",
    " * increase rejection in stopband\n",
    " * combine shelves to provide tone control\n",
    " * design multiband equalizers"
   ]
  },
  {
   "cell_type": "markdown",
   "metadata": {
    "slideshow": {
     "slide_type": "slide"
    }
   },
   "source": [
    "## Factorization of higher-order filters\n",
    "\n",
    "Reliable algorithms exist to design high-order filters (Butterworth, Chebyshev, elliptic, etc.)\n",
    "\n",
    " * coefficient quantization causes pole drift\n",
    " * implementation are more robust in factored form\n",
    "\n",
    "$$\n",
    "    H(z) = \\frac{b_0 + b_1 z^{-1} + \\ldots + b_{N-1}z^{-N+1}}{a_0 + a_1 z^{-1} + \\ldots + a_{N-1}z^{-N+1}} = \\prod_{k=0}^{N/2} \\frac{b_{k,0} + b_{k,1} z^{-1} + b_{k,2}z^{-2}}{1 + a_{k,1} z^{-1} + a_{k,2}z^{-2}}\n",
    "$$"
   ]
  },
  {
   "cell_type": "code",
   "execution_count": null,
   "metadata": {
    "slideshow": {
     "slide_type": "slide"
    }
   },
   "outputs": [],
   "source": [
    "_, ax = plt.subplots()\n",
    "CUTOFF = 1000\n",
    "b, a = LPF(CUTOFF, DEFAULT_SF)\n",
    "analog_response(b, a, DEFAULT_SF, dB=-60, axis=ax, color=f'C0', label='2nd order Butterworth')\n",
    "eb, ea = signal.ellip(6, 1, 40, CUTOFF, fs=DEFAULT_SF)\n",
    "analog_response(eb, ea, DEFAULT_SF, dB=-60, axis=ax, color=f'C3', label='6th order elliptic')\n",
    "plt.axvline(x=CUTOFF, linewidth=0.5, color='r')    \n",
    "plt.axhline(y=-3, linewidth=0.5, color='r');     \n",
    "ax.legend(loc='lower left');"
   ]
  },
  {
   "cell_type": "markdown",
   "metadata": {
    "slideshow": {
     "slide_type": "slide"
    }
   },
   "source": [
    "Let's look at the individual second-order sections:"
   ]
  },
  {
   "cell_type": "code",
   "execution_count": null,
   "metadata": {
    "slideshow": {
     "slide_type": "-"
    }
   },
   "outputs": [],
   "source": [
    "_, ax = plt.subplots()\n",
    "CUTOFF = 1000\n",
    "b, a = LPF(CUTOFF, DEFAULT_SF)\n",
    "# this returns an array of second-order filter coefficients. Each row corresponds to a section, \n",
    "#  with the first three columns providing the numerator coefficients and the last three providing the denominator\n",
    "soe = signal.ellip(6, 1, 40, CUTOFF, fs=DEFAULT_SF, output='sos')\n",
    "cb, ca = [1], [1]\n",
    "for n in range(0, 3):\n",
    "    b, a = soe[n][0:3], soe[n][3:6]\n",
    "    analog_response(b, a, DEFAULT_SF, dB=-60, axis=ax, color=f'C{n}:', label=f'section {n+1}')\n",
    "    cb = np.polymul(b, cb)\n",
    "    ca = np.polymul(a, ca)\n",
    "analog_response(cb, ca, DEFAULT_SF, dB=-60, axis=ax, color='C3', label='cascade')\n",
    "ax.legend(loc='lower left');"
   ]
  },
  {
   "cell_type": "markdown",
   "metadata": {
    "slideshow": {
     "slide_type": "slide"
    }
   },
   "source": [
    "## Cascading lowpass and highpass biquads\n",
    "\n",
    " * biquad's transfer function $H(z)$\n",
    " * cascade $N$ times\n",
    " * overall transfer function $H_c(z) = H^N(z)$\n",
    " * magnitude response in dB multiplied by $N$"
   ]
  },
  {
   "cell_type": "markdown",
   "metadata": {
    "slideshow": {
     "slide_type": "slide"
    }
   },
   "source": [
    "Example: cascade of five second-order Butterworth lowpass"
   ]
  },
  {
   "cell_type": "code",
   "execution_count": null,
   "metadata": {
    "slideshow": {
     "slide_type": "-"
    }
   },
   "outputs": [],
   "source": [
    "_, ax = plt.subplots()\n",
    "CUTOFF = 1000\n",
    "b, a = LPF(CUTOFF, DEFAULT_SF)\n",
    "cb, ca = b, a\n",
    "for n in range(0, 5):\n",
    "    analog_response(cb, ca, DEFAULT_SF, dB=-60, axis=ax, color=f'C{n}', label=f'{n+1} sections')\n",
    "    ca = np.polymul(a, ca)\n",
    "    cb = np.polymul(b, cb)\n",
    "plt.axvline(x=CUTOFF, linewidth=0.5, color='r')    \n",
    "plt.axhline(y=-3, linewidth=0.5, color='r')    \n",
    "plt.axhline(y=-15, linewidth=0.5, color='r');    \n",
    "ax.legend(loc='lower left');"
   ]
  },
  {
   "cell_type": "markdown",
   "metadata": {
    "slideshow": {
     "slide_type": "slide"
    }
   },
   "source": [
    "Good things:\n",
    "  * still monotonic\n",
    "  * steeper transition to stopband\n",
    "\n",
    "Problems:\n",
    "  * cutoff frequency moves\n",
    "  * bandwidth decreases\n",
    "  \n",
    "Can we (easily) obtain a cascade with controlled $f_c$ and Butterworth characteristic?\n",
    "  * we can always use Python and get a high-order filtered in factored form\n",
    "  * but there's a neat alternative way..."
   ]
  },
  {
   "cell_type": "markdown",
   "metadata": {
    "slideshow": {
     "slide_type": "slide"
    }
   },
   "source": [
    "### Poles of a Butterworth filter\n",
    "\n",
    "$H_N(s)$: transfer function of an order-$N$ Butterworth lowpass\n",
    "\n",
    " * the $N$ complex-conjugate poles are equally spaced along a circular contour centered on the origin of the $s$-plane\n",
    " * the angle between poles is equal to $\\pi/N$\n",
    " \n",
    "Pole angles in the upper $s$-plane: \n",
    "\n",
    "$$\n",
    "    \\theta_n = \\frac{\\pi}{2N} + n\\frac{\\pi}{N} = \\frac{(2n+1)\\pi}{2N}, \\qquad n = 0, \\ldots, N/2\n",
    "$$"
   ]
  },
  {
   "cell_type": "code",
   "execution_count": null,
   "metadata": {
    "slideshow": {
     "slide_type": "slide"
    }
   },
   "outputs": [],
   "source": [
    "fig, sp = plt.subplots(1, 4, gridspec_kw={'wspace': 1})\n",
    "for n in range(0, 4):\n",
    "    sp[n].plot(np.cos(np.linspace(0, 2 * np.pi, 100)), np.sin(np.linspace(0, 2 * np.pi, 100)), 'k:')\n",
    "    p = np.roots(signal.butter(2 * (n + 1), 1, analog=True)[1])\n",
    "    sp[n].plot(p.real, p.imag, 'C3x', ms=10, markeredgewidth=3.0)\n",
    "    sp[n].axis('square')\n",
    "    sp[n].set_xlim(-1.2, 1.2)        \n",
    "    sp[n].set_ylim(-1.2, 1.2);"
   ]
  },
  {
   "cell_type": "markdown",
   "metadata": {
    "slideshow": {
     "slide_type": "slide"
    }
   },
   "source": [
    "### Poles of an analog second-order lowpass\n",
    "\n",
    "  * one pair of complex-conjugate poles at $\\rho e^{\\pm \\theta}$\n",
    "  * fundamental relationship:\n",
    "    $$ 1/Q = 2\\cos \\theta $$\n",
    "  \n",
    "Solution: simply choose $Q_n = 1/(2\\cos \\theta_n)$ for stage number $n$ in the cascade!"
   ]
  },
  {
   "cell_type": "code",
   "execution_count": null,
   "metadata": {},
   "outputs": [],
   "source": [
    "def multistage_filter(sections, fc, sf, recipe=LPF):\n",
    "    cb, ca = [1], [1]\n",
    "    for n in range(0, sections):\n",
    "        iq = 2 * np.cos((2 * n + 1) * np.pi / (4 * sections))\n",
    "        b, a = recipe(fc, sf, Q=1/iq)\n",
    "        ca = np.polymul(a, ca)\n",
    "        cb = np.polymul(b, cb)   \n",
    "    return cb, ca"
   ]
  },
  {
   "cell_type": "markdown",
   "metadata": {
    "slideshow": {
     "slide_type": "slide"
    }
   },
   "source": [
    "Example: five lowpass sections (i.e. a  10th-order filter)"
   ]
  },
  {
   "cell_type": "code",
   "execution_count": null,
   "metadata": {
    "slideshow": {
     "slide_type": "-"
    }
   },
   "outputs": [],
   "source": [
    "_, ax = plt.subplots()\n",
    "CUTOFF = 1000\n",
    "b, a = LPF(CUTOFF, DEFAULT_SF)\n",
    "analog_response(b, a, DEFAULT_SF, dB=-60, axis=ax, color='C0', label='1 section (2nd order)')\n",
    "\n",
    "cb, ca = multistage_filter(5, CUTOFF, DEFAULT_SF)\n",
    "analog_response(cb, ca, DEFAULT_SF, dB=-60, axis=ax, color='C1', label='5 sections (10th order)')\n",
    "\n",
    "plt.axvline(x=CUTOFF, linewidth=0.5, color='r')    \n",
    "plt.axhline(y=-3, linewidth=0.5, color='r');    \n",
    "ax.legend(loc='lower left');"
   ]
  },
  {
   "cell_type": "markdown",
   "metadata": {
    "slideshow": {
     "slide_type": "slide"
    }
   },
   "source": [
    "The resulting digital filter has its poles arranged on a circular contour centered in $z=1$ if the cutoff frequency is less than $\\pi/2$ and centered on $z=-1$ otherwise. "
   ]
  },
  {
   "cell_type": "code",
   "execution_count": null,
   "metadata": {},
   "outputs": [],
   "source": [
    "filter_props(cb, ca, DEFAULT_SF, dB=-60);"
   ]
  },
  {
   "cell_type": "markdown",
   "metadata": {
    "slideshow": {
     "slide_type": "slide"
    }
   },
   "source": [
    "Individual magnitude responses of the five sections. Some $Q_n$ values lead to peaks!"
   ]
  },
  {
   "cell_type": "code",
   "execution_count": null,
   "metadata": {},
   "outputs": [],
   "source": [
    "_, ax = plt.subplots()\n",
    "CUTOFF = 1000\n",
    "cb, ca, sections = [1], [1], 5\n",
    "for n in range(0, sections):\n",
    "    iq = 2 * np.cos((2 * n + 1) * np.pi / (4 * sections))\n",
    "    b, a = LPF(CUTOFF, DEFAULT_SF, Q=1/iq)\n",
    "    analog_response(b, a, DEFAULT_SF, dB=-0, axis=ax, color=f'C{n+2}:', label=f'section {n+1}')\n",
    "    ca = np.polymul(a, ca)\n",
    "    cb = np.polymul(b, cb)\n",
    "analog_response(cb, ca, DEFAULT_SF, dB=-60, axis=ax, color='C1', label='cascade')\n",
    "plt.axvline(x=CUTOFF, linewidth=0.5, color='r')    \n",
    "plt.axhline(y=-3, linewidth=0.5, color='r');    \n",
    "ax.legend(loc='lower left');"
   ]
  },
  {
   "cell_type": "markdown",
   "metadata": {
    "slideshow": {
     "slide_type": "slide"
    }
   },
   "source": [
    "## Combining shelving filters\n",
    "\n",
    "Shelving filters may be combined to create filters to boost or attenuate a particular frequency range"
   ]
  },
  {
   "cell_type": "code",
   "execution_count": null,
   "metadata": {},
   "outputs": [],
   "source": [
    "cb, ca = LSH(100, 20, DEFAULT_SF)    \n",
    "b, a = HSH(2000, 20, DEFAULT_SF)\n",
    "cb = np.polymul(b, cb) \n",
    "ca = np.polymul(a, ca)\n",
    "analog_response(cb, ca, DEFAULT_SF, dB=-50, points=10001);"
   ]
  },
  {
   "cell_type": "markdown",
   "metadata": {
    "slideshow": {
     "slide_type": "slide"
    }
   },
   "source": [
    "Note that amplitudes sum up on a log scale so careful when low and high shelves intersect"
   ]
  },
  {
   "cell_type": "code",
   "execution_count": null,
   "metadata": {},
   "outputs": [],
   "source": [
    "_, ax = plt.subplots()\n",
    "GAIN = 20\n",
    "bl, al = LSH(1000, GAIN, DEFAULT_SF)   \n",
    "bh, ah = HSH(10, GAIN, DEFAULT_SF)\n",
    "cb = np.polymul(bh, bl) \n",
    "ca = np.polymul(ah, al)\n",
    "analog_response(cb, ca, DEFAULT_SF, dB=-50, axis=ax, points=10001, label='cascade');\n",
    "analog_response(bl, al, DEFAULT_SF, dB=-50, axis=ax, points=10001, color=f'C1:', label='low shelf')\n",
    "analog_response(bh, ah, DEFAULT_SF, dB=-50, axis=ax, points=10001, color=f'C2:', label='high shelf')\n",
    "ax.legend();"
   ]
  },
  {
   "cell_type": "markdown",
   "metadata": {
    "slideshow": {
     "slide_type": "slide"
    }
   },
   "source": [
    "we must rescale the response to have unit gain at band edges"
   ]
  },
  {
   "cell_type": "code",
   "execution_count": null,
   "metadata": {},
   "outputs": [],
   "source": [
    "cb *= 10 ** (-GAIN / 20)\n",
    "analog_response(cb, ca, DEFAULT_SF, dB=-50, points=10001);"
   ]
  },
  {
   "cell_type": "markdown",
   "metadata": {
    "slideshow": {
     "slide_type": "slide"
    }
   },
   "source": [
    "## Parametric equalization\n",
    "\n",
    "Peaking equalizers with distinct bandwidths can be cascaded to obtain an arbitrary equalization curve for the entire range of input frequencies; indeed, this is the technique behind so-called _parametric equalizers_ where a bank of logarithmically spaced peaking eq's with independent gain controls allow the user to easily define a global equalization response."
   ]
  },
  {
   "cell_type": "code",
   "execution_count": null,
   "metadata": {},
   "outputs": [],
   "source": [
    "cb, ca = np.ones(1), np.ones(1)\n",
    "for n, g in enumerate([20, -10, 40]):\n",
    "    b, a = PEQ(10 ** (n+1), 10 ** (n + 1), g, DEFAULT_SF)\n",
    "    cb = np.polymul(b, cb)\n",
    "    ca = np.polymul(a, ca)\n",
    "analog_response(cb, ca, DEFAULT_SF, dB=-50, points=10001);"
   ]
  },
  {
   "cell_type": "markdown",
   "metadata": {
    "slideshow": {
     "slide_type": "slide"
    }
   },
   "source": [
    "# Examples"
   ]
  },
  {
   "cell_type": "code",
   "execution_count": null,
   "metadata": {
    "slideshow": {
     "slide_type": "skip"
    }
   },
   "outputs": [],
   "source": [
    "from IPython.display import Audio\n",
    "from scipy.io import wavfile"
   ]
  },
  {
   "cell_type": "code",
   "execution_count": null,
   "metadata": {
    "slideshow": {
     "slide_type": "skip"
    }
   },
   "outputs": [],
   "source": [
    "def play(x, sf):\n",
    "    TAPER = 1000\n",
    "    y = np.copy(x)\n",
    "    y[:TAPER] *= np.linspace(0, 1, TAPER)\n",
    "    y[-TAPER:] *= np.linspace(1, 0, TAPER)\n",
    "    return Audio(y, rate=sf)\n",
    "\n",
    "import ipywidgets as widgets\n",
    "def multiplay(clips, sf, title=None):\n",
    "    outs = [widgets.Output() for c in clips]\n",
    "    for ix, item in enumerate(clips):\n",
    "        with outs[ix]:\n",
    "            display(play(item, sf))\n",
    "    return widgets.HBox(outs)"
   ]
  },
  {
   "cell_type": "code",
   "execution_count": null,
   "metadata": {},
   "outputs": [],
   "source": [
    "sf, groove = wavfile.read(\"snd/groove.wav\")\n",
    "groove = (groove - np.mean(groove)) / 32767.0\n",
    "Audio(groove, rate=sf)"
   ]
  },
  {
   "cell_type": "markdown",
   "metadata": {
    "slideshow": {
     "slide_type": "slide"
    }
   },
   "source": [
    "## Music over the phone\n",
    "\n",
    "Bandwidth of phone lines is from 180 Hz to 3.2 kHz. Rolloff is sharp after upper cutoff. "
   ]
  },
  {
   "cell_type": "code",
   "execution_count": null,
   "metadata": {},
   "outputs": [],
   "source": [
    "LOW, HIGH = 200, 3200\n",
    "bl, al = multistage_filter(5, HIGH, sf, recipe=LPF) # use multiple sections for a steep rolloff\n",
    "bh, ah = multistage_filter(2, LOW, sf, recipe=HPF)  # if we try a higher-order highpass we have stability issues\n",
    "a, b = np.polymul(ah, al), np.polymul(bh, bl)\n",
    "analog_response(b, a, sf, dB=-40)\n",
    "plt.axhline(y=-3, linewidth=0.5, color='r')    \n",
    "plt.axvline(x=LOW, linewidth=0.5, color='r')\n",
    "plt.axvline(x=HIGH, linewidth=0.5, color='r');"
   ]
  },
  {
   "cell_type": "code",
   "execution_count": null,
   "metadata": {
    "slideshow": {
     "slide_type": "-"
    }
   },
   "outputs": [],
   "source": [
    "multiplay([groove, signal.lfilter(b, a, groove)], sf)"
   ]
  },
  {
   "cell_type": "markdown",
   "metadata": {
    "slideshow": {
     "slide_type": "slide"
    }
   },
   "source": [
    "## Bass and Treble controls\n",
    "\n",
    "Simple tone controls on consumer appliances are based on shelf filters:\n",
    " * the bass knob controls the gain of a low shelf with cutoff around 250 Hz\n",
    " * the treble knob controls the gain of a high shelf with cutoff around 4 kHz"
   ]
  },
  {
   "cell_type": "code",
   "execution_count": null,
   "metadata": {},
   "outputs": [],
   "source": [
    "def tone_control(bass, treble, audio, sf):\n",
    "    BASS_FC, TREBLE_FC = 250, 4000\n",
    "    bh, ah = HSH(TREBLE_FC, treble, sf)\n",
    "    bl, al = LSH(BASS_FC, bass, sf)\n",
    "    a, b = np.polymul(ah, al), np.polymul(bh, bl)\n",
    "    return signal.lfilter(b, a, audio)"
   ]
  },
  {
   "cell_type": "code",
   "execution_count": null,
   "metadata": {
    "slideshow": {
     "slide_type": "slide"
    }
   },
   "outputs": [],
   "source": [
    "multiplay([groove, tone_control(15, 0, groove, sf)], sf)"
   ]
  },
  {
   "cell_type": "code",
   "execution_count": null,
   "metadata": {},
   "outputs": [],
   "source": [
    "multiplay([groove, tone_control(0, 10, groove, sf)], sf)"
   ]
  },
  {
   "cell_type": "code",
   "execution_count": null,
   "metadata": {},
   "outputs": [],
   "source": [
    "multiplay([groove, tone_control(8, 10, groove, sf)], sf)"
   ]
  },
  {
   "cell_type": "markdown",
   "metadata": {
    "slideshow": {
     "slide_type": "slide"
    }
   },
   "source": [
    "## Mixing a live set\n",
    "<img src=\"img/djconsole.jpg\" alt=\"Drawing\" style=\"float: right; width: 400px; margin: 20px 30px;\"/>\n",
    "\n",
    "\n",
    "DJ mixing consoles provide *sweepable* filters to dynamically change the timbre of a track:\n",
    " * removing bass in one track and treble in another facilitates transitions\n",
    " * sudden application of a filter is used to accent passages of for buildup\n",
    " * bass drops are often preceded by spectral \"thinning\" "
   ]
  },
  {
   "cell_type": "markdown",
   "metadata": {
    "slideshow": {
     "slide_type": "slide"
    }
   },
   "source": [
    "### Time-varying filters\n",
    "\n",
    "To simulate the effect of a hand-operated knob:\n",
    " * compute a new set of filter coefficients for every input sample based on knob position\n",
    " * preserve the values of the filter delays to ensure continuity\n"
   ]
  },
  {
   "cell_type": "markdown",
   "metadata": {
    "slideshow": {
     "slide_type": "slide"
    }
   },
   "source": [
    "### Simulating a bass drop"
   ]
  },
  {
   "cell_type": "code",
   "execution_count": null,
   "metadata": {},
   "outputs": [],
   "source": [
    "def sweep(times, cutoffs, audio, sf, recipe=HPF):\n",
    "    # from the input set of time values (in seconds) and corresponding cutoff frequencies, determine\n",
    "    #  the instantaneous cutoff frequency for every sample index\n",
    "    N = len(audio)\n",
    "    tmax = max(times[-1], int(N/sf + .5))\n",
    "    fc = np.interp(np.linspace(0, tmax, tmax * sf), times, cutoffs)\n",
    "    # filter delay buffers\n",
    "    b, a = recipe(cutoffs[0], sf)\n",
    "    buf = np.zeros((2, max(len(a), len(b))))\n",
    "    \n",
    "    y = np.zeros(N)\n",
    "    for n, x in enumerate(audio):\n",
    "        b, a = recipe(fc[n], sf)\n",
    "        buf[:,0] = [x, 0]\n",
    "        y[n] = buf[1][0] = b @ buf[0] - a @ buf[1]\n",
    "        buf = np.roll(buf, 1, axis=1)\n",
    "    return y"
   ]
  },
  {
   "cell_type": "code",
   "execution_count": null,
   "metadata": {
    "slideshow": {
     "slide_type": "slide"
    }
   },
   "outputs": [],
   "source": [
    "drop = sweep([7.5, 10, 14], [0, 500, 2500], groove, sf) "
   ]
  },
  {
   "cell_type": "code",
   "execution_count": null,
   "metadata": {},
   "outputs": [],
   "source": [
    "Audio(np.r_[\n",
    "        drop * np.linspace(1, 3, len(groove)), \n",
    "        0.005 * np.random.rand(1 * sf), \n",
    "        2 * tone_control(10, 0, groove, sf)\n",
    "    ], rate=sf)"
   ]
  }
 ],
 "metadata": {
  "celltoolbar": "Slideshow",
  "kernelspec": {
   "display_name": "Python 3",
   "language": "python",
   "name": "python3"
  },
  "language_info": {
   "codemirror_mode": {
    "name": "ipython",
    "version": 3
   },
   "file_extension": ".py",
   "mimetype": "text/x-python",
   "name": "python",
   "nbconvert_exporter": "python",
   "pygments_lexer": "ipython3",
   "version": "3.8.8"
  },
  "toc-autonumbering": false
 },
 "nbformat": 4,
 "nbformat_minor": 4
}
