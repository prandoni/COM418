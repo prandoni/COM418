{
 "cells": [
  {
   "cell_type": "markdown",
   "metadata": {
    "slideshow": {
     "slide_type": "slide"
    }
   },
   "source": [
    "<div align=\"right\"><i>COM418 - Computers and Music</i></div>\n",
    "<div align=\"right\"><a href=\"https://people.epfl.ch/lucie.perrotta\">Lucie Perrotta</a> and <a href=\"https://people.epfl.ch/paolo.prandoni\">Paolo Prandoni</a>, <a href=\"https://www.epfl.ch/labs/lcav/\">LCAV, EPFL</a></div>\n",
    "\n",
    "<p style=\"font-size: 30pt; font-weight: bold; color: #B51F1F;\">Dynamic Range Compression</p>"
   ]
  },
  {
   "cell_type": "code",
   "execution_count": 1,
   "metadata": {
    "slideshow": {
     "slide_type": "skip"
    }
   },
   "outputs": [],
   "source": [
    "%matplotlib inline\n",
    "import ipywidgets as widgets\n",
    "import matplotlib.pyplot as plt\n",
    "import numpy as np\n",
    "from IPython.display import Audio\n",
    "from scipy.io import wavfile\n",
    "\n",
    "import matplotlib\n",
    "figsize=(10,5)\n",
    "plt.rcParams['figure.figsize'] = 14, 4 \n",
    "matplotlib.rcParams.update({'font.size': 16})"
   ]
  },
  {
   "cell_type": "code",
   "execution_count": 2,
   "metadata": {
    "slideshow": {
     "slide_type": "skip"
    }
   },
   "outputs": [],
   "source": [
    "def load_audio(filename):\n",
    "    x_sf, x = wavfile.read(filename)\n",
    "    x = (x - np.mean(x)) / 32767.0\n",
    "    return x, x_sf\n",
    "\n",
    "def multiplay(clips, sf, title=None):\n",
    "    outs = [widgets.Output() for c in clips]\n",
    "    for ix, item in enumerate(clips):\n",
    "        with outs[ix]:\n",
    "            print(title[ix] if title is not None else \"\")\n",
    "            display(Audio(item, rate=sf, normalize=False))\n",
    "    return widgets.HBox(outs)"
   ]
  },
  {
   "cell_type": "markdown",
   "metadata": {
    "slideshow": {
     "slide_type": "slide"
    }
   },
   "source": [
    "# Introduction\n",
    "\n",
    "<img src=\"img/RS124.jpg\" alt=\"The RS124, the Beatles compressor at Abbey Road\" style=\"float: right; width: 500px; margin: 20px 0px;\"/>\n",
    "\n",
    "A dynamic range compressor is a nonlinear device used to limit the amplitude excursion of an audio signal. The peak-to-peak range is reduced adaptively by applying a time-varying attenuation factor that depends on:\n",
    " * the desired amount of compression\n",
    " * the *reactivity* of the compressor to the input level\n",
    " * the target peak value\n",
    " "
   ]
  },
  {
   "cell_type": "markdown",
   "metadata": {
    "slideshow": {
     "slide_type": "slide"
    }
   },
   "source": [
    "## Applications\n",
    "\n",
    "Typical use cases include:\n",
    " * reduce spiky transients that would cause distortion (e.g. in recording electric bass)\n",
    " * compensate for varying distance between source and microphone\n",
    " * increase the overall loudness of a music piece"
   ]
  },
  {
   "cell_type": "markdown",
   "metadata": {
    "slideshow": {
     "slide_type": "slide"
    }
   },
   "source": [
    "## Loudness\n",
    "\n",
    "<img src=\"img/loudness.jpg\" alt=\"loudness\" style=\"float: right; width: 500px; margin: 20px 0px;\"/>\n",
    "\n",
    " * perceptual loudness is related to RMS (average power)\n",
    " * dynamic range is related to peak amplitude (peak power)\n",
    " * PAPR: peak-to-average ratio\n",
    " * loud tracks have smaller PAPR values\n",
    " \n",
    "A compressor reduces the PAPR so that the track sounds louder."
   ]
  },
  {
   "cell_type": "markdown",
   "metadata": {
    "slideshow": {
     "slide_type": "slide"
    }
   },
   "source": [
    "# A digital compressor\n",
    "\n",
    "<img src=\"img/diagram.jpg\" alt=\"diagram\" style=\"width: 800px; margin: 20px 0px;\"/>\n",
    "\n",
    "A fully digital compressor applies a multiplicative gain factor to each input sample. The factor is computed in a *side chain* like so:\n",
    " \n",
    " * a theoretical instantaneous attenuation is computed for each sample\n",
    " * the attenuation is smoothed over time\n",
    " * a *make up* gain is used to boost the signal\n"
   ]
  },
  {
   "cell_type": "markdown",
   "metadata": {
    "slideshow": {
     "slide_type": "slide"
    }
   },
   "source": [
    "## Linear to decibel (and back)\n",
    "\n",
    "The compressor's sidechain works on a logarithmic amplitude scale, which better reflects the logarithmic nature of loudness perception. The amplitude unit used in the computation of the time-varying attenuation is the decibel; the attenuation is converted to linear units at the end of the sidechain processing.\n",
    "\n",
    "For clarity, we will use lowercase letters for variables expressed in linear units and uppercase letters for variables in dBs."
   ]
  },
  {
   "cell_type": "code",
   "execution_count": 3,
   "metadata": {},
   "outputs": [],
   "source": [
    "def to_dB(x):\n",
    "    EPS = 1e-10\n",
    "    return 20 * np.log10(np.abs(x) + EPS)\n",
    "\n",
    "def to_linear(X):\n",
    "    return np.power(10, X / 20)"
   ]
  },
  {
   "cell_type": "markdown",
   "metadata": {
    "slideshow": {
     "slide_type": "slide"
    }
   },
   "source": [
    "## The gain computer\n",
    "\n",
    "The gain computer provides an instantaneous attenuation factor for each input sample; the sequence of raw gain values will be smoothed prior to application to the input signal  \n",
    "\n",
    "### The waveshaper\n",
    "\n",
    "The waveshaper determines an instantaneous attenuation factor for each input sample so that:\n",
    " * values below a threshold $T$ are left unchanged\n",
    " * values above $T$ are attenuated according to a parameter $C$\n",
    " * a transition region of width $W$ (aka the *soft knee*) provides a smooth transition between the two modes."
   ]
  },
  {
   "cell_type": "markdown",
   "metadata": {
    "slideshow": {
     "slide_type": "slide"
    }
   },
   "source": [
    "A common implemetation is as follows:\n",
    "\n",
    "$$\n",
    "\\Gamma(X) = \\begin{cases}\n",
    "    X & \\text{if } X - T < -W/2  & \\text{ (below the soft-knee: no gain)} \\\\\n",
    "    X + \\displaystyle\\frac{(1 - C)(X - T + W/2)^2}{2WC} & \\text{if } |X - T| \\leq W/2 & \\text{ (inside the soft knee)}\\\\\n",
    "    T + \\displaystyle \\frac{X - T}{C} & \\text{if } X - T > W/2  &\\text{ (above the soft knee: gain is less than unity)}\n",
    "\\end{cases}\n",
    "$$"
   ]
  },
  {
   "cell_type": "code",
   "execution_count": 4,
   "metadata": {},
   "outputs": [],
   "source": [
    "def waveshaper(x, T, C, W, linear_input=True):\n",
    "    y = to_dB(x) if linear_input else np.copy(x) \n",
    "    if W > 0:\n",
    "        y = np.where(2 * np.abs(x - T) <= W, x + (1 / C - 1) * (x - T + W / 2) ** 2 / (2 * W), y) # Soft-knee range\n",
    "    y = np.where(2 * (x - T) > W, T + (x - T) / C,  y)                                        # Compression on range\n",
    "    return y"
   ]
  },
  {
   "cell_type": "code",
   "execution_count": 5,
   "metadata": {
    "slideshow": {
     "slide_type": "skip"
    }
   },
   "outputs": [],
   "source": [
    "def plot_gain(T=-30, C=4, W=10):\n",
    "    fig, ax = plt.subplots(figsize=figsize)\n",
    "    x = np.linspace(-100, 0, 2000)\n",
    "    ax.plot(x, waveshaper(x, T, C, W, linear_input=False))\n",
    "    ax.plot(x, x, alpha=.3, linestyle=\"dashed\", color=\"gray\")\n",
    "    ax.grid(True)\n",
    "    ax.set_xlim([-100, 0])\n",
    "    ax.set_ylim([-100, 0])\n",
    "    ax.axvline(T, label=\"threshold (T)\", color=\"red\")\n",
    "    ax.axvspan(T-W/2, T+W/2, alpha=0.3, color='orange', label=\"transition band (W)\")\n",
    "    plt.xlabel(\"Input [dB]\")\n",
    "    plt.ylabel(\"Output [dB]\")\n",
    "    ax.legend(loc=\"best\")\n",
    "    plt.show()"
   ]
  },
  {
   "cell_type": "code",
   "execution_count": 6,
   "metadata": {
    "slideshow": {
     "slide_type": "slide"
    }
   },
   "outputs": [
    {
     "data": {
      "application/vnd.jupyter.widget-view+json": {
       "model_id": "c6f0b249264a4963a73993789d2973fe",
       "version_major": 2,
       "version_minor": 0
      },
      "text/plain": [
       "interactive(children=(IntSlider(value=-30, description='T', max=0, min=-100, step=10), IntSlider(value=4, desc…"
      ]
     },
     "metadata": {},
     "output_type": "display_data"
    }
   ],
   "source": [
    "widgets.interact(plot_gain, T=(-100, 0, 10), C=(1, 20, 1), W=(0, 30, 5));"
   ]
  },
  {
   "cell_type": "markdown",
   "metadata": {
    "slideshow": {
     "slide_type": "slide"
    }
   },
   "source": [
    "### The instantaneous attenuation\n",
    "\n",
    "The per-sample attenuation determined by the waveshaper is $S[n] = X[n] - \\Gamma(X[n])$. For values below the transition region, $S[n] = 0~\\mathrm{dB}$.\n",
    "\n",
    "Note that, in linear units, for input values past the threshold (and neglecting the knee), this corresponds to \n",
    "\n",
    "$$\n",
    "  s[n] = \\left(\\frac{x[n]}{t}\\right)^{C-1}\n",
    "$$\n",
    "\n",
    "When $C$ is greater that about 15, the waveshaper becomes in practice a hard limiter."
   ]
  },
  {
   "cell_type": "code",
   "execution_count": 7,
   "metadata": {},
   "outputs": [],
   "source": [
    "def inst_gain(x, T, C, W, linear_input=True):\n",
    "    if linear_input:\n",
    "        x = to_dB(x)\n",
    "    return x - waveshaper(x, T, C, W, linear_input=False)"
   ]
  },
  {
   "cell_type": "markdown",
   "metadata": {
    "slideshow": {
     "slide_type": "slide"
    }
   },
   "source": [
    "### Beware of pumping!\n",
    "\n",
    "The instantaneous gain cannot be applied as such since its rapid variations would create an unpleasant effect known as \"pumping\", where the amplitude envelope of the signal changes too quickly over time"
   ]
  },
  {
   "cell_type": "code",
   "execution_count": 8,
   "metadata": {
    "slideshow": {
     "slide_type": "slide"
    }
   },
   "outputs": [
    {
     "data": {
      "image/png": "[encoded data removed]",
      "text/plain": [
       "<Figure size 1008x288 with 1 Axes>"
      ]
     },
     "metadata": {
      "needs_background": "light"
     },
     "output_type": "display_data"
    }
   ],
   "source": [
    "clip, clip_sf = load_audio(\"snd/groove.wav\")\n",
    "\n",
    "S = inst_gain(clip, -13, 10, 20, linear_input=True)\n",
    "plt.plot(S);"
   ]
  },
  {
   "cell_type": "code",
   "execution_count": 9,
   "metadata": {
    "slideshow": {
     "slide_type": "slide"
    }
   },
   "outputs": [
    {
     "data": {
      "image/png": "[encoded data removed]",
      "text/plain": [
       "<Figure size 1008x288 with 1 Axes>"
      ]
     },
     "metadata": {
      "needs_background": "light"
     },
     "output_type": "display_data"
    }
   ],
   "source": [
    "y = clip * to_linear(-S) * 2\n",
    "plt.plot(clip, alpha=0.5)\n",
    "plt.plot(y, alpha=0.5);"
   ]
  },
  {
   "cell_type": "code",
   "execution_count": 10,
   "metadata": {
    "slideshow": {
     "slide_type": "-"
    }
   },
   "outputs": [
    {
     "data": {
      "application/vnd.jupyter.widget-view+json": {
       "model_id": "7fb4e62bcf3d4a14a0a70115c03c6604",
       "version_major": 2,
       "version_minor": 0
      },
      "text/plain": [
       "HBox(children=(Output(), Output()))"
      ]
     },
     "metadata": {},
     "output_type": "display_data"
    }
   ],
   "source": [
    "multiplay((clip, y), clip_sf, title=('original', 'compressed'))"
   ]
  },
  {
   "cell_type": "markdown",
   "metadata": {
    "slideshow": {
     "slide_type": "slide"
    }
   },
   "source": [
    "## The gain smoother\n",
    "\n",
    "In order to avoid distortion and pumping we need to:\n",
    " * apply the attenuation gradually, according to a user-definable *attack* time $\\tau_A$\n",
    " * stop the attenuation gradually as well, with a rate of decay determined by a user-definable *release* time\n",
    " \n",
    "To this end, the instantaneous attenuation $S[n]$ is averaged by a pair of leaky integrators as\n",
    "\n",
    "$$\n",
    "  G[n] = \n",
    "    \\begin{cases}\n",
    "        \\lambda_A G[n-1] + (1-\\lambda_A) S[n] & \\text{if } S[n] > G[n-1] \\\\\n",
    "        \\lambda_R G[n-1] + (1-\\lambda_R) S[n] &\\text{if } S[n] \\leq G[n-1]\n",
    "    \\end{cases}\n",
    "$$\n",
    "\n",
    "The coefficients $\\lambda_A$ and $\\lambda_R$ are related to the desired attack time $\\tau_A$ and release time $\\tau_R$ (expressed in seconds) as\n",
    "\n",
    "$$\n",
    "    \\lambda_{A,R} = e^{-1/(\\tau_{A,R}F_s)}\n",
    "$$\n",
    "where $F_s$ is the sampling rate of the system. Typical values for the time constants are  $10~\\mathrm{ms} < \\tau_A < 100~\\mathrm{ms}$ and $100~\\mathrm{ms} < \\tau_R < 1000~\\mathrm{ms}$."
   ]
  },
  {
   "cell_type": "code",
   "execution_count": 11,
   "metadata": {
    "slideshow": {
     "slide_type": "skip"
    }
   },
   "outputs": [],
   "source": [
    "def smoother(S, t_a, t_r, sf):\n",
    "    # time constants are expressed in milliseconds\n",
    "    l_a = np.exp(-1/(t_a * sf / 1000)) if t_a > 0 else 0\n",
    "    l_r = np.exp(-1/(t_r * sf / 1000)) if t_r > 0 else 0\n",
    "    G = np.zeros(len(S))\n",
    "    for n in range(0, len(S)):\n",
    "        lam = l_a if S[n] > G[n-1] else l_r\n",
    "        G[n] = lam * G[n-1] + (1 - lam) * S[n]\n",
    "    return G"
   ]
  },
  {
   "cell_type": "code",
   "execution_count": 12,
   "metadata": {
    "slideshow": {
     "slide_type": "skip"
    }
   },
   "outputs": [],
   "source": [
    "def plot_smooth_gain(t_a=100, t_r=500):\n",
    "    sf = 1000\n",
    "    t = np.arange(0, 3 * sf) / sf\n",
    "    X = -100 * np.ones(len(t)) \n",
    "    X[int(.5 * sf):int(1.5 * sf)] = 0\n",
    "    G = smoother(inst_gain(X, -30, 4, 10, linear_input=False), t_a, t_r, sf)\n",
    "    \n",
    "    fig, ax = plt.subplots(figsize=figsize)\n",
    "\n",
    "    ax.set_xlabel('time (s)')\n",
    "    ax.set_ylabel('signal amplitude (dB)', color='C0')\n",
    "    ax.plot(t, X, color='C0')\n",
    "\n",
    "    ax2 = ax.twinx()  \n",
    "    ax2.set_ylabel('attenuation (dB)', color='C1')  \n",
    "    ax2.plot(t, G, color='C1')\n",
    "    ax2.set_ylim(-1, 24)"
   ]
  },
  {
   "cell_type": "code",
   "execution_count": 13,
   "metadata": {
    "slideshow": {
     "slide_type": "slide"
    },
    "tags": []
   },
   "outputs": [
    {
     "data": {
      "application/vnd.jupyter.widget-view+json": {
       "model_id": "4651b288f64142a989da45c9f2c79efb",
       "version_major": 2,
       "version_minor": 0
      },
      "text/plain": [
       "interactive(children=(IntSlider(value=100, description='t_a', max=1000, step=50), IntSlider(value=500, descrip…"
      ]
     },
     "metadata": {},
     "output_type": "display_data"
    }
   ],
   "source": [
    "widgets.interact(plot_smooth_gain, t_a=(0, 1000, 50), t_r=(0, 1000, 50));"
   ]
  },
  {
   "cell_type": "markdown",
   "metadata": {
    "slideshow": {
     "slide_type": "slide"
    },
    "tags": []
   },
   "source": [
    "## The full chain\n",
    "\n",
    "\n",
    "<img src=\"img/diagram.jpg\" alt=\"diagram\" style=\"width: 800px; margin: 20px 0px;\"/>\n",
    "\n",
    "\n",
    "The smoothed attenuation, when applied to the signal, will produce an output with a lower peak-to-average power ratio by reducing the peak-to-peak range of the input. This creates extra headroom that can be used to amplify the compressed signal and increase its power via a *make-up* gain factor $M$"
   ]
  },
  {
   "cell_type": "code",
   "execution_count": 14,
   "metadata": {},
   "outputs": [],
   "source": [
    "def compressor(x, sf, T, C, W=10, M=0, t_a=100, t_r=500):\n",
    "    G = smoother(inst_gain(x, T, C, W, linear_input=True), t_a, t_r, sf)\n",
    "    return x * to_linear(M - G)"
   ]
  },
  {
   "cell_type": "code",
   "execution_count": 15,
   "metadata": {
    "slideshow": {
     "slide_type": "skip"
    }
   },
   "outputs": [],
   "source": [
    "def interactive_comp(x, sf, T, C, W, M=0, t_a=10, t_r=500, play=False):\n",
    "    y = compressor(x, sf, T, C, W, M, t_a, t_r)\n",
    "    fig, ax = plt.subplots(figsize=figsize)\n",
    "    t = np.arange(0, len(x)) / sf\n",
    "    ax.plot(t, x, alpha=.5, label=\"original\")\n",
    "    ax.plot(t, y, alpha=.5, label=\"compressed\")\n",
    "    ax.axhline(to_linear(M + T), color=\"red\", alpha=0.7)\n",
    "    ax.axhline(-to_linear(M + T), color=\"red\", alpha=0.7)\n",
    "    plt.legend(loc=\"best\")\n",
    "    if play:\n",
    "        return multiplay((x, y), sf, ('original', 'compressed'))"
   ]
  },
  {
   "cell_type": "code",
   "execution_count": 16,
   "metadata": {
    "slideshow": {
     "slide_type": "skip"
    },
    "tags": []
   },
   "outputs": [],
   "source": [
    "sf = 1000\n",
    "t = np.arange(0, 3 * sf) / sf\n",
    "x = np.sin(3 * t) * np.cos(np.pi / 10  * np.arange(0, len(t))) \n",
    "def inter_test():\n",
    "    return widgets.interact(interactive_comp, x=widgets.fixed(x), sf=widgets.fixed(sf),\n",
    "                 M=widgets.fixed(0), play=widgets.fixed(False), W=(0, 30, 5), \n",
    "                 T=widgets.IntSlider(min=-20, max=0, step=1, value=-6), C=(1, 20, 1),\n",
    "                 t_a=(0, 100, 1), t_r=(0, 1000, 300));"
   ]
  },
  {
   "cell_type": "code",
   "execution_count": 17,
   "metadata": {
    "slideshow": {
     "slide_type": "slide"
    }
   },
   "outputs": [
    {
     "data": {
      "application/vnd.jupyter.widget-view+json": {
       "model_id": "248e4eb2602342929d51e216e2174166",
       "version_major": 2,
       "version_minor": 0
      },
      "text/plain": [
       "interactive(children=(IntSlider(value=-6, description='T', max=0, min=-20), IntSlider(value=10, description='C…"
      ]
     },
     "metadata": {},
     "output_type": "display_data"
    }
   ],
   "source": [
    "inter_test();"
   ]
  },
  {
   "cell_type": "markdown",
   "metadata": {
    "slideshow": {
     "slide_type": "slide"
    },
    "tags": []
   },
   "source": [
    "# Examples\n",
    "\n",
    "## Compressing speech"
   ]
  },
  {
   "cell_type": "code",
   "execution_count": 18,
   "metadata": {
    "slideshow": {
     "slide_type": "skip"
    }
   },
   "outputs": [],
   "source": [
    "p, p_sf = load_audio(\"snd/speech.wav\")\n",
    "def inter_speech():\n",
    "    return widgets.interact(interactive_comp, x=widgets.fixed(p), sf=widgets.fixed(p_sf), play=widgets.fixed(True), W=(0, 40, 35), \n",
    "                 T=widgets.IntSlider(min=-20, max=0, step=1, value=-16), C=widgets.IntSlider(min=4, max=20, step=1, value=13), \n",
    "                 M=widgets.IntSlider(min=0, max=20, step=1, value=11), \n",
    "                 t_a=widgets.IntSlider(min=0, max=100, step=1, value=0), t_r=(0, 1000, 700))"
   ]
  },
  {
   "cell_type": "code",
   "execution_count": 19,
   "metadata": {
    "slideshow": {
     "slide_type": "slide"
    }
   },
   "outputs": [
    {
     "data": {
      "application/vnd.jupyter.widget-view+json": {
       "model_id": "9920c786a5b8449f8b0a760751b0b9fc",
       "version_major": 2,
       "version_minor": 0
      },
      "text/plain": [
       "interactive(children=(IntSlider(value=-16, description='T', max=0, min=-20), IntSlider(value=13, description='…"
      ]
     },
     "metadata": {},
     "output_type": "display_data"
    }
   ],
   "source": [
    "inter_speech();"
   ]
  },
  {
   "cell_type": "markdown",
   "metadata": {
    "slideshow": {
     "slide_type": "slide"
    }
   },
   "source": [
    "## Compressing bass"
   ]
  },
  {
   "cell_type": "code",
   "execution_count": 20,
   "metadata": {
    "slideshow": {
     "slide_type": "skip"
    }
   },
   "outputs": [],
   "source": [
    "p, p_sf = load_audio(\"snd/bass.wav\")\n",
    "def inter_bass():\n",
    "    return widgets.interact(interactive_comp, x=widgets.fixed(p), sf=widgets.fixed(p_sf), play=widgets.fixed(True), W=(0, 20, 5), \n",
    "                 T=widgets.IntSlider(min=-40, max=0, step=1, value=-25), C=widgets.IntSlider(min=4, max=20, step=1, value=8), \n",
    "                 M=widgets.IntSlider(min=0, max=20, step=1, value=16), \n",
    "                 t_a=widgets.IntSlider(min=0, max=500, step=1, value=1), t_r=widgets.IntSlider(min=0, max=1000, step=10, value=140));"
   ]
  },
  {
   "cell_type": "code",
   "execution_count": 21,
   "metadata": {
    "slideshow": {
     "slide_type": "slide"
    }
   },
   "outputs": [
    {
     "data": {
      "application/vnd.jupyter.widget-view+json": {
       "model_id": "e461a2a48db3447f8343cc6160e16775",
       "version_major": 2,
       "version_minor": 0
      },
      "text/plain": [
       "interactive(children=(IntSlider(value=-25, description='T', max=0, min=-40), IntSlider(value=8, description='C…"
      ]
     },
     "metadata": {},
     "output_type": "display_data"
    }
   ],
   "source": [
    "inter_bass();"
   ]
  }
 ],
 "metadata": {
  "celltoolbar": "Slideshow",
  "kernelspec": {
   "display_name": "Python 3",
   "language": "python",
   "name": "python3"
  },
  "language_info": {
   "codemirror_mode": {
    "name": "ipython",
    "version": 3
   },
   "file_extension": ".py",
   "mimetype": "text/x-python",
   "name": "python",
   "nbconvert_exporter": "python",
   "pygments_lexer": "ipython3",
   "version": "3.8.8"
  },
  "toc-autonumbering": true
 },
 "nbformat": 4,
 "nbformat_minor": 4
}
