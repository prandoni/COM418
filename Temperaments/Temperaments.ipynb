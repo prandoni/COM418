{
 "cells": [
  {
   "cell_type": "markdown",
   "id": "df490416",
   "metadata": {
    "slideshow": {
     "slide_type": "slide"
    }
   },
   "source": [
    "<div align=\"right\"><i>COM418 - Computers and Music</i></div>\n",
    "<div align=\"right\"><a href=\"https://people.epfl.ch/paolo.prandoni\">Paolo Prandoni</a>, <a href=\"https://www.epfl.ch/labs/lcav/\">LCAV, EPFL</a></div>\n",
    "\n",
    "<p style=\"font-size: 30pt; font-weight: bold; color: #B51F1F;\">Tunings and Temperaments</p>"
   ]
  },
  {
   "cell_type": "code",
   "execution_count": null,
   "id": "b9f8404d",
   "metadata": {
    "slideshow": {
     "slide_type": "skip"
    }
   },
   "outputs": [],
   "source": [
    "%matplotlib inline\n",
    "import matplotlib.pyplot as plt\n",
    "import numpy as np\n",
    "import IPython\n",
    "\n",
    "import matplotlib\n",
    "plt.rcParams[\"figure.figsize\"] = (14,4)"
   ]
  },
  {
   "cell_type": "code",
   "execution_count": null,
   "id": "b1b09114",
   "metadata": {
    "slideshow": {
     "slide_type": "skip"
    },
    "tags": []
   },
   "outputs": [],
   "source": [
    "DEFAULT_SF = 32000  \n",
    "C4 = 261.63"
   ]
  },
  {
   "cell_type": "code",
   "execution_count": null,
   "id": "dba022f9",
   "metadata": {
    "slideshow": {
     "slide_type": "skip"
    }
   },
   "outputs": [],
   "source": [
    "import ipywidgets as widgets\n",
    "\n",
    "def play(clip, rate=DEFAULT_SF):\n",
    "    display(IPython.display.Audio(clip, rate=rate))\n",
    "    \n",
    "\n",
    "def multiplay(clips, rate=DEFAULT_SF, title=None):\n",
    "    outs = [widgets.Output() for c in clips]\n",
    "    for ix, clip in enumerate(clips):\n",
    "        with outs[ix]:\n",
    "            print(title[ix] if title is not None else \"\")\n",
    "            display(IPython.display.Audio(clip, rate=rate)  )\n",
    "    return widgets.HBox(outs)"
   ]
  },
  {
   "cell_type": "markdown",
   "id": "5960a8c9",
   "metadata": {
    "slideshow": {
     "slide_type": "slide"
    }
   },
   "source": [
    "# What is the fundamental frequency (in Hz) associated to an arbitrary piano key?\n",
    "\n",
    "<br><br>\n",
    "<img width=\"800\" style=\"margin: 0;\" src=\"img/piano_full.jpg\">\n"
   ]
  },
  {
   "cell_type": "markdown",
   "id": "e196fb3c",
   "metadata": {
    "slideshow": {
     "slide_type": "slide"
    }
   },
   "source": [
    "## The well-known \"formula\"\n",
    "\n",
    "<img width=\"800\" style=\"margin: 50px 0;\" src=\"img/piano_ref.jpg\">\n",
    "\n",
    "<br>\n",
    "$$\n",
    "    \\large p_n = p_0 \\left(\\sqrt[12]{2}\\right)^{n-n_0} \n",
    "$$"
   ]
  },
  {
   "cell_type": "markdown",
   "id": "475aa880",
   "metadata": {
    "slideshow": {
     "slide_type": "slide"
    }
   },
   "source": [
    "## Simple questions, surprisingly complex answers...\n",
    "\n",
    "<br><br>\n",
    "<img width=\"250\" style=\"float: left; margin: 10px 20px;\" src=\"img/scale.png\">\n",
    "\n",
    "\n",
    " * why are there 7 notes in our Western musical scale?\n",
    " * why do piano keys repeat in patterns of 12?\n",
    " * why are guitar frets spaced that way?\n",
    " \n",
    " \n",
    "<img width=\"450\" style=\"float: right; margin: 10px 20px;\" src=\"img/piano_full.jpg\">\n",
    "\n",
    "<br>\n",
    "\n",
    "<img width=\"350\" style=\"float: left; margin: 10px 20px;\" src=\"img/guitar.png\">\n",
    " \n"
   ]
  },
  {
   "cell_type": "markdown",
   "id": "53fd1b2e",
   "metadata": {
    "slideshow": {
     "slide_type": "slide"
    }
   },
   "source": [
    "# Musical pitch\n",
    "\n",
    "Our ears interpret a changing pattern in air pressure as sound. If the pressure pattern repeats periodically, we experience a sensation of **pitch**.\n",
    "\n",
    "Pitch is determined by the pattern's **frequency** (i.e. the number of times per second that the pattern repeats). The actual *shape* of the pattern only affects what we call the _timbre_ of the sound (note: _affects_ not _determine_ ; many more things go into our sense of timbre). "
   ]
  },
  {
   "cell_type": "code",
   "execution_count": null,
   "id": "ba72c63c",
   "metadata": {
    "slideshow": {
     "slide_type": "slide"
    }
   },
   "outputs": [],
   "source": [
    "sine = np.sin(np.linspace(0, 2 * np.pi, DEFAULT_SF // 300, endpoint=False))\n",
    "burst = np.random.rand(DEFAULT_SF // 300)\n",
    "\n",
    "plt.subplot(1, 2, 1)\n",
    "plt.plot(sine);    \n",
    "plt.subplot(1, 2, 2)\n",
    "plt.plot(burst);    \n",
    "plt.show()\n",
    "\n",
    "multiplay([np.tile(sine, 300), np.tile(burst, 300)])"
   ]
  },
  {
   "cell_type": "markdown",
   "id": "75261888",
   "metadata": {},
   "source": [
    "The actual mechanics of sound production will enter the story a bit later. For now, let's use the simplest form of periodic patterns, namely, **sinusoids**. "
   ]
  },
  {
   "cell_type": "markdown",
   "id": "1b400458",
   "metadata": {
    "slideshow": {
     "slide_type": "slide"
    }
   },
   "source": [
    "## Continuum and categorical perception\n",
    "\n",
    "<img width=\"450\" style=\"float: right; margin: 10px 20px;\" src=\"img/piano.jpg\">\n",
    "\n",
    "Pitch spans a sensory _continuum_ ; but most musical practice subdivides this continuum into a discrete set of *named* musical notes.\n",
    "\n",
    "A piano keyboard is the prototypical illustration of quantized pitch:\n",
    "\n",
    " * the 7-note diatonic scale (C, D, E, F, G, A, B, the white keys) \n",
    " * the 12-note chromatic scale (white AND black keys)"
   ]
  },
  {
   "cell_type": "code",
   "execution_count": null,
   "id": "e429aeef",
   "metadata": {
    "slideshow": {
     "slide_type": "slide"
    }
   },
   "outputs": [],
   "source": [
    "class Synthesizer:\n",
    "    \"\"\"\n",
    "    Simple monophonic synthesizer with different tunings and waveform engines.\n",
    "    Input format is a lists of note/duration pairs, eg [('C4', 2), ('E4', 1), ('G4', 1)], which\n",
    "    will be converted into an internal representation of frequency/duration pairs (fdp) according\n",
    "    to the selected tuning; for instance, the fdp representation of the above line is\n",
    "        array([[261.63      , 329.63314428, 392.00208052],\n",
    "               [  2.        ,   1.        ,   1.        ]])\n",
    "    FDP's are useful for transposition and can be used directly in case of non-standard pitches.\n",
    "    \"\"\"\n",
    "\n",
    "    SF = DEFAULT_SF\n",
    "    C4 = 261.63\n",
    "    SEMITONES = {'C': 0, 'C#': 1, 'Db': 1, 'D': 2, 'D#': 3, 'Eb': 3, 'E': 4, 'F': 5, 'F#': 6, 'Gb': 6, \n",
    "                 'G': 7, 'G#': 8, 'Ab': 8, 'A': 9, 'A#': 10, 'Bb': 10, 'B': 11}  \n",
    "    TUNINGS = {\n",
    "        'equal': [2.0 ** (n / 12.0) for n in range(0, 12)],\n",
    "        'just' : [1, 16/15, 9/8, 6/5, 5/4, 4/3, 45/32, 3/2, 8/5, 5/3, 9/5, 15/8],\n",
    "        'pythagorean': [1, 256/243, 9/8, 32/27, 81/64, 4/3, 729/512, 3/2, 128/81, 27/16, 16/9, 243/128],\n",
    "    }\n",
    "    \n",
    "    time_scale = 0.35  \n",
    "    tuning = 'equal'\n",
    "    \n",
    "    @classmethod\n",
    "    def taper(cls, x, len_sec=0.02):\n",
    "        \"\"\"Taper audio data to zero at both ends\"\"\"\n",
    "        N = int(len_sec * cls.SF)\n",
    "        x[0:N] *= np.linspace(0, 1, N)\n",
    "        x[-N:] *= np.linspace(1, 0, N)\n",
    "        return x\n",
    "    \n",
    "    @classmethod\n",
    "    def glissando(cls, start, stop, len_sec):\n",
    "        \"\"\"Create a linear chirp with specific range and duration\"\"\"\n",
    "        N = int(len_sec * cls.SF)\n",
    "        c = (stop - start) / N / 2\n",
    "        n = np.arange(0, N)\n",
    "        chirp = np.cos(2 * np.pi / cls.SF * (c * n + start) * n)\n",
    "        return cls.taper(chirp)\n",
    "\n",
    "    # waveform engines; these functions take a digital frequency and a duration in samples\n",
    "    def sas(self, w, N):\n",
    "        \"\"\"Simple additive synthesis\"\"\"\n",
    "        x = np.zeros(N)\n",
    "        for k, p in enumerate([0.86805556, 0.06510417, 0.03038194, 0.02777778, 0.00303819, 0.00564236]): #[0.6, 0.5, 0.3, 0.4, 0.1]):\n",
    "            x += p * np.sin(k * w * np.arange(0, N))\n",
    "        return x\n",
    "    \n",
    "    def sine(self, w, N):\n",
    "        return np.sin(np.arange(0, N) * w)\n",
    "    \n",
    "    ENGINES = {\n",
    "        'additive': sas,\n",
    "        'sine': sine\n",
    "    }\n",
    "    \n",
    "    def __init__(self, tuning='equal', SF=DEFAULT_SF):\n",
    "        assert tuning in self.TUNINGS.keys(), 'Unknown tuning/intonation'\n",
    "        self.tuning = tuning\n",
    "        self.SF = float(SF)\n",
    "    \n",
    "    def parse(self, notes, tuning=None) -> 'frequency/time pairs':\n",
    "        \"\"\"\n",
    "        Convert a series of notes into an array of frequency and duration values \n",
    "        using a specific tuning\n",
    "        \"\"\"\n",
    "        # if format is already FTP no need to convert\n",
    "        if isinstance(notes, np.ndarray) and notes.ndim == 2:\n",
    "            return notes\n",
    "        tuning = tuning or self.tuning\n",
    "        assert tuning in self.TUNINGS.keys(), 'Unknown tuning/intonation'\n",
    "        fda = np.zeros((2, len(notes)))\n",
    "        for ix, note in enumerate(notes): \n",
    "            # if not specified, default duration is 1\n",
    "            note = note if isinstance(note, tuple) else (note, 1.0)\n",
    "            if isinstance(note[0], str):\n",
    "                # convert notation to frequency\n",
    "                s = self.SEMITONES[note[0][:-1]]\n",
    "                octave = int(note[0][-1]) - 4\n",
    "                fda[0][ix] = self.C4 * (2 ** octave) * self.TUNINGS[tuning][s]\n",
    "            else:\n",
    "                fda[0][ix] = note[0]\n",
    "            fda[1][ix] = note[1]\n",
    "        return fda\n",
    "        \n",
    "    def play(self, score, time_scale=None, engine=None, tuning=None):\n",
    "        \"\"\"\n",
    "        Syntesize audio data from a melody line (either in note/duration format or in frequency/duration 2xN array)\n",
    "        time_scale adjusts the timebase\n",
    "        engine selects the waveform generator\n",
    "        tuning selects the tuning for melodies expressed with note names\n",
    "        \"\"\"\n",
    "        engine = engine or 'additive'\n",
    "        time_scale = time_scale or self.time_scale\n",
    "        fda = self.parse(score, tuning)\n",
    "        s = np.array([])\n",
    "        for n in range(0, len(fda[0])):\n",
    "            w = 2 * np.pi * fda[0][n] / self.SF\n",
    "            N = int(fda[1][n] * self.SF * time_scale)\n",
    "            s = np.r_[s, self.taper(self.ENGINES[engine](self, w, N))]\n",
    "        return s"
   ]
  },
  {
   "cell_type": "code",
   "execution_count": null,
   "id": "7b900093",
   "metadata": {
    "slideshow": {
     "slide_type": "slide"
    }
   },
   "outputs": [],
   "source": [
    "synth = Synthesizer()\n",
    "\n",
    "diatonic_scale = ('C4', 'D4', 'E4', 'F4', 'G4', 'A4', 'B4', 'C5')\n",
    "chromatic_scale = ('C4', 'C#4', 'D4', 'D#4', 'E4', 'F4', 'F#4', 'G4', 'G#4', 'A4', 'A#4', 'B4', 'C5')\n",
    "\n",
    "multiplay([synth.glissando(C4, 2 * C4, 3.0), \n",
    "           synth.play(diatonic_scale, engine='sine', time_scale=0.4),\n",
    "           synth.play(chromatic_scale, engine='sine', time_scale=0.25)], \n",
    "          title=['continuum', 'diatonic', 'chromatic'])"
   ]
  },
  {
   "cell_type": "markdown",
   "id": "348a04de",
   "metadata": {
    "slideshow": {
     "slide_type": "slide"
    }
   },
   "source": [
    "## Pitch, melody, harmony and the musical scale\n",
    " \n",
    " * why 7 notes?\n",
    " * why 12 semitones?"
   ]
  },
  {
   "cell_type": "markdown",
   "id": "f2ad3ed7",
   "metadata": {
    "slideshow": {
     "slide_type": "slide"
    },
    "tags": []
   },
   "source": [
    "### Aside: human categorical perception seems to always generate $7 \\pm 2$ classes\n",
    "\n",
    "![spectrum](img/spectrum.jpg)\n",
    "\n",
    "\n",
    "(Newton got pretty hung up on this but, really, we can quantize pitch over an arbitrary number of levels...)"
   ]
  },
  {
   "cell_type": "markdown",
   "id": "7445f9a6",
   "metadata": {
    "slideshow": {
     "slide_type": "slide"
    }
   },
   "source": [
    "## Key Fact #1: melodic information is encoded by frequency _ratios_ , not differences\n",
    "\n",
    "![fj](img/fj.jpg)"
   ]
  },
  {
   "cell_type": "code",
   "execution_count": null,
   "id": "7c34270f",
   "metadata": {},
   "outputs": [],
   "source": [
    "frere_jacques = (('C4', 1), ('D4', 1), ('E4', 1), ('C4', 1), ('C4', 1), ('D4', 1), ('E4', 1), ('C4', 1), ('E4', 1), \n",
    "                 ('F4', 1), ('G4', 2), ('E4', 1), ('F4', 1), ('G4', 2))\n",
    "\n",
    "play(synth.play(frere_jacques))"
   ]
  },
  {
   "cell_type": "code",
   "execution_count": null,
   "id": "7d3a2612",
   "metadata": {
    "slideshow": {
     "slide_type": "slide"
    }
   },
   "outputs": [],
   "source": [
    "fj_fda = synth.parse(frere_jacques)\n",
    "plt.step(range(0, len(fj_fda[0])), fj_fda[0]);"
   ]
  },
  {
   "cell_type": "markdown",
   "id": "bc4ab19b",
   "metadata": {
    "slideshow": {
     "slide_type": "slide"
    }
   },
   "source": [
    "### Transposition\n",
    "\n",
    "Shifting the frequencies corrupts the melodic information, whereas scaling does not:"
   ]
  },
  {
   "cell_type": "code",
   "execution_count": null,
   "id": "18713f77",
   "metadata": {
    "slideshow": {
     "slide_type": "-"
    }
   },
   "outputs": [],
   "source": [
    "fj_fda_offset = fj_fda + [[110], [0]]\n",
    "fj_fda_scaled = fj_fda * [[np.sqrt(2)], [1]]\n",
    "\n",
    "multiplay([synth.play(fj_fda), synth.play(fj_fda_offset), synth.play(fj_fda_scaled)], \n",
    "          title=['original', 'frequency offset', 'frequency scaling'])"
   ]
  },
  {
   "cell_type": "markdown",
   "id": "954d9a2d",
   "metadata": {
    "slideshow": {
     "slide_type": "slide"
    },
    "tags": []
   },
   "source": [
    "### Harmony\n",
    "\n",
    "In general, however, randomly scaled melodies do not sound good together!"
   ]
  },
  {
   "cell_type": "code",
   "execution_count": null,
   "id": "0e96d17c",
   "metadata": {},
   "outputs": [],
   "source": [
    "play(synth.play(fj_fda) + synth.play(fj_fda_scaled))"
   ]
  },
  {
   "cell_type": "markdown",
   "id": "279c9ae6",
   "metadata": {},
   "source": [
    "(remember DTMF dialing?)"
   ]
  },
  {
   "cell_type": "markdown",
   "id": "cc948010",
   "metadata": {
    "slideshow": {
     "slide_type": "slide"
    }
   },
   "source": [
    "But there is one exception that everyone knows: melodies separated by one or more _octaves_. "
   ]
  },
  {
   "cell_type": "markdown",
   "id": "ee6b7cb9",
   "metadata": {
    "slideshow": {
     "slide_type": "slide"
    }
   },
   "source": [
    "## Key Fact #2 fact: octaves are innately consonant\n",
    "\n",
    "<img width=\"250\" style=\"float: right; margin: 10px 20px;\" src=\"img/choir.jpg\">\n",
    "\n",
    "People singing together tend to sing either in unison or one octave apart (e.g. men and women).\n",
    "\n",
    "Nature or nurture? Probably both.\n",
    "\n",
    "To go up an octave, frequencies are _doubled_ ; to go down an octave, frequencies are _halved_ ."
   ]
  },
  {
   "cell_type": "code",
   "execution_count": null,
   "id": "eda1e93f",
   "metadata": {},
   "outputs": [],
   "source": [
    "play(synth.play(fj_fda) + synth.play(fj_fda * [[2], [1]]))"
   ]
  },
  {
   "cell_type": "markdown",
   "id": "dcc58402",
   "metadata": {
    "slideshow": {
     "slide_type": "slide"
    }
   },
   "source": [
    "we can also go up multiple octaves if we use powers of two"
   ]
  },
  {
   "cell_type": "code",
   "execution_count": null,
   "id": "3a4ac700",
   "metadata": {},
   "outputs": [],
   "source": [
    "play(synth.play(fj_fda) + synth.play(fj_fda * [[2 ** 2], [1]]))"
   ]
  },
  {
   "cell_type": "markdown",
   "id": "075286f1",
   "metadata": {
    "slideshow": {
     "slide_type": "slide"
    }
   },
   "source": [
    "or go down using negative powers of two"
   ]
  },
  {
   "cell_type": "code",
   "execution_count": null,
   "id": "b7cfdc0f",
   "metadata": {},
   "outputs": [],
   "source": [
    "play(synth.play(fj_fda) + synth.play(fj_fda * [[2 ** (-1)], [1]]))"
   ]
  },
  {
   "cell_type": "markdown",
   "id": "399ab308",
   "metadata": {
    "slideshow": {
     "slide_type": "slide"
    }
   },
   "source": [
    "### Octave equivalence\n",
    "\n",
    "**The consonance of octaves is the fundamental principle behind most tunings and temperaments.**\n",
    "\n",
    "Since musical notes one or more octaves apart induce the same categorical perception we only need to \"quantize\" an octave.\n",
    "\n"
   ]
  },
  {
   "cell_type": "code",
   "execution_count": null,
   "id": "864038da",
   "metadata": {},
   "outputs": [],
   "source": [
    "def map_to_octave(root, freqs):\n",
    "    for ix in range(0, len(freqs)):\n",
    "        while freqs[ix] < root:\n",
    "            freqs[ix] *= 2.0\n",
    "        # use 2.11 (~ 2^(13/12)) to allow for the \"comma\"\n",
    "        while freqs[ix] > 2.11 * root:  \n",
    "            freqs[ix] /= 2.0\n",
    "    return freqs    "
   ]
  },
  {
   "cell_type": "markdown",
   "id": "9413e4eb",
   "metadata": {
    "slideshow": {
     "slide_type": "slide"
    }
   },
   "source": [
    "## Are there other scaling factors that produce consonant pitches? \n",
    "\n",
    "First, let's consider how sound can be generated by a vibrating string (or an organ pipe)"
   ]
  },
  {
   "cell_type": "markdown",
   "id": "98762a79",
   "metadata": {
    "slideshow": {
     "slide_type": "slide"
    }
   },
   "source": [
    "### The Monochord and the vibrating string\n",
    "\n",
    "<img width=\"650\" style=\"float: right; margin: 10px 20px 10px 40px;\" src=\"img/monochord.png\">\n",
    "\n",
    "Simple monophonic instrument used in ancient Greece (VI century BC). The motion of the vibrating string can be decomposed into the sum of harmonic standing waves with frequencies\n",
    "\n",
    "$$ f_n = \\frac{n}{2L}\\sqrt{\\frac{T}{\\mu}} $$\n",
    "\n",
    " * $L$ length ($m$)\n",
    " * $T$ tension ($N = {kg}~ m/s^2$)\n",
    " * $\\mu$ linear density ($kg/m$)\n"
   ]
  },
  {
   "cell_type": "markdown",
   "id": "6a36ce97",
   "metadata": {
    "slideshow": {
     "slide_type": "slide"
    }
   },
   "source": [
    "### Harmonic spectra\n",
    "\n",
    "Naturally occurring pitched sounds possess a _harmonic_ spectrum, with energy pooled around multiples of the fundamental frequency $f_1$. "
   ]
  },
  {
   "cell_type": "code",
   "execution_count": null,
   "id": "d8fca571",
   "metadata": {},
   "outputs": [],
   "source": [
    "from scipy.io import wavfile\n",
    "Fs, x = wavfile.read(\"snd/piano.wav\")\n",
    "x = x - np.mean(x)\n",
    "play(x, rate=Fs)\n",
    "plt.plot(np.abs(np.fft.fft(x)[0:int(len(x)/2)]));"
   ]
  },
  {
   "cell_type": "markdown",
   "id": "ed108d58",
   "metadata": {},
   "source": [
    "The harmonic nature of the spectrum will be important later, for now let's just consider the fundamental frequency."
   ]
  },
  {
   "cell_type": "markdown",
   "id": "8446bb1f",
   "metadata": {
    "slideshow": {
     "slide_type": "slide"
    }
   },
   "source": [
    "### The Fifth\n",
    "\n",
    "<img width=\"350\" style=\"float: right; margin: 10px 20px 0 50px;\" src=\"img/pythagoras.jpg\">\n",
    "\n",
    "It was known since antiquity that two vibrating strings (with equal tension and density) will sound well together if the length of the second string is **two thirds** of the first. This correspond of a frequency scaling factor equal to $3/2 = 1.5$\n",
    "\n",
    "The $3/2$ frequency ratio is called a **fifth** (for anachronistic reasons that will be clear later...)"
   ]
  },
  {
   "cell_type": "code",
   "execution_count": null,
   "id": "d85d00cd",
   "metadata": {},
   "outputs": [],
   "source": [
    "play(synth.play(fj_fda) + synth.play(fj_fda * [[3/2], [1]]))"
   ]
  },
  {
   "cell_type": "markdown",
   "id": "a30ff7a5",
   "metadata": {
    "slideshow": {
     "slide_type": "slide"
    }
   },
   "source": [
    "### The fourth\n",
    "\n",
    "Another OK ratio is $4/3$ (called the **fourth**), which corresponds to pairing a vibrating string with another three fourths of its length."
   ]
  },
  {
   "cell_type": "code",
   "execution_count": null,
   "id": "3a6eb15b",
   "metadata": {},
   "outputs": [],
   "source": [
    "play(synth.play(fj_fda) + synth.play(fj_fda * [[4/3], [1]]))"
   ]
  },
  {
   "cell_type": "markdown",
   "id": "97fb41d8",
   "metadata": {
    "slideshow": {
     "slide_type": "slide"
    },
    "tags": []
   },
   "source": [
    "But the fourth is actually just a fifth in disguise under the principle of octave equivalence since\n",
    "\n",
    "$$ \\frac{4}{3} = \\left(\\frac{3}{2}\\right)^{-1}\\cdot 2 $$\n",
    "\n",
    "that is, we go _down_ a fifth and then bring the result back to the original octave. We are now ready for the first tuning."
   ]
  },
  {
   "cell_type": "markdown",
   "id": "d8a64ef9",
   "metadata": {
    "slideshow": {
     "slide_type": "slide"
    },
    "tags": []
   },
   "source": [
    "# Pythagorean Tuning\n",
    "\n",
    " * start on a frequency $f_0$\n",
    " * the most consonant frequency to $f_0$ (besides unison and octave) is going to be $f_1 = (3/2)f_0$\n",
    " * the most consonant frequency to $f_1$ will be $(3/2)f_1 = (3/2)^2f_0$, and so on\n",
    " \n",
    "Let's apply this iteratively seven times, and bring all resulting pitches back to the home octave"
   ]
  },
  {
   "cell_type": "code",
   "execution_count": null,
   "id": "bf67c356",
   "metadata": {},
   "outputs": [],
   "source": [
    "pds = map_to_octave(C4, [C4 * ((3/2) ** n) for n in range(-1, 6)])\n",
    "\n",
    "play(synth.play(pds))"
   ]
  },
  {
   "cell_type": "markdown",
   "id": "aa22eb66",
   "metadata": {
    "slideshow": {
     "slide_type": "slide"
    }
   },
   "source": [
    "OK, let's sort the notes by increasing frequency:"
   ]
  },
  {
   "cell_type": "code",
   "execution_count": null,
   "id": "2c19d460",
   "metadata": {},
   "outputs": [],
   "source": [
    "play(synth.play(sorted(pds)))"
   ]
  },
  {
   "cell_type": "markdown",
   "id": "6c150004",
   "metadata": {
    "slideshow": {
     "slide_type": "slide"
    }
   },
   "source": [
    "Now let's do the same but go 12 times instead"
   ]
  },
  {
   "cell_type": "code",
   "execution_count": null,
   "id": "a48050b2",
   "metadata": {},
   "outputs": [],
   "source": [
    "pcs = sorted(map_to_octave(C4, [C4 * ((3/2) ** n) for n in range(0, 13)]))\n",
    "multiplay((synth.play(pcs), synth.play(chromatic_scale)), title=('pythagorean', 'modern chromatic'))"
   ]
  },
  {
   "cell_type": "markdown",
   "id": "8425b23b",
   "metadata": {
    "slideshow": {
     "slide_type": "slide"
    },
    "tags": []
   },
   "source": [
    "## The Pythagorean Comma\n",
    "\n",
    "It would appear we have subdivided the octave into 12 steps (the 12 semitones we are accustomed to). But did we?"
   ]
  },
  {
   "cell_type": "code",
   "execution_count": null,
   "id": "0654a4fe",
   "metadata": {},
   "outputs": [],
   "source": [
    "play(synth.play([2 * pcs[0], pcs[-1]], time_scale=1))"
   ]
  },
  {
   "cell_type": "code",
   "execution_count": null,
   "id": "cf1fa8b9",
   "metadata": {},
   "outputs": [],
   "source": [
    "pcs[-1] / (2 * pcs[0])"
   ]
  },
  {
   "cell_type": "markdown",
   "id": "9c35ddc1",
   "metadata": {
    "slideshow": {
     "slide_type": "slide"
    }
   },
   "source": [
    "### An unsolvable equation\n",
    "\n",
    "$$\\left(\\frac{3}{2}\\right)^{n} \\cdot 2^{-k} = 1, \\qquad n, k \\in \\mathbb{N}$$"
   ]
  },
  {
   "cell_type": "markdown",
   "id": "4f085a5c",
   "metadata": {
    "slideshow": {
     "slide_type": "slide"
    }
   },
   "source": [
    "### The circle is in fact a spiral\n",
    "\n",
    "<img width=\"450\" style=\"float: right; margin: 0 50px 0 0;\" src=\"img/spiral.png\">\n",
    "\n",
    "\n",
    "The \"best\" approximation defines the Pytagorean comma:\n",
    "\n",
    "$$\\left(\\frac{3}{2}\\right)^{12} \\cdot 2^{-7} = 1.0136432647705078$$\n",
    "\n",
    "and, for over 2000 years, people have gone around in circles (spirals?) to \"temper\" the comma..."
   ]
  },
  {
   "cell_type": "markdown",
   "id": "b10204d0",
   "metadata": {
    "slideshow": {
     "slide_type": "slide"
    }
   },
   "source": [
    "**Note on the meaning of \"best approximation\"**\n",
    "\n",
    "The size of the Pytagorean comma is very small considering that the approximation produces a reasonable number of notes (12) and spans a reasonable  number of octaves (7). As a comparison, the next best approximations would be\n",
    "\n",
    "| size of the comma | notes per octave | octaves used |\n",
    "|-------|-------|-----|\n",
    "| 0.013643264770507812 | 12 | 7 |\n",
    "| 0.011397452270387465 | 41 | 24 |\n",
    "| 0.002090314041086172 | 53 | 31 |\n",
    "| 0.0010217168234779583 | 306 | 179 |\n",
    "| 0.0000436550634432819 | 665 | 389 |"
   ]
  },
  {
   "cell_type": "markdown",
   "id": "614c343a",
   "metadata": {
    "slideshow": {
     "slide_type": "slide"
    }
   },
   "source": [
    "## Time for some nomenclature\n",
    "\n",
    "![scaledeg](img/scaledeg.png)"
   ]
  },
  {
   "cell_type": "markdown",
   "id": "055ad4c7",
   "metadata": {
    "slideshow": {
     "slide_type": "slide"
    }
   },
   "source": [
    "## The dirty secrets of Pythagorean tuning"
   ]
  },
  {
   "cell_type": "markdown",
   "id": "7636460d",
   "metadata": {
    "slideshow": {
     "slide_type": "slide"
    }
   },
   "source": [
    "### The Wolf fifth\n",
    "\n",
    "Because of the comma, there are 11 perfect fifths and one \"wolf\" fifth"
   ]
  },
  {
   "cell_type": "code",
   "execution_count": null,
   "id": "ae82fa70",
   "metadata": {},
   "outputs": [],
   "source": [
    "psynth = Synthesizer('pythagorean')\n",
    "\n",
    "play(psynth.play(['G3', 'G#3', 'A3', 'A#3', 'B3', 'C4', 'C#4', 'D4', 'D#4', 'E4', 'F4']) + \n",
    "     psynth.play(['D4', 'D#4', 'E4', 'F4', 'F#4', 'G4', 'G#4', 'A4', 'A#4', 'B4', 'C5']))"
   ]
  },
  {
   "cell_type": "markdown",
   "id": "d7eac4ab",
   "metadata": {
    "slideshow": {
     "slide_type": "-"
    }
   },
   "source": [
    "The wolf fifth for C-centered tunings is usually between F# and C# "
   ]
  },
  {
   "cell_type": "code",
   "execution_count": null,
   "id": "4bfe8009",
   "metadata": {},
   "outputs": [],
   "source": [
    "play(psynth.play(('F#4',), time_scale=2) + psynth.play(('C#5',), time_scale=2))"
   ]
  },
  {
   "cell_type": "markdown",
   "id": "0b7d9ebb",
   "metadata": {
    "slideshow": {
     "slide_type": "slide"
    }
   },
   "source": [
    "### The thirds are bad!\n",
    "\n",
    "The Greeks were not that interested in polyphonic music, and it shows in the bad thirds of Pythagorean tuning "
   ]
  },
  {
   "cell_type": "code",
   "execution_count": null,
   "id": "bfa4ad99",
   "metadata": {},
   "outputs": [],
   "source": [
    "def triads(syn, ts=2):\n",
    "    chords = [ [('C4', 2), ('D4', 1)], ['E4', 'F4', 'G4'], ['G4', 'A4', 'B4'] ]  \n",
    "    return syn.play(chords[0], time_scale=ts) + syn.play(chords[1], time_scale=ts) + syn.play(chords[2], time_scale=ts)\n",
    "\n",
    "multiplay((triads(Synthesizer('just')), triads(psynth)), title=('nice triads, baby!', 'ouch, pythagoras!!'))"
   ]
  },
  {
   "cell_type": "markdown",
   "id": "f8b68115",
   "metadata": {
    "slideshow": {
     "slide_type": "slide"
    }
   },
   "source": [
    "In particular, (major) thirds were considered dissonant by the Greeks... and with reason:"
   ]
  },
  {
   "cell_type": "code",
   "execution_count": null,
   "id": "28d27405",
   "metadata": {},
   "outputs": [],
   "source": [
    "play(psynth.play(('C4',), time_scale=2) + psynth.play(('E4',), time_scale=2))"
   ]
  },
  {
   "cell_type": "markdown",
   "id": "f7cdf6c4",
   "metadata": {},
   "source": [
    "However, polyphonic singing in the 13th century started to use thirds, but thirds that _sounded good_ !\n",
    "\n",
    "<audio controls src=\"img/Sumer is cumen.mp3\"></audio>\n",
    "\n",
    "How did they do it?"
   ]
  },
  {
   "cell_type": "markdown",
   "id": "2e29ac28",
   "metadata": {
    "slideshow": {
     "slide_type": "slide"
    }
   },
   "source": [
    "# Just Intonation\n",
    "\n",
    "Just intonation bypasses the geometric construction of Pythagorean tuning and defines the degrees of the scale in terms of \"what sounds good\". This intonation is also known as the Ptolemaic tuning.\n",
    "\n",
    "It turns out that most good intervals are described by simple fractions!"
   ]
  },
  {
   "cell_type": "markdown",
   "id": "7685ddb8",
   "metadata": {
    "slideshow": {
     "slide_type": "slide"
    }
   },
   "source": [
    "## JI & superparticular ratios\n",
    "\n",
    "| interval | frequency ratio |\n",
    "|-------|-------|\n",
    "| I | 1 |\n",
    "| II | 9/8 |\n",
    "| III | 5/4 |\n",
    "| IV | 4/3 |\n",
    "| V | 3/2 |\n",
    "| VI | 5/3 |\n",
    "| VII | 15/8 |\n",
    "| VIII | 2 |"
   ]
  },
  {
   "cell_type": "code",
   "execution_count": null,
   "id": "a9b29a99",
   "metadata": {},
   "outputs": [],
   "source": [
    "jsynth = Synthesizer('just')\n",
    "t = 0.8\n",
    "js = jsynth.play(('C4',), time_scale=t*8) + jsynth.play(diatonic_scale, time_scale=t)\n",
    "ts = synth.play(('C4',), time_scale=t*8) + synth.play(diatonic_scale, time_scale=t)\n",
    "multiplay((js, ts), title=('just intonation', '\"modern\" intonation'))"
   ]
  },
  {
   "cell_type": "markdown",
   "id": "cc4f931a",
   "metadata": {
    "slideshow": {
     "slide_type": "slide"
    }
   },
   "source": [
    "## But... why?\n",
    "\n",
    "Consonance and dissonance for real-world musical sound has a lot to do with the harmonic nature of the associated spectra. Let's unpack this a bit at a time."
   ]
  },
  {
   "cell_type": "markdown",
   "id": "034a181f",
   "metadata": {
    "slideshow": {
     "slide_type": "slide"
    }
   },
   "source": [
    "### Frequency beatings\n",
    "\n",
    "Two sinusoidal tones close in frequency produce so-called beatings: the sound is perceived as a single tone modulated in amplitude at a rate equal to the difference between frequencies:\n",
    "\n",
    "$$\n",
    "    \\cos(\\omega_a n) + \\cos(\\omega_b n) = 2\\cos\\left(\\frac{\\omega_a - \\omega_b}{2} n\\right)\\cos\\left(\\frac{\\omega_a + \\omega_b}{2} n\\right)\n",
    "$$\n",
    "\n",
    "If $\\omega_a \\approx \\omega_b$, then:\n",
    " * $(\\omega_a + \\omega_b)/2 \\approx \\omega_a $\n",
    " * $(\\omega_a - \\omega_b)/2$  is small"
   ]
  },
  {
   "cell_type": "code",
   "execution_count": null,
   "id": "676df40b",
   "metadata": {
    "slideshow": {
     "slide_type": "slide"
    }
   },
   "outputs": [],
   "source": [
    "def beats(freq, delta=4):\n",
    "    LEN = 4 # seconds\n",
    "    n = np.arange(0, int(LEN * DEFAULT_SF))\n",
    "    s = np.cos(2 * np.pi * freq / DEFAULT_SF * n) + np.cos(2 * np.pi * (freq + delta) / DEFAULT_SF * n)\n",
    "    if delta != 0:\n",
    "        K = int(DEFAULT_SF / (2 * abs(delta)))\n",
    "        s = s[K:]\n",
    "    plt.plot(s[0:int(DEFAULT_SF)])    \n",
    "    play(Synthesizer.taper(s))"
   ]
  },
  {
   "cell_type": "code",
   "execution_count": null,
   "id": "cc0a0e49",
   "metadata": {},
   "outputs": [],
   "source": [
    "widgets.interact(beats, freq=widgets.fixed(2 * C4), delta=(0,150));"
   ]
  },
  {
   "cell_type": "markdown",
   "id": "5b921dd8",
   "metadata": {
    "slideshow": {
     "slide_type": "slide"
    }
   },
   "source": [
    "### The critical band\n",
    "\n",
    "<img width=\"450\" style=\"float: right; margin: 10px 20px;\" src=\"img/cochlea.png\">\n",
    "\n",
    "The basilar membrane in the cochlea is composed of frequency-selective regions called _critical bands_ . The ear can only resolve frequencies falling in distinct critical bands, whose spacing is logarithmic. Critical bands are also involved in the mechanism of _masking_ used in lossy audio compression.\n",
    "\n",
    "Beatings occur when a \"blurry\" spectral perception induces an unwanted temporal perception. Beatings are generally considered unpleasant."
   ]
  },
  {
   "cell_type": "markdown",
   "id": "5661c89b",
   "metadata": {
    "slideshow": {
     "slide_type": "slide"
    }
   },
   "source": [
    "### Perceptual dissonance curves\n",
    "\n",
    "A classic psychoacoustic experiment by Plompt and Levelt (1965) produced a model for the relation between the perceptual concept of consonance/dissonance and the physical nature of critical bands. Listeners are asked to rate the level of dissonance between two sinudoidal tones like so:"
   ]
  },
  {
   "cell_type": "code",
   "execution_count": null,
   "id": "a5314f84",
   "metadata": {},
   "outputs": [],
   "source": [
    "play(synth.play(['C4',], engine='sine', time_scale=10) + synth.glissando(C4, 2*C4, 10))"
   ]
  },
  {
   "cell_type": "markdown",
   "id": "73fd840e",
   "metadata": {
    "slideshow": {
     "slide_type": "slide"
    }
   },
   "source": [
    "Pooled data across listeners produce a dissonance curve parametrized by the reference frequency:"
   ]
  },
  {
   "cell_type": "code",
   "execution_count": null,
   "id": "1edcfdaf",
   "metadata": {
    "slideshow": {
     "slide_type": "-"
    }
   },
   "outputs": [],
   "source": [
    "def plc(F, A=1, f=np.linspace(1, 2, 1000), a=None):\n",
    "    # Plompt-Levelt dissonance curve for sinusoidal tones; F is the base frequency with amplitude A\n",
    "    #  f is a list of frequency ratios wrt F and a is the amplitude of each tone in f\n",
    "    A1, A2, C1, C2 = -3.51, -5.75, 5.0, -5.0\n",
    "    D, S1, S2 = 0.24, 0.0207, 18.96\n",
    "    d = F * np.abs(1 - f) * D / (S1 * F * np.minimum(1, f) + S2)\n",
    "    a = np.minimum(A, 1.0) if a is None else np.minimum(A, a)\n",
    "    return F * f, (C1 * np.exp(A1 * d) + C2 * np.exp(A2 * d)) * a"
   ]
  },
  {
   "cell_type": "code",
   "execution_count": null,
   "id": "b4295ea2",
   "metadata": {},
   "outputs": [],
   "source": [
    "plt.plot(*plc(C4));"
   ]
  },
  {
   "cell_type": "markdown",
   "id": "3a350190",
   "metadata": {
    "slideshow": {
     "slide_type": "slide"
    }
   },
   "source": [
    "and the shape of the dissonance curves reflects the _tonotopic_ structure of the basilar membrane in the cochlea."
   ]
  },
  {
   "cell_type": "code",
   "execution_count": null,
   "id": "0dc1a171",
   "metadata": {},
   "outputs": [],
   "source": [
    "R, PTS = 4, 1000\n",
    "for f in range(150, 2500, 150):\n",
    "    plt.plot(*plc(f, A=1, f=np.linspace(1, R, PTS)));\n",
    "    plt.xlim(0, 3000)"
   ]
  },
  {
   "cell_type": "markdown",
   "id": "99151a72",
   "metadata": {
    "slideshow": {
     "slide_type": "slide"
    }
   },
   "source": [
    "### Consonance and dissonance for harmonic spectra: the simple cases\n",
    "\n",
    "Octaves sound good together because all partials overlap and so there are no frequency lines that are closely spaced"
   ]
  },
  {
   "cell_type": "code",
   "execution_count": null,
   "id": "098cf114",
   "metadata": {},
   "outputs": [],
   "source": [
    "partials = np.arange(1, 100)\n",
    "amplitudes = 0.68 ** (partials - 1)\n",
    "_, stems, __ = plt.stem(partials[:15], amplitudes[:15], basefmt='C0', use_line_collection=True);\n",
    "plt.setp(stems, 'linewidth', 8)\n",
    "plt.stem((partials * 2)[:7], amplitudes[:7], 'C3-', markerfmt='C3o', basefmt='C0', use_line_collection=True);"
   ]
  },
  {
   "cell_type": "markdown",
   "id": "86a895fa",
   "metadata": {
    "slideshow": {
     "slide_type": "slide"
    }
   },
   "source": [
    "In fifths, half of the partials overlap while the others are separated by half of the size of the interval, so the consonance is good."
   ]
  },
  {
   "cell_type": "code",
   "execution_count": null,
   "id": "5ad0216a",
   "metadata": {},
   "outputs": [],
   "source": [
    "_, stems, __ = plt.stem(partials[:15], amplitudes[:15], basefmt='C0', use_line_collection=True);\n",
    "plt.setp(stems, 'linewidth', 8)\n",
    "plt.stem((partials * 3 / 2)[:10], amplitudes[:10], 'C3-', markerfmt='C3o', basefmt='C0', use_line_collection=True);"
   ]
  },
  {
   "cell_type": "markdown",
   "id": "9e1e4a73",
   "metadata": {
    "slideshow": {
     "slide_type": "slide"
    }
   },
   "source": [
    "### Consonance of complex tones\n",
    "\n",
    "The Plompt-Levelt curve applies to pairs of pure sinusoids. To determine the consonance of two harmonic spectra, we can accumulate the dissonance scores for all pairs of spectral lines in the two tones:"
   ]
  },
  {
   "cell_type": "code",
   "execution_count": null,
   "id": "5af9a12e",
   "metadata": {},
   "outputs": [],
   "source": [
    "partials = np.arange(1, 10)\n",
    "amplitudes = 0.68 ** (partials - 1)\n",
    "plt.stem(partials, amplitudes, basefmt='C0', use_line_collection=True);"
   ]
  },
  {
   "cell_type": "code",
   "execution_count": null,
   "id": "705d0506",
   "metadata": {
    "slideshow": {
     "slide_type": "slide"
    }
   },
   "outputs": [],
   "source": [
    "root = C4\n",
    "\n",
    "sweep = np.linspace(1, 2, 1000)\n",
    "diss = np.zeros(len(sweep), dtype=float)\n",
    "for n in range(0, len(sweep)):\n",
    "    for m in range(0, len(partials)):\n",
    "        diss[n] += np.sum(plc(root * partials[m], amplitudes[m], sweep[n] * partials / partials[m], amplitudes)) \n",
    "\n",
    "plt.plot(sweep, diss);\n",
    "intervals = [(1, 1, 'I'), (9,8, 'II'), (5, 4, 'III'), (4, 3, 'IV'), (3, 2, 'V'), (5, 3, 'VI'), (15, 8, 'VII'), (2, 1, 'VIII')]\n",
    "for n, d, _ in intervals:\n",
    "    plt.axvline(n/d, color='silver');\n",
    "plt.xticks([n/d for n, d, _ in intervals], ['{}/{} ({})'.format(n, d, i) for n, d, i in intervals]);\n",
    "plt.yticks([]);"
   ]
  },
  {
   "cell_type": "markdown",
   "id": "bb185964-470d-4e39-b41a-0ded483a25f8",
   "metadata": {
    "slideshow": {
     "slide_type": "slide"
    },
    "tags": []
   },
   "source": [
    "## Tartini tones and just intonation\n",
    "\n",
    "Let's play again a just third and notice the spurious low-frequency component that we hear when the volume is high enough"
   ]
  },
  {
   "cell_type": "code",
   "execution_count": null,
   "id": "93da706c-3634-4870-a375-380d66264af4",
   "metadata": {},
   "outputs": [],
   "source": [
    "tjt = jsynth.play(('C5',), time_scale=4, engine='sine') + jsynth.play(('E5',), time_scale=4, engine='sine')\n",
    "play(tjt)"
   ]
  },
  {
   "cell_type": "markdown",
   "id": "48a66773-533c-4225-bbbe-f9e04c1410f2",
   "metadata": {
    "slideshow": {
     "slide_type": "slide"
    },
    "tags": []
   },
   "source": [
    "### Tartini tones\n",
    "\n",
    " * also called _\"terzo suono\"_\n",
    " * due to slight nonlinearities in the cochlear basilar membrane\n",
    " * exist only in our heads! (you won't see it in a spectrogram)"
   ]
  },
  {
   "cell_type": "markdown",
   "id": "f7887541-dbba-4aff-bb38-37f54ef62a01",
   "metadata": {
    "slideshow": {
     "slide_type": "slide"
    },
    "tags": []
   },
   "source": [
    "### Intermodulation distortion \n",
    "\n",
    " * nonlinearities introduce new frequency components\n",
    " * if the input is the sum of sinusoids, output contains sinusoid at linear combinations of input frequencies\n",
    " \n",
    "Simple example:\n",
    "\n",
    "$$\n",
    "    [\\sin(f_0 t) + \\sin(f_1 t)]^2 = 1 - (1/2)\\cos(2f_0 t) - (1/2)\\cos(2f_1 t) + \\cos((f_1 - f_0)t) - \\cos((f_1 + f_0)t)\n",
    "$$"
   ]
  },
  {
   "cell_type": "markdown",
   "id": "ead53345-fd75-42ea-87ff-1a3bd4871b55",
   "metadata": {
    "slideshow": {
     "slide_type": "slide"
    },
    "tags": []
   },
   "source": [
    "### Perceptual impact\n",
    "\n",
    "Consider a third in just intonation, that is, $f_1 = 5/4 f_0$:\n",
    "\n",
    " * tones at $2f_0$ and $2f_1$ are simply harmonic overtones\n",
    " * $f_1 - f_0 = f_0/4$: two octaves below the root $f_0$\n",
    " * $f_1 + f_0 = 2(9/8)f_0$: a second, one octave higher (aka a \"ninth\")"
   ]
  },
  {
   "cell_type": "markdown",
   "id": "bd27fb59-6a16-4578-bb70-7b5e1244327d",
   "metadata": {
    "slideshow": {
     "slide_type": "slide"
    },
    "tags": []
   },
   "source": [
    "Things are much worse if we use Pythagorean tuning:\n",
    "\n",
    " * $f_1 = (81/64)f_0$\n",
    " * $f_1 - f_0 = (17/64)f_0 = 1.0625\\, f_0/4$, a note 6% sharper than the root two octaves down"
   ]
  },
  {
   "cell_type": "code",
   "execution_count": null,
   "id": "9242febd-0dde-4313-aebc-bdcd0ee49d22",
   "metadata": {},
   "outputs": [],
   "source": [
    "tpt = psynth.play(('C5',), time_scale=4, engine='sine') + psynth.play(('E5',), time_scale=4, engine='sine')\n",
    "multiplay((tpt, tjt), title=('pythagorean intonation', 'just intonation'))"
   ]
  },
  {
   "cell_type": "markdown",
   "id": "e7d75e68",
   "metadata": {
    "slideshow": {
     "slide_type": "slide"
    }
   },
   "source": [
    "## Another consequence of the harmonic nature of pitched sounds\n",
    "\n",
    "Why do we like major chords so much?\n",
    "\n",
    "Major chords are hidden in plain sight in every harmonic series "
   ]
  },
  {
   "cell_type": "code",
   "execution_count": null,
   "id": "23e38139",
   "metadata": {},
   "outputs": [],
   "source": [
    "plt.stem(partials, amplitudes, basefmt='C0', use_line_collection=True);"
   ]
  },
  {
   "cell_type": "markdown",
   "id": "a95e1bc9",
   "metadata": {
    "slideshow": {
     "slide_type": "slide"
    }
   },
   "source": [
    "| partial | frequency ratio in base octave | degree | note name\n",
    "|-------|-------|-----|-----|\n",
    "| 1st | 1 | 1 | unison | C |\n",
    "| 2nd | $2 \\cdot 2^{-1} = 1$ | unison | C |\n",
    "| 3rd | $3 \\cdot 2^{-1} = 3/2$ | perfect fifth | G |\n",
    "| **4th** | $4 \\cdot 2^{-2} = 1$ | unison | **C** |\n",
    "| **5th** | $5 \\cdot 2^{-2} = 5/4$ | just third | **E** |\n",
    "| **6th** | $6 \\cdot 2^{-2} = 3/2$ | perfect fifth | **G** |\n",
    "| 7th | $7 \\cdot 2^{-2} = 7/4$ | subminor seventh | ~Bb |\n"
   ]
  },
  {
   "cell_type": "code",
   "execution_count": null,
   "id": "6a8caf36",
   "metadata": {},
   "outputs": [],
   "source": [
    "cmaj = jsynth.play(('C4',), time_scale=2) + jsynth.play(('E4',), time_scale=2) + jsynth.play(('G4',), time_scale=2)\n",
    "play(cmaj)"
   ]
  },
  {
   "cell_type": "markdown",
   "id": "f68c5eaa",
   "metadata": {
    "slideshow": {
     "slide_type": "slide"
    }
   },
   "source": [
    "## The dirty secret of Just Intonation: the comma pump\n",
    "\n",
    "Zarlino (XVI century) considered JI the only intonation suitable for singing. But a cappella groups singing in JT are prone to the so-called _comma pump_."
   ]
  },
  {
   "cell_type": "markdown",
   "id": "af27dc4a",
   "metadata": {
    "slideshow": {
     "slide_type": "slide"
    }
   },
   "source": [
    "![fmp](img/fmp.jpg)"
   ]
  },
  {
   "cell_type": "markdown",
   "id": "6a4c6294",
   "metadata": {
    "slideshow": {
     "slide_type": "slide"
    }
   },
   "source": [
    "### An example of comma pump\n",
    "\n",
    "![commapump](img/commapump.png)"
   ]
  },
  {
   "cell_type": "code",
   "execution_count": null,
   "id": "d693fcf1",
   "metadata": {},
   "outputs": [],
   "source": [
    "cp = [C4]\n",
    "for r in [3/2, 3/4, 3/2, 3/4, 4/5]:\n",
    "    cp.append(cp[-1] * r)\n",
    "\n",
    "play(synth.play(cp, time_scale=0.6))"
   ]
  },
  {
   "cell_type": "code",
   "execution_count": null,
   "id": "84456c45",
   "metadata": {},
   "outputs": [],
   "source": [
    "play(synth.play((cp[0], cp[-1]), time_scale=1))"
   ]
  },
  {
   "cell_type": "markdown",
   "id": "9168b671",
   "metadata": {
    "slideshow": {
     "slide_type": "slide"
    }
   },
   "source": [
    "### The Syntonic comma\n",
    "\n",
    "$$f_0 \\cdot \\frac{3}{2} \\cdot \\left(\\frac{4}{3}\\right)^{-1} \\cdot \\frac{3}{2} \\cdot \\left(\\frac{4}{3}\\right)^{-1} \\cdot \\left(\\frac{5}{4}\\right)^{-1} = \\frac{81}{80}f_0 = 1.0125 f_0$$"
   ]
  },
  {
   "cell_type": "markdown",
   "id": "e3cb706e",
   "metadata": {},
   "source": [
    "| comma | value |\n",
    "|-------|-------|\n",
    "| Pythagorean | 1.01364 |\n",
    "| Syntonic | 1.0125 |"
   ]
  },
  {
   "cell_type": "markdown",
   "id": "dc299d10",
   "metadata": {
    "slideshow": {
     "slide_type": "slide"
    }
   },
   "source": [
    "## Another problem with these temperaments....\n",
    "\n",
    "\n",
    "<img width=\"450\" style=\"float: left; margin: 100px 50px 0 0;\" src=\"img/split.jpg\">\n",
    "<img width=\"450\" style=\"float: right; margin: 100px 800px 0 0;\" src=\"img/microtonal.jpg\">\n"
   ]
  },
  {
   "cell_type": "markdown",
   "id": "5c097894",
   "metadata": {
    "slideshow": {
     "slide_type": "slide"
    }
   },
   "source": [
    "# Equal temperament\n",
    "\n",
    "Temperament: an attempt to distribute and therefore hide the comma (aka \" *taming the wolf* \")\n",
    "\n",
    "Equal temperament eliminates both the Pythagorean and the Syntonic commas...\n",
    "\n",
    "... at the price of having _all_ intervals slightly out of tune! (but we're used to it, so we think it's normal)"
   ]
  },
  {
   "cell_type": "markdown",
   "id": "f639654d",
   "metadata": {
    "slideshow": {
     "slide_type": "slide"
    }
   },
   "source": [
    "## 12-TET\n",
    "\n",
    "<img width=\"450\" style=\"float: right; margin: 10px 20px;\" src=\"img/circle-of-fifths.jpg\">\n",
    "\n",
    "And thus we close the circle: octave equivalence gives us the \"2\" and Pythagoras the \"12\"\n",
    "\n",
    "\n",
    "$$\\Large p_n = p_0 \\left(\\sqrt[12]{2}\\right)^{n-n_0} $$\n",
    "\n",
    "\n",
    "<br><br>\n",
    "\n",
    "$$\\sqrt[12]{2} \\approx 1.06$$"
   ]
  },
  {
   "cell_type": "code",
   "execution_count": null,
   "id": "a3b79f00",
   "metadata": {
    "slideshow": {
     "slide_type": "slide"
    },
    "tags": []
   },
   "outputs": [],
   "source": [
    "equal = np.array([2.0 ** (n / 12.0) for n in range(0, 12)])\n",
    "just  = np.array([1, 16/15, 9/8, 6/5, 5/4, 4/3, 45/32, 3/2, 8/5, 5/3, 9/5, 15/8])\n",
    "pyth  = np.array([1, 256/243, 9/8, 32/27, 81/64, 4/3, 729/512, 3/2, 128/81, 27/16, 16/9, 243/128])\n",
    "\n",
    "plt.plot(pyth / equal - 1, 'C0o-', label='pythagorean')\n",
    "plt.plot(just / equal - 1, 'C1o-', label='just')\n",
    "plt.plot(equal / equal - 1, 'C2o-', label='equal')\n",
    "plt.legend(loc=\"lower left\")\n",
    "plt.axvline(4, color='silver');\n",
    "plt.axvline(7, color='silver');\n",
    "plt.xticks([0, 2, 4, 5, 7, 9, 11], ['I', 'II', 'III', 'IV', 'V', 'VI', 'VII']);"
   ]
  },
  {
   "cell_type": "markdown",
   "id": "0af129b2",
   "metadata": {
    "slideshow": {
     "slide_type": "slide"
    }
   },
   "source": [
    "## Other equal temperaments\n",
    "\n",
    "![https://en.wikipedia.org/wiki/Equal_temperament](img/equalTemps.png)"
   ]
  },
  {
   "cell_type": "markdown",
   "id": "99042da0",
   "metadata": {
    "slideshow": {
     "slide_type": "slide"
    }
   },
   "source": [
    "## How do N-TET's sound for N < 12?"
   ]
  },
  {
   "cell_type": "code",
   "execution_count": null,
   "id": "dcff7e2c",
   "metadata": {
    "slideshow": {
     "slide_type": "-"
    },
    "tags": []
   },
   "outputs": [],
   "source": [
    "from IPython.display import Audio,Image, YouTubeVideo\n",
    "id='5zaiOBSQV_Q'\n",
    "YouTubeVideo(id=id,width=600,height=300)"
   ]
  },
  {
   "cell_type": "markdown",
   "id": "d60a4b0f",
   "metadata": {
    "slideshow": {
     "slide_type": "slide"
    }
   },
   "source": [
    "# Dessert for thought: the Bohlen-Pierce scale\n",
    "\n",
    "What if we traded the octave-based equivalence for another form of equivalence?\n",
    "\n",
    "For instance, use a three-to-one ratio for equivalence rather than a two-to-one."
   ]
  },
  {
   "cell_type": "markdown",
   "id": "c1eb6a52",
   "metadata": {
    "slideshow": {
     "slide_type": "slide"
    }
   },
   "source": [
    "## The equally-tempered BP scale\n",
    "\n",
    "$$\\Large p_n = p_0 \\left(\\sqrt[13]{3}\\right)^{n-n_0} $$"
   ]
  },
  {
   "cell_type": "markdown",
   "id": "130dcdba",
   "metadata": {
    "slideshow": {
     "slide_type": "slide"
    }
   },
   "source": [
    "## Standing waves in pipes and overblowing\n",
    "\n",
    "![](img/opencloseD.gif)"
   ]
  },
  {
   "cell_type": "markdown",
   "id": "d91dd1e5",
   "metadata": {
    "slideshow": {
     "slide_type": "slide"
    }
   },
   "source": [
    "## How does it sound?"
   ]
  },
  {
   "cell_type": "markdown",
   "id": "be6571b9",
   "metadata": {},
   "source": [
    "Remember how the fundamental major triad in western music is based on harmonics 4, 5, and 6:"
   ]
  },
  {
   "cell_type": "code",
   "execution_count": null,
   "id": "4896eb2e",
   "metadata": {},
   "outputs": [],
   "source": [
    "bp_triad = np.array((C4 / 4) * np.array([4, 5, 6]))\n",
    "play(Synthesizer().play(bp_triad, time_scale=0.6))"
   ]
  },
  {
   "cell_type": "markdown",
   "id": "9642134c",
   "metadata": {
    "slideshow": {
     "slide_type": "slide"
    }
   },
   "source": [
    "The BP \"major triad\" is based on the odd harmonics 3, 5, and 7  "
   ]
  },
  {
   "cell_type": "code",
   "execution_count": null,
   "id": "9dcf53fd",
   "metadata": {},
   "outputs": [],
   "source": [
    "bp_triad = np.array((C4 / 3) * np.array([3, 5, 7]))\n",
    "play(Synthesizer().play(bp_triad, time_scale=0.6))"
   ]
  },
  {
   "cell_type": "markdown",
   "id": "32c7137d",
   "metadata": {
    "slideshow": {
     "slide_type": "slide"
    }
   },
   "source": [
    "\n",
    "<img width=\"450\" style=\"float: right; margin: 0 50px 0 0;\" src=\"img/bp.jpg\">\n",
    "\n",
    "\n",
    "Once we have the \"major\" triad, the rest of the BP diatonic scale can be built in several ways; the most common one uses equal temperament over 13 semitones.\n",
    "\n",
    "(details in the references) "
   ]
  },
  {
   "cell_type": "code",
   "execution_count": null,
   "id": "21b09606",
   "metadata": {},
   "outputs": [],
   "source": [
    "bp = np.array([3.0 ** (n / 13.0) for n in [0, 2, 3, 4, 6, 7, 9, 10, 12, 13]])\n",
    "play(Synthesizer().play(C4 * bp, time_scale=0.3))"
   ]
  },
  {
   "cell_type": "code",
   "execution_count": null,
   "id": "e8e0910e",
   "metadata": {
    "slideshow": {
     "slide_type": "slide"
    }
   },
   "outputs": [],
   "source": [
    "id='uclITdD4dAo'\n",
    "YouTubeVideo(id=id,width=600) "
   ]
  },
  {
   "cell_type": "markdown",
   "id": "1a78415e",
   "metadata": {
    "slideshow": {
     "slide_type": "slide"
    }
   },
   "source": [
    "# References\n",
    "\n",
    " * Plompt and Levelt's paper: https://www.mpi.nl/world/materials/publications/levelt/Plomp_Levelt_Tonal_1965.pdf\n",
    " * Very exhaustive book on tunings and temperaments: https://www.braybaroque.ie/temper/\n",
    " * Common tunings for harpsichord: https://www.hpschd.nu/\n",
    " * The harmonic overtone series: https://en.wikipedia.org/wiki/Harmonic_series_(music)#Partial\n",
    " * Just intonation explained: https://www.kylegann.com/tuning.html, http://www.hermode.com/history_en.html\n",
    " * Lois Lancaster: https://selonetlabel.bandcamp.com/album/malva"
   ]
  },
  {
   "cell_type": "code",
   "execution_count": null,
   "id": "4adcb4a5-8110-40a2-91ba-4c51bc6634f0",
   "metadata": {},
   "outputs": [],
   "source": []
  }
 ],
 "metadata": {
  "celltoolbar": "Slideshow",
  "kernelspec": {
   "display_name": "Python 3",
   "language": "python",
   "name": "python3"
  },
  "language_info": {
   "codemirror_mode": {
    "name": "ipython",
    "version": 3
   },
   "file_extension": ".py",
   "mimetype": "text/x-python",
   "name": "python",
   "nbconvert_exporter": "python",
   "pygments_lexer": "ipython3",
   "version": "3.8.8"
  },
  "toc-autonumbering": true
 },
 "nbformat": 4,
 "nbformat_minor": 5
}
